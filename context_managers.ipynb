{
 "cells": [
  {
   "cell_type": "markdown",
   "metadata": {},
   "source": [
    "# Context Managers\n",
    "\n",
    "Context Managers are useful for managing shared resources and memory allocation.\n",
    "\n",
    "An example of Context Manager can be seen with files:"
   ]
  },
  {
   "cell_type": "code",
   "execution_count": 2,
   "metadata": {},
   "outputs": [],
   "source": [
    "# Create a file, do something with it and then close it\n",
    "f = open(\"example.txt\", 'w', encoding=\"utf-8\")\n",
    "f.write(\"Hello!\")\n",
    "f.close()"
   ]
  },
  {
   "cell_type": "markdown",
   "metadata": {},
   "source": [
    "However, imagine that an exception happens when the file is opened and you're not able to reach the '.close()' line. In that file, the file object would never be closed. This is where Context Managers come in handy. To use a Context Manager with files, we use the 'with open(...)' statement:"
   ]
  },
  {
   "cell_type": "code",
   "execution_count": 3,
   "metadata": {},
   "outputs": [],
   "source": [
    "with open(\"example.txt\", 'w', encoding=\"utf-8\") as f:\n",
    "    f.write(\"Hello\")\n",
    "    # Here more operations can happen...\n",
    "    \n",
    "# Here, the file object 'f' is closed."
   ]
  },
  {
   "cell_type": "markdown",
   "metadata": {},
   "source": [
    "The last piece of code ensures that whatever happens, the file object is always closed. This is equivalent to say:"
   ]
  },
  {
   "cell_type": "code",
   "execution_count": 4,
   "metadata": {},
   "outputs": [],
   "source": [
    "f = open(\"example.txt\", 'w', encoding=\"utf-8\")\n",
    "try:\n",
    "    f.write(\"Hello!\")\n",
    "    # ... more things can happen here\n",
    "except Exception as e:\n",
    "    raise e\n",
    "finally:\n",
    "    # The 'finally' block is always executed, no matter if an exception has happened\n",
    "    f.close()"
   ]
  },
  {
   "cell_type": "markdown",
   "metadata": {},
   "source": [
    "When opening and working with the file, these things are happening:\n",
    "- First, the file is opened and the 'f' file object variable is created. Then, 'f' is returned.\n",
    "- We do some operations on the file.\n",
    "- Finally, the file is closed. \n",
    "\n",
    "The same behaviour can be implemented using a class with the '\\_\\_enter\\_\\_' and '\\_\\_exit\\_\\_' methods:"
   ]
  },
  {
   "cell_type": "code",
   "execution_count": 14,
   "metadata": {},
   "outputs": [
    {
     "name": "stdout",
     "output_type": "stream",
     "text": [
      "__init__ method\n",
      "<__main__.File object at 0x0000019126618F70>\n",
      "__init__ method\n",
      "__enter__ method\n",
      "Working with the file...\n",
      "__exit__ method\n"
     ]
    }
   ],
   "source": [
    "class File:\n",
    "    \n",
    "    def __init__(self, filename, method):\n",
    "        # We define a constructor with the filename and the method ('w', 'r', 'a').\n",
    "        \n",
    "        # The file is opened:\n",
    "        print(\"__init__ method\")\n",
    "        self._file = open(filename, method)\n",
    "        \n",
    "    def __enter__(self):\n",
    "        # This is what happens when starting. \n",
    "        # In this case, it simply returns the file object\n",
    "        \n",
    "        print(\"__enter__ method\")\n",
    "        return self._file\n",
    "    \n",
    "    def __exit__(self, type, value, traceback): \n",
    "        # This is what happens when ending.\n",
    "        # In this case, it simply closes the file.\n",
    "        # We use 'type', 'value' and 'traceback' to handle exceptions\n",
    "        \n",
    "        print(\"__exit__ method\")\n",
    "        \n",
    "        if type:  # print the exception info if captured\n",
    "            print(f\"Exception type captured by __exit__ is {type}.\")\n",
    "            print(f\"Exception value captured by __exit__ is {value}.\")\n",
    "            print(f\"Exception traceback captured by __exit__ is {traceback}.\")\n",
    "        \n",
    "        self._file.close()\n",
    "        \n",
    "\n",
    "# We can use this class as always:\n",
    "file_obj = File(\"example.txt\", 'w')\n",
    "print(file_obj)\n",
    "\n",
    "# And we can use it like a Context Manager using 'with'\n",
    "# it calls __init__ and after that __enter__.\n",
    "# __enter__ returns the file object and it is stored at the variable 'f'\n",
    "with File(\"example.txt\", 'w') as f:  \n",
    "    # Now, let's do something with the file. This happens between the \n",
    "    # __enter__ and the __exit__ methods.\n",
    "    print(\"Working with the file...\")\n",
    "    f.write(\"Hello\")\n",
    "# When we reach this point, the __exit__ method is called. "
   ]
  },
  {
   "cell_type": "markdown",
   "metadata": {},
   "source": [
    "The \\_\\_exit\\_\\_ method is executed even if an exception happens between it and the \\_\\_enter\\_\\_ method:"
   ]
  },
  {
   "cell_type": "code",
   "execution_count": 26,
   "metadata": {},
   "outputs": [
    {
     "name": "stdout",
     "output_type": "stream",
     "text": [
      "__init__ method\n",
      "__enter__ method\n",
      "__exit__ method\n",
      "Exception type captured by __exit__ is <class 'FileNotFoundError'>.\n",
      "Exception value captured by __exit__ is Simulated Exception.\n",
      "Exception traceback captured by __exit__ is <traceback object at 0x00000191259EFF00>.\n"
     ]
    }
   ],
   "source": [
    "# Let's simulate a exception\n",
    "with File(\"example.txt\", 'w') as f:  # __init__ and __enter__\n",
    "    raise FileNotFoundError(\"Simulated Exception\")  # simulate a 'FileNotFoundError' exception\n",
    "# At this point, __exit__ is still called\n"
   ]
  },
  {
   "cell_type": "markdown",
   "metadata": {},
   "source": [
    "\\_\\_exit\\_\\_ can access all the information about the exception thanks to its parameters.\n",
    "\n",
    "Sometimes, we want to continue the program despite of the exception. We can achieve this behaviour making \\_\\_exit\\_\\_ to always return a True boolean."
   ]
  },
  {
   "cell_type": "code",
   "execution_count": 25,
   "metadata": {},
   "outputs": [
    {
     "name": "stdout",
     "output_type": "stream",
     "text": [
      "__init__ method\n",
      "__enter__ method\n",
      "__exit__ method\n",
      "Exception type captured by __exit__ is <class 'FileNotFoundError'>.\n",
      "Exception value captured by __exit__ is Simulated Exception.\n",
      "Exception traceback captured by __exit__ is <traceback object at 0x00000191259EF4C0>.\n"
     ]
    }
   ],
   "source": [
    "class File:\n",
    "    \n",
    "    def __init__(self, filename, method):\n",
    "        # We define a constructor with the filename and the method ('w', 'r', 'a').\n",
    "        \n",
    "        # The file is opened:\n",
    "        print(\"__init__ method\")\n",
    "        self._file = open(filename, method)\n",
    "        \n",
    "    def __enter__(self):\n",
    "        # This is what happens when starting. \n",
    "        # In this case, it simply returns the file object\n",
    "        \n",
    "        print(\"__enter__ method\")\n",
    "        return self._file\n",
    "    \n",
    "    def __exit__(self, type, value, traceback): \n",
    "        # This is what happens when ending.\n",
    "        # In this case, it simply closes the file.\n",
    "        # We use 'type', 'value' and 'traceback' to handle exceptions\n",
    "        \n",
    "        print(\"__exit__ method\")\n",
    "        \n",
    "        if type:  # print the exception info if captured\n",
    "            print(f\"Exception type captured by __exit__ is {type}.\")\n",
    "            print(f\"Exception value captured by __exit__ is {value}.\")\n",
    "            print(f\"Exception traceback captured by __exit__ is {traceback}.\")\n",
    "        \n",
    "        self._file.close()\n",
    "        \n",
    "        # Let's make the program continue even if there is an Exception\n",
    "        # (be careful using this, this is just an example)\n",
    "        return True\n",
    "        \n",
    "\n",
    "# Let's simulate a exception\n",
    "with File(\"example.txt\", 'w') as f:  # __init__ and __enter__\n",
    "    raise FileNotFoundError(\"Simulated Exception\")  # simulate a 'FileNotFoundError' exception\n",
    "# Here, __exit__ is still called\n"
   ]
  },
  {
   "cell_type": "markdown",
   "metadata": {},
   "source": [
    "# Creating Context Managers with Generators and Decorators\n",
    "\n",
    "There's a way of creating Context Manager using Generators, Decorators and the *contextlib* library:"
   ]
  },
  {
   "cell_type": "code",
   "execution_count": 33,
   "metadata": {},
   "outputs": [
    {
     "name": "stdout",
     "output_type": "stream",
     "text": [
      "Opening the file: example.txt\n",
      "Yielding the file object: <_io.TextIOWrapper name='example.txt' mode='w' encoding='cp1252'>\n",
      "Doing something with the file...\n",
      "Finish doing something with the file\n",
      "Closing the file object: <_io.TextIOWrapper name='example.txt' mode='w' encoding='cp1252'>\n",
      "File closed\n"
     ]
    }
   ],
   "source": [
    "from contextlib import contextmanager\n",
    "\n",
    "# Suppose we want to create a function that opens a file, returns it to the\n",
    "# user code and whatever happens, it always closes the file. \n",
    "@contextmanager  # first, we decorate that function with '@contextmanager'\n",
    "def open_a_file(filename, method):\n",
    "    # The first thing that happens is that the function opens the file\n",
    "    print(f\"Opening the file: {filename}\")\n",
    "    file = open(filename, method)\n",
    "    \n",
    "    # Now we wanna return the file object to the user code. We use the \n",
    "    # 'yield' keywork because we want to mantain the internal state of\n",
    "    # this function, that is, we're using a generator here\n",
    "    print(f\"Yielding the file object: {file}\")\n",
    "    yield file  # simply returns the file object\n",
    "    \n",
    "    # This line of code is executed when we finished the context, that is,\n",
    "    # it behaves like the __exit__ method. No matter if an exception happens\n",
    "    print(f\"Closing the file object: {file}\")\n",
    "    file.close()\n",
    "    print(\"File closed\")\n",
    "    \n",
    "# Let's use this function. We use the 'with' statement again.\n",
    "with open_a_file(\"example.txt\", 'w') as f:  # opens the file and yields the file object\n",
    "    print(\"Doing something with the file...\")\n",
    "    f.write(\"Hello\")\n",
    "    print(\"Finish doing something with the file\")\n",
    "# Here, the 'file.close()' line is executed"
   ]
  }
 ],
 "metadata": {
  "interpreter": {
   "hash": "81ef188f1d85055e27e68b81ec001a4e5148e3d493a04dea8d1903694584593e"
  },
  "kernelspec": {
   "display_name": "Python 3.9.0 64-bit",
   "language": "python",
   "name": "python3"
  },
  "language_info": {
   "codemirror_mode": {
    "name": "ipython",
    "version": 3
   },
   "file_extension": ".py",
   "mimetype": "text/x-python",
   "name": "python",
   "nbconvert_exporter": "python",
   "pygments_lexer": "ipython3",
   "version": "3.9.0"
  },
  "orig_nbformat": 4
 },
 "nbformat": 4,
 "nbformat_minor": 2
}
