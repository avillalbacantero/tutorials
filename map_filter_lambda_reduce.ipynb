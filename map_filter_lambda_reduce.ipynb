{
 "cells": [
  {
   "cell_type": "markdown",
   "metadata": {},
   "source": [
    "This notebook is a collection of the the following Python built-in functions:\n",
    "- Map \n",
    "- Filter\n",
    "- Reduce\n",
    "- Lambda\n",
    "\n",
    "These functions are a shortcut to avoid having unnecessary loops. \n",
    "\n",
    "What's more, this notebook will cover *lists comprehension* as well as another example of a shortcut."
   ]
  },
  {
   "cell_type": "markdown",
   "metadata": {},
   "source": [
    "# Map \n",
    "\n",
    "Map follows the next syntax:\n",
    "\n",
    "*map(function, iterable[, iterable1, iterable2,..., iterableN])*\n",
    "\n",
    "Map applies the function passed as the first argument to every single element of the iterable passed as the second argument. Optionally, more than one iterable can be passed as well."
   ]
  },
  {
   "cell_type": "code",
   "execution_count": 1,
   "metadata": {},
   "outputs": [
    {
     "name": "stdout",
     "output_type": "stream",
     "text": [
      "Elapsed time (secs.) = 0.01705026626586914\n",
      "['HELLO', 'HELLO', 'HELLO', 'HELLO', 'HELLO']\n"
     ]
    }
   ],
   "source": [
    "# If we do not use map, we would have to loop\n",
    "# over all the items with a for loop and apply\n",
    "# the desired function to each of them. Then,\n",
    "# append the result of the operation to a \n",
    "# new list\n",
    "\n",
    "# Let's do that and let's measure the elapsed\n",
    "# time\n",
    "\n",
    "import time\n",
    "\n",
    "def uppercase(word):\n",
    "    return word.upper()\n",
    "\n",
    "words = [\"hello\"] * 50000\n",
    "converted_words = []\n",
    "\n",
    "start_time = time.time()\n",
    "for word in words:\n",
    "    converted_words.append(uppercase(word))\n",
    "\n",
    "print(f\"Elapsed time (secs.) = {time.time() - start_time}\")\n",
    "print(converted_words[0:5])  # let's print only the first ones"
   ]
  },
  {
   "cell_type": "code",
   "execution_count": 2,
   "metadata": {},
   "outputs": [
    {
     "name": "stdout",
     "output_type": "stream",
     "text": [
      "Elapsed time (secs.) = 0.010993719100952148\n",
      "['HELLO', 'HELLO', 'HELLO', 'HELLO', 'HELLO']\n"
     ]
    }
   ],
   "source": [
    "# Now we use map to apply the function uppercase() to every item in words.\n",
    "# After that, we must convert back the result to a list \n",
    "# Notice you don't put the () when calling the function\n",
    "\n",
    "start_time_map = time.time()  # let's measure the time again\n",
    "converted_words = list(map(uppercase, words))\n",
    "print(f\"Elapsed time (secs.) = {time.time() - start_time_map}\")\n",
    "print(converted_words[0:5])"
   ]
  },
  {
   "cell_type": "markdown",
   "metadata": {},
   "source": [
    "Since map() is written in C and is highly optimized, its internal implied loop can be more efficient than a regular Python for loop. This is one advantage of using map()."
   ]
  },
  {
   "cell_type": "markdown",
   "metadata": {},
   "source": [
    "We can apply map not only to lists but to other iterables as well:"
   ]
  },
  {
   "cell_type": "code",
   "execution_count": 5,
   "metadata": {},
   "outputs": [
    {
     "name": "stdout",
     "output_type": "stream",
     "text": [
      "THIS IS A SENTENCE\n"
     ]
    }
   ],
   "source": [
    "sentence = \"This is a sentence\"\n",
    "print(\"\".join(list(map(uppercase, sentence))))"
   ]
  },
  {
   "cell_type": "markdown",
   "metadata": {},
   "source": [
    "In the previous cells, we were defining a function that calls the upper() method from the str data type in Python. Actually, it's not necessary to create that wrapper: the first argument to map() can be any Python callable. This includes built-in functions, classes, methods, lambda functions, and user-defined functions."
   ]
  },
  {
   "cell_type": "code",
   "execution_count": 17,
   "metadata": {},
   "outputs": [
    {
     "name": "stdout",
     "output_type": "stream",
     "text": [
      "['THIS', 'IS', 'AN', 'EXAMPLE']\n",
      "[1, 2, 3, 4]\n",
      "<class 'str'>\n",
      "<class 'int'>\n",
      "[4, 2, 2, 7]\n",
      "[<__main__.Example object at 0x0000020722395EE0>, <__main__.Example object at 0x0000020722395F10>, <__main__.Example object at 0x0000020722395670>, <__main__.Example object at 0x0000020722072A30>]\n"
     ]
    }
   ],
   "source": [
    "# You can directly apply the str.upper() method to the iterable\n",
    "words = [\"This\", \"is\", \"an\", \"example\"]\n",
    "print(list(map(str.upper, words)))\n",
    "\n",
    "# The same idea can be used for example to perform data conversion\n",
    "numbers = ['1', '2', '3', '4']\n",
    "int_numbers = list(map(int, numbers))\n",
    "print(int_numbers)\n",
    "print(type(numbers[0]))\n",
    "print(type(int_numbers[0]))\n",
    "\n",
    "# Or to get the length of the items\n",
    "print(list(map(len, words)))\n",
    "\n",
    "# ... all the built-in function of Python which you\n",
    "# can see here: \n",
    "# https://docs.python.org/3/library/functions.html#built-in-functions\n",
    "\n",
    "# Another example: it can be used create objects as well\n",
    "class Example:\n",
    "    \n",
    "    def __init__(self, x):\n",
    "        self.x = x\n",
    "        \n",
    "print(list(map(Example, words)))"
   ]
  },
  {
   "cell_type": "markdown",
   "metadata": {},
   "source": [
    "map() can work with multiple iterables at the same time too."
   ]
  },
  {
   "cell_type": "code",
   "execution_count": 16,
   "metadata": {},
   "outputs": [
    {
     "name": "stdout",
     "output_type": "stream",
     "text": [
      "[4, 9, 343]\n"
     ]
    }
   ],
   "source": [
    "numbers = [1, 2, 3]\n",
    "more_numbers = [4, 3, 7]\n",
    "\n",
    "# pow() takes two arguments, x and y, and returns\n",
    "# x to the power of y\n",
    "print(list(map(pow, more_numbers, numbers)))"
   ]
  },
  {
   "cell_type": "markdown",
   "metadata": {},
   "source": [
    "# Filter\n",
    "\n",
    "The filter() function acts somehow in a very similar way like map(): we apply a function to every single item of an iterable. The syntax is as follows:\n",
    "\n",
    "*filter(function, iterable)*\n",
    "\n",
    "In this case, the function we are going to apply typically returns a bool value. If that value is True, we keep the corresponding item; if False, we discard it.\n",
    "\n",
    "Let's see an example:"
   ]
  },
  {
   "cell_type": "code",
   "execution_count": 1,
   "metadata": {},
   "outputs": [
    {
     "name": "stdout",
     "output_type": "stream",
     "text": [
      "[0, 1, 2, 3, 4]\n"
     ]
    }
   ],
   "source": [
    "def is_positive(num):\n",
    "    return num >= 0\n",
    "\n",
    "numbers = [0, 1, 2, -5, 3, 4, -1, -3]\n",
    "\n",
    "print(list(filter(is_positive, numbers)))"
   ]
  },
  {
   "cell_type": "markdown",
   "metadata": {},
   "source": [
    "Another and more interesting example: removing the outliers."
   ]
  },
  {
   "cell_type": "code",
   "execution_count": 4,
   "metadata": {},
   "outputs": [
    {
     "data": {
      "text/plain": [
       "[10, 8, 10, 8, 2, 7, 9, 3, 9, 5, 9, 25]"
      ]
     },
     "execution_count": 4,
     "metadata": {},
     "output_type": "execute_result"
    }
   ],
   "source": [
    "import statistics as st\n",
    "\n",
    "\n",
    "class Sample: \n",
    "    \n",
    "    def __init__(self, sample):\n",
    "        self._mean = st.mean(sample)\n",
    "        self._std = st.stdev(sample)\n",
    "        self._low = self._mean - 2 * self._std\n",
    "        self._high = self._mean + 2 * self._std\n",
    "        \n",
    "    def is_outlier(self, item):\n",
    "        return self._low <= item <= self._high\n",
    "\n",
    "    \n",
    "uncleaned_example = [10, 8, 10, 8, 2, 7, 9, 3, 34, 9, 5, 9, 25]\n",
    "s = Sample(uncleaned_example)\n",
    "cleaned_example = list(filter(s.is_outlier, uncleaned_example))\n",
    "cleaned_example"
   ]
  },
  {
   "cell_type": "markdown",
   "metadata": {},
   "source": [
    "filter() can be combined with map(): "
   ]
  },
  {
   "cell_type": "code",
   "execution_count": 7,
   "metadata": {},
   "outputs": [
    {
     "name": "stdout",
     "output_type": "stream",
     "text": [
      "[1.3862943611198906, 2.302585092994046]\n"
     ]
    }
   ],
   "source": [
    "import math\n",
    "\n",
    "def is_positive(number):\n",
    "    return number >= 0\n",
    "\n",
    "def compute_log(number):\n",
    "    return math.log(number)\n",
    "\n",
    "numbers = [-1, -4, 4, -35, 10]\n",
    "print(list(map(compute_log, filter(is_positive, numbers))))\n",
    "    "
   ]
  },
  {
   "cell_type": "markdown",
   "metadata": {},
   "source": [
    "Of course we can apply the math.log() function directly too:"
   ]
  },
  {
   "cell_type": "code",
   "execution_count": 6,
   "metadata": {},
   "outputs": [
    {
     "name": "stdout",
     "output_type": "stream",
     "text": [
      "[1.3862943611198906, 2.302585092994046]\n"
     ]
    }
   ],
   "source": [
    "print(list(map(math.log, filter(is_positive, numbers))))"
   ]
  },
  {
   "cell_type": "markdown",
   "metadata": {},
   "source": [
    "# Lambda\n",
    "\n",
    "A lambda function is the same as a regular function but it can be defined without a name. \n",
    "\n",
    "Lambda expressions have their roots in lambda calculus.\n",
    "\n",
    "Let's start seeing an example:"
   ]
  },
  {
   "cell_type": "code",
   "execution_count": 9,
   "metadata": {},
   "outputs": [
    {
     "data": {
      "text/plain": [
       "6"
      ]
     },
     "execution_count": 9,
     "metadata": {},
     "output_type": "execute_result"
    }
   ],
   "source": [
    "# Let's define a function that adds 1\n",
    "# to the passed number.\n",
    "def add1(x):\n",
    "    return x + 1\n",
    "\n",
    "add1(5)"
   ]
  },
  {
   "cell_type": "markdown",
   "metadata": {},
   "source": [
    "Pretty straightforward, right?\n",
    "\n",
    "A lambda expression is composed by:\n",
    "- The *lambda* keyword\n",
    "- *parameters*: Bound variables, which are the input parameters to the function\n",
    "- *expression*: A body, which is the expression the function returns\n",
    "\n",
    "Lambda expressions follow the next syntax:\n",
    "\n",
    "*lambda [parameters]: expression*\n",
    "\n",
    "which is equals to:\n",
    "\n",
    "*def lambda(paratemers): return expression*\n",
    "\n",
    "Now, let's code the same function using lambdas:"
   ]
  },
  {
   "cell_type": "code",
   "execution_count": 11,
   "metadata": {},
   "outputs": [
    {
     "data": {
      "text/plain": [
       "6"
      ]
     },
     "execution_count": 11,
     "metadata": {},
     "output_type": "execute_result"
    }
   ],
   "source": [
    "f = lambda x: x + 1\n",
    "f(5)"
   ]
  },
  {
   "cell_type": "markdown",
   "metadata": {},
   "source": [
    "Or if you prefer to apply the lambda directly:"
   ]
  },
  {
   "cell_type": "code",
   "execution_count": 13,
   "metadata": {},
   "outputs": [
    {
     "data": {
      "text/plain": [
       "6"
      ]
     },
     "execution_count": 13,
     "metadata": {},
     "output_type": "execute_result"
    }
   ],
   "source": [
    "result = (lambda x: x + 1)(5)\n",
    "result"
   ]
  },
  {
   "cell_type": "markdown",
   "metadata": {},
   "source": [
    "Lambda expressions can take more than just one input parameter:"
   ]
  },
  {
   "cell_type": "code",
   "execution_count": 15,
   "metadata": {},
   "outputs": [
    {
     "data": {
      "text/plain": [
       "10"
      ]
     },
     "execution_count": 15,
     "metadata": {},
     "output_type": "execute_result"
    }
   ],
   "source": [
    "result = (lambda x, y, z: x + y + z)(5, 2, 3)\n",
    "result"
   ]
  },
  {
   "cell_type": "markdown",
   "metadata": {},
   "source": [
    "They can be also used to apply more complex operations: "
   ]
  },
  {
   "cell_type": "code",
   "execution_count": 23,
   "metadata": {},
   "outputs": [
    {
     "data": {
      "text/plain": [
       "24"
      ]
     },
     "execution_count": 23,
     "metadata": {},
     "output_type": "execute_result"
    }
   ],
   "source": [
    "# Let's define a more complex function:\n",
    "def complex_f(x, y):\n",
    "    z = x - y  \n",
    "    z = z + 2 \n",
    "    z = z**2\n",
    "    return z\n",
    "\n",
    "a = 5\n",
    "b = 10\n",
    "result = (lambda x, y: a + b + complex_f(2, 1))(a, b)\n",
    "result"
   ]
  },
  {
   "cell_type": "markdown",
   "metadata": {},
   "source": [
    "Lambdas can be combined with map() and filter():"
   ]
  },
  {
   "cell_type": "code",
   "execution_count": 27,
   "metadata": {},
   "outputs": [
    {
     "name": "stdout",
     "output_type": "stream",
     "text": [
      "[3, 4, 5, 7, 10, 11]\n",
      "[1, 7]\n",
      "[4, 10]\n"
     ]
    }
   ],
   "source": [
    "numbers = [0, 1, 2, 4, 7, 8]\n",
    "\n",
    "# Let's use map and lambda to add +3 to \n",
    "# each of these numbers\n",
    "print(list(map(lambda x: x + 3, numbers)))\n",
    "\n",
    "# Let's use filter and lamba to get the \n",
    "# odd numbers\n",
    "print(list(filter(lambda x: x % 2 != 0, numbers)))\n",
    "\n",
    "# And even funnier... let's add +3 to all the\n",
    "# odd numbers in the list using map(), filter()\n",
    "# and lambda\n",
    "print(list(map(lambda x: x + 3, filter(lambda x: x % 2 != 0, numbers))))"
   ]
  },
  {
   "cell_type": "markdown",
   "metadata": {},
   "source": [
    "# Reduce \n",
    "\n",
    "reduce() is a function that implements a mathematical technique called folding or reduction. What it does is:\n",
    "- Apply a function to the first two items in an iterable and generate a partial result.\n",
    "- Use that partial result and the next element in the iterable and generate another partial result.\n",
    "- Repeat the process until the iterable is exhausted.\n",
    "\n",
    "Python’s reduce() is good for processing iterables without writing explicit for loops. Since reduce() is written in C, its internal loop can be faster than an explicit Python for loop.\n",
    "\n",
    "The syntax of reduce() is as follows:\n",
    "\n",
    "*functools.reduce(function, iterable[, initializer])*\n",
    "\n",
    "Let's see an example:"
   ]
  },
  {
   "cell_type": "code",
   "execution_count": 30,
   "metadata": {},
   "outputs": [
    {
     "data": {
      "text/plain": [
       "10"
      ]
     },
     "execution_count": 30,
     "metadata": {},
     "output_type": "execute_result"
    }
   ],
   "source": [
    "# First, we have to import reduce\n",
    "from functools import reduce\n",
    "\n",
    "numbers = [0, 1, 2, 3, 4]\n",
    "\n",
    "# Let's apply a function that adds all the\n",
    "# numbers in the list using reduce and lambdas\n",
    "# (you could code your own function too)\n",
    "reduce(lambda x, y: x + y, numbers)\n",
    "# It will do:\n",
    "# 0 + 1 = 1\n",
    "# 1 + 2 = 3\n",
    "# 3 + 3 = 6\n",
    "# 6 + 4 = 10"
   ]
  },
  {
   "cell_type": "markdown",
   "metadata": {},
   "source": [
    "There is an optional parameter *initializer* that will be used as the first value of the reduction if set. "
   ]
  },
  {
   "cell_type": "code",
   "execution_count": 32,
   "metadata": {},
   "outputs": [
    {
     "data": {
      "text/plain": [
       "110"
      ]
     },
     "execution_count": 32,
     "metadata": {},
     "output_type": "execute_result"
    }
   ],
   "source": [
    "reduce(lambda x, y: x + y, numbers, 100)\n",
    "# It will do:\n",
    "# 100 + 0 = 100\n",
    "# 100 + 1 = 101\n",
    "# 101 + 2 = 103\n",
    "# 103 + 3 = 106\n",
    "# 106 + 4 = 110"
   ]
  },
  {
   "cell_type": "markdown",
   "metadata": {},
   "source": [
    "As you can see, we have just sum all the elements in a list. However, this can be solved using the built-in sum() function which is more Pythonic, more efficient and more readable:"
   ]
  },
  {
   "cell_type": "code",
   "execution_count": 33,
   "metadata": {},
   "outputs": [
    {
     "data": {
      "text/plain": [
       "10"
      ]
     },
     "execution_count": 33,
     "metadata": {},
     "output_type": "execute_result"
    }
   ],
   "source": [
    "sum(numbers)"
   ]
  },
  {
   "cell_type": "markdown",
   "metadata": {},
   "source": [
    "In general, this will happen with the most commom use cases for reduce(). For that reason, it's not usually used. "
   ]
  },
  {
   "cell_type": "code",
   "execution_count": 41,
   "metadata": {},
   "outputs": [
    {
     "name": "stdout",
     "output_type": "stream",
     "text": [
      "4\n",
      "4\n",
      "0\n",
      "0\n",
      "False\n",
      "False\n",
      "True\n",
      "True\n"
     ]
    }
   ],
   "source": [
    "# Finding a max \n",
    "print(reduce(lambda x, y: x if x > y else y, numbers))\n",
    "print(max(numbers))\n",
    "\n",
    "# Multiplying elements\n",
    "print(reduce(lambda x, y: x * y, numbers))\n",
    "from math import prod\n",
    "print(prod(numbers))\n",
    "\n",
    "# Checking if all values are True\n",
    "print(reduce(lambda x, y: bool(x and y), numbers))\n",
    "print(all(numbers))\n",
    "\n",
    "# Checking if any value is True\n",
    "print(reduce(lambda x, y: bool(x or y), numbers))\n",
    "print(any(numbers))"
   ]
  },
  {
   "cell_type": "markdown",
   "metadata": {},
   "source": [
    "# List Comprehension\n",
    "\n",
    "List Comprehension are another way to apply the functionality of map(). In general, it's consider more Pythonic.\n",
    "\n",
    "They follow the next syntax:\n",
    "\n",
    "*new_list = [expression for member in iterable (if conditional)]*\n",
    "\n",
    "Let's see an example:"
   ]
  },
  {
   "cell_type": "code",
   "execution_count": 42,
   "metadata": {},
   "outputs": [
    {
     "data": {
      "text/plain": [
       "[4, 10]"
      ]
     },
     "execution_count": 42,
     "metadata": {},
     "output_type": "execute_result"
    }
   ],
   "source": [
    "numbers = [0, 1, 2, 4, 7, 8]\n",
    "\n",
    "result = [x + 3 for x in numbers if x % 2 != 0]\n",
    "result"
   ]
  },
  {
   "cell_type": "markdown",
   "metadata": {},
   "source": [
    "In this case, it might seem to be more readable. "
   ]
  },
  {
   "cell_type": "markdown",
   "metadata": {},
   "source": [
    "*Sources*:\n",
    "\n",
    "- Tech With Tim YouTube channel: https://youtu.be/sxTmJE4k0ho?t=13824\n",
    "- https://realpython.com/python-map-function/\n",
    "- https://realpython.com/python-filter-function/\n",
    "- https://realpython.com/python-lambda/\n",
    "- https://realpython.com/python-reduce-function/"
   ]
  }
 ],
 "metadata": {
  "kernelspec": {
   "display_name": "Python 3",
   "language": "python",
   "name": "python3"
  },
  "language_info": {
   "codemirror_mode": {
    "name": "ipython",
    "version": 3
   },
   "file_extension": ".py",
   "mimetype": "text/x-python",
   "name": "python",
   "nbconvert_exporter": "python",
   "pygments_lexer": "ipython3",
   "version": "3.8.5"
  }
 },
 "nbformat": 4,
 "nbformat_minor": 4
}
