{
 "cells": [
  {
   "cell_type": "markdown",
   "metadata": {},
   "source": [
    "# Regex Expressions in Python\n",
    "\n",
    "This notebook contains a cheatsheet for using regex expressions in Python.\n",
    "\n",
    "Source:\n",
    "- https://realpython.com/regex-python/\n",
    "\n",
    "Regex interactive helper:\n",
    "- https://regex101.com/\n",
    "\n",
    "First examples will be based on the **search function**:\n",
    "\n",
    "***re.search(\\<regex\\>, \\<string\\>, \\<flags\\>)***:\n",
    "Scans a string for a regex match. \\<flags\\> argument is optional.\n",
    "\n",
    "Let's import regex:"
   ]
  },
  {
   "cell_type": "code",
   "execution_count": 2,
   "metadata": {},
   "outputs": [],
   "source": [
    "import re"
   ]
  },
  {
   "cell_type": "markdown",
   "metadata": {},
   "source": [
    "## Metacharacters\n",
    "\n",
    "Metacharacters are special characters that have a unique meaning to the regex machine engine. They are the following:\n",
    "\n",
    "### The [] metacharacter\n",
    "Specifies a character class. It matches any single character that is in the class."
   ]
  },
  {
   "cell_type": "code",
   "execution_count": 8,
   "metadata": {},
   "outputs": [
    {
     "data": {
      "text/plain": [
       "<re.Match object; span=(3, 6), match='bar'>"
      ]
     },
     "execution_count": 8,
     "metadata": {},
     "output_type": "execute_result"
    }
   ],
   "source": [
    "# Matches any letter that is 'a' or 'r'\n",
    "re.search(\"ba[ar]\", \"foobarqux\")"
   ]
  },
  {
   "cell_type": "code",
   "execution_count": 4,
   "metadata": {},
   "outputs": [
    {
     "data": {
      "text/plain": [
       "<re.Match object; span=(3, 4), match='9'>"
      ]
     },
     "execution_count": 4,
     "metadata": {},
     "output_type": "execute_result"
    }
   ],
   "source": [
    "# Matches any digit that is between 0 and 9 (0123456789)\n",
    "re.search(\"[0-9]\", \"abc90\")"
   ]
  },
  {
   "cell_type": "code",
   "execution_count": 5,
   "metadata": {},
   "outputs": [
    {
     "data": {
      "text/plain": [
       "<re.Match object; span=(1, 2), match='a'>"
      ]
     },
     "execution_count": 5,
     "metadata": {},
     "output_type": "execute_result"
    }
   ],
   "source": [
    "# Matches any minus letter between 'a' and 'z'.\n",
    "re.search(\"[a-z]\", \"9abc\")"
   ]
  },
  {
   "cell_type": "code",
   "execution_count": 7,
   "metadata": {},
   "outputs": [
    {
     "data": {
      "text/plain": [
       "<re.Match object; span=(2, 3), match='A'>"
      ]
     },
     "execution_count": 7,
     "metadata": {},
     "output_type": "execute_result"
    }
   ],
   "source": [
    "# Matches any mayus letter betwen 'A' and 'Z'\n",
    "re.search(\"[A-Z]\", \"9aABC\")"
   ]
  },
  {
   "cell_type": "markdown",
   "metadata": {},
   "source": [
    "### The ^ metacharacter\n",
    "The ^ metacharacter can be used to match any character that **is not** in the set."
   ]
  },
  {
   "cell_type": "code",
   "execution_count": 9,
   "metadata": {},
   "outputs": [
    {
     "data": {
      "text/plain": [
       "<re.Match object; span=(5, 6), match='a'>"
      ]
     },
     "execution_count": 9,
     "metadata": {},
     "output_type": "execute_result"
    }
   ],
   "source": [
    "# Matches any character that is NOT between 0 and 9.\n",
    "re.search(\"[^0-9]\", \"12345abc\")"
   ]
  },
  {
   "cell_type": "markdown",
   "metadata": {},
   "source": [
    "*^* must appear as the first character in the class, otherwise it matches a literal '^'."
   ]
  },
  {
   "cell_type": "code",
   "execution_count": 11,
   "metadata": {},
   "outputs": [
    {
     "data": {
      "text/plain": [
       "<re.Match object; span=(5, 6), match='^'>"
      ]
     },
     "execution_count": 11,
     "metadata": {},
     "output_type": "execute_result"
    }
   ],
   "source": [
    "# Matches any character between 0 and 9 and a literal ^\n",
    "re.search(\"[0-9^]\", \"Hello^^\")"
   ]
  },
  {
   "cell_type": "markdown",
   "metadata": {},
   "source": [
    "Other regex metacharacters lose their special meaning inside a character class:"
   ]
  },
  {
   "cell_type": "code",
   "execution_count": 107,
   "metadata": {},
   "outputs": [
    {
     "data": {
      "text/plain": [
       "<re.Match object; span=(1, 2), match='+'>"
      ]
     },
     "execution_count": 107,
     "metadata": {},
     "output_type": "execute_result"
    }
   ],
   "source": [
    "# + and * are metacharacters but they lose their special meaning\n",
    "# because they are contained inside a character class.\n",
    "re.search(\"[+*]\", \"2+1*1+3\")"
   ]
  },
  {
   "cell_type": "markdown",
   "metadata": {},
   "source": [
    "### The . metacharacter\n",
    "Matches any single character except newline."
   ]
  },
  {
   "cell_type": "code",
   "execution_count": 13,
   "metadata": {},
   "outputs": [
    {
     "data": {
      "text/plain": [
       "<re.Match object; span=(0, 7), match='fooxbar'>"
      ]
     },
     "execution_count": 13,
     "metadata": {},
     "output_type": "execute_result"
    }
   ],
   "source": [
    "# Matches a sequence of 'foo' + any character except newline + 'bar'\n",
    "re.search(\"foo.bar\", \"fooxbar\")"
   ]
  },
  {
   "cell_type": "markdown",
   "metadata": {},
   "source": [
    "### Shorthands\n",
    "\n",
    "- **\\\\w**: Matches any alphanumeric char. Equals to: **[a-zA-Z0-9_]**.\n",
    "- **\\\\W**: The opposite to \\\\w. Equals to: **[^a-zA-Z0-9_]**."
   ]
  },
  {
   "cell_type": "code",
   "execution_count": 14,
   "metadata": {},
   "outputs": [
    {
     "data": {
      "text/plain": [
       "<re.Match object; span=(3, 4), match='a'>"
      ]
     },
     "execution_count": 14,
     "metadata": {},
     "output_type": "execute_result"
    }
   ],
   "source": [
    "re.search(\"\\w\", \"#(.a0_)\")"
   ]
  },
  {
   "cell_type": "code",
   "execution_count": 15,
   "metadata": {},
   "outputs": [
    {
     "data": {
      "text/plain": [
       "<re.Match object; span=(0, 1), match='#'>"
      ]
     },
     "execution_count": 15,
     "metadata": {},
     "output_type": "execute_result"
    }
   ],
   "source": [
    "re.search(\"\\W\", \"#(.a0_)\")"
   ]
  },
  {
   "cell_type": "markdown",
   "metadata": {},
   "source": [
    "- **\\\\d**: Matches any decimal digit char. Equals to **[0-9]**.\n",
    "- **\\\\D**: The opposite to \\\\d. Equals to **[^0-9]**."
   ]
  },
  {
   "cell_type": "code",
   "execution_count": 16,
   "metadata": {},
   "outputs": [
    {
     "data": {
      "text/plain": [
       "<re.Match object; span=(3, 4), match='0'>"
      ]
     },
     "execution_count": 16,
     "metadata": {},
     "output_type": "execute_result"
    }
   ],
   "source": [
    "re.search(\"\\d\", \"abc012\")"
   ]
  },
  {
   "cell_type": "code",
   "execution_count": 17,
   "metadata": {},
   "outputs": [
    {
     "data": {
      "text/plain": [
       "<re.Match object; span=(0, 1), match='a'>"
      ]
     },
     "execution_count": 17,
     "metadata": {},
     "output_type": "execute_result"
    }
   ],
   "source": [
    "re.search(\"\\\\D\", \"abc012\")"
   ]
  },
  {
   "cell_type": "markdown",
   "metadata": {},
   "source": [
    "- **\\\\s**: Matches any whitespace char. Common whitespaces are: \\\\t\\\\n\\\\r\\\\f and ' ' (the space character).\n",
    "- **\\\\S**: The opposite to \\\\s."
   ]
  },
  {
   "cell_type": "code",
   "execution_count": 20,
   "metadata": {},
   "outputs": [
    {
     "data": {
      "text/plain": [
       "<re.Match object; span=(3, 4), match='\\n'>"
      ]
     },
     "execution_count": 20,
     "metadata": {},
     "output_type": "execute_result"
    }
   ],
   "source": [
    "re.search(\"\\s\", \"foo\\nbar\")"
   ]
  },
  {
   "cell_type": "code",
   "execution_count": 21,
   "metadata": {},
   "outputs": [
    {
     "data": {
      "text/plain": [
       "<re.Match object; span=(0, 1), match='f'>"
      ]
     },
     "execution_count": 21,
     "metadata": {},
     "output_type": "execute_result"
    }
   ],
   "source": [
    "re.search(\"\\S\", \"foo\\nbar\")"
   ]
  },
  {
   "cell_type": "markdown",
   "metadata": {},
   "source": [
    "### Escaping metacharacters using backslash (\\\\)\n",
    "\n",
    "You can **espace characters** if you want to include a metacharacter in your regex but you don't want it to carry its special meaning. \n",
    "\n",
    "- **Backslash (\\\\)**: Removes the special meaning of a metacharacter."
   ]
  },
  {
   "cell_type": "code",
   "execution_count": 23,
   "metadata": {},
   "outputs": [
    {
     "data": {
      "text/plain": [
       "<re.Match object; span=(3, 4), match='['>"
      ]
     },
     "execution_count": 23,
     "metadata": {},
     "output_type": "execute_result"
    }
   ],
   "source": [
    "# Matches a character that is a literal '[' or ']'\n",
    "re.search(\"[\\[\\]]\", \"abc[abc]\")"
   ]
  },
  {
   "cell_type": "code",
   "execution_count": 24,
   "metadata": {},
   "outputs": [
    {
     "data": {
      "text/plain": [
       "<re.Match object; span=(3, 4), match='.'>"
      ]
     },
     "execution_count": 24,
     "metadata": {},
     "output_type": "execute_result"
    }
   ],
   "source": [
    "# Matches a literal dot (.)\n",
    "re.search(\"\\.\", \"foo.bar\")"
   ]
  },
  {
   "cell_type": "markdown",
   "metadata": {},
   "source": [
    "The backslash is itself a special character in regex. To match it, one option is to escape it twice, once due to the Python interpreter and once due to the regex parser:"
   ]
  },
  {
   "cell_type": "code",
   "execution_count": 29,
   "metadata": {},
   "outputs": [
    {
     "data": {
      "text/plain": [
       "<re.Match object; span=(3, 4), match='\\\\'>"
      ]
     },
     "execution_count": 29,
     "metadata": {},
     "output_type": "execute_result"
    }
   ],
   "source": [
    "# Matches a literal '\\'\n",
    "s = r\"abc\\abc\"\n",
    "re.search(\"\\\\\\\\\", s) "
   ]
  },
  {
   "cell_type": "markdown",
   "metadata": {},
   "source": [
    "Another cleaner option is to specify the \\<regex\\> as a raw-string to suppress the escaping at the interpreter level:"
   ]
  },
  {
   "cell_type": "code",
   "execution_count": 31,
   "metadata": {},
   "outputs": [
    {
     "data": {
      "text/plain": [
       "<re.Match object; span=(3, 4), match='\\\\'>"
      ]
     },
     "execution_count": 31,
     "metadata": {},
     "output_type": "execute_result"
    }
   ],
   "source": [
    "re.search(r\"\\\\\", s)"
   ]
  },
  {
   "cell_type": "markdown",
   "metadata": {},
   "source": [
    "**It’s good practice to use a raw string to specify a regex in Python whenever it contains backslashes.**"
   ]
  },
  {
   "cell_type": "markdown",
   "metadata": {},
   "source": [
    "### Anchors\n",
    "\n",
    "An anchor dictates a particular location in the search string where a match must occur. They are zero-width matches, that is, they don't match any actual characters in the search string.\n",
    "\n",
    "- **^** or **\\\\A**: Anchors a match to the **start** of the search string. ^ and \\\\A behave differently in MULTILINE mode."
   ]
  },
  {
   "cell_type": "code",
   "execution_count": 32,
   "metadata": {},
   "outputs": [
    {
     "data": {
      "text/plain": [
       "<re.Match object; span=(0, 3), match='foo'>"
      ]
     },
     "execution_count": 32,
     "metadata": {},
     "output_type": "execute_result"
    }
   ],
   "source": [
    "# Matches 'foo' only if it's present at the beggining of the search string\n",
    "re.search(\"^foo\", \"foobar\")"
   ]
  },
  {
   "cell_type": "code",
   "execution_count": 33,
   "metadata": {},
   "outputs": [],
   "source": [
    "re.search(\"^foo\", \"barfoo\")"
   ]
  },
  {
   "cell_type": "markdown",
   "metadata": {},
   "source": [
    "- **\\\\$** or **\\\\Z**: Anchors a match to the **end** of the search string. \\\\$ also matches if the expression if followed by a **newline character**. \\\\$ and \\\\Z behaves differently in MULTILINE mode."
   ]
  },
  {
   "cell_type": "code",
   "execution_count": 36,
   "metadata": {},
   "outputs": [
    {
     "data": {
      "text/plain": [
       "<re.Match object; span=(3, 6), match='bar'>"
      ]
     },
     "execution_count": 36,
     "metadata": {},
     "output_type": "execute_result"
    }
   ],
   "source": [
    "# Matches 'bar' only if it's present at the end of the search string or followed by a newline\n",
    "re.search(\"bar$\", \"foobar\")"
   ]
  },
  {
   "cell_type": "code",
   "execution_count": 38,
   "metadata": {},
   "outputs": [
    {
     "data": {
      "text/plain": [
       "<re.Match object; span=(3, 6), match='bar'>"
      ]
     },
     "execution_count": 38,
     "metadata": {},
     "output_type": "execute_result"
    }
   ],
   "source": [
    "# Matches 'bar' only if it's present at the end of the search string or followed by a newline\n",
    "re.search(\"bar$\", \"foobar\\n\")"
   ]
  },
  {
   "cell_type": "code",
   "execution_count": 35,
   "metadata": {},
   "outputs": [],
   "source": [
    "re.search(\"bar$\", \"barfoo\")"
   ]
  },
  {
   "cell_type": "markdown",
   "metadata": {},
   "source": [
    "- **\\\\b**: Anchors a match to a word boundary i.e. at the beginning or end of a word. A word consists of a sequence of alphanumeric characters or underscores ([a-zA-Z0-9_]).\n",
    "- **\\\\B**: The opposite of \\\\b."
   ]
  },
  {
   "cell_type": "code",
   "execution_count": 44,
   "metadata": {},
   "outputs": [
    {
     "data": {
      "text/plain": [
       "<re.Match object; span=(4, 7), match='bar'>"
      ]
     },
     "execution_count": 44,
     "metadata": {},
     "output_type": "execute_result"
    }
   ],
   "source": [
    "# Matches 'bar' only if it's at the beggining or at the end of a word.\n",
    "re.search(r\"\\bbar\", \"foo bar qux\")"
   ]
  },
  {
   "cell_type": "code",
   "execution_count": 45,
   "metadata": {},
   "outputs": [],
   "source": [
    "re.search(r\"\\bbar\", \"foobarqux\")"
   ]
  },
  {
   "cell_type": "code",
   "execution_count": 47,
   "metadata": {},
   "outputs": [],
   "source": [
    "# Matches 'bar' only if it is NOT at the beggining nor at the end of a word.\n",
    "re.search(r\"\\Bbar\", \"foo bar qux\")"
   ]
  },
  {
   "cell_type": "code",
   "execution_count": 48,
   "metadata": {},
   "outputs": [
    {
     "data": {
      "text/plain": [
       "<re.Match object; span=(3, 6), match='bar'>"
      ]
     },
     "execution_count": 48,
     "metadata": {},
     "output_type": "execute_result"
    }
   ],
   "source": [
    "re.search(r\"\\Bbar\", \"foobarqux\")"
   ]
  },
  {
   "cell_type": "markdown",
   "metadata": {},
   "source": [
    "### Quantifiers\n",
    "A quantifier metacharacter immediately follows a portion of a \\<regex\\> and indicates how many times that portion must occur for the match to succeed.\n",
    "\n",
    "#### \\* quantifier\n",
    "Matches **zero or more repetitions** of the preceding regex."
   ]
  },
  {
   "cell_type": "code",
   "execution_count": 3,
   "metadata": {},
   "outputs": [
    {
     "data": {
      "text/plain": [
       "<re.Match object; span=(0, 9), match='foo---bar'>"
      ]
     },
     "execution_count": 3,
     "metadata": {},
     "output_type": "execute_result"
    }
   ],
   "source": [
    "# Matches 'foo' followed by zero or more '-' and followed by 'bar'\n",
    "re.search(\"foo-*bar\", \"foo---bar\")"
   ]
  },
  {
   "cell_type": "code",
   "execution_count": 6,
   "metadata": {},
   "outputs": [
    {
     "data": {
      "text/plain": [
       "<re.Match object; span=(0, 6), match='foobar'>"
      ]
     },
     "execution_count": 6,
     "metadata": {},
     "output_type": "execute_result"
    }
   ],
   "source": [
    "re.search(\"foo-*bar\", \"foobar\")"
   ]
  },
  {
   "cell_type": "markdown",
   "metadata": {},
   "source": [
    "#### + quantifier\n",
    "Matches **one or more repetitions** of the preceding regex."
   ]
  },
  {
   "cell_type": "code",
   "execution_count": 7,
   "metadata": {},
   "outputs": [
    {
     "data": {
      "text/plain": [
       "<re.Match object; span=(0, 9), match='foo---bar'>"
      ]
     },
     "execution_count": 7,
     "metadata": {},
     "output_type": "execute_result"
    }
   ],
   "source": [
    "# Matches 'foo' followed by one or more '-' and followed by 'bar'\n",
    "re.search(\"foo-+bar\", \"foo---bar\")"
   ]
  },
  {
   "cell_type": "code",
   "execution_count": 8,
   "metadata": {},
   "outputs": [],
   "source": [
    "re.search(\"foo-+bar\", \"foobar\")"
   ]
  },
  {
   "cell_type": "markdown",
   "metadata": {},
   "source": [
    "#### ? quantifier\n",
    "Matches **zero or one repetitions** of the preceding regex."
   ]
  },
  {
   "cell_type": "code",
   "execution_count": 9,
   "metadata": {},
   "outputs": [
    {
     "data": {
      "text/plain": [
       "<re.Match object; span=(0, 7), match='foo-bar'>"
      ]
     },
     "execution_count": 9,
     "metadata": {},
     "output_type": "execute_result"
    }
   ],
   "source": [
    "# Matches 'foo' followed by an optional '-' and followed by 'bar'\n",
    "re.search(\"foo-?bar\", \"foo-bar\")"
   ]
  },
  {
   "cell_type": "code",
   "execution_count": 10,
   "metadata": {},
   "outputs": [],
   "source": [
    "re.search(\"foo-?bar\", \"foo---bar\")"
   ]
  },
  {
   "cell_type": "code",
   "execution_count": 11,
   "metadata": {},
   "outputs": [
    {
     "data": {
      "text/plain": [
       "<re.Match object; span=(0, 6), match='foobar'>"
      ]
     },
     "execution_count": 11,
     "metadata": {},
     "output_type": "execute_result"
    }
   ],
   "source": [
    "re.search(\"foo-?bar\", \"foobar\")"
   ]
  },
  {
   "cell_type": "markdown",
   "metadata": {},
   "source": [
    "#### Non-greendy quantifiers\n",
    "The quantifier metacharacters \\*, + and ? are all **greedy**, meaning they produce the **longest** possible match. If you want the **shortest** possible match instead, then use the **non-greedy** version of them:\n",
    "- \\*?: Non-greedy version of the metacharacter '*'.\n",
    "- +?: Non-greedy version of the metacharacter '+'.\n",
    "- ??: Non-greedy version of the metacharacter '?'."
   ]
  },
  {
   "cell_type": "code",
   "execution_count": 13,
   "metadata": {},
   "outputs": [
    {
     "data": {
      "text/plain": [
       "<re.Match object; span=(0, 15), match='<foo><bar><qux>'>"
      ]
     },
     "execution_count": 13,
     "metadata": {},
     "output_type": "execute_result"
    }
   ],
   "source": [
    "# Non-greedy match\n",
    "re.search(\"<.*>\", \"<foo><bar><qux>\")"
   ]
  },
  {
   "cell_type": "code",
   "execution_count": 15,
   "metadata": {},
   "outputs": [
    {
     "data": {
      "text/plain": [
       "<re.Match object; span=(0, 5), match='<foo>'>"
      ]
     },
     "execution_count": 15,
     "metadata": {},
     "output_type": "execute_result"
    }
   ],
   "source": [
    "# Greedy match\n",
    "re.search(\"<.*?>\", \"<foo><bar><qux>\")"
   ]
  },
  {
   "cell_type": "markdown",
   "metadata": {},
   "source": [
    "#### {m} quatifier\n",
    "Matches exactly ***m* repetititons** of the preceding regex."
   ]
  },
  {
   "cell_type": "code",
   "execution_count": 16,
   "metadata": {},
   "outputs": [
    {
     "data": {
      "text/plain": [
       "<re.Match object; span=(0, 9), match='foo---bar'>"
      ]
     },
     "execution_count": 16,
     "metadata": {},
     "output_type": "execute_result"
    }
   ],
   "source": [
    "# Matches 'foo' followed by 3 '-' and followed by 'bar'\n",
    "re.search(\"foo-{3}bar\", \"foo---bar\")"
   ]
  },
  {
   "cell_type": "code",
   "execution_count": 17,
   "metadata": {},
   "outputs": [],
   "source": [
    "re.search(\"foo-{3}bar\", \"foo--bar\")"
   ]
  },
  {
   "cell_type": "markdown",
   "metadata": {},
   "source": [
    "#### {m,n} quantifier\n",
    "Matches any number of repetitions of the preceding regex **from *m* to *n***, inclusive."
   ]
  },
  {
   "cell_type": "code",
   "execution_count": 18,
   "metadata": {},
   "outputs": [
    {
     "data": {
      "text/plain": [
       "<re.Match object; span=(0, 9), match='foo---bar'>"
      ]
     },
     "execution_count": 18,
     "metadata": {},
     "output_type": "execute_result"
    }
   ],
   "source": [
    "# Matches 'foo' followed by 1, 2 or 3 '-' and followed by 'bar'\n",
    "re.search(\"foo-{1,3}bar\", \"foo---bar\")"
   ]
  },
  {
   "cell_type": "code",
   "execution_count": 19,
   "metadata": {},
   "outputs": [
    {
     "data": {
      "text/plain": [
       "<re.Match object; span=(0, 8), match='foo--bar'>"
      ]
     },
     "execution_count": 19,
     "metadata": {},
     "output_type": "execute_result"
    }
   ],
   "source": [
    "re.search(\"foo-{1,3}bar\", \"foo--bar\")"
   ]
  },
  {
   "cell_type": "code",
   "execution_count": 21,
   "metadata": {},
   "outputs": [],
   "source": [
    "re.search(\"foo-{1,3}bar\", \"foo-----bar\")"
   ]
  },
  {
   "cell_type": "markdown",
   "metadata": {},
   "source": [
    "- Omitting *m* implies m=0.\n",
    "- Omitting *n* implies n=0.\n",
    "\n",
    "For instance, to preserve its special meaning a sequence with curly braces ({}) must fit one of the following patterns: {m}, {m,n}, {m,}, {,n}, where m>=0 and n>=0."
   ]
  },
  {
   "cell_type": "markdown",
   "metadata": {},
   "source": [
    "#### Non-greedy {m,n}: {m,n}?\n",
    "{m,n}? is the non-greedy version of {m,n}, meaning it will match as few characters as possible."
   ]
  },
  {
   "cell_type": "code",
   "execution_count": 22,
   "metadata": {},
   "outputs": [
    {
     "data": {
      "text/plain": [
       "<re.Match object; span=(0, 3), match='aaa'>"
      ]
     },
     "execution_count": 22,
     "metadata": {},
     "output_type": "execute_result"
    }
   ],
   "source": [
    "# Matches 'foo' followed by 1, 2 or 3 '-' and followed by 'bar' in a greedy manner\n",
    "re.search(\"a{1,3}\", \"aaabbbccc\")"
   ]
  },
  {
   "cell_type": "code",
   "execution_count": 23,
   "metadata": {},
   "outputs": [
    {
     "data": {
      "text/plain": [
       "<re.Match object; span=(0, 1), match='a'>"
      ]
     },
     "execution_count": 23,
     "metadata": {},
     "output_type": "execute_result"
    }
   ],
   "source": [
    "# Matches 'foo' followed by 1, 2 or 3 '-' and followed by 'bar' in a non-greedy manner\n",
    "re.search(\"a{1,3}?\", \"aaabbbccc\")"
   ]
  },
  {
   "cell_type": "markdown",
   "metadata": {},
   "source": [
    "### Grouping & backreferences\n",
    "Grouping constructs break up a regex into subexpressions or groups. This serves 2 purposes:\n",
    "- **Grouping**: A group is a single entity. Additional metacharacters apply to the entire group as a unit.\n",
    "- **Capturing**: Some grouping constructs can also capture the portion of the search string that matches the group regex. The captured matches can be retrieved later. \n",
    "\n",
    "To define a regex group we use parenthesis: \n",
    "*(\\<regex\\>)*"
   ]
  },
  {
   "cell_type": "markdown",
   "metadata": {},
   "source": [
    "#### 1st purpose: Treating the group as a unit"
   ]
  },
  {
   "cell_type": "code",
   "execution_count": 24,
   "metadata": {},
   "outputs": [
    {
     "data": {
      "text/plain": [
       "<re.Match object; span=(4, 13), match='barbarbar'>"
      ]
     },
     "execution_count": 24,
     "metadata": {},
     "output_type": "execute_result"
    }
   ],
   "source": [
    "# Matches a group formed by the 'bar' sequence and repeated one or more times. \n",
    "re.search(\"(bar)+\", \"foo barbarbar baz\")"
   ]
  },
  {
   "cell_type": "code",
   "execution_count": 25,
   "metadata": {},
   "outputs": [
    {
     "data": {
      "text/plain": [
       "<re.Match object; span=(0, 15), match='foofoobarfoobar'>"
      ]
     },
     "execution_count": 25,
     "metadata": {},
     "output_type": "execute_result"
    }
   ],
   "source": [
    "# Matches a group formed by 'foo' and an optional 'bar' repeated one or more times.\n",
    "re.search(\"(foo(bar)?)+\", \"foofoobarfoobar\")"
   ]
  },
  {
   "cell_type": "markdown",
   "metadata": {},
   "source": [
    "#### 2nd purpose: Capturing groups\n",
    "To retrieve the captured part of the search string that matches the group we have two methods:\n",
    "- **m.groups()**: returns a **tuple** containing all the captured groups from a regex match.\n",
    "- **m.group(\\<n\\>)**: returns a **string** containing the *n* captured match. ***n* starts at 1**. If ***n=0* or no *n*** is provided, it returns **the entired match**. If **more than 1 *n*** is specified, it returns **the specified *n* captured matches** as a **tuple**.\n",
    "\n",
    "where *m* is the match object that *re.search()* returns. "
   ]
  },
  {
   "cell_type": "code",
   "execution_count": 30,
   "metadata": {},
   "outputs": [
    {
     "data": {
      "text/plain": [
       "('foo', 'bar', 'qux')"
      ]
     },
     "execution_count": 30,
     "metadata": {},
     "output_type": "execute_result"
    }
   ],
   "source": [
    "# Each (\\w+) matches a sequence of word characters, \n",
    "# and the full regex is formed by 3 of these sequences \n",
    "# separated by a comma\n",
    "m = re.search(\"(\\w+),(\\w+),(\\w+)\", \"foo,bar,qux\")\n",
    "m.groups()"
   ]
  },
  {
   "cell_type": "code",
   "execution_count": 28,
   "metadata": {},
   "outputs": [
    {
     "data": {
      "text/plain": [
       "'bar'"
      ]
     },
     "execution_count": 28,
     "metadata": {},
     "output_type": "execute_result"
    }
   ],
   "source": [
    "# Returns the 2nd captured group, which is 'bar'\n",
    "m.group(2)"
   ]
  },
  {
   "cell_type": "code",
   "execution_count": 29,
   "metadata": {},
   "outputs": [
    {
     "data": {
      "text/plain": [
       "'foo,bar,qux'"
      ]
     },
     "execution_count": 29,
     "metadata": {},
     "output_type": "execute_result"
    }
   ],
   "source": [
    "# Returns the entire match\n",
    "m.group()"
   ]
  },
  {
   "cell_type": "code",
   "execution_count": 31,
   "metadata": {},
   "outputs": [
    {
     "data": {
      "text/plain": [
       "('foo', 'bar')"
      ]
     },
     "execution_count": 31,
     "metadata": {},
     "output_type": "execute_result"
    }
   ],
   "source": [
    "# Returns the 1st and 2nd matches\n",
    "m.group(1,2)"
   ]
  },
  {
   "cell_type": "markdown",
   "metadata": {},
   "source": [
    "#### Backreferences\n",
    "You can match a previously captured group later within the same regex using a **backreference**:\n",
    "- **\\\\\\<n\\>**: Matches the contents of the *n* captured group.\n",
    "\n",
    "Since a backreference contains a **backslash**, it's a good practice to use **raw strings**."
   ]
  },
  {
   "cell_type": "code",
   "execution_count": 34,
   "metadata": {},
   "outputs": [
    {
     "data": {
      "text/plain": [
       "<re.Match object; span=(4, 7), match='2,2'>"
      ]
     },
     "execution_count": 34,
     "metadata": {},
     "output_type": "execute_result"
    }
   ],
   "source": [
    "# Matches a number followed by a comma and followed by the same number\n",
    "# again\n",
    "re.search(r\"([0-9]),\\1\", \"0,1,2,2,3,4\")"
   ]
  },
  {
   "cell_type": "code",
   "execution_count": 37,
   "metadata": {},
   "outputs": [
    {
     "data": {
      "text/plain": [
       "<re.Match object; span=(2, 9), match='1,2,2,1'>"
      ]
     },
     "execution_count": 37,
     "metadata": {},
     "output_type": "execute_result"
    }
   ],
   "source": [
    "# A more complex example\n",
    "re.search(r\"([0-9]),([0-9]),\\2,\\1\", \"0,1,2,2,1,3\")"
   ]
  },
  {
   "cell_type": "code",
   "execution_count": 43,
   "metadata": {},
   "outputs": [
    {
     "data": {
      "text/plain": [
       "<re.Match object; span=(4, 7), match='2,2'>"
      ]
     },
     "execution_count": 43,
     "metadata": {},
     "output_type": "execute_result"
    }
   ],
   "source": [
    "# Without using raw strings (not recommended)\n",
    "re.search(\"([0-9]),\\\\1\", \"0,1,2,2,3,4\")"
   ]
  },
  {
   "cell_type": "markdown",
   "metadata": {},
   "source": [
    "#### Naming groups\n",
    "Until now, we have referred to the groups with an integer value *n*. You can name a group too:\n",
    "\n",
    "- **(?P\\<name\\>\\<regex\\>)**: Creates a **named captured group**. Each \\<name\\> can only appear **once** per regex."
   ]
  },
  {
   "cell_type": "code",
   "execution_count": 39,
   "metadata": {},
   "outputs": [
    {
     "name": "stdout",
     "output_type": "stream",
     "text": [
      "bar\n",
      "bar\n"
     ]
    }
   ],
   "source": [
    "# Let's give a name to the groups of the previous example: w1, w2 and w3.\n",
    "m = re.search(\"(?P<w1>\\w+),(?P<w2>\\w+),(?P<w3>\\w+)\", \"foo,bar,qux\")\n",
    "\n",
    "# And let's access the 2nd group called 'w2'\n",
    "print(m.group(\"w2\"))\n",
    "\n",
    "# You can still access the group by number\n",
    "print(m.group(2))"
   ]
  },
  {
   "cell_type": "markdown",
   "metadata": {},
   "source": [
    "- **(?P=\\<name\\>)**: Matches the contents of a **previously captured named group**."
   ]
  },
  {
   "cell_type": "code",
   "execution_count": 41,
   "metadata": {},
   "outputs": [
    {
     "data": {
      "text/plain": [
       "<re.Match object; span=(4, 7), match='2,2'>"
      ]
     },
     "execution_count": 41,
     "metadata": {},
     "output_type": "execute_result"
    }
   ],
   "source": [
    "# Again, let's give a name to the captured group of the previous example\n",
    "re.search(\"(?P<number>[0-9]),(?P=number)\", \"0,1,2,2,3,4\")"
   ]
  },
  {
   "cell_type": "code",
   "execution_count": 42,
   "metadata": {},
   "outputs": [
    {
     "data": {
      "text/plain": [
       "<re.Match object; span=(4, 7), match='2,2'>"
      ]
     },
     "execution_count": 42,
     "metadata": {},
     "output_type": "execute_result"
    }
   ],
   "source": [
    "# Again, you can still use the numbers as well\n",
    "re.search(r\"(?P<number>[0-9]),\\1\", \"0,1,2,2,3,4\")"
   ]
  },
  {
   "cell_type": "markdown",
   "metadata": {},
   "source": [
    "**The angle brackets (\\< and \\>) are required** around *name* **when creating a named group** but **not when referring to it later**, either by backreference or by *.group()*."
   ]
  },
  {
   "cell_type": "markdown",
   "metadata": {},
   "source": [
    "#### Non-capturing groups\n",
    "Sometimes, there's no need to capture a group and do something with the value later. It takes some time and memory to capture a group, so if you don't capture unneccessary groups then you may see a slight performance advantage. \n",
    "\n",
    "- (?:\\<regex\\>): Creates a **non-capturing** group."
   ]
  },
  {
   "cell_type": "code",
   "execution_count": 44,
   "metadata": {},
   "outputs": [
    {
     "data": {
      "text/plain": [
       "('foo', 'qux')"
      ]
     },
     "execution_count": 44,
     "metadata": {},
     "output_type": "execute_result"
    }
   ],
   "source": [
    "# Here the second group is not captured \n",
    "# (but it still has to appear in the search string)\n",
    "m = re.search(\"(\\w+),(?:\\w+),(\\w+)\", \"foo,bar,qux\")\n",
    "m.groups()"
   ]
  },
  {
   "cell_type": "markdown",
   "metadata": {},
   "source": [
    "#### Conditional matches\n",
    "A conditional match matches against one of two specified regexes depending on whether the given group exists:\n",
    "- **(?(\\<n\\>)\\<yes-regex\\>|\\<no-regex\\>)**: Matches against **\\<yes-regex\\> if the group numbered \\<n\\> exists**. **Otherwise**, it matches against **\\<no-regex\\>**.\n",
    "- **(?(\\<name\\>)\\<yes-regex\\>|\\<no-regex\\>)**: Same as above except the group is referred by its *name* instead of its number."
   ]
  },
  {
   "cell_type": "code",
   "execution_count": 56,
   "metadata": {},
   "outputs": [
    {
     "data": {
      "text/plain": [
       "<re.Match object; span=(0, 9), match='###foobar'>"
      ]
     },
     "execution_count": 56,
     "metadata": {},
     "output_type": "execute_result"
    }
   ],
   "source": [
    "# Matches '###foobar' 'cause the '###' group exists.\n",
    "re.search(\"^(###)?foo(?(1)bar|baz)\", \"###foobar\")"
   ]
  },
  {
   "cell_type": "code",
   "execution_count": 59,
   "metadata": {},
   "outputs": [],
   "source": [
    "# The '###' doesn't exist, so the regex to match is equal to 'foobaz'.\n",
    "re.search(\"^(###)?foo(?(1)bar|baz)\", \"foobar\")"
   ]
  },
  {
   "cell_type": "code",
   "execution_count": 60,
   "metadata": {},
   "outputs": [
    {
     "data": {
      "text/plain": [
       "<re.Match object; span=(0, 9), match='###foobar'>"
      ]
     },
     "execution_count": 60,
     "metadata": {},
     "output_type": "execute_result"
    }
   ],
   "source": [
    "# Same as above but using a named group 'ch'\n",
    "re.search(\"^(?P<ch>###)?foo(?(ch)bar|baz)\", \"###foobar\")"
   ]
  },
  {
   "cell_type": "markdown",
   "metadata": {},
   "source": [
    "### Lookahead & lookbehind assertions\n",
    "\n",
    "Lookahead and lookbehind assertions determine a match based on what is **just behind (to the left)** or **ahead (to the right)** of the parser's current position in the search string. \n",
    "\n",
    "Lookahead and lookbehind assertions are **zero-width**, meaning they don't consume any of the search string. Also, **they don't capture** what they match. \n",
    "\n",
    "#### Lookahead\n",
    "- **(?=\\<lookahead_regex\\>)**: **Positive lookahead**. Asserts that **what follows** the regex parser's current position **must match *\\<lookahead_regex\\>***. \n",
    "- **(?!\\<lookahead_regex\\>)**: **Negative lookahead**. Asserts that **what follows** the regex parser's current position **must NOT match *\\<lookahead_regex\\>***. "
   ]
  },
  {
   "cell_type": "code",
   "execution_count": 66,
   "metadata": {},
   "outputs": [
    {
     "data": {
      "text/plain": [
       "<re.Match object; span=(0, 3), match='foo'>"
      ]
     },
     "execution_count": 66,
     "metadata": {},
     "output_type": "execute_result"
    }
   ],
   "source": [
    "# Matches 'foo' if it's followed by a lowercase alphabetic character\n",
    "# Note here that the 'b' that follows 'foo' is not a part of the match\n",
    "# either it's captured.\n",
    "re.search(\"foo(?=[a-z])\", \"foobar\")"
   ]
  },
  {
   "cell_type": "code",
   "execution_count": 63,
   "metadata": {},
   "outputs": [],
   "source": [
    "re.search(\"foo(?=[a-z])\", \"foo123\")"
   ]
  },
  {
   "cell_type": "code",
   "execution_count": 62,
   "metadata": {},
   "outputs": [],
   "source": [
    "# Matches 'foo' if it is not followed by a lowercase alphabetic character\n",
    "re.search(\"foo(?![a-z])\", \"foobar\")"
   ]
  },
  {
   "cell_type": "code",
   "execution_count": 64,
   "metadata": {},
   "outputs": [
    {
     "data": {
      "text/plain": [
       "<re.Match object; span=(0, 3), match='foo'>"
      ]
     },
     "execution_count": 64,
     "metadata": {},
     "output_type": "execute_result"
    }
   ],
   "source": [
    "re.search(\"foo(?![a-z])\", \"foo123\")"
   ]
  },
  {
   "cell_type": "markdown",
   "metadata": {},
   "source": [
    "#### Lookbehind\n",
    "\n",
    "- **(?\\<=\\<lookbehind_regex\\>)**: **Positive lookbehind**. Asserts that **what precedes** the regex parser's current position **must match *\\<lookbehind_regex\\>***. \n",
    "- **(?\\<!\\<lookbehind_regex\\>)**: **Negative lookbehind**. Asserts that **what precedes** the regex parser's current position **must NOT match *\\<lookbehind_regex\\>***. "
   ]
  },
  {
   "cell_type": "code",
   "execution_count": 67,
   "metadata": {},
   "outputs": [
    {
     "data": {
      "text/plain": [
       "<re.Match object; span=(3, 6), match='bar'>"
      ]
     },
     "execution_count": 67,
     "metadata": {},
     "output_type": "execute_result"
    }
   ],
   "source": [
    "# Matches 'bar' if it's preceded by 'foo'\n",
    "re.search(\"(?<=foo)bar\", \"foobar\")"
   ]
  },
  {
   "cell_type": "code",
   "execution_count": 68,
   "metadata": {},
   "outputs": [],
   "source": [
    "re.search(\"(?<=foo)bar\", \"quxbar\")"
   ]
  },
  {
   "cell_type": "code",
   "execution_count": 69,
   "metadata": {},
   "outputs": [],
   "source": [
    "# Matches 'bar' if it is not preceded by 'foo'\n",
    "re.search(\"(?<!foo)bar\", \"foobar\")"
   ]
  },
  {
   "cell_type": "code",
   "execution_count": 70,
   "metadata": {
    "scrolled": true
   },
   "outputs": [
    {
     "data": {
      "text/plain": [
       "<re.Match object; span=(3, 6), match='bar'>"
      ]
     },
     "execution_count": 70,
     "metadata": {},
     "output_type": "execute_result"
    }
   ],
   "source": [
    "re.search(\"(?<!foo)bar\", \"quxbar\")"
   ]
  },
  {
   "cell_type": "markdown",
   "metadata": {},
   "source": [
    "There’s a restriction on lookbehind assertions that doesn’t apply to lookahead assertions: **The \\<lookbehind_regex\\> in a lookbehind assertion must specify a match of fixed length.** For instance, quantifiers like '\\*', '+' or '?' are not allowed in lookbehind assertions."
   ]
  },
  {
   "cell_type": "markdown",
   "metadata": {},
   "source": [
    "### Miscellaneous metacharacters\n",
    "\n",
    "There are some metacharacters that don't fall into any of the previous categories.\n",
    "\n",
    "#### Writing comments\n",
    "**(?#...)**: Specifies a **comment** inside the regex ('...' must be replaced by the comment)."
   ]
  },
  {
   "cell_type": "code",
   "execution_count": 71,
   "metadata": {},
   "outputs": [
    {
     "data": {
      "text/plain": [
       "<re.Match object; span=(0, 6), match='foobar'>"
      ]
     },
     "execution_count": 71,
     "metadata": {},
     "output_type": "execute_result"
    }
   ],
   "source": [
    "re.search(\"foo(?# This is a comment)bar\", \"foobar\")"
   ]
  },
  {
   "cell_type": "markdown",
   "metadata": {},
   "source": [
    "#### Vertical bar or pipe (|)\n",
    "\n",
    "**|** specifies a set of alternatives to match.\n",
    "\n",
    "A expression like *\\<regex1\\>|\\<regex2\\>|...|\\<regexn\\>* matches **at most one** of the specified regex expressions. "
   ]
  },
  {
   "cell_type": "code",
   "execution_count": 72,
   "metadata": {},
   "outputs": [
    {
     "data": {
      "text/plain": [
       "<re.Match object; span=(0, 3), match='foo'>"
      ]
     },
     "execution_count": 72,
     "metadata": {},
     "output_type": "execute_result"
    }
   ],
   "source": [
    "# Matches 'foo' or 'bar' or 'baz'\n",
    "re.search(\"foo|bar|baz\", \"foo\")"
   ]
  },
  {
   "cell_type": "markdown",
   "metadata": {},
   "source": [
    "This operation is **non-greedy**, meaning the regex parser looks at the expression is **left-to-right** order and return the first match it finds:"
   ]
  },
  {
   "cell_type": "code",
   "execution_count": 74,
   "metadata": {},
   "outputs": [
    {
     "data": {
      "text/plain": [
       "<re.Match object; span=(0, 3), match='foo'>"
      ]
     },
     "execution_count": 74,
     "metadata": {},
     "output_type": "execute_result"
    }
   ],
   "source": [
    "# Matches 'foo' as it's the first match it finds\n",
    "re.search(\"foo|grault\", \"foograult\")"
   ]
  },
  {
   "cell_type": "markdown",
   "metadata": {},
   "source": [
    "## Flags \n",
    "\n",
    "The *search* function as well as others support an optional \\<flags\\> argument. Flags modify regex parsing behavior.\n",
    "\n",
    "### re.I or re.IGNORECASE\n",
    "Makes matching **case insensitive**."
   ]
  },
  {
   "cell_type": "code",
   "execution_count": 75,
   "metadata": {},
   "outputs": [
    {
     "data": {
      "text/plain": [
       "<re.Match object; span=(0, 3), match='aaa'>"
      ]
     },
     "execution_count": 75,
     "metadata": {},
     "output_type": "execute_result"
    }
   ],
   "source": [
    "# Matches one or more 'a' in a case sensitive manner\n",
    "re.search(\"a+\", \"aaaAAA\")"
   ]
  },
  {
   "cell_type": "code",
   "execution_count": 77,
   "metadata": {},
   "outputs": [
    {
     "data": {
      "text/plain": [
       "<re.Match object; span=(0, 6), match='aaaAAA'>"
      ]
     },
     "execution_count": 77,
     "metadata": {},
     "output_type": "execute_result"
    }
   ],
   "source": [
    "# Matches one or more 'a' in a case insensitive manner\n",
    "re.search(\"a+\", \"aaaAAA\", re.IGNORECASE)"
   ]
  },
  {
   "cell_type": "markdown",
   "metadata": {},
   "source": [
    "### re.M or re.MULTILINE\n",
    "Modifies the start-of-string (^) and end-of-string (\\\\$) anchors to **match embedded newlines too**.\n",
    "- ^: matches at the beggining of the string or immediately following a newline. \n",
    "- \\\\$: matches at the end of the string or immediately preceding a newline.\n",
    "\n",
    "MULTILINE **don't have any effect on the \\\\A and \\\\Z anchors.**"
   ]
  },
  {
   "cell_type": "code",
   "execution_count": 78,
   "metadata": {},
   "outputs": [
    {
     "data": {
      "text/plain": [
       "<re.Match object; span=(0, 3), match='foo'>"
      ]
     },
     "execution_count": 78,
     "metadata": {},
     "output_type": "execute_result"
    }
   ],
   "source": [
    "# Matches 'foo' only if it's at the beggining of the string\n",
    "re.search(\"^foo\", \"foobar\")"
   ]
  },
  {
   "cell_type": "code",
   "execution_count": 79,
   "metadata": {},
   "outputs": [],
   "source": [
    "re.search(\"^foo\", \"\\nfoo\\bar\")"
   ]
  },
  {
   "cell_type": "code",
   "execution_count": 80,
   "metadata": {},
   "outputs": [
    {
     "data": {
      "text/plain": [
       "<re.Match object; span=(1, 4), match='foo'>"
      ]
     },
     "execution_count": 80,
     "metadata": {},
     "output_type": "execute_result"
    }
   ],
   "source": [
    "# Matches 'foo' only if it's at the beggining of the string \n",
    "# or preceded by a newline\n",
    "re.search(\"^foo\", \"\\nfoo\\bar\", re.MULTILINE)"
   ]
  },
  {
   "cell_type": "markdown",
   "metadata": {},
   "source": [
    "### re.S or re.DOTALL\n",
    "Causes the dot (.) metacharacter to match a newline too."
   ]
  },
  {
   "cell_type": "code",
   "execution_count": 81,
   "metadata": {},
   "outputs": [],
   "source": [
    "# Without the DOTALL flag\n",
    "re.search(\"foo.bar\", \"foo\\nbar\")"
   ]
  },
  {
   "cell_type": "code",
   "execution_count": 82,
   "metadata": {},
   "outputs": [
    {
     "data": {
      "text/plain": [
       "<re.Match object; span=(0, 7), match='foo\\nbar'>"
      ]
     },
     "execution_count": 82,
     "metadata": {},
     "output_type": "execute_result"
    }
   ],
   "source": [
    "# With the DOTALL flag\n",
    "re.search(\"foo.bar\", \"foo\\nbar\", re.DOTALL)"
   ]
  },
  {
   "cell_type": "markdown",
   "metadata": {},
   "source": [
    "### re.X or re.VERBOSE\n",
    "Allows inclusion of **whitespaces** and **comments** within a regex. \n",
    "\n",
    "Using VERBOSE:\n",
    "- The regex parser **ignores all whitespaces** unless they're inside a character class or escaped with a backslash (\\\\).\n",
    "- The regex parser **ignores the '#' character and all characters to the right of it** except it's contained in a character class or espaces with a backslash (\\\\).\n",
    "\n",
    "The purpose of VERBOSE is to make regex expressions more readables."
   ]
  },
  {
   "cell_type": "code",
   "execution_count": 83,
   "metadata": {},
   "outputs": [
    {
     "data": {
      "text/plain": [
       "<re.Match object; span=(12, 29), match='example@gmail.com'>"
      ]
     },
     "execution_count": 83,
     "metadata": {},
     "output_type": "execute_result"
    }
   ],
   "source": [
    "# Let's try to find gmail and outlooks emails in a text\n",
    "re.search(\"[a-zA-Z0-9]+@(?:gmail|outlook).com\", \"My email is example@gmail.com\")"
   ]
  },
  {
   "cell_type": "code",
   "execution_count": 91,
   "metadata": {},
   "outputs": [
    {
     "data": {
      "text/plain": [
       "<re.Match object; span=(12, 29), match='example@gmail.com'>"
      ]
     },
     "execution_count": 91,
     "metadata": {},
     "output_type": "execute_result"
    }
   ],
   "source": [
    "# Let's use verbose to add comments\n",
    "regex = \"\"\"\n",
    "          [a-zA-Z0-9]+       # username\n",
    "          @                  # @ sign\n",
    "          (?:gmail|outlook)  # supports 'gmail' or 'outlook' emails (could be extended in the future)\n",
    "          .com               # .com extension (could be extended in the future)\n",
    "          \"\"\"\n",
    "re.search(regex, \"My email is example@gmail.com\", re.VERBOSE)"
   ]
  },
  {
   "cell_type": "markdown",
   "metadata": {},
   "source": [
    "Note that **triple quoting** makes it particularly convenient to include embedded newlines, which qualify as ignored whitespace in VERBOSE mode."
   ]
  },
  {
   "cell_type": "markdown",
   "metadata": {},
   "source": [
    "### re.DEBUG\n",
    "Displays debugging information."
   ]
  },
  {
   "cell_type": "code",
   "execution_count": 92,
   "metadata": {},
   "outputs": [
    {
     "name": "stdout",
     "output_type": "stream",
     "text": [
      "LITERAL 102\n",
      "LITERAL 111\n",
      "LITERAL 111\n",
      "ANY None\n",
      "LITERAL 98\n",
      "LITERAL 97\n",
      "LITERAL 114\n",
      "\n",
      " 0. INFO 12 0b1 7 7 (to 13)\n",
      "      prefix_skip 3\n",
      "      prefix [0x66, 0x6f, 0x6f] ('foo')\n",
      "      overlap [0, 0, 0]\n",
      "13: LITERAL 0x66 ('f')\n",
      "15. LITERAL 0x6f ('o')\n",
      "17. LITERAL 0x6f ('o')\n",
      "19. ANY\n",
      "20. LITERAL 0x62 ('b')\n",
      "22. LITERAL 0x61 ('a')\n",
      "24. LITERAL 0x72 ('r')\n",
      "26. SUCCESS\n"
     ]
    },
    {
     "data": {
      "text/plain": [
       "<re.Match object; span=(0, 7), match='foo-bar'>"
      ]
     },
     "execution_count": 92,
     "metadata": {},
     "output_type": "execute_result"
    }
   ],
   "source": [
    "# Interpreting '.' as \"any\"\n",
    "re.search(\"foo.bar\", \"foo-bar\", re.DEBUG)"
   ]
  },
  {
   "cell_type": "code",
   "execution_count": 96,
   "metadata": {},
   "outputs": [
    {
     "name": "stdout",
     "output_type": "stream",
     "text": [
      "LITERAL 120\n",
      "MAX_REPEAT 2 4\n",
      "  IN\n",
      "    LITERAL 49\n",
      "    LITERAL 50\n",
      "    LITERAL 51\n",
      "LITERAL 121\n",
      "\n",
      " 0. INFO 8 0b1 4 6 (to 9)\n",
      "      prefix_skip 1\n",
      "      prefix [0x78] ('x')\n",
      "      overlap [0]\n",
      " 9: LITERAL 0x78 ('x')\n",
      "11. REPEAT_ONE 10 2 4 (to 22)\n",
      "15.   IN 5 (to 21)\n",
      "17.     RANGE 0x31 0x33 ('1'-'3')\n",
      "20.     FAILURE\n",
      "21:   SUCCESS\n",
      "22: LITERAL 0x79 ('y')\n",
      "24. SUCCESS\n"
     ]
    },
    {
     "data": {
      "text/plain": [
       "<re.Match object; span=(0, 5), match='x222y'>"
      ]
     },
     "execution_count": 96,
     "metadata": {},
     "output_type": "execute_result"
    }
   ],
   "source": [
    "# Interpreting {2, 4} as a quantifier\n",
    "re.search(\"x[123]{2,4}y\", \"x222y\", re.DEBUG)"
   ]
  },
  {
   "cell_type": "code",
   "execution_count": 94,
   "metadata": {
    "scrolled": false
   },
   "outputs": [
    {
     "name": "stdout",
     "output_type": "stream",
     "text": [
      "LITERAL 120\n",
      "IN\n",
      "  LITERAL 49\n",
      "  LITERAL 50\n",
      "  LITERAL 51\n",
      "LITERAL 123\n",
      "LITERAL 102\n",
      "LITERAL 111\n",
      "LITERAL 111\n",
      "LITERAL 125\n",
      "LITERAL 121\n",
      "\n",
      " 0. INFO 8 0b1 8 8 (to 9)\n",
      "      prefix_skip 1\n",
      "      prefix [0x78] ('x')\n",
      "      overlap [0]\n",
      " 9: LITERAL 0x78 ('x')\n",
      "11. IN 5 (to 17)\n",
      "13.   RANGE 0x31 0x33 ('1'-'3')\n",
      "16.   FAILURE\n",
      "17: LITERAL 0x7b ('{')\n",
      "19. LITERAL 0x66 ('f')\n",
      "21. LITERAL 0x6f ('o')\n",
      "23. LITERAL 0x6f ('o')\n",
      "25. LITERAL 0x7d ('}')\n",
      "27. LITERAL 0x79 ('y')\n",
      "29. SUCCESS\n"
     ]
    }
   ],
   "source": [
    "# Interpreting '{foo}' as literal \"{\", \"f\", \"o\", \"o\", \"}\"\n",
    "re.search(\"x[123]{foo}y\", \"x222y\", re.DEBUG)"
   ]
  },
  {
   "cell_type": "markdown",
   "metadata": {},
   "source": [
    "### re.A or re.ASCII, re.U or re.UNICODE, re.L or re.LOCALE\n",
    "\n",
    "Specify the character encoding used:\n",
    "- **re.U and re.UNICODE**: specify Unicode encoding (the default).\n",
    "- **re.A and re.ASCII**: force ASCII encoding.\n",
    "- **re.L and re.LOCALE**: make the decision based on the current locale. This is not recommended since locale is an outdated concept.\n",
    "\n",
    "The ASCII and LOCALE flags are available in case you need them for special circumstances. But in general, **the best strategy is to use the default Unicode encoding. This should handle any world language correctly.**"
   ]
  },
  {
   "cell_type": "markdown",
   "metadata": {},
   "source": [
    "## Combining \\<flags\\>\n",
    "\n",
    "You can combine multiple flags using the '|' operator:"
   ]
  },
  {
   "cell_type": "code",
   "execution_count": 97,
   "metadata": {},
   "outputs": [
    {
     "data": {
      "text/plain": [
       "<re.Match object; span=(4, 7), match='BaR'>"
      ]
     },
     "execution_count": 97,
     "metadata": {},
     "output_type": "execute_result"
    }
   ],
   "source": [
    "# Combine IGNORECASE and MULTILINE flags\n",
    "re.search(\"^bar\", \"foo\\nBaR\\nbaz\", re.IGNORECASE|re.MULTILINE)"
   ]
  },
  {
   "cell_type": "markdown",
   "metadata": {},
   "source": [
    "### Specifing flags within a regex\n",
    "You can modify flag values within a regex too.\n",
    "- **(?\\<flags\\>)**: Sets the flag values for the duration of a regex. Should be placed at the begginig of the regex expression.\n",
    "\n",
    "\\<flags\\> must be one of these letters:\n",
    "- a: Equals to re.A or re.ASCII.\n",
    "- i: Equals to re.I or re.IGNORECASE.\n",
    "- L: Equals to re.L or re.LOCALE.\n",
    "- m: Equals to re.M or re.MULTILINE.\n",
    "- s: Equals to re.S or re.DOTALL.\n",
    "- u: Equals to re.U or re.UNICODE.\n",
    "- x: Equals to re.X or re.VERBOSE."
   ]
  },
  {
   "cell_type": "code",
   "execution_count": 98,
   "metadata": {},
   "outputs": [
    {
     "data": {
      "text/plain": [
       "<re.Match object; span=(4, 7), match='bAr'>"
      ]
     },
     "execution_count": 98,
     "metadata": {},
     "output_type": "execute_result"
    }
   ],
   "source": [
    "# Setting IGNORECASE and MULTILINE within a regex\n",
    "re.search(\"(?im)bar\", \"foo\\nbAr\\nqux\")  # same as re.I|re.M"
   ]
  },
  {
   "cell_type": "markdown",
   "metadata": {},
   "source": [
    "- **(?\\<set_flags\\>-\\<remove_flags\\>:\\<regex\\>)**: **Sets or removes flag values** for the duration of a group. It defines a **non-capturing group** that matches against \\<regex\\>. For that group, the parser sets any flags specified in \\<set_flags\\> and clears any flags specified in \\<remove_flags\\>. "
   ]
  },
  {
   "cell_type": "code",
   "execution_count": 104,
   "metadata": {},
   "outputs": [],
   "source": [
    "# Matches 'foo' case insensitive followed by 'bar'\n",
    "m = re.search(\"(?i:foo)bar\", \"fOObar\")"
   ]
  },
  {
   "cell_type": "code",
   "execution_count": 105,
   "metadata": {},
   "outputs": [
    {
     "data": {
      "text/plain": [
       "()"
      ]
     },
     "execution_count": 105,
     "metadata": {},
     "output_type": "execute_result"
    }
   ],
   "source": [
    "# The group 'foo' is not captured.\n",
    "m.groups()"
   ]
  },
  {
   "cell_type": "code",
   "execution_count": 100,
   "metadata": {},
   "outputs": [],
   "source": [
    "re.search(\"(?i:foo)bar\", \"fOObAr\")"
   ]
  },
  {
   "cell_type": "code",
   "execution_count": 101,
   "metadata": {},
   "outputs": [
    {
     "data": {
      "text/plain": [
       "<re.Match object; span=(0, 6), match='fooBaR'>"
      ]
     },
     "execution_count": 101,
     "metadata": {},
     "output_type": "execute_result"
    }
   ],
   "source": [
    "# Turn off the IGNORECASE flag for 'foo'\n",
    "re.search(\"(?-i:foo)bar\", \"fooBaR\", re.IGNORECASE)"
   ]
  },
  {
   "cell_type": "code",
   "execution_count": 102,
   "metadata": {},
   "outputs": [],
   "source": [
    "re.search(\"(?-i:foo)bar\", \"fOOBaR\", re.IGNORECASE)"
   ]
  },
  {
   "cell_type": "markdown",
   "metadata": {},
   "source": [
    "## Re functions\n",
    "\n",
    "The available regex functions fall into these categories:\n",
    "- Searching functions\n",
    "- Substitution functions\n",
    "- Utility functions\n",
    "\n",
    "### Searching functions\n",
    "Scan a search string for matches. \n",
    "\n",
    "- **re.search(\\<regex>, \\<string>, flags=0)**\n",
    "\n",
    "Scans a string for **1** match. \n",
    "\n",
    "- **re.match(\\<regex>, \\<string>, flags=0)**\n",
    "\n",
    "Looks for a regex match **at the beginning of a string.**\n",
    "\n",
    "Some considerations:\n",
    "1. The caret '^' metacharacter is not necessary here. \n",
    "2. The re.MULTILINE flags doesn't affect re.match()."
   ]
  },
  {
   "cell_type": "code",
   "execution_count": 2,
   "metadata": {},
   "outputs": [
    {
     "data": {
      "text/plain": [
       "<re.Match object; span=(0, 3), match='foo'>"
      ]
     },
     "execution_count": 2,
     "metadata": {},
     "output_type": "execute_result"
    }
   ],
   "source": [
    "# Matches only if 'foo' is at the beginning\n",
    "re.match(\"foo\", \"foo\\nbar\\nbaz\")"
   ]
  },
  {
   "cell_type": "code",
   "execution_count": 4,
   "metadata": {},
   "outputs": [],
   "source": [
    "#  Since 'bar' is not at the beginning, it doesn't match\n",
    "re.match(\"bar\", \"foo\\nbar\\nbaz\")"
   ]
  },
  {
   "cell_type": "code",
   "execution_count": 5,
   "metadata": {},
   "outputs": [],
   "source": [
    "# Multiline mode doesn't affect here\n",
    "re.match(\"bar\", \"foo\\nbar\\nbaz\", re.MULTILINE)"
   ]
  },
  {
   "cell_type": "markdown",
   "metadata": {},
   "source": [
    "- **re.fullmatch(\\<regex>, \\<string>, flags=0)**\n",
    "\n",
    "Looks for a regex match on an entire string.\n",
    "\n",
    "This is equivalent to use *re.search* and anchor the regex with a '^' and a '$'."
   ]
  },
  {
   "cell_type": "code",
   "execution_count": 6,
   "metadata": {},
   "outputs": [
    {
     "data": {
      "text/plain": [
       "<re.Match object; span=(0, 9), match='123456789'>"
      ]
     },
     "execution_count": 6,
     "metadata": {},
     "output_type": "execute_result"
    }
   ],
   "source": [
    "# Matches the entire string\n",
    "re.fullmatch(\"\\d+\", \"123456789\")"
   ]
  },
  {
   "cell_type": "code",
   "execution_count": 7,
   "metadata": {},
   "outputs": [],
   "source": [
    "# It doesn't match since the string is not entirely digits\n",
    "re.fullmatch(\"\\d+\", \"123456789abcdef\")"
   ]
  },
  {
   "cell_type": "markdown",
   "metadata": {},
   "source": [
    "- **re.findall(\\<regex>, \\<string>, flags=0)**\n",
    "\n",
    "Returns a **list** of all matches of a regex in a string, from left to right."
   ]
  },
  {
   "cell_type": "code",
   "execution_count": 3,
   "metadata": {},
   "outputs": [
    {
     "data": {
      "text/plain": [
       "['foo', 'bar', 'baz']"
      ]
     },
     "execution_count": 3,
     "metadata": {},
     "output_type": "execute_result"
    }
   ],
   "source": [
    "re.findall(\"\\w+\", \",,foo,,bar:baz\")"
   ]
  },
  {
   "cell_type": "markdown",
   "metadata": {},
   "source": [
    "If the \\<regex\\> contains a **capturing group**, the return list contains **only contents of the group**. If \\<regex\\> contains more than one capturing group, it returns **a list of tuples** with each captured group."
   ]
  },
  {
   "cell_type": "code",
   "execution_count": 5,
   "metadata": {},
   "outputs": [
    {
     "data": {
      "text/plain": [
       "['foo', 'bar', 'baz']"
      ]
     },
     "execution_count": 5,
     "metadata": {},
     "output_type": "execute_result"
    }
   ],
   "source": [
    "# Returns the contents of the capturing group\n",
    "re.findall(\"#(\\w+)#\", \"#foo##bar##baz#\")"
   ]
  },
  {
   "cell_type": "code",
   "execution_count": 7,
   "metadata": {},
   "outputs": [
    {
     "data": {
      "text/plain": [
       "[('foo', 'bar', 'baz'), ('a', 'b', 'c')]"
      ]
     },
     "execution_count": 7,
     "metadata": {},
     "output_type": "execute_result"
    }
   ],
   "source": [
    "# Returns a list of tuples with the contents of each captured groups\n",
    "# The length of the tuple is the same as the number of capturing groups\n",
    "re.findall(\"(\\w+),(\\w+),(\\w+)\", \"foo,bar,baz,a,b,c\")"
   ]
  },
  {
   "cell_type": "markdown",
   "metadata": {},
   "source": [
    "- **re.finditer(\\<regex>, \\<string>, flags=0)**\n",
    "\n",
    "Returns an **iterator** that yields the found regex **matches**, from left to right.\n",
    "\n",
    "It's similar to *re.findall()* but:\n",
    "1. *re.finditer()* returns an iterator.\n",
    "2. Each items if a **match object**, not a str as with *re.findall()*."
   ]
  },
  {
   "cell_type": "code",
   "execution_count": 13,
   "metadata": {},
   "outputs": [
    {
     "name": "stdout",
     "output_type": "stream",
     "text": [
      "<re.Match object; span=(1, 2), match='1'>\n",
      "<re.Match object; span=(3, 4), match='2'>\n",
      "<re.Match object; span=(5, 6), match='3'>\n"
     ]
    },
    {
     "ename": "StopIteration",
     "evalue": "",
     "output_type": "error",
     "traceback": [
      "\u001b[1;31m---------------------------------------------------------------------------\u001b[0m",
      "\u001b[1;31mStopIteration\u001b[0m                             Traceback (most recent call last)",
      "\u001b[1;32m<ipython-input-13-0078fdad4f92>\u001b[0m in \u001b[0;36m<module>\u001b[1;34m\u001b[0m\n\u001b[0;32m      5\u001b[0m \u001b[0mprint\u001b[0m\u001b[1;33m(\u001b[0m\u001b[0mnext\u001b[0m\u001b[1;33m(\u001b[0m\u001b[0mit\u001b[0m\u001b[1;33m)\u001b[0m\u001b[1;33m)\u001b[0m\u001b[1;33m\u001b[0m\u001b[1;33m\u001b[0m\u001b[0m\n\u001b[0;32m      6\u001b[0m \u001b[0mprint\u001b[0m\u001b[1;33m(\u001b[0m\u001b[0mnext\u001b[0m\u001b[1;33m(\u001b[0m\u001b[0mit\u001b[0m\u001b[1;33m)\u001b[0m\u001b[1;33m)\u001b[0m\u001b[1;33m\u001b[0m\u001b[1;33m\u001b[0m\u001b[0m\n\u001b[1;32m----> 7\u001b[1;33m \u001b[0mprint\u001b[0m\u001b[1;33m(\u001b[0m\u001b[0mnext\u001b[0m\u001b[1;33m(\u001b[0m\u001b[0mit\u001b[0m\u001b[1;33m)\u001b[0m\u001b[1;33m)\u001b[0m  \u001b[1;31m# raises an Stop Iteration\u001b[0m\u001b[1;33m\u001b[0m\u001b[1;33m\u001b[0m\u001b[0m\n\u001b[0m",
      "\u001b[1;31mStopIteration\u001b[0m: "
     ]
    }
   ],
   "source": [
    "it = re.finditer(\"[0-9]\", \"a1b2c3\")\n",
    "\n",
    "# You can access the results with 'next()'\n",
    "print(next(it))\n",
    "print(next(it))\n",
    "print(next(it))\n",
    "print(next(it))  # raises an Stop Iteration"
   ]
  },
  {
   "cell_type": "code",
   "execution_count": 14,
   "metadata": {},
   "outputs": [
    {
     "name": "stdout",
     "output_type": "stream",
     "text": [
      "<re.Match object; span=(1, 2), match='1'>\n",
      "<re.Match object; span=(3, 4), match='2'>\n",
      "<re.Match object; span=(5, 6), match='3'>\n"
     ]
    }
   ],
   "source": [
    "# You can also loop over the matches\n",
    "it = re.finditer(\"[0-9]\", \"a1b2c3\")\n",
    "\n",
    "for match in it:\n",
    "    print(match)"
   ]
  },
  {
   "cell_type": "markdown",
   "metadata": {},
   "source": [
    "### Substitution functions\n",
    "\n",
    "Replaces portions of a search string that match a specified regex.\n",
    "\n",
    "- **re.sub(\\<regex>, \\<repl>, \\<string>, count=0, flags=0)**\n",
    "\n",
    "Returns **a new string** that results from performing replacement on a search string. **The original string remains unchanged**.\n",
    "\n",
    "The argument \\<repl> can be:\n",
    "- **A string**\n",
    "- **A function**\n",
    "\n",
    "#### Substitution by string\n"
   ]
  },
  {
   "cell_type": "code",
   "execution_count": 4,
   "metadata": {},
   "outputs": [
    {
     "data": {
      "text/plain": [
       "'foo###bar###'"
      ]
     },
     "execution_count": 4,
     "metadata": {},
     "output_type": "execute_result"
    }
   ],
   "source": [
    "# Replaces any digit with a '#'\n",
    "re.sub(\"\\d\", \"#\", \"foo123bar456\")"
   ]
  },
  {
   "cell_type": "markdown",
   "metadata": {},
   "source": [
    "If there are captured groups on the \\<regex\\> expression, you can **backreference them in \\<repl>** with the **number** (using the **\\\\\\<n>** or **\\\\g\\<n>** notation) or the **name** (using the **\\\\g\\<name>** notation) of the group."
   ]
  },
  {
   "cell_type": "code",
   "execution_count": 17,
   "metadata": {},
   "outputs": [
    {
     "data": {
      "text/plain": [
       "'qux,bar,baz,foo'"
      ]
     },
     "execution_count": 17,
     "metadata": {},
     "output_type": "execute_result"
    }
   ],
   "source": [
    "# Captures the first and the last words separated by a comma\n",
    "# and changes their order\n",
    "re.sub(\"(\\w+),bar,baz,(\\w+)\", r\"\\2,bar,baz,\\1\", \"foo,bar,baz,qux\")"
   ]
  },
  {
   "cell_type": "code",
   "execution_count": 18,
   "metadata": {},
   "outputs": [
    {
     "data": {
      "text/plain": [
       "'qux,bar,baz,foo'"
      ]
     },
     "execution_count": 18,
     "metadata": {},
     "output_type": "execute_result"
    }
   ],
   "source": [
    "# Same as above but using group naming\n",
    "re.sub(\"(?P<w1>\\w+),bar,baz,(?P<w2>\\w+)\", r\"\\g<w2>,bar,baz,\\g<w1>\", \"foo,bar,baz,qux\")"
   ]
  },
  {
   "cell_type": "code",
   "execution_count": 20,
   "metadata": {},
   "outputs": [
    {
     "data": {
      "text/plain": [
       "'qux,bar,baz,foo'"
      ]
     },
     "execution_count": 20,
     "metadata": {},
     "output_type": "execute_result"
    }
   ],
   "source": [
    "# '\\g<name> can be used with numered groups as well.\n",
    "# This can be used to avoid ambiguity when a numbered backrefence is\n",
    "# followed by a literal digit.\n",
    "re.sub(\"(\\w+),bar,baz,(\\w+)\", r\"\\g<2>,bar,baz,\\g<1>\", \"foo,bar,baz,qux\")"
   ]
  },
  {
   "cell_type": "markdown",
   "metadata": {},
   "source": [
    "As with groups, **\\\\g<0> refers to the text of the entire match**, even when there are no groups in the \\<regex>."
   ]
  },
  {
   "cell_type": "code",
   "execution_count": 21,
   "metadata": {},
   "outputs": [
    {
     "data": {
      "text/plain": [
       "'foo#123#bar'"
      ]
     },
     "execution_count": 21,
     "metadata": {},
     "output_type": "execute_result"
    }
   ],
   "source": [
    "re.sub(\"\\d+\", \"#\\g<0>#\", \"foo123bar\")"
   ]
  },
  {
   "cell_type": "markdown",
   "metadata": {},
   "source": [
    "If \\<regex> specifies a **zero-length match**, the \\<repl> will be replaced in every character position."
   ]
  },
  {
   "cell_type": "code",
   "execution_count": 22,
   "metadata": {},
   "outputs": [
    {
     "data": {
      "text/plain": [
       "'-f-o-o-'"
      ]
     },
     "execution_count": 22,
     "metadata": {},
     "output_type": "execute_result"
    }
   ],
   "source": [
    "re.sub(\"x?\", \"-\", \"foo\")"
   ]
  },
  {
   "cell_type": "markdown",
   "metadata": {},
   "source": [
    "The argument **count** is used to specify **how many replacements** you want to perform. "
   ]
  },
  {
   "cell_type": "code",
   "execution_count": 5,
   "metadata": {},
   "outputs": [
    {
     "data": {
      "text/plain": [
       "'foo###bar456'"
      ]
     },
     "execution_count": 5,
     "metadata": {},
     "output_type": "execute_result"
    }
   ],
   "source": [
    "# Replaces any digit with a '#' \n",
    "# with a max of 3 replacements\n",
    "re.sub(\"\\d\", \"#\", \"foo123bar456\", count=3)"
   ]
  },
  {
   "cell_type": "markdown",
   "metadata": {},
   "source": [
    "#### Substitution by function\n",
    "\n",
    "The function specified as \\<repl> is called for each match found and the return value becomes the replacement."
   ]
  },
  {
   "cell_type": "code",
   "execution_count": 2,
   "metadata": {},
   "outputs": [
    {
     "data": {
      "text/plain": [
       "'FOO123BAR'"
      ]
     },
     "execution_count": 2,
     "metadata": {},
     "output_type": "execute_result"
    }
   ],
   "source": [
    "# Define some function\n",
    "def f(match):\n",
    "    s = match.group(0)\n",
    "    return s.upper()\n",
    "\n",
    "# And use it in an regex\n",
    "re.sub(\"\\w+\", f, \"foo123bar\")"
   ]
  },
  {
   "cell_type": "code",
   "execution_count": 3,
   "metadata": {},
   "outputs": [
    {
     "data": {
      "text/plain": [
       "'FOO123BAR'"
      ]
     },
     "execution_count": 3,
     "metadata": {},
     "output_type": "execute_result"
    }
   ],
   "source": [
    "# With lambdas\n",
    "re.sub(\"\\w+\", lambda x: x.group().upper(), \"foo123bar\")"
   ]
  },
  {
   "cell_type": "markdown",
   "metadata": {},
   "source": [
    "- **re.subn(\\<regex>, \\<repl>, \\<string>, count=0, flags=0)**\n",
    "\n",
    "Returns a **tuple** with the **new string** that results from performing the replacements on a search string and with **the number of substitutions made.**"
   ]
  },
  {
   "cell_type": "code",
   "execution_count": 6,
   "metadata": {
    "scrolled": true
   },
   "outputs": [
    {
     "data": {
      "text/plain": [
       "('foo###bar###', 6)"
      ]
     },
     "execution_count": 6,
     "metadata": {},
     "output_type": "execute_result"
    }
   ],
   "source": [
    "# Performs 6 substitutions on digits\n",
    "re.subn(\"\\d\", \"#\", \"foo123bar456\")"
   ]
  },
  {
   "cell_type": "markdown",
   "metadata": {},
   "source": [
    "### Utility functions\n",
    "\n",
    "There are two more utility functions in regex.\n",
    "\n",
    "- **re.split(\\<regex>, \\<string>, maxsplit=0, flags=0)**\n",
    "\n",
    "Splits a string into a **list** of substrings **using \\<regex> as the delimiter.**"
   ]
  },
  {
   "cell_type": "code",
   "execution_count": 7,
   "metadata": {},
   "outputs": [
    {
     "data": {
      "text/plain": [
       "['foo', 'bar', 'qux', 'foo']"
      ]
     },
     "execution_count": 7,
     "metadata": {},
     "output_type": "execute_result"
    }
   ],
   "source": [
    "# Splits words by ',', ';' or '/'\n",
    "re.split(\"[,;/]\", \"foo,bar;qux/foo\")"
   ]
  },
  {
   "cell_type": "markdown",
   "metadata": {},
   "source": [
    "If \\<regex> contains **capturing groups**, then the return list **includes the matching delimiters** as well:"
   ]
  },
  {
   "cell_type": "code",
   "execution_count": 8,
   "metadata": {},
   "outputs": [
    {
     "data": {
      "text/plain": [
       "['foo', ',', 'bar', ';', 'qux', '/', 'foo']"
      ]
     },
     "execution_count": 8,
     "metadata": {},
     "output_type": "execute_result"
    }
   ],
   "source": [
    "re.split(\"([,;/])\", \"foo,bar;qux/foo\")"
   ]
  },
  {
   "cell_type": "markdown",
   "metadata": {},
   "source": [
    "If you need groups but you don't want the delimiters to be return, you can use **noncapturing groups**:"
   ]
  },
  {
   "cell_type": "code",
   "execution_count": 9,
   "metadata": {},
   "outputs": [
    {
     "data": {
      "text/plain": [
       "['foo', 'bar', 'qux', 'foo']"
      ]
     },
     "execution_count": 9,
     "metadata": {},
     "output_type": "execute_result"
    }
   ],
   "source": [
    "re.split(\"(?:[,;/])\", \"foo,bar;qux/foo\")"
   ]
  },
  {
   "cell_type": "markdown",
   "metadata": {},
   "source": [
    "The **\\<maxsplit>** argument can be used to specify the maximum number of splits to do. The last element is the remainder of string."
   ]
  },
  {
   "cell_type": "code",
   "execution_count": 10,
   "metadata": {},
   "outputs": [
    {
     "data": {
      "text/plain": [
       "['foo', 'bar', 'qux/foo']"
      ]
     },
     "execution_count": 10,
     "metadata": {},
     "output_type": "execute_result"
    }
   ],
   "source": [
    "re.split(\"[,;/]\", \"foo,bar;qux/foo\", maxsplit=2)"
   ]
  },
  {
   "cell_type": "markdown",
   "metadata": {},
   "source": [
    "If \\<regex> matches **the start of the string**, then **an empty string is return as the first element** of the list. The same happens when regex matches **the end of the string.**"
   ]
  },
  {
   "cell_type": "code",
   "execution_count": 13,
   "metadata": {},
   "outputs": [
    {
     "data": {
      "text/plain": [
       "['', 'foo', 'bar', 'qux', 'foo', '']"
      ]
     },
     "execution_count": 13,
     "metadata": {},
     "output_type": "execute_result"
    }
   ],
   "source": [
    "re.split(\"/\", \"/foo/bar/qux/foo/\")"
   ]
  },
  {
   "cell_type": "markdown",
   "metadata": {},
   "source": [
    "- **re.escape(\\<regex>)**\n",
    "\n",
    "Escapes characters in a regex. That means it returns a copy of \\<regex> with each nonword character preced by a backslash (\\\\)."
   ]
  },
  {
   "cell_type": "code",
   "execution_count": 14,
   "metadata": {},
   "outputs": [],
   "source": [
    "# Without escaping metacharacters\n",
    "re.match(\"foo(baz)|qux\", \"foo(baz)|qux\")"
   ]
  },
  {
   "cell_type": "code",
   "execution_count": 15,
   "metadata": {},
   "outputs": [
    {
     "data": {
      "text/plain": [
       "<re.Match object; span=(0, 12), match='foo(baz)|qux'>"
      ]
     },
     "execution_count": 15,
     "metadata": {},
     "output_type": "execute_result"
    }
   ],
   "source": [
    "# Escaping metacharacters manually\n",
    "re.match(\"foo\\(baz\\)\\|qux\", \"foo(baz)|qux\")"
   ]
  },
  {
   "cell_type": "code",
   "execution_count": 17,
   "metadata": {},
   "outputs": [
    {
     "data": {
      "text/plain": [
       "<re.Match object; span=(0, 12), match='foo(baz)|qux'>"
      ]
     },
     "execution_count": 17,
     "metadata": {},
     "output_type": "execute_result"
    }
   ],
   "source": [
    "# Escaping metacharacters using 're.escape'\n",
    "re.match(re.escape(\"foo(baz)|qux\"), \"foo(baz)|qux\")"
   ]
  },
  {
   "cell_type": "markdown",
   "metadata": {},
   "source": [
    "### Compiled Regex \n",
    "\n",
    "You can precompile a regex into a **regular expression object** that can be repeatedly used later.\n",
    "\n",
    "**re.compile(\\<regex>, flags=0)**\n",
    "\n",
    "Compiles a regex into a regular expression object.\n",
    "\n",
    "There are 2 ways of using compiled regex expressions:"
   ]
  },
  {
   "cell_type": "code",
   "execution_count": 18,
   "metadata": {},
   "outputs": [
    {
     "data": {
      "text/plain": [
       "<re.Match object; span=(3, 6), match='123'>"
      ]
     },
     "execution_count": 18,
     "metadata": {},
     "output_type": "execute_result"
    }
   ],
   "source": [
    "# 1. Specify it as argument\n",
    "re_obj = re.compile(\"\\d+\")\n",
    "re.search(re_obj, \"abc123\")"
   ]
  },
  {
   "cell_type": "code",
   "execution_count": 19,
   "metadata": {},
   "outputs": [
    {
     "data": {
      "text/plain": [
       "<re.Match object; span=(3, 6), match='123'>"
      ]
     },
     "execution_count": 19,
     "metadata": {},
     "output_type": "execute_result"
    }
   ],
   "source": [
    "# 2. Invoke the method directly from it\n",
    "re_obj = re.compile(\"\\d+\")\n",
    "re_obj.search(\"abc123\")"
   ]
  },
  {
   "cell_type": "markdown",
   "metadata": {},
   "source": [
    "What are the **advantages** of precompiling regexes?\n",
    "- If you use a particular regex in your code **frequently**. This enhances **modularity** and **maintanibility**.\n",
    "\n",
    "However:\n",
    "- You might expect precompilation to result in faster execution time as well. In practice, though, that isn’t the case because re **caches** a regex and it isn't recompiled if it's used subsequently. \n",
    "\n",
    "#### Functions using a compiled regex\n",
    "You can use the previous functions with a compiled regex (here referred as *re_obj*):\n",
    "\n",
    "- **re_obj.search(\\<string>[,\\<pos>[,\\<endpos>]])**\n",
    "- **re_obj.match(\\<string>[,\\<pos>[,\\<endpos>]])**\n",
    "- **re_obj.fullmatch(\\<string>[,\\<pos>[,\\<endpos>]])**\n",
    "- **re_obj.findall(\\<string>[,\\<pos>[,\\<endpos>]])**\n",
    "- **re_obj.finditer(\\<string>[,\\<pos>[,\\<endpos>]])**\n",
    "- **re_obj.sub(\\<repl>, \\<string>, count=0)**\n",
    "- **re_obj.subn(\\<repl>, \\<string>, count=0)**\n",
    "- **re_obj.split(\\<string>, maxsplit=0)**\n",
    "\n",
    "They behave the same but some of them also support the optional **\\<pos> and \\<endpos> parameters.** If they are present, then **the search only applies to that portion of the string.** They are used as indices in slice notation:"
   ]
  },
  {
   "cell_type": "code",
   "execution_count": 22,
   "metadata": {},
   "outputs": [
    {
     "name": "stdout",
     "output_type": "stream",
     "text": [
      "<re.Match object; span=(4, 5), match='2'>\n",
      "<re.Match object; span=(4, 6), match='23'>\n"
     ]
    }
   ],
   "source": [
    "re_obj = re.compile(\"\\d+\")\n",
    "\n",
    "print(re_obj.search(\"abc123\", pos=4, endpos=5))\n",
    "\n",
    "# If 'endpos' is omitted, the search applies from\n",
    "# 'pos' to the end of the string\n",
    "print(re_obj.search(\"abc123\", pos=4))"
   ]
  },
  {
   "cell_type": "markdown",
   "metadata": {},
   "source": [
    "The **'^'** and the **$** metacharacters still refer to the start and the end of the string.\n",
    "\n",
    "#### Attributes of compiled regex\n",
    "\n",
    "The compiled regex objects have some useful attributes:"
   ]
  },
  {
   "cell_type": "code",
   "execution_count": 31,
   "metadata": {},
   "outputs": [],
   "source": [
    "# Let's define a compiled regex\n",
    "re_obj = re.compile(\"^(?P<zero_to_five>[0-5]+)(?P<six_to_nine>[6-9]+)\", re.MULTILINE)"
   ]
  },
  {
   "cell_type": "code",
   "execution_count": 32,
   "metadata": {},
   "outputs": [
    {
     "data": {
      "text/plain": [
       "40"
      ]
     },
     "execution_count": 32,
     "metadata": {},
     "output_type": "execute_result"
    }
   ],
   "source": [
    "# 1. Accessing the flags\n",
    "re_obj.flags  # means MULTILINE"
   ]
  },
  {
   "cell_type": "code",
   "execution_count": 33,
   "metadata": {},
   "outputs": [
    {
     "data": {
      "text/plain": [
       "'^(?P<zero_to_five>[0-5]+)(?P<six_to_nine>[6-9]+)'"
      ]
     },
     "execution_count": 33,
     "metadata": {},
     "output_type": "execute_result"
    }
   ],
   "source": [
    "# 2. Accessing the regex pattern\n",
    "re_obj.pattern"
   ]
  },
  {
   "cell_type": "code",
   "execution_count": 34,
   "metadata": {},
   "outputs": [
    {
     "data": {
      "text/plain": [
       "2"
      ]
     },
     "execution_count": 34,
     "metadata": {},
     "output_type": "execute_result"
    }
   ],
   "source": [
    "# 3. Accesing the number of capturing groups\n",
    "re_obj.groups"
   ]
  },
  {
   "cell_type": "code",
   "execution_count": 39,
   "metadata": {},
   "outputs": [
    {
     "name": "stdout",
     "output_type": "stream",
     "text": [
      "{'zero_to_five': 1, 'six_to_nine': 2}\n",
      "<class 'mappingproxy'>\n",
      "1\n"
     ]
    }
   ],
   "source": [
    "# 4. Get the mapping of each group name to its corresponding number\n",
    "print(re_obj.groupindex)\n",
    "print(type(re_obj.groupindex))\n",
    "\n",
    "# 'mappingproxy' functions like a dictionary\n",
    "print(re_obj.groupindex[\"zero_to_five\"])"
   ]
  },
  {
   "cell_type": "markdown",
   "metadata": {},
   "source": [
    "### The Match object\n",
    "\n",
    "#### Match object methods\n",
    "\n",
    "There are some methods you can use with a *match* object.\n",
    "\n",
    "- **match.group([\\<group1>,...])**\n",
    "\n",
    "Returns the specified captured groups from a match. If no arguments are provided or the argument is equals to 0, then the entire match is returned."
   ]
  },
  {
   "cell_type": "code",
   "execution_count": 42,
   "metadata": {},
   "outputs": [
    {
     "data": {
      "text/plain": [
       "'foo'"
      ]
     },
     "execution_count": 42,
     "metadata": {},
     "output_type": "execute_result"
    }
   ],
   "source": [
    "# With numbered groups\n",
    "m = re.search(\"(\\w+),(\\w+)\", \"foo,bar\")\n",
    "m.group(1)"
   ]
  },
  {
   "cell_type": "code",
   "execution_count": 43,
   "metadata": {},
   "outputs": [
    {
     "data": {
      "text/plain": [
       "'bar'"
      ]
     },
     "execution_count": 43,
     "metadata": {},
     "output_type": "execute_result"
    }
   ],
   "source": [
    "# With naming groups\n",
    "m = re.search(\"(?P<w1>\\w+),(?P<w2>\\w+)\", \"foo,bar\")\n",
    "m.group(\"w2\")"
   ]
  },
  {
   "cell_type": "markdown",
   "metadata": {},
   "source": [
    "If there's a **nonparticipating group**, *match.group()* returns **'None'**:"
   ]
  },
  {
   "cell_type": "code",
   "execution_count": 45,
   "metadata": {},
   "outputs": [
    {
     "data": {
      "text/plain": [
       "('foo', None)"
      ]
     },
     "execution_count": 45,
     "metadata": {},
     "output_type": "execute_result"
    }
   ],
   "source": [
    "m = re.search(\"(\\w+),(\\w+)?\", \"foo,\")\n",
    "m.group(1, 2)"
   ]
  },
  {
   "cell_type": "markdown",
   "metadata": {},
   "source": [
    "If a group participates **multiple times**, then **only the last match** is return:"
   ]
  },
  {
   "cell_type": "code",
   "execution_count": 48,
   "metadata": {},
   "outputs": [
    {
     "data": {
      "text/plain": [
       "'baz,'"
      ]
     },
     "execution_count": 48,
     "metadata": {},
     "output_type": "execute_result"
    }
   ],
   "source": [
    "m = re.search(\"(\\w{3},)+\", \"foo,bar,baz,\")\n",
    "m.group(1)"
   ]
  },
  {
   "cell_type": "markdown",
   "metadata": {},
   "source": [
    "- **match.__getitem__(\\<grp>)**\n",
    "\n",
    "Returns a captured group from a match.\n",
    "\n",
    "It's a magic method and behaves the same way **as *match.group()***. You can access groups **by indexes** too, which is more **syntactic sugar**."
   ]
  },
  {
   "cell_type": "code",
   "execution_count": 51,
   "metadata": {},
   "outputs": [
    {
     "name": "stdout",
     "output_type": "stream",
     "text": [
      "foo\n",
      "foo\n",
      "foo\n"
     ]
    }
   ],
   "source": [
    "m = re.search(\"(\\w+),(\\w+)\", \"foo,bar\")\n",
    "print(m.group(1))\n",
    "print(m.__getitem__(1))\n",
    "print(m[1])"
   ]
  },
  {
   "cell_type": "markdown",
   "metadata": {},
   "source": [
    "This works **with naming groups too**:"
   ]
  },
  {
   "cell_type": "code",
   "execution_count": 52,
   "metadata": {},
   "outputs": [
    {
     "name": "stdout",
     "output_type": "stream",
     "text": [
      "foo\n",
      "foo\n",
      "foo\n"
     ]
    }
   ],
   "source": [
    "m = re.search(\"(?P<w1>\\w+),(?P<w2>\\w+)\", \"foo,bar\")\n",
    "print(m.group(\"w1\"))\n",
    "print(m.__getitem__(\"w1\"))\n",
    "print(m[\"w1\"])"
   ]
  },
  {
   "cell_type": "markdown",
   "metadata": {},
   "source": [
    "- **match.groups(default=None)**\n",
    "\n",
    "Returns **a tuple** with all captured groups from a match."
   ]
  },
  {
   "cell_type": "code",
   "execution_count": 53,
   "metadata": {},
   "outputs": [
    {
     "data": {
      "text/plain": [
       "('foo', 'bar')"
      ]
     },
     "execution_count": 53,
     "metadata": {},
     "output_type": "execute_result"
    }
   ],
   "source": [
    "m = re.search(\"(\\w+),(\\w+)\", \"foo,bar\")\n",
    "m.groups()"
   ]
  },
  {
   "cell_type": "markdown",
   "metadata": {},
   "source": [
    "Again, it returns **'None'** for **nonparticipating groups**. You can specify a **default value** in this situation using the ***default* argument.**"
   ]
  },
  {
   "cell_type": "code",
   "execution_count": 54,
   "metadata": {},
   "outputs": [
    {
     "name": "stdout",
     "output_type": "stream",
     "text": [
      "('foo', None)\n",
      "('foo', '---')\n"
     ]
    }
   ],
   "source": [
    "m = re.search(\"(\\w+),(\\w+)?\", \"foo,\")\n",
    "print(m.groups())\n",
    "print(m.groups(default=\"---\"))"
   ]
  },
  {
   "cell_type": "markdown",
   "metadata": {},
   "source": [
    "- **match.groupdict(default=None)**\n",
    "\n",
    "Returns a dictionary of named captured groups."
   ]
  },
  {
   "cell_type": "code",
   "execution_count": 55,
   "metadata": {},
   "outputs": [
    {
     "data": {
      "text/plain": [
       "{'w1': 'foo', 'w2': 'bar'}"
      ]
     },
     "execution_count": 55,
     "metadata": {},
     "output_type": "execute_result"
    }
   ],
   "source": [
    "m = re.search(\"(?P<w1>\\w+),(?P<w2>\\w+)\", \"foo,bar\")\n",
    "m.groupdict()"
   ]
  },
  {
   "cell_type": "markdown",
   "metadata": {},
   "source": [
    "The default parameter works like the one seen previously for nonparticipating groups."
   ]
  },
  {
   "cell_type": "markdown",
   "metadata": {},
   "source": [
    "- **match.expand(\\<template>)**\n",
    "\n",
    "Performs backreference substitutions from a match."
   ]
  },
  {
   "cell_type": "code",
   "execution_count": 3,
   "metadata": {},
   "outputs": [
    {
     "data": {
      "text/plain": [
       "'foo////bar'"
      ]
     },
     "execution_count": 3,
     "metadata": {},
     "output_type": "execute_result"
    }
   ],
   "source": [
    "m = re.search(\"(\\w+),(\\w+)\", \"foo,bar\")\n",
    "m.expand(r\"\\1////\\2\")"
   ]
  },
  {
   "cell_type": "markdown",
   "metadata": {},
   "source": [
    "- **match.start([\\<grp>])**\n",
    "- **match.end([\\<grp>])**\n",
    "\n",
    "Return the starting and ending indices of the match."
   ]
  },
  {
   "cell_type": "code",
   "execution_count": 8,
   "metadata": {},
   "outputs": [
    {
     "name": "stdout",
     "output_type": "stream",
     "text": [
      "<re.Match object; span=(3, 10), match='foo,bar'>\n",
      "3\n",
      "10\n",
      "foo,bar\n"
     ]
    }
   ],
   "source": [
    "search_string = \"---foo,bar---\"\n",
    "m = re.search(\"(\\w+),(\\w+)\", search_string)\n",
    "\n",
    "print(m)\n",
    "print(m.start())\n",
    "print(m.end())\n",
    "print(search_string[m.start():m.end()])"
   ]
  },
  {
   "cell_type": "markdown",
   "metadata": {},
   "source": [
    "When used with the optional argument **\\<grp>**, they return the starting and ending indices of **the substring matched by the group**."
   ]
  },
  {
   "cell_type": "code",
   "execution_count": 9,
   "metadata": {},
   "outputs": [
    {
     "name": "stdout",
     "output_type": "stream",
     "text": [
      "<re.Match object; span=(3, 10), match='foo,bar'>\n",
      "3\n",
      "6\n",
      "foo\n"
     ]
    }
   ],
   "source": [
    "search_string = \"---foo,bar---\"\n",
    "m = re.search(\"(\\w+),(\\w+)\", search_string)\n",
    "\n",
    "print(m)\n",
    "print(m.start(1))\n",
    "print(m.end(1))\n",
    "print(search_string[m.start(1):m.end(1)])"
   ]
  },
  {
   "cell_type": "markdown",
   "metadata": {},
   "source": [
    "Works with **naming groups** as well:"
   ]
  },
  {
   "cell_type": "code",
   "execution_count": 10,
   "metadata": {},
   "outputs": [
    {
     "name": "stdout",
     "output_type": "stream",
     "text": [
      "<re.Match object; span=(3, 10), match='foo,bar'>\n",
      "3\n",
      "6\n",
      "foo\n"
     ]
    }
   ],
   "source": [
    "search_string = \"---foo,bar---\"\n",
    "m = re.search(\"(?P<w1>\\w+),(?P<w2>\\w+)\", search_string)\n",
    "\n",
    "print(m)\n",
    "print(m.start(\"w1\"))\n",
    "print(m.end(\"w1\"))\n",
    "print(search_string[m.start(\"w1\"):m.end(\"w1\")])"
   ]
  },
  {
   "cell_type": "markdown",
   "metadata": {},
   "source": [
    "When the specified group matches a **null string**, *.start()* and *.end()* are **equal**."
   ]
  },
  {
   "cell_type": "code",
   "execution_count": 13,
   "metadata": {},
   "outputs": [
    {
     "name": "stdout",
     "output_type": "stream",
     "text": [
      "\n",
      "3\n",
      "3\n"
     ]
    }
   ],
   "source": [
    "m = re.search(\"foo(\\d*)bar\", \"foobar\")\n",
    "print(m.group(1))\n",
    "print(m.start(1))\n",
    "print(m.end(1))"
   ]
  },
  {
   "cell_type": "markdown",
   "metadata": {},
   "source": [
    "When the group **doesn't participate**, they return **-1**."
   ]
  },
  {
   "cell_type": "code",
   "execution_count": 16,
   "metadata": {},
   "outputs": [
    {
     "name": "stdout",
     "output_type": "stream",
     "text": [
      "None\n",
      "-1\n",
      "-1\n"
     ]
    }
   ],
   "source": [
    "m = re.search(\"(\\w+),(\\w+),(\\w+)?\", \"foo,bar,\")\n",
    "\n",
    "print(m.group(3))\n",
    "print(m.start(3))\n",
    "print(m.end(3))"
   ]
  },
  {
   "cell_type": "markdown",
   "metadata": {},
   "source": [
    "- **match.span([\\<grp>])**\n",
    "\n",
    "Return both the starting and ending indices of the match as a **tuple**. It's equivalent to *(m.start([\\<grp>]), m.end([\\<grp>]))*.\n"
   ]
  },
  {
   "cell_type": "code",
   "execution_count": 17,
   "metadata": {},
   "outputs": [
    {
     "name": "stdout",
     "output_type": "stream",
     "text": [
      "<re.Match object; span=(3, 10), match='foo,bar'>\n",
      "(3, 6)\n"
     ]
    }
   ],
   "source": [
    "search_string = \"---foo,bar---\"\n",
    "m = re.search(\"(\\w+),(\\w+)\", search_string)\n",
    "\n",
    "print(m)\n",
    "print(m.span(1))"
   ]
  },
  {
   "cell_type": "markdown",
   "metadata": {},
   "source": [
    "#### Match object attributes\n",
    "\n",
    "A match object also have some useful attributes.\n",
    "\n",
    "- **match.pos**\n",
    "- **match.endpos**\n",
    "\n",
    "Contain the effective values of \\<pos> and \\<endpos> for the search."
   ]
  },
  {
   "cell_type": "code",
   "execution_count": 18,
   "metadata": {},
   "outputs": [
    {
     "name": "stdout",
     "output_type": "stream",
     "text": [
      "<re.Match object; span=(3, 6), match='123'>\n",
      "2\n",
      "7\n"
     ]
    }
   ],
   "source": [
    "re_obj = re.compile(\"\\d+\")\n",
    "m = re_obj.search(\"foo123bar\", pos=2, endpos=7)\n",
    "print(m)\n",
    "\n",
    "print(m.pos)\n",
    "print(m.endpos)"
   ]
  },
  {
   "cell_type": "markdown",
   "metadata": {},
   "source": [
    "If omitted, they contain the start and the end of the string:"
   ]
  },
  {
   "cell_type": "code",
   "execution_count": 20,
   "metadata": {},
   "outputs": [
    {
     "name": "stdout",
     "output_type": "stream",
     "text": [
      "<re.Match object; span=(3, 6), match='123'>\n",
      "0\n",
      "9\n"
     ]
    }
   ],
   "source": [
    "m = re.search(\"\\d+\", \"foo123bar\")\n",
    "print(m)\n",
    "\n",
    "print(m.pos)\n",
    "print(m.endpos)"
   ]
  },
  {
   "cell_type": "markdown",
   "metadata": {},
   "source": [
    " - **match.lastindex**\n",
    " \n",
    " Contains the index of the last captured group. \n",
    " \n",
    "This allows you to determinate **how many groups actually participated** in the match."
   ]
  },
  {
   "cell_type": "code",
   "execution_count": 22,
   "metadata": {},
   "outputs": [
    {
     "data": {
      "text/plain": [
       "3"
      ]
     },
     "execution_count": 22,
     "metadata": {},
     "output_type": "execute_result"
    }
   ],
   "source": [
    "m = re.search(\"(\\w+),(\\w+),(\\w+)\", \"foo,bar,baz\")\n",
    "m.lastindex"
   ]
  },
  {
   "cell_type": "markdown",
   "metadata": {},
   "source": [
    " It isn’t always the case that the last group to match is also the last group encountered syntactically. See: https://docs.python.org/3/library/re.html#re.Match.lastindex"
   ]
  },
  {
   "cell_type": "markdown",
   "metadata": {},
   "source": [
    " - **match.lastgroup**\n",
    " \n",
    " Contains the name of the last captured group. If the last captured group isn't a named group, it returns None. "
   ]
  },
  {
   "cell_type": "code",
   "execution_count": 23,
   "metadata": {},
   "outputs": [
    {
     "data": {
      "text/plain": [
       "'w2'"
      ]
     },
     "execution_count": 23,
     "metadata": {},
     "output_type": "execute_result"
    }
   ],
   "source": [
    "m = re.search(\"(?P<w1>\\w+),(?P<w2>\\w+)\", \"foo,bar\")\n",
    "m.lastgroup"
   ]
  },
  {
   "cell_type": "code",
   "execution_count": 27,
   "metadata": {},
   "outputs": [
    {
     "name": "stdout",
     "output_type": "stream",
     "text": [
      "None\n"
     ]
    }
   ],
   "source": [
    "m = re.search(\"(\\w+),(\\w+)\", \"foo,bar\")\n",
    "print(m.lastgroup)"
   ]
  },
  {
   "cell_type": "markdown",
   "metadata": {},
   "source": [
    " - **match.re**\n",
    "\n",
    "Contains the regular expression object that produced the match. "
   ]
  },
  {
   "cell_type": "code",
   "execution_count": 28,
   "metadata": {},
   "outputs": [
    {
     "data": {
      "text/plain": [
       "re.compile(r'(\\w+),(\\w+),(\\w+)', re.UNICODE)"
      ]
     },
     "execution_count": 28,
     "metadata": {},
     "output_type": "execute_result"
    }
   ],
   "source": [
    "m = re.search(\"(\\w+),(\\w+),(\\w+)\", \"foo,bar,baz\")\n",
    "m.re"
   ]
  },
  {
   "cell_type": "code",
   "execution_count": 29,
   "metadata": {},
   "outputs": [
    {
     "data": {
      "text/plain": [
       "True"
      ]
     },
     "execution_count": 29,
     "metadata": {},
     "output_type": "execute_result"
    }
   ],
   "source": [
    "# It 's the same object as the compiled regex\n",
    "# This is due to the regex cache mencioned above\n",
    "re_obj = re.compile(\"(\\w+),(\\w+),(\\w+)\")\n",
    "m.re is re_obj"
   ]
  },
  {
   "cell_type": "code",
   "execution_count": 31,
   "metadata": {},
   "outputs": [
    {
     "name": "stdout",
     "output_type": "stream",
     "text": [
      "(\\w+),(\\w+),(\\w+)\n",
      "3\n"
     ]
    }
   ],
   "source": [
    "# You can access to the regular expression attributes\n",
    "# as well\n",
    "print(m.re.pattern)\n",
    "print(m.re.groups)"
   ]
  },
  {
   "cell_type": "markdown",
   "metadata": {},
   "source": [
    "- **match.string**\n",
    "\n",
    "Contains the search string for a match."
   ]
  },
  {
   "cell_type": "code",
   "execution_count": 32,
   "metadata": {},
   "outputs": [
    {
     "data": {
      "text/plain": [
       "'foo,bar,baz'"
      ]
     },
     "execution_count": 32,
     "metadata": {},
     "output_type": "execute_result"
    }
   ],
   "source": [
    "m = re.search(\"(\\w+),(\\w+),(\\w+)\", \"foo,bar,baz\")\n",
    "m.string"
   ]
  }
 ],
 "metadata": {
  "kernelspec": {
   "display_name": "Python 3",
   "language": "python",
   "name": "python3"
  },
  "language_info": {
   "codemirror_mode": {
    "name": "ipython",
    "version": 3
   },
   "file_extension": ".py",
   "mimetype": "text/x-python",
   "name": "python",
   "nbconvert_exporter": "python",
   "pygments_lexer": "ipython3",
   "version": "3.8.5"
  }
 },
 "nbformat": 4,
 "nbformat_minor": 4
}
