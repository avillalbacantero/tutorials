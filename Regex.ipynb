{
 "cells": [
  {
   "cell_type": "markdown",
   "metadata": {},
   "source": [
    "# Regex Expressions in Python\n",
    "\n",
    "This notebook contains a cheatsheet for using regex expressions in Python.\n",
    "\n",
    "Source:\n",
    "- https://realpython.com/regex-python/\n",
    "\n",
    "\n",
    "First examples will be based on the search function:\n",
    "\n",
    "*re.search(\\<regex\\>, \\<string\\>)*:\n",
    "Scans a string for a regex match.\n",
    "\n",
    "Let's import regex:"
   ]
  },
  {
   "cell_type": "code",
   "execution_count": 2,
   "metadata": {},
   "outputs": [],
   "source": [
    "import re"
   ]
  },
  {
   "cell_type": "markdown",
   "metadata": {},
   "source": [
    "## Metacharacters\n",
    "\n",
    "Metacharacters are special characters that have a unique meaning to the regex machine engine. They are the following:\n",
    "\n",
    "### The [] metacharacter\n",
    "Specifies a character class. It matches any single character that is in the class."
   ]
  },
  {
   "cell_type": "code",
   "execution_count": 8,
   "metadata": {},
   "outputs": [
    {
     "data": {
      "text/plain": [
       "<re.Match object; span=(3, 6), match='bar'>"
      ]
     },
     "execution_count": 8,
     "metadata": {},
     "output_type": "execute_result"
    }
   ],
   "source": [
    "# Matches any letter that is 'a' or 'r'\n",
    "re.search(\"ba[ar]\", \"foobarqux\")"
   ]
  },
  {
   "cell_type": "code",
   "execution_count": 4,
   "metadata": {},
   "outputs": [
    {
     "data": {
      "text/plain": [
       "<re.Match object; span=(3, 4), match='9'>"
      ]
     },
     "execution_count": 4,
     "metadata": {},
     "output_type": "execute_result"
    }
   ],
   "source": [
    "# Matches any digit that is between 0 and 9 (0123456789)\n",
    "re.search(\"[0-9]\", \"abc90\")"
   ]
  },
  {
   "cell_type": "code",
   "execution_count": 5,
   "metadata": {},
   "outputs": [
    {
     "data": {
      "text/plain": [
       "<re.Match object; span=(1, 2), match='a'>"
      ]
     },
     "execution_count": 5,
     "metadata": {},
     "output_type": "execute_result"
    }
   ],
   "source": [
    "# Matches any minus letter between 'a' and 'z'.\n",
    "re.search(\"[a-z]\", \"9abc\")"
   ]
  },
  {
   "cell_type": "code",
   "execution_count": 7,
   "metadata": {},
   "outputs": [
    {
     "data": {
      "text/plain": [
       "<re.Match object; span=(2, 3), match='A'>"
      ]
     },
     "execution_count": 7,
     "metadata": {},
     "output_type": "execute_result"
    }
   ],
   "source": [
    "# Matches any mayus letter betwen 'A' and 'Z'\n",
    "re.search(\"[A-Z]\", \"9aABC\")"
   ]
  },
  {
   "cell_type": "markdown",
   "metadata": {},
   "source": [
    "### The ^ metacharacter\n",
    "The ^ metacharacter can be used to match any character that **is not** in the set."
   ]
  },
  {
   "cell_type": "code",
   "execution_count": 9,
   "metadata": {},
   "outputs": [
    {
     "data": {
      "text/plain": [
       "<re.Match object; span=(5, 6), match='a'>"
      ]
     },
     "execution_count": 9,
     "metadata": {},
     "output_type": "execute_result"
    }
   ],
   "source": [
    "# Matches any character that is NOT between 0 and 9.\n",
    "re.search(\"[^0-9]\", \"12345abc\")"
   ]
  },
  {
   "cell_type": "markdown",
   "metadata": {},
   "source": [
    "*^* must appear as the first character in the class, otherwise it matches a literal '^'."
   ]
  },
  {
   "cell_type": "code",
   "execution_count": 11,
   "metadata": {},
   "outputs": [
    {
     "data": {
      "text/plain": [
       "<re.Match object; span=(5, 6), match='^'>"
      ]
     },
     "execution_count": 11,
     "metadata": {},
     "output_type": "execute_result"
    }
   ],
   "source": [
    "# Matches any character between 0 and 9 and a literal ^\n",
    "re.search(\"[0-9^]\", \"Hello^^\")"
   ]
  },
  {
   "cell_type": "markdown",
   "metadata": {},
   "source": [
    "### The . metacharacter\n",
    "Matches any single character except newline."
   ]
  },
  {
   "cell_type": "code",
   "execution_count": 13,
   "metadata": {},
   "outputs": [
    {
     "data": {
      "text/plain": [
       "<re.Match object; span=(0, 7), match='fooxbar'>"
      ]
     },
     "execution_count": 13,
     "metadata": {},
     "output_type": "execute_result"
    }
   ],
   "source": [
    "# Matches a sequence of 'foo' + any character except newline + 'bar'\n",
    "re.search(\"foo.bar\", \"fooxbar\")"
   ]
  },
  {
   "cell_type": "markdown",
   "metadata": {},
   "source": [
    "### Shorthands\n",
    "\n",
    "- **\\\\w**: Matches any alphanumeric char. Equals to: **[a-zA-Z0-9_]**.\n",
    "- **\\\\W**: The opposite to \\\\w. Equals to: **[^a-zA-Z0-9_]**."
   ]
  },
  {
   "cell_type": "code",
   "execution_count": 14,
   "metadata": {},
   "outputs": [
    {
     "data": {
      "text/plain": [
       "<re.Match object; span=(3, 4), match='a'>"
      ]
     },
     "execution_count": 14,
     "metadata": {},
     "output_type": "execute_result"
    }
   ],
   "source": [
    "re.search(\"\\w\", \"#(.a0_)\")"
   ]
  },
  {
   "cell_type": "code",
   "execution_count": 15,
   "metadata": {},
   "outputs": [
    {
     "data": {
      "text/plain": [
       "<re.Match object; span=(0, 1), match='#'>"
      ]
     },
     "execution_count": 15,
     "metadata": {},
     "output_type": "execute_result"
    }
   ],
   "source": [
    "re.search(\"\\W\", \"#(.a0_)\")"
   ]
  },
  {
   "cell_type": "markdown",
   "metadata": {},
   "source": [
    "- **\\\\d**: Matches any decimal digit char. Equals to **[0-9]**.\n",
    "- **\\\\D**: The opposite to \\\\d. Equals to **[^0-9]**."
   ]
  },
  {
   "cell_type": "code",
   "execution_count": 16,
   "metadata": {},
   "outputs": [
    {
     "data": {
      "text/plain": [
       "<re.Match object; span=(3, 4), match='0'>"
      ]
     },
     "execution_count": 16,
     "metadata": {},
     "output_type": "execute_result"
    }
   ],
   "source": [
    "re.search(\"\\d\", \"abc012\")"
   ]
  },
  {
   "cell_type": "code",
   "execution_count": 17,
   "metadata": {},
   "outputs": [
    {
     "data": {
      "text/plain": [
       "<re.Match object; span=(0, 1), match='a'>"
      ]
     },
     "execution_count": 17,
     "metadata": {},
     "output_type": "execute_result"
    }
   ],
   "source": [
    "re.search(\"\\\\D\", \"abc012\")"
   ]
  },
  {
   "cell_type": "markdown",
   "metadata": {},
   "source": [
    "- **\\\\s**: Matches any whitespace char. Common whitespaces are: \\\\t\\\\n\\\\r\\\\f and ' ' (the space character).\n",
    "- **\\\\S**: The opposite to \\\\s."
   ]
  },
  {
   "cell_type": "code",
   "execution_count": 20,
   "metadata": {},
   "outputs": [
    {
     "data": {
      "text/plain": [
       "<re.Match object; span=(3, 4), match='\\n'>"
      ]
     },
     "execution_count": 20,
     "metadata": {},
     "output_type": "execute_result"
    }
   ],
   "source": [
    "re.search(\"\\s\", \"foo\\nbar\")"
   ]
  },
  {
   "cell_type": "code",
   "execution_count": 21,
   "metadata": {},
   "outputs": [
    {
     "data": {
      "text/plain": [
       "<re.Match object; span=(0, 1), match='f'>"
      ]
     },
     "execution_count": 21,
     "metadata": {},
     "output_type": "execute_result"
    }
   ],
   "source": [
    "re.search(\"\\S\", \"foo\\nbar\")"
   ]
  },
  {
   "cell_type": "markdown",
   "metadata": {},
   "source": [
    "### Escaping metacharacters using backslash (\\\\)\n",
    "\n",
    "You can **espace characters** if you want to include a metacharacter in your regex but you don't want it to carry its special meaning. \n",
    "\n",
    "- **Backslash (\\\\)**: Removes the special meaning of a metacharacter."
   ]
  },
  {
   "cell_type": "code",
   "execution_count": 23,
   "metadata": {},
   "outputs": [
    {
     "data": {
      "text/plain": [
       "<re.Match object; span=(3, 4), match='['>"
      ]
     },
     "execution_count": 23,
     "metadata": {},
     "output_type": "execute_result"
    }
   ],
   "source": [
    "# Matches a character that is a literal '[' or ']'\n",
    "re.search(\"[\\[\\]]\", \"abc[abc]\")"
   ]
  },
  {
   "cell_type": "code",
   "execution_count": 24,
   "metadata": {},
   "outputs": [
    {
     "data": {
      "text/plain": [
       "<re.Match object; span=(3, 4), match='.'>"
      ]
     },
     "execution_count": 24,
     "metadata": {},
     "output_type": "execute_result"
    }
   ],
   "source": [
    "# Matches a literal dot (.)\n",
    "re.search(\"\\.\", \"foo.bar\")"
   ]
  },
  {
   "cell_type": "markdown",
   "metadata": {},
   "source": [
    "The backslash is itself a special character in regex. To match it, one option is to escape it twice, once due to the Python interpreter and once due to the regex parser:"
   ]
  },
  {
   "cell_type": "code",
   "execution_count": 29,
   "metadata": {},
   "outputs": [
    {
     "data": {
      "text/plain": [
       "<re.Match object; span=(3, 4), match='\\\\'>"
      ]
     },
     "execution_count": 29,
     "metadata": {},
     "output_type": "execute_result"
    }
   ],
   "source": [
    "# Matches a literal '\\'\n",
    "s = r\"abc\\abc\"\n",
    "re.search(\"\\\\\\\\\", s) "
   ]
  },
  {
   "cell_type": "markdown",
   "metadata": {},
   "source": [
    "Another cleaner option is to specify the \\<regex\\> as a raw-string to suppress the escaping at the interpreter level:"
   ]
  },
  {
   "cell_type": "code",
   "execution_count": 31,
   "metadata": {},
   "outputs": [
    {
     "data": {
      "text/plain": [
       "<re.Match object; span=(3, 4), match='\\\\'>"
      ]
     },
     "execution_count": 31,
     "metadata": {},
     "output_type": "execute_result"
    }
   ],
   "source": [
    "re.search(r\"\\\\\", s)"
   ]
  },
  {
   "cell_type": "markdown",
   "metadata": {},
   "source": [
    "**It’s good practice to use a raw string to specify a regex in Python whenever it contains backslashes.**"
   ]
  },
  {
   "cell_type": "markdown",
   "metadata": {},
   "source": [
    "### Anchors\n",
    "\n",
    "An anchor dictates a particular location in the search string where a match must occur. They are zero-width matches, that is, they don't match any actual characters in the search string.\n",
    "\n",
    "- **^** or **\\\\A**: Anchors a match to the **start** of the search string. ^ and \\\\A behave differently in MULTILINE mode."
   ]
  },
  {
   "cell_type": "code",
   "execution_count": 32,
   "metadata": {},
   "outputs": [
    {
     "data": {
      "text/plain": [
       "<re.Match object; span=(0, 3), match='foo'>"
      ]
     },
     "execution_count": 32,
     "metadata": {},
     "output_type": "execute_result"
    }
   ],
   "source": [
    "# Matches 'foo' only if it's present at the beggining of the search string\n",
    "re.search(\"^foo\", \"foobar\")"
   ]
  },
  {
   "cell_type": "code",
   "execution_count": 33,
   "metadata": {},
   "outputs": [],
   "source": [
    "re.search(\"^foo\", \"barfoo\")"
   ]
  },
  {
   "cell_type": "markdown",
   "metadata": {},
   "source": [
    "- **\\\\$** or **\\\\Z**: Anchors a match to the **end** of the search string. \\\\$ also matches if the expression if followed by a **newline character**. \\\\$ and \\\\Z behaves differently in MULTILINE mode."
   ]
  },
  {
   "cell_type": "code",
   "execution_count": 36,
   "metadata": {},
   "outputs": [
    {
     "data": {
      "text/plain": [
       "<re.Match object; span=(3, 6), match='bar'>"
      ]
     },
     "execution_count": 36,
     "metadata": {},
     "output_type": "execute_result"
    }
   ],
   "source": [
    "# Matches 'bar' only if it's present at the end of the search string or followed by a newline\n",
    "re.search(\"bar$\", \"foobar\")"
   ]
  },
  {
   "cell_type": "code",
   "execution_count": 38,
   "metadata": {},
   "outputs": [
    {
     "data": {
      "text/plain": [
       "<re.Match object; span=(3, 6), match='bar'>"
      ]
     },
     "execution_count": 38,
     "metadata": {},
     "output_type": "execute_result"
    }
   ],
   "source": [
    "# Matches 'bar' only if it's present at the end of the search string or followed by a newline\n",
    "re.search(\"bar$\", \"foobar\\n\")"
   ]
  },
  {
   "cell_type": "code",
   "execution_count": 35,
   "metadata": {},
   "outputs": [],
   "source": [
    "re.search(\"bar$\", \"barfoo\")"
   ]
  },
  {
   "cell_type": "markdown",
   "metadata": {},
   "source": [
    "- **\\\\b**: Anchors a match to a word boundary i.e. at the beginning or end of a word. A word consists of a sequence of alphanumeric characters or underscores ([a-zA-Z0-9_]).\n",
    "- **\\\\B**: The opposite of \\\\b."
   ]
  },
  {
   "cell_type": "code",
   "execution_count": 44,
   "metadata": {},
   "outputs": [
    {
     "data": {
      "text/plain": [
       "<re.Match object; span=(4, 7), match='bar'>"
      ]
     },
     "execution_count": 44,
     "metadata": {},
     "output_type": "execute_result"
    }
   ],
   "source": [
    "# Matches 'bar' only if it's at the beggining or at the end of a word.\n",
    "re.search(r\"\\bbar\", \"foo bar qux\")"
   ]
  },
  {
   "cell_type": "code",
   "execution_count": 45,
   "metadata": {},
   "outputs": [],
   "source": [
    "re.search(r\"\\bbar\", \"foobarqux\")"
   ]
  },
  {
   "cell_type": "code",
   "execution_count": 47,
   "metadata": {},
   "outputs": [],
   "source": [
    "# Matches 'bar' only if it is NOT at the beggining nor at the end of a word.\n",
    "re.search(r\"\\Bbar\", \"foo bar qux\")"
   ]
  },
  {
   "cell_type": "code",
   "execution_count": 48,
   "metadata": {},
   "outputs": [
    {
     "data": {
      "text/plain": [
       "<re.Match object; span=(3, 6), match='bar'>"
      ]
     },
     "execution_count": 48,
     "metadata": {},
     "output_type": "execute_result"
    }
   ],
   "source": [
    "re.search(r\"\\Bbar\", \"foobarqux\")"
   ]
  },
  {
   "cell_type": "markdown",
   "metadata": {},
   "source": [
    "### Quantifiers\n",
    "A quantifier metacharacter immediately follows a portion of a \\<regex\\> and indicates how many times that portion must occur for the match to succeed.\n",
    "\n",
    "#### \\* quantifier\n",
    "Matches **zero or more repetitions** of the preceding regex."
   ]
  },
  {
   "cell_type": "code",
   "execution_count": 3,
   "metadata": {},
   "outputs": [
    {
     "data": {
      "text/plain": [
       "<re.Match object; span=(0, 9), match='foo---bar'>"
      ]
     },
     "execution_count": 3,
     "metadata": {},
     "output_type": "execute_result"
    }
   ],
   "source": [
    "# Matches 'foo' followed by zero or more '-' and followed by 'bar'\n",
    "re.search(\"foo-*bar\", \"foo---bar\")"
   ]
  },
  {
   "cell_type": "code",
   "execution_count": 6,
   "metadata": {},
   "outputs": [
    {
     "data": {
      "text/plain": [
       "<re.Match object; span=(0, 6), match='foobar'>"
      ]
     },
     "execution_count": 6,
     "metadata": {},
     "output_type": "execute_result"
    }
   ],
   "source": [
    "re.search(\"foo-*bar\", \"foobar\")"
   ]
  },
  {
   "cell_type": "markdown",
   "metadata": {},
   "source": [
    "#### + quantifier\n",
    "Matches **one or more repetitions** of the preceding regex."
   ]
  },
  {
   "cell_type": "code",
   "execution_count": 7,
   "metadata": {},
   "outputs": [
    {
     "data": {
      "text/plain": [
       "<re.Match object; span=(0, 9), match='foo---bar'>"
      ]
     },
     "execution_count": 7,
     "metadata": {},
     "output_type": "execute_result"
    }
   ],
   "source": [
    "# Matches 'foo' followed by one or more '-' and followed by 'bar'\n",
    "re.search(\"foo-+bar\", \"foo---bar\")"
   ]
  },
  {
   "cell_type": "code",
   "execution_count": 8,
   "metadata": {},
   "outputs": [],
   "source": [
    "re.search(\"foo-+bar\", \"foobar\")"
   ]
  },
  {
   "cell_type": "markdown",
   "metadata": {},
   "source": [
    "#### ? quantifier\n",
    "Matches **zero or one repetitions** of the preceding regex."
   ]
  },
  {
   "cell_type": "code",
   "execution_count": 9,
   "metadata": {},
   "outputs": [
    {
     "data": {
      "text/plain": [
       "<re.Match object; span=(0, 7), match='foo-bar'>"
      ]
     },
     "execution_count": 9,
     "metadata": {},
     "output_type": "execute_result"
    }
   ],
   "source": [
    "# Matches 'foo' followed by an optional '-' and followed by 'bar'\n",
    "re.search(\"foo-?bar\", \"foo-bar\")"
   ]
  },
  {
   "cell_type": "code",
   "execution_count": 10,
   "metadata": {},
   "outputs": [],
   "source": [
    "re.search(\"foo-?bar\", \"foo---bar\")"
   ]
  },
  {
   "cell_type": "code",
   "execution_count": 11,
   "metadata": {},
   "outputs": [
    {
     "data": {
      "text/plain": [
       "<re.Match object; span=(0, 6), match='foobar'>"
      ]
     },
     "execution_count": 11,
     "metadata": {},
     "output_type": "execute_result"
    }
   ],
   "source": [
    "re.search(\"foo-?bar\", \"foobar\")"
   ]
  },
  {
   "cell_type": "markdown",
   "metadata": {},
   "source": [
    "#### Non-greendy quantifiers\n",
    "The quantifier metacharacters \\*, + and ? are all **greedy**, meaning they produce the **longest** possible match. If you want the **shortest** possible match instead, then use the **non-greedy** version of them:\n",
    "- \\*?: Non-greedy version of the metacharacter '*'.\n",
    "- +?: Non-greedy version of the metacharacter '+'.\n",
    "- ??: Non-greedy version of the metacharacter '?'."
   ]
  },
  {
   "cell_type": "code",
   "execution_count": 13,
   "metadata": {},
   "outputs": [
    {
     "data": {
      "text/plain": [
       "<re.Match object; span=(0, 15), match='<foo><bar><qux>'>"
      ]
     },
     "execution_count": 13,
     "metadata": {},
     "output_type": "execute_result"
    }
   ],
   "source": [
    "# Non-greedy match\n",
    "re.search(\"<.*>\", \"<foo><bar><qux>\")"
   ]
  },
  {
   "cell_type": "code",
   "execution_count": 15,
   "metadata": {},
   "outputs": [
    {
     "data": {
      "text/plain": [
       "<re.Match object; span=(0, 5), match='<foo>'>"
      ]
     },
     "execution_count": 15,
     "metadata": {},
     "output_type": "execute_result"
    }
   ],
   "source": [
    "# Greedy match\n",
    "re.search(\"<.*?>\", \"<foo><bar><qux>\")"
   ]
  },
  {
   "cell_type": "markdown",
   "metadata": {},
   "source": [
    "#### {m} quatifier\n",
    "Matches exactly ***m* repetititons** of the preceding regex."
   ]
  },
  {
   "cell_type": "code",
   "execution_count": 16,
   "metadata": {},
   "outputs": [
    {
     "data": {
      "text/plain": [
       "<re.Match object; span=(0, 9), match='foo---bar'>"
      ]
     },
     "execution_count": 16,
     "metadata": {},
     "output_type": "execute_result"
    }
   ],
   "source": [
    "# Matches 'foo' followed by 3 '-' and followed by 'bar'\n",
    "re.search(\"foo-{3}bar\", \"foo---bar\")"
   ]
  },
  {
   "cell_type": "code",
   "execution_count": 17,
   "metadata": {},
   "outputs": [],
   "source": [
    "re.search(\"foo-{3}bar\", \"foo--bar\")"
   ]
  },
  {
   "cell_type": "markdown",
   "metadata": {},
   "source": [
    "#### {m,n} quantifier\n",
    "Matches any number of repetitions of the preceding regex **from *m* to *n***, inclusive."
   ]
  },
  {
   "cell_type": "code",
   "execution_count": 18,
   "metadata": {},
   "outputs": [
    {
     "data": {
      "text/plain": [
       "<re.Match object; span=(0, 9), match='foo---bar'>"
      ]
     },
     "execution_count": 18,
     "metadata": {},
     "output_type": "execute_result"
    }
   ],
   "source": [
    "# Matches 'foo' followed by 1, 2 or 3 '-' and followed by 'bar'\n",
    "re.search(\"foo-{1,3}bar\", \"foo---bar\")"
   ]
  },
  {
   "cell_type": "code",
   "execution_count": 19,
   "metadata": {},
   "outputs": [
    {
     "data": {
      "text/plain": [
       "<re.Match object; span=(0, 8), match='foo--bar'>"
      ]
     },
     "execution_count": 19,
     "metadata": {},
     "output_type": "execute_result"
    }
   ],
   "source": [
    "re.search(\"foo-{1,3}bar\", \"foo--bar\")"
   ]
  },
  {
   "cell_type": "code",
   "execution_count": 21,
   "metadata": {},
   "outputs": [],
   "source": [
    "re.search(\"foo-{1,3}bar\", \"foo-----bar\")"
   ]
  },
  {
   "cell_type": "markdown",
   "metadata": {},
   "source": [
    "- Omitting *m* implies m=0.\n",
    "- Omitting *n* implies n=0.\n",
    "\n",
    "For instance, to preserve its special meaning a sequence with curly braces ({}) must fit one of the following patterns: {m}, {m,n}, {m,}, {,n}, where m>=0 and n>=0."
   ]
  },
  {
   "cell_type": "markdown",
   "metadata": {},
   "source": [
    "#### Non-greedy {m,n}: {m,n}?\n",
    "{m,n}? is the non-greedy version of {m,n}, meaning it will match as few characters as possible."
   ]
  },
  {
   "cell_type": "code",
   "execution_count": 22,
   "metadata": {},
   "outputs": [
    {
     "data": {
      "text/plain": [
       "<re.Match object; span=(0, 3), match='aaa'>"
      ]
     },
     "execution_count": 22,
     "metadata": {},
     "output_type": "execute_result"
    }
   ],
   "source": [
    "# Matches 'foo' followed by 1, 2 or 3 '-' and followed by 'bar' in a greedy manner\n",
    "re.search(\"a{1,3}\", \"aaabbbccc\")"
   ]
  },
  {
   "cell_type": "code",
   "execution_count": 23,
   "metadata": {},
   "outputs": [
    {
     "data": {
      "text/plain": [
       "<re.Match object; span=(0, 1), match='a'>"
      ]
     },
     "execution_count": 23,
     "metadata": {},
     "output_type": "execute_result"
    }
   ],
   "source": [
    "# Matches 'foo' followed by 1, 2 or 3 '-' and followed by 'bar' in a non-greedy manner\n",
    "re.search(\"a{1,3}?\", \"aaabbbccc\")"
   ]
  },
  {
   "cell_type": "markdown",
   "metadata": {},
   "source": [
    "### Grouping & backreferences\n",
    "Grouping constructs break up a regex into subexpressions or groups. This serves 2 purposes:\n",
    "- **Grouping**: A group is a single entity. Additional metacharacters apply to the entire group as a unit.\n",
    "- **Capturing**: Some grouping constructs can also capture the portion of the search string that matches the group regex. The captured matches can be retrieved later. \n",
    "\n",
    "To define a regex group we use parenthesis: \n",
    "*(\\<regex\\>)*"
   ]
  },
  {
   "cell_type": "markdown",
   "metadata": {},
   "source": [
    "#### 1st purpose: Treating the group as a unit"
   ]
  },
  {
   "cell_type": "code",
   "execution_count": 24,
   "metadata": {},
   "outputs": [
    {
     "data": {
      "text/plain": [
       "<re.Match object; span=(4, 13), match='barbarbar'>"
      ]
     },
     "execution_count": 24,
     "metadata": {},
     "output_type": "execute_result"
    }
   ],
   "source": [
    "# Matches a group formed by the 'bar' sequence and repeated one or more times. \n",
    "re.search(\"(bar)+\", \"foo barbarbar baz\")"
   ]
  },
  {
   "cell_type": "code",
   "execution_count": 25,
   "metadata": {},
   "outputs": [
    {
     "data": {
      "text/plain": [
       "<re.Match object; span=(0, 15), match='foofoobarfoobar'>"
      ]
     },
     "execution_count": 25,
     "metadata": {},
     "output_type": "execute_result"
    }
   ],
   "source": [
    "# Matches a group formed by 'foo' and an optional 'bar' repeated one or more times.\n",
    "re.search(\"(foo(bar)?)+\", \"foofoobarfoobar\")"
   ]
  },
  {
   "cell_type": "markdown",
   "metadata": {},
   "source": [
    "#### 2nd purpose: Capturing groups\n",
    "To retrieve the captured part of the search string that matches the group we have two methods:\n",
    "- **m.groups()**: returns a **tuple** containing all the captured groups from a regex match.\n",
    "- **m.group(\\<n\\>)**: returns a **string** containing the *n* captured match. ***n* starts at 1**. If ***n=0* or no *n*** is provided, it returns **the entired match**. If **more than 1 *n*** is specified, it returns **the specified *n* captured matches** as a **tuple**.\n",
    "\n",
    "where *m* is the match object that *re.search()* returns. "
   ]
  },
  {
   "cell_type": "code",
   "execution_count": 30,
   "metadata": {},
   "outputs": [
    {
     "data": {
      "text/plain": [
       "('foo', 'bar', 'qux')"
      ]
     },
     "execution_count": 30,
     "metadata": {},
     "output_type": "execute_result"
    }
   ],
   "source": [
    "# Each (\\w+) matches a sequence of word characters, \n",
    "# and the full regex is formed by 3 of these sequences \n",
    "# separated by a comma\n",
    "m = re.search(\"(\\w+),(\\w+),(\\w+)\", \"foo,bar,qux\")\n",
    "m.groups()"
   ]
  },
  {
   "cell_type": "code",
   "execution_count": 28,
   "metadata": {},
   "outputs": [
    {
     "data": {
      "text/plain": [
       "'bar'"
      ]
     },
     "execution_count": 28,
     "metadata": {},
     "output_type": "execute_result"
    }
   ],
   "source": [
    "# Returns the 2nd captured group, which is 'bar'\n",
    "m.group(2)"
   ]
  },
  {
   "cell_type": "code",
   "execution_count": 29,
   "metadata": {},
   "outputs": [
    {
     "data": {
      "text/plain": [
       "'foo,bar,qux'"
      ]
     },
     "execution_count": 29,
     "metadata": {},
     "output_type": "execute_result"
    }
   ],
   "source": [
    "# Returns the entire match\n",
    "m.group()"
   ]
  },
  {
   "cell_type": "code",
   "execution_count": 31,
   "metadata": {},
   "outputs": [
    {
     "data": {
      "text/plain": [
       "('foo', 'bar')"
      ]
     },
     "execution_count": 31,
     "metadata": {},
     "output_type": "execute_result"
    }
   ],
   "source": [
    "# Returns the 1st and 2nd matches\n",
    "m.group(1,2)"
   ]
  },
  {
   "cell_type": "markdown",
   "metadata": {},
   "source": [
    "#### Backreferences\n",
    "You can match a previously captured group later within the same regex using a **backreference**:\n",
    "- **\\\\\\<n\\>**: Matches the contents of the *n* captured group.\n",
    "\n",
    "Since a backreference contains a **backslash**, it's a good practice to use **raw strings**."
   ]
  },
  {
   "cell_type": "code",
   "execution_count": 34,
   "metadata": {},
   "outputs": [
    {
     "data": {
      "text/plain": [
       "<re.Match object; span=(4, 7), match='2,2'>"
      ]
     },
     "execution_count": 34,
     "metadata": {},
     "output_type": "execute_result"
    }
   ],
   "source": [
    "# Matches a number followed by a comma and followed by the same number\n",
    "# again\n",
    "re.search(r\"([0-9]),\\1\", \"0,1,2,2,3,4\")"
   ]
  },
  {
   "cell_type": "code",
   "execution_count": 37,
   "metadata": {},
   "outputs": [
    {
     "data": {
      "text/plain": [
       "<re.Match object; span=(2, 9), match='1,2,2,1'>"
      ]
     },
     "execution_count": 37,
     "metadata": {},
     "output_type": "execute_result"
    }
   ],
   "source": [
    "# A more complex example\n",
    "re.search(r\"([0-9]),([0-9]),\\2,\\1\", \"0,1,2,2,1,3\")"
   ]
  },
  {
   "cell_type": "code",
   "execution_count": 43,
   "metadata": {},
   "outputs": [
    {
     "data": {
      "text/plain": [
       "<re.Match object; span=(4, 7), match='2,2'>"
      ]
     },
     "execution_count": 43,
     "metadata": {},
     "output_type": "execute_result"
    }
   ],
   "source": [
    "# Without using raw strings (not recommended)\n",
    "re.search(\"([0-9]),\\\\1\", \"0,1,2,2,3,4\")"
   ]
  },
  {
   "cell_type": "markdown",
   "metadata": {},
   "source": [
    "#### Naming groups\n",
    "Until now, we have referred to the groups with an integer value *n*. You can name a group too:\n",
    "\n",
    "- **(?P\\<name\\>\\<regex\\>)**: Creates a **named captured group**. Each \\<name\\> can only appear **once** per regex."
   ]
  },
  {
   "cell_type": "code",
   "execution_count": 39,
   "metadata": {},
   "outputs": [
    {
     "name": "stdout",
     "output_type": "stream",
     "text": [
      "bar\n",
      "bar\n"
     ]
    }
   ],
   "source": [
    "# Let's give a name to the groups of the previous example: w1, w2 and w3.\n",
    "m = re.search(\"(?P<w1>\\w+),(?P<w2>\\w+),(?P<w3>\\w+)\", \"foo,bar,qux\")\n",
    "\n",
    "# And let's access the 2nd group called 'w2'\n",
    "print(m.group(\"w2\"))\n",
    "\n",
    "# You can still access the group by number\n",
    "print(m.group(2))"
   ]
  },
  {
   "cell_type": "markdown",
   "metadata": {},
   "source": [
    "- **(?P=\\<name\\>)**: Matches the contents of a **previously captured named group**."
   ]
  },
  {
   "cell_type": "code",
   "execution_count": 41,
   "metadata": {},
   "outputs": [
    {
     "data": {
      "text/plain": [
       "<re.Match object; span=(4, 7), match='2,2'>"
      ]
     },
     "execution_count": 41,
     "metadata": {},
     "output_type": "execute_result"
    }
   ],
   "source": [
    "# Again, let's give a name to the captured group of the previous example\n",
    "re.search(\"(?P<number>[0-9]),(?P=number)\", \"0,1,2,2,3,4\")"
   ]
  },
  {
   "cell_type": "code",
   "execution_count": 42,
   "metadata": {},
   "outputs": [
    {
     "data": {
      "text/plain": [
       "<re.Match object; span=(4, 7), match='2,2'>"
      ]
     },
     "execution_count": 42,
     "metadata": {},
     "output_type": "execute_result"
    }
   ],
   "source": [
    "# Again, you can still use the numbers as well\n",
    "re.search(r\"(?P<number>[0-9]),\\1\", \"0,1,2,2,3,4\")"
   ]
  },
  {
   "cell_type": "markdown",
   "metadata": {},
   "source": [
    "**The angle brackets (\\< and \\>) are required** around *name* **when creating a named group** but **not when referring to it later**, either by backreference or by *.group()*."
   ]
  },
  {
   "cell_type": "markdown",
   "metadata": {},
   "source": [
    "#### Non-capturing groups\n",
    "Sometimes, there's no need to capture a group and do something with the value later. It takes some time and memory to capture a group, so if you don't capture unneccessary groups then you may see a slight performance advantage. \n",
    "\n",
    "- (?:\\<regex\\>): Creates a **non-capturing** group."
   ]
  },
  {
   "cell_type": "code",
   "execution_count": 44,
   "metadata": {},
   "outputs": [
    {
     "data": {
      "text/plain": [
       "('foo', 'qux')"
      ]
     },
     "execution_count": 44,
     "metadata": {},
     "output_type": "execute_result"
    }
   ],
   "source": [
    "# Here the second group is not captured \n",
    "# (but it still has to appear in the search string)\n",
    "m = re.search(\"(\\w+),(?:\\w+),(\\w+)\", \"foo,bar,qux\")\n",
    "m.groups()"
   ]
  },
  {
   "cell_type": "markdown",
   "metadata": {},
   "source": [
    "#### Conditional matches\n",
    "A conditional match matches against one of two specified regexes depending on whether the given group exists:\n",
    "- **(?(\\<n\\>)\\<yes-regex\\>|\\<no-regex\\>)**: Matches against **\\<yes-regex\\> if the group numbered \\<n\\> exists**. **Otherwise**, it matches against **\\<no-regex\\>**.\n",
    "- **(?(\\<name\\>)\\<yes-regex\\>|\\<no-regex\\>)**: Same as above except the group is referred by its *name* instead of its number."
   ]
  },
  {
   "cell_type": "code",
   "execution_count": 56,
   "metadata": {},
   "outputs": [
    {
     "data": {
      "text/plain": [
       "<re.Match object; span=(0, 9), match='###foobar'>"
      ]
     },
     "execution_count": 56,
     "metadata": {},
     "output_type": "execute_result"
    }
   ],
   "source": [
    "# Matches '###foobar' 'cause the '###' group exists.\n",
    "re.search(\"^(###)?foo(?(1)bar|baz)\", \"###foobar\")"
   ]
  },
  {
   "cell_type": "code",
   "execution_count": 59,
   "metadata": {},
   "outputs": [],
   "source": [
    "# The '###' doesn't exist, so the regex to match is equal to 'foobaz'.\n",
    "re.search(\"^(###)?foo(?(1)bar|baz)\", \"foobar\")"
   ]
  },
  {
   "cell_type": "code",
   "execution_count": 60,
   "metadata": {},
   "outputs": [
    {
     "data": {
      "text/plain": [
       "<re.Match object; span=(0, 9), match='###foobar'>"
      ]
     },
     "execution_count": 60,
     "metadata": {},
     "output_type": "execute_result"
    }
   ],
   "source": [
    "# Same as above but using a named group 'ch'\n",
    "re.search(\"^(?P<ch>###)?foo(?(ch)bar|baz)\", \"###foobar\")"
   ]
  },
  {
   "cell_type": "markdown",
   "metadata": {},
   "source": [
    "### Lookahead & lookbehind assertions\n",
    "\n",
    "Lookahead and lookbehind assertions determine a match based on what is **just behind (to the left)** or **ahead (to the right)** of the parser's current position in the search string. \n",
    "\n",
    "Lookahead and lookbehind assertions are **zero-width**, meaning they don't consume any of the search string. Also, **they don't capture** what they match. \n",
    "\n",
    "#### Lookahead\n",
    "- **(?=\\<lookahead_regex\\>)**: **Positive lookahead**. Asserts that **what follows** the regex parser's current position **must match *\\<lookahead_regex\\>***. \n",
    "- **(?!\\<lookahead_regex\\>)**: **Negative lookahead**. Asserts that **what follows** the regex parser's current position **must NOT match *\\<lookahead_regex\\>***. "
   ]
  },
  {
   "cell_type": "code",
   "execution_count": 66,
   "metadata": {},
   "outputs": [
    {
     "data": {
      "text/plain": [
       "<re.Match object; span=(0, 3), match='foo'>"
      ]
     },
     "execution_count": 66,
     "metadata": {},
     "output_type": "execute_result"
    }
   ],
   "source": [
    "# Matches 'foo' if it's followed by a lowercase alphabetic character\n",
    "# Note here that the 'b' that follows 'foo' is not a part of the match\n",
    "# either it's captured.\n",
    "re.search(\"foo(?=[a-z])\", \"foobar\")"
   ]
  },
  {
   "cell_type": "code",
   "execution_count": 63,
   "metadata": {},
   "outputs": [],
   "source": [
    "re.search(\"foo(?=[a-z])\", \"foo123\")"
   ]
  },
  {
   "cell_type": "code",
   "execution_count": 62,
   "metadata": {},
   "outputs": [],
   "source": [
    "# Matches 'foo' if it is not followed by a lowercase alphabetic character\n",
    "re.search(\"foo(?![a-z])\", \"foobar\")"
   ]
  },
  {
   "cell_type": "code",
   "execution_count": 64,
   "metadata": {},
   "outputs": [
    {
     "data": {
      "text/plain": [
       "<re.Match object; span=(0, 3), match='foo'>"
      ]
     },
     "execution_count": 64,
     "metadata": {},
     "output_type": "execute_result"
    }
   ],
   "source": [
    "re.search(\"foo(?![a-z])\", \"foo123\")"
   ]
  },
  {
   "cell_type": "markdown",
   "metadata": {},
   "source": [
    "#### Lookbehind\n",
    "\n",
    "- **(?\\<=\\<lookbehind_regex\\>)**: **Positive lookbehind**. Asserts that **what precedes** the regex parser's current position **must match *\\<lookbehind_regex\\>***. \n",
    "- **(?\\<!\\<lookbehind_regex\\>)**: **Negative lookbehind**. Asserts that **what precedes** the regex parser's current position **must NOT match *\\<lookbehind_regex\\>***. "
   ]
  },
  {
   "cell_type": "code",
   "execution_count": 67,
   "metadata": {},
   "outputs": [
    {
     "data": {
      "text/plain": [
       "<re.Match object; span=(3, 6), match='bar'>"
      ]
     },
     "execution_count": 67,
     "metadata": {},
     "output_type": "execute_result"
    }
   ],
   "source": [
    "# Matches 'bar' if it's preceded by 'foo'\n",
    "re.search(\"(?<=foo)bar\", \"foobar\")"
   ]
  },
  {
   "cell_type": "code",
   "execution_count": 68,
   "metadata": {},
   "outputs": [],
   "source": [
    "re.search(\"(?<=foo)bar\", \"quxbar\")"
   ]
  },
  {
   "cell_type": "code",
   "execution_count": 69,
   "metadata": {},
   "outputs": [],
   "source": [
    "# Matches 'bar' if it is not preceded by 'foo'\n",
    "re.search(\"(?<!foo)bar\", \"foobar\")"
   ]
  },
  {
   "cell_type": "code",
   "execution_count": 70,
   "metadata": {
    "scrolled": true
   },
   "outputs": [
    {
     "data": {
      "text/plain": [
       "<re.Match object; span=(3, 6), match='bar'>"
      ]
     },
     "execution_count": 70,
     "metadata": {},
     "output_type": "execute_result"
    }
   ],
   "source": [
    "re.search(\"(?<!foo)bar\", \"quxbar\")"
   ]
  },
  {
   "cell_type": "markdown",
   "metadata": {},
   "source": [
    "There’s a restriction on lookbehind assertions that doesn’t apply to lookahead assertions: **The \\<lookbehind_regex\\> in a lookbehind assertion must specify a match of fixed length.** For instance, quantifiers like '\\*', '+' or '?' are not allowed in lookbehind assertions."
   ]
  }
 ],
 "metadata": {
  "kernelspec": {
   "display_name": "Python 3",
   "language": "python",
   "name": "python3"
  },
  "language_info": {
   "codemirror_mode": {
    "name": "ipython",
    "version": 3
   },
   "file_extension": ".py",
   "mimetype": "text/x-python",
   "name": "python",
   "nbconvert_exporter": "python",
   "pygments_lexer": "ipython3",
   "version": "3.8.5"
  }
 },
 "nbformat": 4,
 "nbformat_minor": 4
}
