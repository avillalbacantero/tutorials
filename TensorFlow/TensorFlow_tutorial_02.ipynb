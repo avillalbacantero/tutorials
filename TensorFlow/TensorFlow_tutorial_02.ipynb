{
  "nbformat": 4,
  "nbformat_minor": 0,
  "metadata": {
    "colab": {
      "name": "TensorFlow_tutorial_02.ipynb",
      "provenance": [],
      "collapsed_sections": []
    },
    "kernelspec": {
      "name": "python3",
      "display_name": "Python 3"
    },
    "language_info": {
      "name": "python"
    }
  },
  "cells": [
    {
      "cell_type": "markdown",
      "source": [
        "# Second exercise: A more sofisticated 'Hello World'"
      ],
      "metadata": {
        "id": "NUkvTL745amJ"
      }
    },
    {
      "cell_type": "code",
      "source": [
        "import tensorflow as tf\n",
        "print(f\"TensorFlow version: {tf.__version__}\")"
      ],
      "metadata": {
        "colab": {
          "base_uri": "https://localhost:8080/"
        },
        "id": "5yYeIAMA5fik",
        "outputId": "4eb5eeb8-1c27-452c-a385-83793e14a6e2"
      },
      "execution_count": 1,
      "outputs": [
        {
          "output_type": "stream",
          "name": "stdout",
          "text": [
            "TensorFlow version: 2.7.0\n"
          ]
        }
      ]
    },
    {
      "cell_type": "code",
      "source": [
        "# Load the MNIST dataset\n",
        "mnist = tf.keras.datasets.mnist\n",
        "\n",
        "(x_train, y_train), (x_test, y_test) = mnist.load_data()\n",
        "x_train, x_test = x_train / 255.0, x_test / 255.0"
      ],
      "metadata": {
        "colab": {
          "base_uri": "https://localhost:8080/"
        },
        "id": "73GcQcwK5tnE",
        "outputId": "263d87fa-5077-4908-f98f-a517eba8b65e"
      },
      "execution_count": 2,
      "outputs": [
        {
          "output_type": "stream",
          "name": "stdout",
          "text": [
            "Downloading data from https://storage.googleapis.com/tensorflow/tf-keras-datasets/mnist.npz\n",
            "11493376/11490434 [==============================] - 0s 0us/step\n",
            "11501568/11490434 [==============================] - 0s 0us/step\n"
          ]
        }
      ]
    },
    {
      "cell_type": "code",
      "source": [
        "# Build the neural network\n",
        "model = tf.keras.models.Sequential([\n",
        "  tf.keras.layers.Flatten(input_shape=(28, 28)),\n",
        "  tf.keras.layers.Dense(128, activation='relu'),\n",
        "  tf.keras.layers.Dropout(0.2),\n",
        "  tf.keras.layers.Dense(10)\n",
        "])"
      ],
      "metadata": {
        "id": "ucVQFDIW5y45"
      },
      "execution_count": 3,
      "outputs": []
    },
    {
      "cell_type": "code",
      "source": [
        "# Get the logits for the first sample\n",
        "predictions = model(x_train[:1]).numpy()\n",
        "predictions"
      ],
      "metadata": {
        "colab": {
          "base_uri": "https://localhost:8080/"
        },
        "id": "LZY4iJgk6pVC",
        "outputId": "792ced5f-a908-417d-ed67-0e0e70c0b278"
      },
      "execution_count": 9,
      "outputs": [
        {
          "output_type": "execute_result",
          "data": {
            "text/plain": [
              "array([[ 0.23083556,  0.17747326, -0.22908765, -1.0573186 ,  0.11959449,\n",
              "        -0.6913041 ,  0.04142074,  0.01451893, -0.08985385, -0.19998842]],\n",
              "      dtype=float32)"
            ]
          },
          "metadata": {},
          "execution_count": 9
        }
      ]
    },
    {
      "cell_type": "code",
      "source": [
        "# To convert the logits to probabilities, we use a softmax\n",
        "probabilities = tf.nn.softmax(predictions).numpy()\n",
        "print(f\"Probabilities: {probabilities}\")\n",
        "print(f\"Sum of probabilities: {probabilities.sum()}\")"
      ],
      "metadata": {
        "colab": {
          "base_uri": "https://localhost:8080/"
        },
        "id": "OrbxA3GM7IR8",
        "outputId": "993b08f5-ea4a-43aa-d83e-2672f57c6be4"
      },
      "execution_count": 13,
      "outputs": [
        {
          "output_type": "stream",
          "name": "stdout",
          "text": [
            "Probabilities: [[0.13974124 0.1324798  0.08822313 0.03853775 0.12502971 0.05557052\n",
            "  0.11562794 0.1125588  0.10140304 0.09082808]]\n",
            "Sum of probabilities: 1.0000001192092896\n"
          ]
        }
      ]
    },
    {
      "cell_type": "code",
      "source": [
        "# Define a loss function\n",
        "loss_fn = tf.keras.losses.SparseCategoricalCrossentropy(from_logits=True)"
      ],
      "metadata": {
        "id": "x_7Cj0zB743y"
      },
      "execution_count": 14,
      "outputs": []
    },
    {
      "cell_type": "code",
      "source": [
        "# The model is untrained, so the probability \n",
        "# for each class is  close to random (1/10)\n",
        "exact_loss = -tf.math.log(1/10)\n",
        "real_loss = loss_fn(y_train[:1], predictions).numpy()\n",
        "\n",
        "print(f\"Exact loss: {exact_loss}\")\n",
        "print(f\"Computed loss: {real_loss}\")"
      ],
      "metadata": {
        "colab": {
          "base_uri": "https://localhost:8080/"
        },
        "id": "8tbxqg4s8Hzb",
        "outputId": "293b9d03-34ff-401f-97d5-175cf8c2db93"
      },
      "execution_count": 15,
      "outputs": [
        {
          "output_type": "stream",
          "name": "stdout",
          "text": [
            "Exact loss: 2.3025851249694824\n",
            "Computed loss: 2.8901023864746094\n"
          ]
        }
      ]
    },
    {
      "cell_type": "code",
      "source": [
        "# Set the optimizer, loss and metric and compile\n",
        "# the model\n",
        "model.compile(optimizer=\"adam\",\n",
        "              loss=loss_fn,\n",
        "              metrics=[\"accuracy\"])"
      ],
      "metadata": {
        "id": "B8hz5vhU80Qj"
      },
      "execution_count": 16,
      "outputs": []
    },
    {
      "cell_type": "code",
      "source": [
        "# Train the model\n",
        "model.fit(x_train, y_train, epochs=5)"
      ],
      "metadata": {
        "colab": {
          "base_uri": "https://localhost:8080/"
        },
        "id": "Kpk8PwoU9GAD",
        "outputId": "4591bfd6-238c-4b36-cf6f-7a3c56270f51"
      },
      "execution_count": 17,
      "outputs": [
        {
          "output_type": "stream",
          "name": "stdout",
          "text": [
            "Epoch 1/5\n",
            "1875/1875 [==============================] - 6s 3ms/step - loss: 0.3019 - accuracy: 0.9121\n",
            "Epoch 2/5\n",
            "1875/1875 [==============================] - 6s 3ms/step - loss: 0.1479 - accuracy: 0.9566\n",
            "Epoch 3/5\n",
            "1875/1875 [==============================] - 6s 3ms/step - loss: 0.1086 - accuracy: 0.9672\n",
            "Epoch 4/5\n",
            "1875/1875 [==============================] - 5s 3ms/step - loss: 0.0894 - accuracy: 0.9723\n",
            "Epoch 5/5\n",
            "1875/1875 [==============================] - 6s 3ms/step - loss: 0.0759 - accuracy: 0.9758\n"
          ]
        },
        {
          "output_type": "execute_result",
          "data": {
            "text/plain": [
              "<keras.callbacks.History at 0x7fecf3db8b90>"
            ]
          },
          "metadata": {},
          "execution_count": 17
        }
      ]
    },
    {
      "cell_type": "code",
      "source": [
        "# Let's evaluate the model on the test set\n",
        "model.evaluate(x_test, y_test, verbose=2)"
      ],
      "metadata": {
        "colab": {
          "base_uri": "https://localhost:8080/"
        },
        "id": "wsvSFJBd9XLE",
        "outputId": "089c9a5a-340c-4001-d582-c2424cf3688d"
      },
      "execution_count": 18,
      "outputs": [
        {
          "output_type": "stream",
          "name": "stdout",
          "text": [
            "313/313 - 1s - loss: 0.0808 - accuracy: 0.9759 - 550ms/epoch - 2ms/step\n"
          ]
        },
        {
          "output_type": "execute_result",
          "data": {
            "text/plain": [
              "[0.08082335442304611, 0.9758999943733215]"
            ]
          },
          "metadata": {},
          "execution_count": 18
        }
      ]
    },
    {
      "cell_type": "code",
      "source": [
        "# To make the model returning a probability,\n",
        "# we attach a softmax at the end\n",
        "probability_model = tf.keras.Sequential([\n",
        "  model,\n",
        "  tf.keras.layers.Softmax()\n",
        "])"
      ],
      "metadata": {
        "id": "tr-jPzPC90vr"
      },
      "execution_count": 19,
      "outputs": []
    },
    {
      "cell_type": "code",
      "source": [
        "# Let's get the probability on the first test sample\n",
        "probs = probability_model(x_test[:1])\n",
        "max_prob = probs.numpy().max()\n",
        "max_index = probs.numpy().argmax()\n",
        "\n",
        "print(f\"Prediction {max_index} with probability {max_prob}\")\n",
        "print(f\"Ground truth: {y_test[0]}\")"
      ],
      "metadata": {
        "colab": {
          "base_uri": "https://localhost:8080/"
        },
        "id": "pMWFVwXw-GBM",
        "outputId": "5cc9952d-0aa8-4d3d-a626-a2e1e2b95f23"
      },
      "execution_count": 34,
      "outputs": [
        {
          "output_type": "stream",
          "name": "stdout",
          "text": [
            "Prediction 7 with probability 0.9999837875366211\n",
            "Ground truth: 7\n"
          ]
        }
      ]
    }
  ]
}