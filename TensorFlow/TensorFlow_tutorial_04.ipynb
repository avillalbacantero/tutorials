{
  "nbformat": 4,
  "nbformat_minor": 0,
  "metadata": {
    "colab": {
      "name": "TensorFlow_tutorial_04.ipynb",
      "provenance": [],
      "collapsed_sections": []
    },
    "kernelspec": {
      "name": "python3",
      "display_name": "Python 3"
    },
    "language_info": {
      "name": "python"
    },
    "accelerator": "GPU"
  },
  "cells": [
    {
      "cell_type": "markdown",
      "source": [
        "# Load data tutorial"
      ],
      "metadata": {
        "id": "iV7Hc2LztWu6"
      }
    },
    {
      "cell_type": "code",
      "source": [
        "# Import the libraries\n",
        "import pandas as pd\n",
        "import numpy as np\n",
        "import tensorflow as tf\n",
        "from tensorflow.keras import layers\n",
        "\n",
        "# Make numpy values easier to read\n",
        "np.set_printoptions(precision=3, suppress=True)"
      ],
      "metadata": {
        "id": "SHEePIZDtYdn"
      },
      "execution_count": 3,
      "outputs": []
    },
    {
      "cell_type": "markdown",
      "source": [
        "## Example: Abalone dataset\n",
        "\n",
        "If the dataset is small, we can load it into memory as a pandas Dataframe or a NumPy array."
      ],
      "metadata": {
        "id": "BFndYleIwPNz"
      }
    },
    {
      "cell_type": "code",
      "source": [
        "# Load the abalone dataset from a CSV as pandas dataframe\n",
        "csv_path = \"https://storage.googleapis.com/download.tensorflow.org/data/abalone_train.csv\"\n",
        "attributes = [\"Length\", \"Diameter\", \"Height\", \"Whole weight\", \"Shucked weight\",\n",
        "           \"Viscera weight\", \"Shell weight\", \"Age\"]\n",
        "abalone_train = pd.read_csv(csv_path, names=attributes)"
      ],
      "metadata": {
        "id": "moJVlVvUwUz3"
      },
      "execution_count": 4,
      "outputs": []
    },
    {
      "cell_type": "code",
      "source": [
        "# Let's see the first rows of our dataframe\n",
        "abalone_train.head()"
      ],
      "metadata": {
        "colab": {
          "base_uri": "https://localhost:8080/",
          "height": 206
        },
        "id": "JGgn7wLdwpda",
        "outputId": "8a727f1f-ff43-48e7-f8de-00092326a450"
      },
      "execution_count": 5,
      "outputs": [
        {
          "output_type": "execute_result",
          "data": {
            "text/html": [
              "<div>\n",
              "<style scoped>\n",
              "    .dataframe tbody tr th:only-of-type {\n",
              "        vertical-align: middle;\n",
              "    }\n",
              "\n",
              "    .dataframe tbody tr th {\n",
              "        vertical-align: top;\n",
              "    }\n",
              "\n",
              "    .dataframe thead th {\n",
              "        text-align: right;\n",
              "    }\n",
              "</style>\n",
              "<table border=\"1\" class=\"dataframe\">\n",
              "  <thead>\n",
              "    <tr style=\"text-align: right;\">\n",
              "      <th></th>\n",
              "      <th>Length</th>\n",
              "      <th>Diameter</th>\n",
              "      <th>Height</th>\n",
              "      <th>Whole weight</th>\n",
              "      <th>Shucked weight</th>\n",
              "      <th>Viscera weight</th>\n",
              "      <th>Shell weight</th>\n",
              "      <th>Age</th>\n",
              "    </tr>\n",
              "  </thead>\n",
              "  <tbody>\n",
              "    <tr>\n",
              "      <th>0</th>\n",
              "      <td>0.435</td>\n",
              "      <td>0.335</td>\n",
              "      <td>0.110</td>\n",
              "      <td>0.334</td>\n",
              "      <td>0.1355</td>\n",
              "      <td>0.0775</td>\n",
              "      <td>0.0965</td>\n",
              "      <td>7</td>\n",
              "    </tr>\n",
              "    <tr>\n",
              "      <th>1</th>\n",
              "      <td>0.585</td>\n",
              "      <td>0.450</td>\n",
              "      <td>0.125</td>\n",
              "      <td>0.874</td>\n",
              "      <td>0.3545</td>\n",
              "      <td>0.2075</td>\n",
              "      <td>0.2250</td>\n",
              "      <td>6</td>\n",
              "    </tr>\n",
              "    <tr>\n",
              "      <th>2</th>\n",
              "      <td>0.655</td>\n",
              "      <td>0.510</td>\n",
              "      <td>0.160</td>\n",
              "      <td>1.092</td>\n",
              "      <td>0.3960</td>\n",
              "      <td>0.2825</td>\n",
              "      <td>0.3700</td>\n",
              "      <td>14</td>\n",
              "    </tr>\n",
              "    <tr>\n",
              "      <th>3</th>\n",
              "      <td>0.545</td>\n",
              "      <td>0.425</td>\n",
              "      <td>0.125</td>\n",
              "      <td>0.768</td>\n",
              "      <td>0.2940</td>\n",
              "      <td>0.1495</td>\n",
              "      <td>0.2600</td>\n",
              "      <td>16</td>\n",
              "    </tr>\n",
              "    <tr>\n",
              "      <th>4</th>\n",
              "      <td>0.545</td>\n",
              "      <td>0.420</td>\n",
              "      <td>0.130</td>\n",
              "      <td>0.879</td>\n",
              "      <td>0.3740</td>\n",
              "      <td>0.1695</td>\n",
              "      <td>0.2300</td>\n",
              "      <td>13</td>\n",
              "    </tr>\n",
              "  </tbody>\n",
              "</table>\n",
              "</div>"
            ],
            "text/plain": [
              "   Length  Diameter  Height  ...  Viscera weight  Shell weight  Age\n",
              "0   0.435     0.335   0.110  ...          0.0775        0.0965    7\n",
              "1   0.585     0.450   0.125  ...          0.2075        0.2250    6\n",
              "2   0.655     0.510   0.160  ...          0.2825        0.3700   14\n",
              "3   0.545     0.425   0.125  ...          0.1495        0.2600   16\n",
              "4   0.545     0.420   0.130  ...          0.1695        0.2300   13\n",
              "\n",
              "[5 rows x 8 columns]"
            ]
          },
          "metadata": {},
          "execution_count": 5
        }
      ]
    },
    {
      "cell_type": "code",
      "source": [
        "# We want to predict the age from the other features, so we separate\n",
        "# the features and labels\n",
        "abalone_features = abalone_train.copy()\n",
        "abalone_labels = abalone_features.pop(\"Age\")"
      ],
      "metadata": {
        "id": "Q6OHP0piw3VS"
      },
      "execution_count": 6,
      "outputs": []
    },
    {
      "cell_type": "code",
      "source": [
        "# Features\n",
        "abalone_features.head()"
      ],
      "metadata": {
        "colab": {
          "base_uri": "https://localhost:8080/",
          "height": 206
        },
        "id": "kGmfpWoAxH1r",
        "outputId": "4d6dab47-7b22-4ed2-a7a9-c178d0d1ac7e"
      },
      "execution_count": 7,
      "outputs": [
        {
          "output_type": "execute_result",
          "data": {
            "text/html": [
              "<div>\n",
              "<style scoped>\n",
              "    .dataframe tbody tr th:only-of-type {\n",
              "        vertical-align: middle;\n",
              "    }\n",
              "\n",
              "    .dataframe tbody tr th {\n",
              "        vertical-align: top;\n",
              "    }\n",
              "\n",
              "    .dataframe thead th {\n",
              "        text-align: right;\n",
              "    }\n",
              "</style>\n",
              "<table border=\"1\" class=\"dataframe\">\n",
              "  <thead>\n",
              "    <tr style=\"text-align: right;\">\n",
              "      <th></th>\n",
              "      <th>Length</th>\n",
              "      <th>Diameter</th>\n",
              "      <th>Height</th>\n",
              "      <th>Whole weight</th>\n",
              "      <th>Shucked weight</th>\n",
              "      <th>Viscera weight</th>\n",
              "      <th>Shell weight</th>\n",
              "    </tr>\n",
              "  </thead>\n",
              "  <tbody>\n",
              "    <tr>\n",
              "      <th>0</th>\n",
              "      <td>0.435</td>\n",
              "      <td>0.335</td>\n",
              "      <td>0.110</td>\n",
              "      <td>0.334</td>\n",
              "      <td>0.1355</td>\n",
              "      <td>0.0775</td>\n",
              "      <td>0.0965</td>\n",
              "    </tr>\n",
              "    <tr>\n",
              "      <th>1</th>\n",
              "      <td>0.585</td>\n",
              "      <td>0.450</td>\n",
              "      <td>0.125</td>\n",
              "      <td>0.874</td>\n",
              "      <td>0.3545</td>\n",
              "      <td>0.2075</td>\n",
              "      <td>0.2250</td>\n",
              "    </tr>\n",
              "    <tr>\n",
              "      <th>2</th>\n",
              "      <td>0.655</td>\n",
              "      <td>0.510</td>\n",
              "      <td>0.160</td>\n",
              "      <td>1.092</td>\n",
              "      <td>0.3960</td>\n",
              "      <td>0.2825</td>\n",
              "      <td>0.3700</td>\n",
              "    </tr>\n",
              "    <tr>\n",
              "      <th>3</th>\n",
              "      <td>0.545</td>\n",
              "      <td>0.425</td>\n",
              "      <td>0.125</td>\n",
              "      <td>0.768</td>\n",
              "      <td>0.2940</td>\n",
              "      <td>0.1495</td>\n",
              "      <td>0.2600</td>\n",
              "    </tr>\n",
              "    <tr>\n",
              "      <th>4</th>\n",
              "      <td>0.545</td>\n",
              "      <td>0.420</td>\n",
              "      <td>0.130</td>\n",
              "      <td>0.879</td>\n",
              "      <td>0.3740</td>\n",
              "      <td>0.1695</td>\n",
              "      <td>0.2300</td>\n",
              "    </tr>\n",
              "  </tbody>\n",
              "</table>\n",
              "</div>"
            ],
            "text/plain": [
              "   Length  Diameter  Height  ...  Shucked weight  Viscera weight  Shell weight\n",
              "0   0.435     0.335   0.110  ...          0.1355          0.0775        0.0965\n",
              "1   0.585     0.450   0.125  ...          0.3545          0.2075        0.2250\n",
              "2   0.655     0.510   0.160  ...          0.3960          0.2825        0.3700\n",
              "3   0.545     0.425   0.125  ...          0.2940          0.1495        0.2600\n",
              "4   0.545     0.420   0.130  ...          0.3740          0.1695        0.2300\n",
              "\n",
              "[5 rows x 7 columns]"
            ]
          },
          "metadata": {},
          "execution_count": 7
        }
      ]
    },
    {
      "cell_type": "code",
      "source": [
        "# And labels\n",
        "abalone_labels.head()"
      ],
      "metadata": {
        "colab": {
          "base_uri": "https://localhost:8080/"
        },
        "id": "7m561l59xLb5",
        "outputId": "a09ffee6-bba8-4d8f-d4e0-1b03c8e69eac"
      },
      "execution_count": 8,
      "outputs": [
        {
          "output_type": "execute_result",
          "data": {
            "text/plain": [
              "0     7\n",
              "1     6\n",
              "2    14\n",
              "3    16\n",
              "4    13\n",
              "Name: Age, dtype: int64"
            ]
          },
          "metadata": {},
          "execution_count": 8
        }
      ]
    },
    {
      "cell_type": "code",
      "source": [
        "# We will treat all the features identically. Pack them\n",
        "# into a numpy array:\n",
        "abalone_features = np.array(abalone_features)\n",
        "abalone_features"
      ],
      "metadata": {
        "colab": {
          "base_uri": "https://localhost:8080/"
        },
        "id": "jOny7zKoxRyJ",
        "outputId": "f72c748c-4e6a-4137-eafd-8f80c819f0cd"
      },
      "execution_count": 9,
      "outputs": [
        {
          "output_type": "execute_result",
          "data": {
            "text/plain": [
              "array([[0.435, 0.335, 0.11 , ..., 0.136, 0.077, 0.097],\n",
              "       [0.585, 0.45 , 0.125, ..., 0.354, 0.207, 0.225],\n",
              "       [0.655, 0.51 , 0.16 , ..., 0.396, 0.282, 0.37 ],\n",
              "       ...,\n",
              "       [0.53 , 0.42 , 0.13 , ..., 0.374, 0.167, 0.249],\n",
              "       [0.395, 0.315, 0.105, ..., 0.118, 0.091, 0.119],\n",
              "       [0.45 , 0.355, 0.12 , ..., 0.115, 0.067, 0.16 ]])"
            ]
          },
          "metadata": {},
          "execution_count": 9
        }
      ]
    },
    {
      "cell_type": "code",
      "source": [
        "# Let's inspect the shape of the dataset\n",
        "abalone_features.shape"
      ],
      "metadata": {
        "colab": {
          "base_uri": "https://localhost:8080/"
        },
        "id": "tW9PtFBTx8k9",
        "outputId": "a0a197cb-76a1-42f3-bb85-4fa1030f4e8b"
      },
      "execution_count": 10,
      "outputs": [
        {
          "output_type": "execute_result",
          "data": {
            "text/plain": [
              "(3320, 7)"
            ]
          },
          "metadata": {},
          "execution_count": 10
        }
      ]
    },
    {
      "cell_type": "code",
      "source": [
        "# Similarly, we have 3320 labels\n",
        "len(abalone_labels)"
      ],
      "metadata": {
        "colab": {
          "base_uri": "https://localhost:8080/"
        },
        "id": "L5KrpCg_yjkx",
        "outputId": "778b1f1d-4344-4f3f-b337-5a238463c853"
      },
      "execution_count": 11,
      "outputs": [
        {
          "output_type": "execute_result",
          "data": {
            "text/plain": [
              "3320"
            ]
          },
          "metadata": {},
          "execution_count": 11
        }
      ]
    },
    {
      "cell_type": "markdown",
      "source": [
        "We have 3320 training examples. Each of them contains the values for 7 different attributes."
      ],
      "metadata": {
        "id": "JYomsW4HyCQT"
      }
    },
    {
      "cell_type": "markdown",
      "source": [
        "### Build model"
      ],
      "metadata": {
        "id": "C8R2i1XzxpYj"
      }
    },
    {
      "cell_type": "code",
      "source": [
        "# Let's make a regression model to predict the age\n",
        "abalone_model = tf.keras.Sequential([\n",
        "  layers.Dense(64),\n",
        "  layers.Dense(1)\n",
        "])"
      ],
      "metadata": {
        "id": "4Nh8q2YDxvj2"
      },
      "execution_count": 12,
      "outputs": []
    },
    {
      "cell_type": "code",
      "source": [
        "abalone_model.compile(loss = tf.losses.MeanSquaredError(),\n",
        "                      optimizer=tf.optimizers.Adam())"
      ],
      "metadata": {
        "id": "CiL3H18TyTUr"
      },
      "execution_count": 13,
      "outputs": []
    },
    {
      "cell_type": "markdown",
      "source": [
        "## Train the model"
      ],
      "metadata": {
        "id": "ij4TP675yqhq"
      }
    },
    {
      "cell_type": "code",
      "source": [
        "# Let's train the model for 10 epochs\n",
        "abalone_model.fit(abalone_features, abalone_labels, epochs=10)"
      ],
      "metadata": {
        "colab": {
          "base_uri": "https://localhost:8080/"
        },
        "id": "GlRGGBVSysS-",
        "outputId": "8f6bbca7-3645-4238-8976-af5433c02423"
      },
      "execution_count": 14,
      "outputs": [
        {
          "output_type": "stream",
          "name": "stdout",
          "text": [
            "Epoch 1/10\n",
            "104/104 [==============================] - 2s 3ms/step - loss: 55.2737\n",
            "Epoch 2/10\n",
            "104/104 [==============================] - 0s 3ms/step - loss: 11.5428\n",
            "Epoch 3/10\n",
            "104/104 [==============================] - 0s 3ms/step - loss: 9.0158\n",
            "Epoch 4/10\n",
            "104/104 [==============================] - 0s 3ms/step - loss: 8.3752\n",
            "Epoch 5/10\n",
            "104/104 [==============================] - 0s 3ms/step - loss: 7.7902\n",
            "Epoch 6/10\n",
            "104/104 [==============================] - 0s 3ms/step - loss: 7.3529\n",
            "Epoch 7/10\n",
            "104/104 [==============================] - 0s 3ms/step - loss: 7.0149\n",
            "Epoch 8/10\n",
            "104/104 [==============================] - 0s 3ms/step - loss: 6.7742\n",
            "Epoch 9/10\n",
            "104/104 [==============================] - 0s 3ms/step - loss: 6.6193\n",
            "Epoch 10/10\n",
            "104/104 [==============================] - 0s 3ms/step - loss: 6.5071\n"
          ]
        },
        {
          "output_type": "execute_result",
          "data": {
            "text/plain": [
              "<keras.callbacks.History at 0x7f97d069f0d0>"
            ]
          },
          "metadata": {},
          "execution_count": 14
        }
      ]
    },
    {
      "cell_type": "markdown",
      "source": [
        "### More preprocessing\n",
        "Now let's dive more into the preprocessing step."
      ],
      "metadata": {
        "id": "gVtMP-y-y_pw"
      }
    },
    {
      "cell_type": "code",
      "source": [
        "# Let's normalized the input data. First, we create \n",
        "# the normalization layer.\n",
        "normalize = layers.Normalization()"
      ],
      "metadata": {
        "id": "ZF0Gz7ALzQHZ"
      },
      "execution_count": 15,
      "outputs": []
    },
    {
      "cell_type": "code",
      "source": [
        "# Now let's 'adapt' the normalization to our training data.\n",
        "# Here, we are computing the mean and the variance for each\n",
        "# column.\n",
        "normalize.adapt(abalone_features)"
      ],
      "metadata": {
        "id": "XgXd-IjuzhLV"
      },
      "execution_count": 16,
      "outputs": []
    },
    {
      "cell_type": "code",
      "source": [
        "# Now, let's add this normalization layer to our previous \n",
        "# defined architecture\n",
        "norm_abalone_model = tf.keras.Sequential([\n",
        "  normalize,\n",
        "  layers.Dense(64),\n",
        "  layers.Dense(1)\n",
        "])"
      ],
      "metadata": {
        "id": "x5s8oFfKzxKt"
      },
      "execution_count": 17,
      "outputs": []
    },
    {
      "cell_type": "code",
      "source": [
        "# Compile the model again\n",
        "norm_abalone_model.compile(loss=tf.losses.MeanSquaredError(),\n",
        "                           optimizer=tf.optimizers.Adam())"
      ],
      "metadata": {
        "id": "9Lm0kvaH0BmE"
      },
      "execution_count": 18,
      "outputs": []
    },
    {
      "cell_type": "code",
      "source": [
        "# And train the model again for 10 epochs\n",
        "norm_abalone_model.fit(abalone_features, abalone_labels, epochs=10)"
      ],
      "metadata": {
        "colab": {
          "base_uri": "https://localhost:8080/"
        },
        "id": "zrPKSGL00NdL",
        "outputId": "746baefd-797c-4154-cc5e-f9d893cfbe0c"
      },
      "execution_count": 19,
      "outputs": [
        {
          "output_type": "stream",
          "name": "stdout",
          "text": [
            "Epoch 1/10\n",
            "104/104 [==============================] - 1s 3ms/step - loss: 92.2241\n",
            "Epoch 2/10\n",
            "104/104 [==============================] - 0s 3ms/step - loss: 53.0126\n",
            "Epoch 3/10\n",
            "104/104 [==============================] - 0s 3ms/step - loss: 16.4541\n",
            "Epoch 4/10\n",
            "104/104 [==============================] - 0s 3ms/step - loss: 5.9536\n",
            "Epoch 5/10\n",
            "104/104 [==============================] - 0s 3ms/step - loss: 5.1209\n",
            "Epoch 6/10\n",
            "104/104 [==============================] - 0s 3ms/step - loss: 5.0208\n",
            "Epoch 7/10\n",
            "104/104 [==============================] - 0s 4ms/step - loss: 5.0024\n",
            "Epoch 8/10\n",
            "104/104 [==============================] - 0s 3ms/step - loss: 4.9840\n",
            "Epoch 9/10\n",
            "104/104 [==============================] - 0s 3ms/step - loss: 4.9564\n",
            "Epoch 10/10\n",
            "104/104 [==============================] - 0s 3ms/step - loss: 4.9400\n"
          ]
        },
        {
          "output_type": "execute_result",
          "data": {
            "text/plain": [
              "<keras.callbacks.History at 0x7f97d03af150>"
            ]
          },
          "metadata": {},
          "execution_count": 19
        }
      ]
    },
    {
      "cell_type": "markdown",
      "source": [
        "## Another example: Titanic dataset"
      ],
      "metadata": {
        "id": "HI7JIOKM1I6L"
      }
    },
    {
      "cell_type": "code",
      "source": [
        "# Let's load the CSV as a dataframe\n",
        "csv_path = \"https://storage.googleapis.com/tf-datasets/titanic/train.csv\" \n",
        "titanic = pd.read_csv(csv_path)"
      ],
      "metadata": {
        "id": "QDtOZHXM1dko"
      },
      "execution_count": 20,
      "outputs": []
    },
    {
      "cell_type": "code",
      "source": [
        "# Let's inspect the dataframe\n",
        "titanic.head()"
      ],
      "metadata": {
        "colab": {
          "base_uri": "https://localhost:8080/",
          "height": 206
        },
        "id": "S_rTqk2o1pDs",
        "outputId": "b94b51da-0053-48d7-c7bc-496ddcd59e1c"
      },
      "execution_count": 21,
      "outputs": [
        {
          "output_type": "execute_result",
          "data": {
            "text/html": [
              "<div>\n",
              "<style scoped>\n",
              "    .dataframe tbody tr th:only-of-type {\n",
              "        vertical-align: middle;\n",
              "    }\n",
              "\n",
              "    .dataframe tbody tr th {\n",
              "        vertical-align: top;\n",
              "    }\n",
              "\n",
              "    .dataframe thead th {\n",
              "        text-align: right;\n",
              "    }\n",
              "</style>\n",
              "<table border=\"1\" class=\"dataframe\">\n",
              "  <thead>\n",
              "    <tr style=\"text-align: right;\">\n",
              "      <th></th>\n",
              "      <th>survived</th>\n",
              "      <th>sex</th>\n",
              "      <th>age</th>\n",
              "      <th>n_siblings_spouses</th>\n",
              "      <th>parch</th>\n",
              "      <th>fare</th>\n",
              "      <th>class</th>\n",
              "      <th>deck</th>\n",
              "      <th>embark_town</th>\n",
              "      <th>alone</th>\n",
              "    </tr>\n",
              "  </thead>\n",
              "  <tbody>\n",
              "    <tr>\n",
              "      <th>0</th>\n",
              "      <td>0</td>\n",
              "      <td>male</td>\n",
              "      <td>22.0</td>\n",
              "      <td>1</td>\n",
              "      <td>0</td>\n",
              "      <td>7.2500</td>\n",
              "      <td>Third</td>\n",
              "      <td>unknown</td>\n",
              "      <td>Southampton</td>\n",
              "      <td>n</td>\n",
              "    </tr>\n",
              "    <tr>\n",
              "      <th>1</th>\n",
              "      <td>1</td>\n",
              "      <td>female</td>\n",
              "      <td>38.0</td>\n",
              "      <td>1</td>\n",
              "      <td>0</td>\n",
              "      <td>71.2833</td>\n",
              "      <td>First</td>\n",
              "      <td>C</td>\n",
              "      <td>Cherbourg</td>\n",
              "      <td>n</td>\n",
              "    </tr>\n",
              "    <tr>\n",
              "      <th>2</th>\n",
              "      <td>1</td>\n",
              "      <td>female</td>\n",
              "      <td>26.0</td>\n",
              "      <td>0</td>\n",
              "      <td>0</td>\n",
              "      <td>7.9250</td>\n",
              "      <td>Third</td>\n",
              "      <td>unknown</td>\n",
              "      <td>Southampton</td>\n",
              "      <td>y</td>\n",
              "    </tr>\n",
              "    <tr>\n",
              "      <th>3</th>\n",
              "      <td>1</td>\n",
              "      <td>female</td>\n",
              "      <td>35.0</td>\n",
              "      <td>1</td>\n",
              "      <td>0</td>\n",
              "      <td>53.1000</td>\n",
              "      <td>First</td>\n",
              "      <td>C</td>\n",
              "      <td>Southampton</td>\n",
              "      <td>n</td>\n",
              "    </tr>\n",
              "    <tr>\n",
              "      <th>4</th>\n",
              "      <td>0</td>\n",
              "      <td>male</td>\n",
              "      <td>28.0</td>\n",
              "      <td>0</td>\n",
              "      <td>0</td>\n",
              "      <td>8.4583</td>\n",
              "      <td>Third</td>\n",
              "      <td>unknown</td>\n",
              "      <td>Queenstown</td>\n",
              "      <td>y</td>\n",
              "    </tr>\n",
              "  </tbody>\n",
              "</table>\n",
              "</div>"
            ],
            "text/plain": [
              "   survived     sex   age  ...     deck  embark_town  alone\n",
              "0         0    male  22.0  ...  unknown  Southampton      n\n",
              "1         1  female  38.0  ...        C    Cherbourg      n\n",
              "2         1  female  26.0  ...  unknown  Southampton      y\n",
              "3         1  female  35.0  ...        C  Southampton      n\n",
              "4         0    male  28.0  ...  unknown   Queenstown      y\n",
              "\n",
              "[5 rows x 10 columns]"
            ]
          },
          "metadata": {},
          "execution_count": 21
        }
      ]
    },
    {
      "cell_type": "markdown",
      "source": [
        "We want to predict who survived to the accident. However, we have non numerical variables in the dataframe, like 'sex', 'class', etc."
      ],
      "metadata": {
        "id": "WlSiGztY1wkK"
      }
    },
    {
      "cell_type": "code",
      "source": [
        "# Let's split the dataframe in features and labels\n",
        "titanic_features = titanic.copy()\n",
        "titanic_labels = titanic_features.pop(\"survived\")"
      ],
      "metadata": {
        "id": "4N2Yc53O16BE"
      },
      "execution_count": 22,
      "outputs": []
    },
    {
      "cell_type": "code",
      "source": [
        "# Let's see the features\n",
        "titanic_features.head()"
      ],
      "metadata": {
        "colab": {
          "base_uri": "https://localhost:8080/",
          "height": 206
        },
        "id": "YIa2fflj2Ejb",
        "outputId": "9d6b93b6-f0c4-43a8-c4c5-7191c6bf7d85"
      },
      "execution_count": 23,
      "outputs": [
        {
          "output_type": "execute_result",
          "data": {
            "text/html": [
              "<div>\n",
              "<style scoped>\n",
              "    .dataframe tbody tr th:only-of-type {\n",
              "        vertical-align: middle;\n",
              "    }\n",
              "\n",
              "    .dataframe tbody tr th {\n",
              "        vertical-align: top;\n",
              "    }\n",
              "\n",
              "    .dataframe thead th {\n",
              "        text-align: right;\n",
              "    }\n",
              "</style>\n",
              "<table border=\"1\" class=\"dataframe\">\n",
              "  <thead>\n",
              "    <tr style=\"text-align: right;\">\n",
              "      <th></th>\n",
              "      <th>sex</th>\n",
              "      <th>age</th>\n",
              "      <th>n_siblings_spouses</th>\n",
              "      <th>parch</th>\n",
              "      <th>fare</th>\n",
              "      <th>class</th>\n",
              "      <th>deck</th>\n",
              "      <th>embark_town</th>\n",
              "      <th>alone</th>\n",
              "    </tr>\n",
              "  </thead>\n",
              "  <tbody>\n",
              "    <tr>\n",
              "      <th>0</th>\n",
              "      <td>male</td>\n",
              "      <td>22.0</td>\n",
              "      <td>1</td>\n",
              "      <td>0</td>\n",
              "      <td>7.2500</td>\n",
              "      <td>Third</td>\n",
              "      <td>unknown</td>\n",
              "      <td>Southampton</td>\n",
              "      <td>n</td>\n",
              "    </tr>\n",
              "    <tr>\n",
              "      <th>1</th>\n",
              "      <td>female</td>\n",
              "      <td>38.0</td>\n",
              "      <td>1</td>\n",
              "      <td>0</td>\n",
              "      <td>71.2833</td>\n",
              "      <td>First</td>\n",
              "      <td>C</td>\n",
              "      <td>Cherbourg</td>\n",
              "      <td>n</td>\n",
              "    </tr>\n",
              "    <tr>\n",
              "      <th>2</th>\n",
              "      <td>female</td>\n",
              "      <td>26.0</td>\n",
              "      <td>0</td>\n",
              "      <td>0</td>\n",
              "      <td>7.9250</td>\n",
              "      <td>Third</td>\n",
              "      <td>unknown</td>\n",
              "      <td>Southampton</td>\n",
              "      <td>y</td>\n",
              "    </tr>\n",
              "    <tr>\n",
              "      <th>3</th>\n",
              "      <td>female</td>\n",
              "      <td>35.0</td>\n",
              "      <td>1</td>\n",
              "      <td>0</td>\n",
              "      <td>53.1000</td>\n",
              "      <td>First</td>\n",
              "      <td>C</td>\n",
              "      <td>Southampton</td>\n",
              "      <td>n</td>\n",
              "    </tr>\n",
              "    <tr>\n",
              "      <th>4</th>\n",
              "      <td>male</td>\n",
              "      <td>28.0</td>\n",
              "      <td>0</td>\n",
              "      <td>0</td>\n",
              "      <td>8.4583</td>\n",
              "      <td>Third</td>\n",
              "      <td>unknown</td>\n",
              "      <td>Queenstown</td>\n",
              "      <td>y</td>\n",
              "    </tr>\n",
              "  </tbody>\n",
              "</table>\n",
              "</div>"
            ],
            "text/plain": [
              "      sex   age  n_siblings_spouses  parch  ...  class     deck  embark_town alone\n",
              "0    male  22.0                   1      0  ...  Third  unknown  Southampton     n\n",
              "1  female  38.0                   1      0  ...  First        C    Cherbourg     n\n",
              "2  female  26.0                   0      0  ...  Third  unknown  Southampton     y\n",
              "3  female  35.0                   1      0  ...  First        C  Southampton     n\n",
              "4    male  28.0                   0      0  ...  Third  unknown   Queenstown     y\n",
              "\n",
              "[5 rows x 9 columns]"
            ]
          },
          "metadata": {},
          "execution_count": 23
        }
      ]
    },
    {
      "cell_type": "code",
      "source": [
        "# And the labels\n",
        "titanic_labels.head()"
      ],
      "metadata": {
        "colab": {
          "base_uri": "https://localhost:8080/"
        },
        "id": "BuEVNElz2JTB",
        "outputId": "a06f4728-703f-4a72-d0f7-0cc7ea7d34d6"
      },
      "execution_count": 24,
      "outputs": [
        {
          "output_type": "execute_result",
          "data": {
            "text/plain": [
              "0    0\n",
              "1    1\n",
              "2    1\n",
              "3    1\n",
              "4    0\n",
              "Name: survived, dtype: int64"
            ]
          },
          "metadata": {},
          "execution_count": 24
        }
      ]
    },
    {
      "cell_type": "markdown",
      "source": [
        "We have to preprocess the data. We can do it offline or we can use the Keras preprocessing layers instead. The latter is recommended because when you save and export the model, the preprocessing layers will be exported with it. "
      ],
      "metadata": {
        "id": "H60grcfQ3Onr"
      }
    },
    {
      "cell_type": "markdown",
      "source": [
        "A note on **symbolic tensors**: as opposite to **eager tensors**, they don't hold a value; they keep track of the operations run on them. Let's see an example:"
      ],
      "metadata": {
        "id": "3QGB_HpY3gsD"
      }
    },
    {
      "cell_type": "code",
      "source": [
        "# Let's create a symbolic input\n",
        "input = tf.keras.Input(shape=(), dtype=tf.float32)\n",
        "\n",
        "# Perform a calculation using the input\n",
        "result = 2*input+1\n",
        "\n",
        "# And see the result, which is empty\n",
        "result"
      ],
      "metadata": {
        "colab": {
          "base_uri": "https://localhost:8080/"
        },
        "id": "ACp_SXbj3w22",
        "outputId": "5f6161a6-b66a-4cbe-c64a-0ff41403abf0"
      },
      "execution_count": 25,
      "outputs": [
        {
          "output_type": "execute_result",
          "data": {
            "text/plain": [
              "<KerasTensor: shape=(None,) dtype=float32 (created by layer 'tf.__operators__.add')>"
            ]
          },
          "metadata": {},
          "execution_count": 25
        }
      ]
    },
    {
      "cell_type": "code",
      "source": [
        "# Let's define a model using this calculation\n",
        "calc = tf.keras.Model(inputs=input, outputs=result)"
      ],
      "metadata": {
        "id": "S5TSTx-c4BWM"
      },
      "execution_count": 26,
      "outputs": []
    },
    {
      "cell_type": "code",
      "source": [
        "# And now use this model\n",
        "print(calc(1).numpy())\n",
        "print(calc(2).numpy())"
      ],
      "metadata": {
        "colab": {
          "base_uri": "https://localhost:8080/"
        },
        "id": "6aHG5z-N4K45",
        "outputId": "4a65bb8c-2ce6-40f7-9a26-ed9fb1271e70"
      },
      "execution_count": 27,
      "outputs": [
        {
          "output_type": "stream",
          "name": "stdout",
          "text": [
            "3.0\n",
            "5.0\n"
          ]
        }
      ]
    },
    {
      "cell_type": "markdown",
      "source": [
        "Ok, back to our problem:"
      ],
      "metadata": {
        "id": "mwgvQjmP4SY6"
      }
    },
    {
      "cell_type": "code",
      "source": [
        "# Let's inspect the type of some columns\n",
        "print(titanic_features[\"sex\"].dtype)\n",
        "print(titanic_features[\"age\"].dtype)"
      ],
      "metadata": {
        "colab": {
          "base_uri": "https://localhost:8080/"
        },
        "id": "o9L1nzvw4U-S",
        "outputId": "f06692ce-8220-46e0-b9d2-782cce68b2b8"
      },
      "execution_count": 28,
      "outputs": [
        {
          "output_type": "stream",
          "name": "stdout",
          "text": [
            "object\n",
            "float64\n"
          ]
        }
      ]
    },
    {
      "cell_type": "code",
      "source": [
        "# To build the preprocessing pipeline, we use a set of\n",
        "# symbolic inputs \n",
        "inputs = {}\n",
        "\n",
        "for name, column in titanic_features.items():\n",
        "  # Let's define the dtype based on the original dtype\n",
        "  dtype = column.dtype\n",
        "  dtype = tf.string if dtype==object else tf.float32\n",
        "\n",
        "  # And let's add the input. The name is the same as the\n",
        "  # column's name on the dataframe\n",
        "  inputs[name] = tf.keras.Input(shape=(1,), name=name, dtype=dtype)\n",
        "\n",
        "# Now, let's see the inputs\n",
        "inputs"
      ],
      "metadata": {
        "colab": {
          "base_uri": "https://localhost:8080/"
        },
        "id": "xxtBL2gl45Xn",
        "outputId": "eee7bfca-f951-4afc-c3f1-736326729141"
      },
      "execution_count": 29,
      "outputs": [
        {
          "output_type": "execute_result",
          "data": {
            "text/plain": [
              "{'age': <KerasTensor: shape=(None, 1) dtype=float32 (created by layer 'age')>,\n",
              " 'alone': <KerasTensor: shape=(None, 1) dtype=string (created by layer 'alone')>,\n",
              " 'class': <KerasTensor: shape=(None, 1) dtype=string (created by layer 'class')>,\n",
              " 'deck': <KerasTensor: shape=(None, 1) dtype=string (created by layer 'deck')>,\n",
              " 'embark_town': <KerasTensor: shape=(None, 1) dtype=string (created by layer 'embark_town')>,\n",
              " 'fare': <KerasTensor: shape=(None, 1) dtype=float32 (created by layer 'fare')>,\n",
              " 'n_siblings_spouses': <KerasTensor: shape=(None, 1) dtype=float32 (created by layer 'n_siblings_spouses')>,\n",
              " 'parch': <KerasTensor: shape=(None, 1) dtype=float32 (created by layer 'parch')>,\n",
              " 'sex': <KerasTensor: shape=(None, 1) dtype=string (created by layer 'sex')>}"
            ]
          },
          "metadata": {},
          "execution_count": 29
        }
      ]
    },
    {
      "cell_type": "code",
      "source": [
        "# Let's get only the numeric inputs for the model\n",
        "numeric_inputs = {}\n",
        "for name, input in inputs.items():\n",
        "  if input.dtype == tf.float32:\n",
        "    numeric_inputs[name] = input\n",
        "\n",
        "numeric_inputs"
      ],
      "metadata": {
        "colab": {
          "base_uri": "https://localhost:8080/"
        },
        "id": "9Gk5HO5Z7Hl-",
        "outputId": "303b4fba-983a-4bf9-d837-9a526ceff094"
      },
      "execution_count": 30,
      "outputs": [
        {
          "output_type": "execute_result",
          "data": {
            "text/plain": [
              "{'age': <KerasTensor: shape=(None, 1) dtype=float32 (created by layer 'age')>,\n",
              " 'fare': <KerasTensor: shape=(None, 1) dtype=float32 (created by layer 'fare')>,\n",
              " 'n_siblings_spouses': <KerasTensor: shape=(None, 1) dtype=float32 (created by layer 'n_siblings_spouses')>,\n",
              " 'parch': <KerasTensor: shape=(None, 1) dtype=float32 (created by layer 'parch')>}"
            ]
          },
          "metadata": {},
          "execution_count": 30
        }
      ]
    },
    {
      "cell_type": "code",
      "source": [
        "# Now, we're going to concatenate the inputs together\n",
        "numeric_values = list(numeric_inputs.values())\n",
        "x = layers.Concatenate()(numeric_values)"
      ],
      "metadata": {
        "id": "yc1VmCXD7k4S"
      },
      "execution_count": 31,
      "outputs": []
    },
    {
      "cell_type": "code",
      "source": [
        "# Numeric columns\n",
        "numeric_titanic = titanic[numeric_inputs.keys()]\n",
        "numeric_titanic.head()"
      ],
      "metadata": {
        "colab": {
          "base_uri": "https://localhost:8080/",
          "height": 206
        },
        "id": "FiM3K_VS8MvU",
        "outputId": "35fb20fb-df8b-4f37-e8be-d3d43d8299f1"
      },
      "execution_count": 32,
      "outputs": [
        {
          "output_type": "execute_result",
          "data": {
            "text/html": [
              "<div>\n",
              "<style scoped>\n",
              "    .dataframe tbody tr th:only-of-type {\n",
              "        vertical-align: middle;\n",
              "    }\n",
              "\n",
              "    .dataframe tbody tr th {\n",
              "        vertical-align: top;\n",
              "    }\n",
              "\n",
              "    .dataframe thead th {\n",
              "        text-align: right;\n",
              "    }\n",
              "</style>\n",
              "<table border=\"1\" class=\"dataframe\">\n",
              "  <thead>\n",
              "    <tr style=\"text-align: right;\">\n",
              "      <th></th>\n",
              "      <th>age</th>\n",
              "      <th>n_siblings_spouses</th>\n",
              "      <th>parch</th>\n",
              "      <th>fare</th>\n",
              "    </tr>\n",
              "  </thead>\n",
              "  <tbody>\n",
              "    <tr>\n",
              "      <th>0</th>\n",
              "      <td>22.0</td>\n",
              "      <td>1</td>\n",
              "      <td>0</td>\n",
              "      <td>7.2500</td>\n",
              "    </tr>\n",
              "    <tr>\n",
              "      <th>1</th>\n",
              "      <td>38.0</td>\n",
              "      <td>1</td>\n",
              "      <td>0</td>\n",
              "      <td>71.2833</td>\n",
              "    </tr>\n",
              "    <tr>\n",
              "      <th>2</th>\n",
              "      <td>26.0</td>\n",
              "      <td>0</td>\n",
              "      <td>0</td>\n",
              "      <td>7.9250</td>\n",
              "    </tr>\n",
              "    <tr>\n",
              "      <th>3</th>\n",
              "      <td>35.0</td>\n",
              "      <td>1</td>\n",
              "      <td>0</td>\n",
              "      <td>53.1000</td>\n",
              "    </tr>\n",
              "    <tr>\n",
              "      <th>4</th>\n",
              "      <td>28.0</td>\n",
              "      <td>0</td>\n",
              "      <td>0</td>\n",
              "      <td>8.4583</td>\n",
              "    </tr>\n",
              "  </tbody>\n",
              "</table>\n",
              "</div>"
            ],
            "text/plain": [
              "    age  n_siblings_spouses  parch     fare\n",
              "0  22.0                   1      0   7.2500\n",
              "1  38.0                   1      0  71.2833\n",
              "2  26.0                   0      0   7.9250\n",
              "3  35.0                   1      0  53.1000\n",
              "4  28.0                   0      0   8.4583"
            ]
          },
          "metadata": {},
          "execution_count": 32
        }
      ]
    },
    {
      "cell_type": "code",
      "source": [
        "# The numeric inputs should be run through a normalization\n",
        "# layer, so we define it and adapt to the numeric columns of\n",
        "# the dataset.\n",
        "norm = layers.Normalization()\n",
        "norm.adapt(np.array(numeric_titanic))"
      ],
      "metadata": {
        "id": "hK8wCLSp77eV"
      },
      "execution_count": 33,
      "outputs": []
    },
    {
      "cell_type": "code",
      "source": [
        "# The next operation is to normalize the numeric\n",
        "# inputs\n",
        "all_numeric_inputs = norm(x)\n",
        "all_numeric_inputs"
      ],
      "metadata": {
        "colab": {
          "base_uri": "https://localhost:8080/"
        },
        "id": "SykQy1rT8svQ",
        "outputId": "469f4c2f-60c2-4e70-990f-9abebe2155cf"
      },
      "execution_count": 34,
      "outputs": [
        {
          "output_type": "execute_result",
          "data": {
            "text/plain": [
              "<KerasTensor: shape=(None, 4) dtype=float32 (created by layer 'normalization_1')>"
            ]
          },
          "metadata": {},
          "execution_count": 34
        }
      ]
    },
    {
      "cell_type": "code",
      "source": [
        "# Collect the preprocessing results to concatenate them later\n",
        "preprocessed_inputs = [all_numeric_inputs]"
      ],
      "metadata": {
        "id": "7FqhzADx9CgG"
      },
      "execution_count": 35,
      "outputs": []
    },
    {
      "cell_type": "markdown",
      "source": [
        "Now, it's time to work and preprocess the string variables. First, we're going to convert strings into numeric IDs based on a vocabulary of unique strings. After that, we will encode those IDs into a one-hot vector."
      ],
      "metadata": {
        "id": "Rqpt_xZV9QIT"
      }
    },
    {
      "cell_type": "code",
      "source": [
        "for name, input in inputs.items():\n",
        "  if input.dtype == tf.string:  # if the input is not numeric\n",
        "    # Create the lookup layer: from strings to IDs\n",
        "    lookup = layers.StringLookup(vocabulary=np.unique(titanic_features[name]))\n",
        "\n",
        "    # Create the one hot encoding layer.\n",
        "    one_hot = layers.CategoryEncoding(num_tokens=lookup.vocabulary_size())\n",
        "\n",
        "    # Now, propagate the input through these two layers\n",
        "    x = lookup(input)\n",
        "    x = one_hot(x)\n",
        "\n",
        "    # Finally, append the preprocessed input to the list\n",
        "    preprocessed_inputs.append(x)\n",
        "\n",
        "preprocessed_inputs"
      ],
      "metadata": {
        "id": "bmu9qRrd9Xxa",
        "colab": {
          "base_uri": "https://localhost:8080/"
        },
        "outputId": "e5f5fd63-d968-4dfc-88d1-a36492188471"
      },
      "execution_count": 36,
      "outputs": [
        {
          "output_type": "execute_result",
          "data": {
            "text/plain": [
              "[<KerasTensor: shape=(None, 4) dtype=float32 (created by layer 'normalization_1')>,\n",
              " <KerasTensor: shape=(None, 3) dtype=float32 (created by layer 'category_encoding')>,\n",
              " <KerasTensor: shape=(None, 4) dtype=float32 (created by layer 'category_encoding_1')>,\n",
              " <KerasTensor: shape=(None, 9) dtype=float32 (created by layer 'category_encoding_2')>,\n",
              " <KerasTensor: shape=(None, 5) dtype=float32 (created by layer 'category_encoding_3')>,\n",
              " <KerasTensor: shape=(None, 3) dtype=float32 (created by layer 'category_encoding_4')>]"
            ]
          },
          "metadata": {},
          "execution_count": 36
        }
      ]
    },
    {
      "cell_type": "code",
      "source": [
        "# Concatenate all the preprocessed inputs\n",
        "preprocessed_inputs_cat = layers.Concatenate()(preprocessed_inputs)"
      ],
      "metadata": {
        "id": "xz12Gt1G88GZ"
      },
      "execution_count": 37,
      "outputs": []
    },
    {
      "cell_type": "code",
      "source": [
        "# Now let's build a model that handles all these preprocessing steps\n",
        "titanic_preprocessing = tf.keras.Model(inputs, preprocessed_inputs_cat)"
      ],
      "metadata": {
        "id": "nkuCoiKh9FYc"
      },
      "execution_count": 38,
      "outputs": []
    },
    {
      "cell_type": "code",
      "source": [
        "# We can visualize the model\n",
        "tf.keras.utils.plot_model(model=titanic_preprocessing, rankdir=\"LR\", dpi=72, show_shapes=True)"
      ],
      "metadata": {
        "colab": {
          "base_uri": "https://localhost:8080/",
          "height": 684
        },
        "id": "kNT4_Los9OnA",
        "outputId": "0696ac95-3561-40d2-df11-b2d2e0dc34fe"
      },
      "execution_count": 39,
      "outputs": [
        {
          "output_type": "execute_result",
          "data": {
            "image/png": "[encoded data removed]",
            "text/plain": [
              "<IPython.core.display.Image object>"
            ]
          },
          "metadata": {},
          "execution_count": 39
        }
      ]
    },
    {
      "cell_type": "code",
      "source": [
        "# Let's build a dictionary of tensors from the pandas dataframe\n",
        "titanic_features_dict = {}\n",
        "for name, value in titanic_features.items():\n",
        "  titanic_features_dict[name] = np.array(value)\n"
      ],
      "metadata": {
        "id": "HpKA-I8t-IfA"
      },
      "execution_count": 40,
      "outputs": []
    },
    {
      "cell_type": "code",
      "source": [
        "# Grab the first training example and see how it is preprocessed\n",
        "# through the pipeline we've set:\n",
        "sample_features_dict = {}\n",
        "for name, values in titanic_features_dict.items():\n",
        "  sample_features_dict[name] = values[:1]\n",
        "print(f\"Input: {sample_features_dict}\")\n",
        "\n",
        "preprocessed_sample = titanic_preprocessing(sample_features_dict)\n",
        "print(f\"Preprocessed input: {preprocessed_sample}\")\n"
      ],
      "metadata": {
        "colab": {
          "base_uri": "https://localhost:8080/"
        },
        "id": "YmSDso3E-fdi",
        "outputId": "ca82094a-f167-46ee-cdfd-05d0c0768ea2"
      },
      "execution_count": 41,
      "outputs": [
        {
          "output_type": "stream",
          "name": "stdout",
          "text": [
            "Input: {'sex': array(['male'], dtype=object), 'age': array([22.]), 'n_siblings_spouses': array([1]), 'parch': array([0]), 'fare': array([7.25]), 'class': array(['Third'], dtype=object), 'deck': array(['unknown'], dtype=object), 'embark_town': array(['Southampton'], dtype=object), 'alone': array(['n'], dtype=object)}\n",
            "Preprocessed input: [[-0.61   0.395 -0.479 -0.497  0.     0.     1.     0.     0.     0.\n",
            "   1.     0.     0.     0.     0.     0.     0.     0.     0.     1.\n",
            "   0.     0.     0.     1.     0.     0.     1.     0.   ]]\n"
          ]
        }
      ]
    },
    {
      "cell_type": "code",
      "source": [
        "# Build the model in top of the preprocessing pipeline\n",
        "def titanic_model(preprocessing_head, inputs):\n",
        "\n",
        "  # Main backbone\n",
        "  body = tf.keras.Sequential([\n",
        "    layers.Dense(64),\n",
        "    layers.Dense(1)\n",
        "  ])\n",
        "\n",
        "  # Build the complete pipeline: preprocessing + backbone\n",
        "  preprocessed_inputs = preprocessing_head(inputs)\n",
        "  result = body(preprocessed_inputs)\n",
        "  model = tf.keras.Model(inputs, result)\n",
        "\n",
        "  # Compile the model and return it\n",
        "  model.compile(loss=tf.losses.BinaryCrossentropy(from_logits=True),\n",
        "                optimizer=tf.optimizers.Adam())\n",
        "  return model"
      ],
      "metadata": {
        "id": "H6bs1lDg_ncO"
      },
      "execution_count": 42,
      "outputs": []
    },
    {
      "cell_type": "code",
      "source": [
        "# Now, create the model using the previous function\n",
        "titanic_model = titanic_model(titanic_preprocessing, inputs)"
      ],
      "metadata": {
        "id": "DCFXkGy4ASNh"
      },
      "execution_count": 43,
      "outputs": []
    },
    {
      "cell_type": "code",
      "source": [
        "# Let's train the model: 'x' is the dict of features, while 'y' are the\n",
        "# labels. Until now, we were using symbolic links but here we are giving \n",
        "# real input values\n",
        "titanic_model.fit(x=titanic_features_dict, y=titanic_labels, epochs=10)"
      ],
      "metadata": {
        "colab": {
          "base_uri": "https://localhost:8080/"
        },
        "id": "J2hL113bAyrY",
        "outputId": "fc871829-b720-496b-9e24-ffb3ce4885c0"
      },
      "execution_count": 44,
      "outputs": [
        {
          "output_type": "stream",
          "name": "stdout",
          "text": [
            "Epoch 1/10\n",
            "20/20 [==============================] - 1s 7ms/step - loss: 0.6560\n",
            "Epoch 2/10\n",
            "20/20 [==============================] - 0s 7ms/step - loss: 0.5405\n",
            "Epoch 3/10\n",
            "20/20 [==============================] - 0s 7ms/step - loss: 0.4893\n",
            "Epoch 4/10\n",
            "20/20 [==============================] - 0s 7ms/step - loss: 0.4629\n",
            "Epoch 5/10\n",
            "20/20 [==============================] - 0s 8ms/step - loss: 0.4461\n",
            "Epoch 6/10\n",
            "20/20 [==============================] - 0s 7ms/step - loss: 0.4362\n",
            "Epoch 7/10\n",
            "20/20 [==============================] - 0s 6ms/step - loss: 0.4306\n",
            "Epoch 8/10\n",
            "20/20 [==============================] - 0s 6ms/step - loss: 0.4269\n",
            "Epoch 9/10\n",
            "20/20 [==============================] - 0s 7ms/step - loss: 0.4296\n",
            "Epoch 10/10\n",
            "20/20 [==============================] - 0s 7ms/step - loss: 0.4242\n"
          ]
        },
        {
          "output_type": "execute_result",
          "data": {
            "text/plain": [
              "<keras.callbacks.History at 0x7f97d0181b10>"
            ]
          },
          "metadata": {},
          "execution_count": 44
        }
      ]
    },
    {
      "cell_type": "code",
      "source": [
        "# The preprocessing step is saved joinly with the model\n",
        "titanic_model.save(\"titanic_model\")"
      ],
      "metadata": {
        "colab": {
          "base_uri": "https://localhost:8080/"
        },
        "id": "751Nbkh1Bdft",
        "outputId": "0befc884-1b24-4de5-ee51-aaa5dfceeab1"
      },
      "execution_count": 45,
      "outputs": [
        {
          "output_type": "stream",
          "name": "stdout",
          "text": [
            "INFO:tensorflow:Assets written to: titanic_model/assets\n"
          ]
        }
      ]
    },
    {
      "cell_type": "code",
      "source": [
        "# So when you reload it, you will get the same results\n",
        "reloaded = tf.keras.models.load_model(\"titanic_model\")\n",
        "\n",
        "# Let's check it with the first training sample\n",
        "before = titanic_model(sample_features_dict)\n",
        "after = reloaded(sample_features_dict)\n",
        "\n",
        "print(before)\n",
        "print(after)\n",
        "assert before == after"
      ],
      "metadata": {
        "colab": {
          "base_uri": "https://localhost:8080/"
        },
        "id": "-sZDHvLPBmAI",
        "outputId": "f7f7ec3d-863b-4d79-d997-db5964bd5466"
      },
      "execution_count": 46,
      "outputs": [
        {
          "output_type": "stream",
          "name": "stdout",
          "text": [
            "tf.Tensor([[-1.803]], shape=(1, 1), dtype=float32)\n",
            "tf.Tensor([[-1.803]], shape=(1, 1), dtype=float32)\n"
          ]
        }
      ]
    },
    {
      "cell_type": "markdown",
      "source": [
        "## Using tf.data\n",
        "\n",
        "In the previous section you relied on the model's built-in data shuffling and batching while training the model. If you need more control, use tf.data to build the **data pipeline**."
      ],
      "metadata": {
        "id": "vaGgjuURCMQJ"
      }
    },
    {
      "cell_type": "markdown",
      "source": [
        "### On memory data"
      ],
      "metadata": {
        "id": "DBB0C8S9EdtB"
      }
    },
    {
      "cell_type": "code",
      "source": [
        "# To see the first example of using tf.data, consider the following\n",
        "# generator function:\n",
        "import itertools\n",
        "\n",
        "def slices(features):\n",
        "  for i in itertools.count():  # similar to 'range'\n",
        "    # For each feature take the sample 'i'\n",
        "    example = {}\n",
        "    for name, values in features.items():\n",
        "      example[name] = values[i]\n",
        "    yield example"
      ],
      "metadata": {
        "id": "xBDajcyZDgli"
      },
      "execution_count": 47,
      "outputs": []
    },
    {
      "cell_type": "code",
      "source": [
        "# Let's see this function in action\n",
        "for example in slices(titanic_features_dict):\n",
        "  for name, value in example.items():\n",
        "    print(f\"{name}:{value}\")\n",
        "  break  # we only print the first example"
      ],
      "metadata": {
        "colab": {
          "base_uri": "https://localhost:8080/"
        },
        "id": "gsVttrC7EB6D",
        "outputId": "f44ef082-8663-47cd-d965-51b85dae4ffb"
      },
      "execution_count": 48,
      "outputs": [
        {
          "output_type": "stream",
          "name": "stdout",
          "text": [
            "sex:male\n",
            "age:22.0\n",
            "n_siblings_spouses:1\n",
            "parch:0\n",
            "fare:7.25\n",
            "class:Third\n",
            "deck:unknown\n",
            "embark_town:Southampton\n",
            "alone:n\n"
          ]
        }
      ]
    },
    {
      "cell_type": "code",
      "source": [
        "# A generalized version of this 'slices' function is the 'from_tensor_slices'\n",
        "# constructor:\n",
        "features_ds = tf.data.Dataset.from_tensor_slices(titanic_features_dict)\n",
        "type(features_ds)"
      ],
      "metadata": {
        "colab": {
          "base_uri": "https://localhost:8080/"
        },
        "id": "EyT5t5AaEz-s",
        "outputId": "7f77bb97-fcf5-498f-e7a2-f7677b861958"
      },
      "execution_count": 49,
      "outputs": [
        {
          "output_type": "execute_result",
          "data": {
            "text/plain": [
              "tensorflow.python.data.ops.dataset_ops.TensorSliceDataset"
            ]
          },
          "metadata": {},
          "execution_count": 49
        }
      ]
    },
    {
      "cell_type": "code",
      "source": [
        "# After building the Dataset, you can iterate over it like we did with \n",
        "# the 'slices' function:\n",
        "for example in features_ds:\n",
        "  for name, value in example.items():\n",
        "    print(f\"{name}:{value}\")\n",
        "  break  # we only print the first example"
      ],
      "metadata": {
        "colab": {
          "base_uri": "https://localhost:8080/"
        },
        "id": "7lPDfOXOFC8D",
        "outputId": "e669fe7b-84d4-4e76-d37d-f525471faa5b"
      },
      "execution_count": 50,
      "outputs": [
        {
          "output_type": "stream",
          "name": "stdout",
          "text": [
            "sex:b'male'\n",
            "age:22.0\n",
            "n_siblings_spouses:1\n",
            "parch:0\n",
            "fare:7.25\n",
            "class:b'Third'\n",
            "deck:b'unknown'\n",
            "embark_town:b'Southampton'\n",
            "alone:b'n'\n"
          ]
        }
      ]
    },
    {
      "cell_type": "code",
      "source": [
        "# 'from_tensor_slices' can handle any structure of nested dicts or tuples\n",
        "titanic_ds = tf.data.Dataset.from_tensor_slices((titanic_features_dict, titanic_labels))"
      ],
      "metadata": {
        "id": "Oex2UuW8FhOa"
      },
      "execution_count": 51,
      "outputs": []
    },
    {
      "cell_type": "code",
      "source": [
        "# To use this dataset to train the model, you have to shuffle the data\n",
        "titanic_shuffle_ds = titanic_ds.shuffle(len(titanic_labels))"
      ],
      "metadata": {
        "id": "sMpcIIkFF4Y5"
      },
      "execution_count": 52,
      "outputs": []
    },
    {
      "cell_type": "code",
      "source": [
        "# Then, we have to batch the data\n",
        "titanic_batches = titanic_shuffle_ds.batch(32)"
      ],
      "metadata": {
        "id": "dmKjXscFGU40"
      },
      "execution_count": 53,
      "outputs": []
    },
    {
      "cell_type": "code",
      "source": [
        "# Now, let's train the model. Instead of passing 'features' and 'labels', we \n",
        "# pass the created dataset\n",
        "titanic_model.fit(titanic_batches, epochs=5)"
      ],
      "metadata": {
        "colab": {
          "base_uri": "https://localhost:8080/"
        },
        "id": "HwQ4gn93Gday",
        "outputId": "5476f671-be12-4467-c5c3-3e185c07732b"
      },
      "execution_count": 54,
      "outputs": [
        {
          "output_type": "stream",
          "name": "stdout",
          "text": [
            "Epoch 1/5\n",
            "20/20 [==============================] - 1s 9ms/step - loss: 0.4209\n",
            "Epoch 2/5\n",
            "20/20 [==============================] - 0s 8ms/step - loss: 0.4217\n",
            "Epoch 3/5\n",
            "20/20 [==============================] - 0s 8ms/step - loss: 0.4203\n",
            "Epoch 4/5\n",
            "20/20 [==============================] - 0s 8ms/step - loss: 0.4205\n",
            "Epoch 5/5\n",
            "20/20 [==============================] - 0s 9ms/step - loss: 0.4194\n"
          ]
        },
        {
          "output_type": "execute_result",
          "data": {
            "text/plain": [
              "<keras.callbacks.History at 0x7f975e1e7f90>"
            ]
          },
          "metadata": {},
          "execution_count": 54
        }
      ]
    },
    {
      "cell_type": "markdown",
      "source": [
        "### From a single file"
      ],
      "metadata": {
        "id": "iBSfUuexG3sh"
      }
    },
    {
      "cell_type": "code",
      "source": [
        "# Get the CSV file\n",
        "google_storage = \"https://storage.googleapis.com/tf-datasets/titanic/train.csv\"\n",
        "titanic_file_path = tf.keras.utils.get_file(\"train.csv\", google_storage)\n",
        "titanic_file_path"
      ],
      "metadata": {
        "colab": {
          "base_uri": "https://localhost:8080/",
          "height": 87
        },
        "id": "-oAxU4aEG_CX",
        "outputId": "5da5ee6a-52c7-44ae-a230-cdc3af225e0f"
      },
      "execution_count": 55,
      "outputs": [
        {
          "output_type": "stream",
          "name": "stdout",
          "text": [
            "Downloading data from https://storage.googleapis.com/tf-datasets/titanic/train.csv\n",
            "32768/30874 [===============================] - 0s 0us/step\n",
            "40960/30874 [=======================================] - 0s 0us/step\n"
          ]
        },
        {
          "output_type": "execute_result",
          "data": {
            "application/vnd.google.colaboratory.intrinsic+json": {
              "type": "string"
            },
            "text/plain": [
              "'/root/.keras/datasets/train.csv'"
            ]
          },
          "metadata": {},
          "execution_count": 55
        }
      ]
    },
    {
      "cell_type": "code",
      "source": [
        "# Now, let's make a dataset from this CSV file\n",
        "titanic_csv_ds = tf.data.experimental.make_csv_dataset(\n",
        "    titanic_file_path,\n",
        "    batch_size=5,  # artificially small\n",
        "    label_name=\"survived\",\n",
        "    num_epochs=1,\n",
        "    ignore_errors=True\n",
        ")"
      ],
      "metadata": {
        "id": "c83Y0CQ1LcO_"
      },
      "execution_count": 56,
      "outputs": []
    },
    {
      "cell_type": "code",
      "source": [
        "# The column headers are used as dict keys\n",
        "for batch, label in titanic_csv_ds.take(1):\n",
        "  for key, value in batch.items():\n",
        "    print(f\"{key}:{value}\")\n",
        "  print(f\"Labels: {label}\")"
      ],
      "metadata": {
        "colab": {
          "base_uri": "https://localhost:8080/"
        },
        "id": "HUOWc_eqMTZH",
        "outputId": "63c5aa30-3316-4d4e-ea37-132f7987b142"
      },
      "execution_count": 57,
      "outputs": [
        {
          "output_type": "stream",
          "name": "stdout",
          "text": [
            "sex:[b'female' b'male' b'male' b'female' b'female']\n",
            "age:[ 0.75 11.   28.   58.   24.  ]\n",
            "n_siblings_spouses:[2 0 0 0 0]\n",
            "parch:[1 0 0 1 3]\n",
            "fare:[ 19.258  18.788  26.55  153.462  19.258]\n",
            "class:[b'Third' b'Third' b'First' b'First' b'Third']\n",
            "deck:[b'unknown' b'unknown' b'unknown' b'C' b'unknown']\n",
            "embark_town:[b'Cherbourg' b'Cherbourg' b'Southampton' b'Southampton' b'Cherbourg']\n",
            "alone:[b'n' b'y' b'y' b'n' b'n']\n",
            "Labels: [1 0 1 1 1]\n"
          ]
        }
      ]
    },
    {
      "cell_type": "code",
      "source": [
        "# It can decompress data on the fly too:\n",
        "google_storage = \"https://archive.ics.uci.edu/ml/machine-learning-databases/00492/Metro_Interstate_Traffic_Volume.csv.gz\"\n",
        "traffic_volume_csv_gz = tf.keras.utils.get_file(\n",
        "    \"Metro_Interstate_Traffic_Volume.csv.gz\",\n",
        "    google_storage,\n",
        "    cache_dir=\".\",\n",
        "    cache_subdir=\"traffic\"\n",
        ")\n",
        "traffic_volume_csv_gz"
      ],
      "metadata": {
        "colab": {
          "base_uri": "https://localhost:8080/",
          "height": 107
        },
        "id": "LUGsA6trM26s",
        "outputId": "5c1fd83a-8e96-4400-802a-0da5370e44a9"
      },
      "execution_count": 58,
      "outputs": [
        {
          "output_type": "stream",
          "name": "stdout",
          "text": [
            "Downloading data from https://archive.ics.uci.edu/ml/machine-learning-databases/00492/Metro_Interstate_Traffic_Volume.csv.gz\n",
            "409600/405373 [==============================] - 1s 1us/step\n",
            "417792/405373 [==============================] - 1s 1us/step\n"
          ]
        },
        {
          "output_type": "execute_result",
          "data": {
            "application/vnd.google.colaboratory.intrinsic+json": {
              "type": "string"
            },
            "text/plain": [
              "'./traffic/Metro_Interstate_Traffic_Volume.csv.gz'"
            ]
          },
          "metadata": {},
          "execution_count": 58
        }
      ]
    },
    {
      "cell_type": "code",
      "source": [
        "# Use the 'compression_type' argument to read directly from the compressed file\n",
        "traffic_volume_csv_gz_ds = tf.data.experimental.make_csv_dataset(\n",
        "    traffic_volume_csv_gz,\n",
        "    batch_size=5,\n",
        "    label_name=\"traffic_volume\",\n",
        "    num_epochs=1,\n",
        "    compression_type=\"GZIP\"\n",
        ")"
      ],
      "metadata": {
        "id": "mog0S4YsNiNn"
      },
      "execution_count": 59,
      "outputs": []
    },
    {
      "cell_type": "code",
      "source": [
        "# See the first batch\n",
        "for batch, label in traffic_volume_csv_gz_ds.take(1):\n",
        "  for key, value in batch.items():\n",
        "    print(f\"{key}:{value}\")\n",
        "  print(f\"Labels: {label}\")"
      ],
      "metadata": {
        "colab": {
          "base_uri": "https://localhost:8080/"
        },
        "id": "kMM1ksrxN4MX",
        "outputId": "2c331019-f114-42ef-e363-e4338836cd52"
      },
      "execution_count": 60,
      "outputs": [
        {
          "output_type": "stream",
          "name": "stdout",
          "text": [
            "holiday:[b'None' b'None' b'None' b'None' b'None']\n",
            "temp:[288.64 295.29 276.83 273.42 281.48]\n",
            "rain_1h:[0. 0. 0. 0. 0.]\n",
            "snow_1h:[0. 0. 0. 0. 0.]\n",
            "clouds_all:[ 1  1 75 90 40]\n",
            "weather_main:[b'Clear' b'Thunderstorm' b'Clouds' b'Haze' b'Clouds']\n",
            "weather_description:[b'sky is clear' b'thunderstorm' b'broken clouds' b'haze'\n",
            " b'scattered clouds']\n",
            "date_time:[b'2013-10-11 04:00:00' b'2013-06-24 04:00:00' b'2013-05-06 08:00:00'\n",
            " b'2012-12-01 09:00:00' b'2012-11-19 09:00:00']\n",
            "Labels: [ 791  848 6289 3648 5133]\n"
          ]
        }
      ]
    },
    {
      "cell_type": "markdown",
      "source": [
        "### Caching\n",
        "\n",
        "There is some overhead to parsing the csv data. We can use 'cache' or 'snapshot' so that the csv data is only parsed on the first epoch. The main difference between the cache and snapshot methods is that cache files can only be used by the TensorFlow process that created them, but snapshot files can be read by other processes."
      ],
      "metadata": {
        "id": "c2HZdtxwOZev"
      }
    },
    {
      "cell_type": "code",
      "source": [
        "# Iterate 20 times over the traffic volume dataset without caching\n",
        "%%time\n",
        "for i, (batch, label) in enumerate(traffic_volume_csv_gz_ds.repeat(20)):\n",
        "  if i % 1000 == 0:\n",
        "    print(\".\", end='')  # just a few printing \n",
        "print()"
      ],
      "metadata": {
        "colab": {
          "base_uri": "https://localhost:8080/"
        },
        "id": "EW9kApD6Ram0",
        "outputId": "7cc7e5f1-7c79-4a97-c928-8a58a8384e65"
      },
      "execution_count": 61,
      "outputs": [
        {
          "output_type": "stream",
          "name": "stdout",
          "text": [
            ".................................................................................................................................................................................................\n",
            "CPU times: user 1min 55s, sys: 19.4 s, total: 2min 15s\n",
            "Wall time: 2min 21s\n"
          ]
        }
      ]
    },
    {
      "cell_type": "code",
      "source": [
        "# Same operation but using caching:\n",
        "%%time\n",
        "caching = traffic_volume_csv_gz_ds.cache().shuffle(1000)  # apply shuffle after caching\n",
        "for i, (batch, label) in enumerate(caching.shuffle(1000).repeat(20)):\n",
        "  if i % 1000 == 0:\n",
        "    print(\".\", end='')\n",
        "print()"
      ],
      "metadata": {
        "colab": {
          "base_uri": "https://localhost:8080/"
        },
        "id": "vh-clwWkSYdL",
        "outputId": "21278804-3b46-4cd5-c875-68f4e7bf9780"
      },
      "execution_count": 62,
      "outputs": [
        {
          "output_type": "stream",
          "name": "stdout",
          "text": [
            ".................................................................................................................................................................................................\n",
            "CPU times: user 54.6 s, sys: 906 ms, total: 55.5 s\n",
            "Wall time: 53.3 s\n"
          ]
        }
      ]
    },
    {
      "cell_type": "code",
      "source": [
        "# Same operation but using snapshot\n",
        "%%time\n",
        "snapshot = tf.data.experimental.snapshot(\"traffic.tfsnap\")\n",
        "snapshotting = traffic_volume_csv_gz_ds.apply(snapshot).shuffle(1000)\n",
        "for i, (batch, label) in enumerate(snapshotting.shuffle(1000).repeat(20)):\n",
        "  if i % 1000 == 0:\n",
        "    print(\".\", end='')\n",
        "print()\n"
      ],
      "metadata": {
        "colab": {
          "base_uri": "https://localhost:8080/"
        },
        "id": "AYLFy7AUUhOq",
        "outputId": "20d34639-389f-4a28-a3a2-9c6daa79eb60"
      },
      "execution_count": 63,
      "outputs": [
        {
          "output_type": "stream",
          "name": "stdout",
          "text": [
            "WARNING:tensorflow:From <timed exec>:1: snapshot (from tensorflow.python.data.experimental.ops.snapshot) is deprecated and will be removed in a future version.\n",
            "Instructions for updating:\n",
            "Use `tf.data.Dataset.snapshot(...)`.\n",
            ".................................................................................................................................................................................................\n",
            "CPU times: user 1min 38s, sys: 12.9 s, total: 1min 51s\n",
            "Wall time: 1min 19s\n"
          ]
        }
      ]
    },
    {
      "cell_type": "markdown",
      "source": [
        "### Multiple files\n",
        "One place where tf.data can really simplify things is when dealing with collections of files."
      ],
      "metadata": {
        "id": "TWq98VeNVllL"
      }
    },
    {
      "cell_type": "code",
      "source": [
        "# Let's download the character font images dataset. It contains one CSV\n",
        "# per font.\n",
        "google_storage = \"https://archive.ics.uci.edu/ml/machine-learning-databases/00417/fonts.zip\"\n",
        "fonts_zip = tf.keras.utils.get_file(\"fonts.zip\",\n",
        "                                    google_storage,\n",
        "                                    cache_dir=\".\",\n",
        "                                    cache_subdir=\"fonts\",\n",
        "                                    extract=True)"
      ],
      "metadata": {
        "colab": {
          "base_uri": "https://localhost:8080/"
        },
        "id": "afXR5SIuVtmh",
        "outputId": "d52991e9-589b-4ba0-e182-e881f9117c55"
      },
      "execution_count": 64,
      "outputs": [
        {
          "output_type": "stream",
          "name": "stdout",
          "text": [
            "Downloading data from https://archive.ics.uci.edu/ml/machine-learning-databases/00417/fonts.zip\n",
            "160317440/160313983 [==============================] - 9s 0us/step\n",
            "160325632/160313983 [==============================] - 10s 0us/step\n"
          ]
        }
      ]
    },
    {
      "cell_type": "code",
      "source": [
        "# Let's take a look to some CSVs\n",
        "import pathlib\n",
        "\n",
        "unordered_csvs = [str(p) for p in pathlib.Path('fonts').glob(\"*.csv\")]\n",
        "font_csvs = sorted(unordered_csvs)\n",
        "\n",
        "font_csvs[:10]"
      ],
      "metadata": {
        "colab": {
          "base_uri": "https://localhost:8080/"
        },
        "id": "ryst2rT4WXAB",
        "outputId": "8e9427f9-1384-40ec-b6e7-7fe642b3d7b9"
      },
      "execution_count": 65,
      "outputs": [
        {
          "output_type": "execute_result",
          "data": {
            "text/plain": [
              "['fonts/AGENCY.csv',\n",
              " 'fonts/ARIAL.csv',\n",
              " 'fonts/BAITI.csv',\n",
              " 'fonts/BANKGOTHIC.csv',\n",
              " 'fonts/BASKERVILLE.csv',\n",
              " 'fonts/BAUHAUS.csv',\n",
              " 'fonts/BELL.csv',\n",
              " 'fonts/BERLIN.csv',\n",
              " 'fonts/BERNARD.csv',\n",
              " 'fonts/BITSTREAMVERA.csv']"
            ]
          },
          "metadata": {},
          "execution_count": 65
        }
      ]
    },
    {
      "cell_type": "code",
      "source": [
        "# Let's see how many CSVs do we have\n",
        "len(font_csvs)"
      ],
      "metadata": {
        "colab": {
          "base_uri": "https://localhost:8080/"
        },
        "id": "Ptoj-fmaWvo3",
        "outputId": "77f33a97-d2d2-4a1b-d2e1-6befec2553b7"
      },
      "execution_count": 66,
      "outputs": [
        {
          "output_type": "execute_result",
          "data": {
            "text/plain": [
              "153"
            ]
          },
          "metadata": {},
          "execution_count": 66
        }
      ]
    },
    {
      "cell_type": "code",
      "source": [
        "# Let's create the dataset:\n",
        "fonts_ds = tf.data.experimental.make_csv_dataset(\n",
        "    file_pattern=\"fonts/*.csv\",  # pattern to read all CSVs\n",
        "    batch_size=10,\n",
        "    num_epochs=1,\n",
        "    num_parallel_reads = 20,  # how many files are read in parallel and interleaved\n",
        "    shuffle_buffer_size=10000\n",
        ")"
      ],
      "metadata": {
        "id": "ULBYvmP4XGf_"
      },
      "execution_count": 67,
      "outputs": []
    },
    {
      "cell_type": "code",
      "source": [
        "# Let's take a look at the 1st batch\n",
        "for features in fonts_ds.take(1):\n",
        "  for i, (name, value) in enumerate(features.items()):\n",
        "    if i > 15:\n",
        "      break  # to print only a few samples\n",
        "    print(f\"{name}:{value}\")\n",
        "\n",
        "print(f\"Total features: {len(features)}\")"
      ],
      "metadata": {
        "colab": {
          "base_uri": "https://localhost:8080/"
        },
        "id": "2lGJPzqKXqTx",
        "outputId": "f6ed6ca2-4138-48d4-da19-e518e014b1dc"
      },
      "execution_count": 68,
      "outputs": [
        {
          "output_type": "stream",
          "name": "stdout",
          "text": [
            "font:[b'VLADIMIR' b'VLADIMIR' b'RICHARD' b'VINER' b'CENTURY' b'GEORGIA'\n",
            " b'ROMANTIC' b'GILL' b'PROXY' b'PROXY']\n",
            "fontVariant:[b'VLADIMIR SCRIPT' b'VLADIMIR SCRIPT' b'POOR RICHARD' b'VINER HAND ITC'\n",
            " b'CENTURY SCHOOLBOOK' b'GEORGIA' b'ROMANTIC'\n",
            " b'GILL SANS ULTRA BOLD CONDENSED' b'PROXY 9' b'PROXY 9']\n",
            "m_label:[  174   198   960    92  8222   908 61695   178    45   956]\n",
            "strength:[0.4 0.4 0.4 0.4 0.4 0.4 0.4 0.4 0.4 0.4]\n",
            "italic:[1 1 1 0 0 0 1 0 1 0]\n",
            "orientation:[0. 0. 0. 0. 0. 0. 0. 0. 0. 0.]\n",
            "m_top:[34 33 59 38 80 34 40 35 60 52]\n",
            "m_left:[30 23 25 24 20 20 19 23 36 27]\n",
            "originalH:[46 47 22 52 18 49 56 27  1 49]\n",
            "originalW:[ 60 104  36  24  22  54  32  17  32  33]\n",
            "h:[20 20 20 20 20 20 20 20 20 20]\n",
            "w:[20 20 20 20 20 20 20 20 20 20]\n",
            "r0c0:[  1   1   1 125   1 238   1   1 255   1]\n",
            "r0c1:[  1   1   1 255   1 255   1   1 255   1]\n",
            "r0c2:[  1   1   1 206  70 254   1  43 255   1]\n",
            "r0c3:[  1   1  16  53 255  70   1  67 255   1]\n",
            "Total features: 412\n"
          ]
        }
      ]
    },
    {
      "cell_type": "code",
      "source": [
        "# Let's see the same info but using only 1 CSV\n",
        "one_font_ds = tf.data.experimental.make_csv_dataset(\n",
        "    \"fonts/AGENCY.csv\",\n",
        "    batch_size=10,\n",
        "    num_epochs=1,\n",
        "    shuffle_buffer_size=10000\n",
        ")\n",
        "\n",
        "for features in one_font_ds.take(1):\n",
        "  for i, (name, value) in enumerate(features.items()):\n",
        "    if i > 15:\n",
        "      break  # to print only a few samples\n",
        "    print(f\"{name}:{value}\")\n",
        "\n",
        "print(f\"Total features: {len(features)}\")"
      ],
      "metadata": {
        "colab": {
          "base_uri": "https://localhost:8080/"
        },
        "id": "KhZ4Wyw6YUv3",
        "outputId": "cd2252ea-0869-4b69-810b-6c3c54734982"
      },
      "execution_count": 69,
      "outputs": [
        {
          "output_type": "stream",
          "name": "stdout",
          "text": [
            "font:[b'AGENCY' b'AGENCY' b'AGENCY' b'AGENCY' b'AGENCY' b'AGENCY' b'AGENCY'\n",
            " b'AGENCY' b'AGENCY' b'AGENCY']\n",
            "fontVariant:[b'AGENCY FB' b'AGENCY FB' b'AGENCY FB' b'AGENCY FB' b'AGENCY FB'\n",
            " b'AGENCY FB' b'AGENCY FB' b'AGENCY FB' b'AGENCY FB' b'AGENCY FB']\n",
            "m_label:[235 238  62 216 164 937 107 253 188 246]\n",
            "strength:[0.7 0.7 0.4 0.4 0.7 0.7 0.4 0.7 0.7 0.4]\n",
            "italic:[0 0 0 1 0 0 1 0 0 0]\n",
            "orientation:[0. 0. 0. 0. 0. 0. 0. 0. 0. 0.]\n",
            "m_top:[43 42 51 35 46 35 35 42 35 45]\n",
            "m_left:[23 17 24 20 24 22 24 20 21 24]\n",
            "originalH:[43 44 27 51 32 51 51 56 51 41]\n",
            "originalW:[21 19 17 47 31 31 27 23 35 18]\n",
            "h:[20 20 20 20 20 20 20 20 20 20]\n",
            "w:[20 20 20 20 20 20 20 20 20 20]\n",
            "r0c0:[  1   1 255   1   1   1   1   1   1   1]\n",
            "r0c1:[ 25   1 100   1  79  46   1   1  16   1]\n",
            "r0c2:[255   1  24   1 189 197   1   1 198 199]\n",
            "r0c3:[255   1   1   1  22 255   1   1 255 255]\n",
            "Total features: 412\n"
          ]
        }
      ]
    },
    {
      "cell_type": "markdown",
      "source": [
        "### Packing fields\n",
        "You probably don't want to work with each pixel in separate columns like this. Before trying to use this dataset be sure to pack the pixels into an image-tensor."
      ],
      "metadata": {
        "id": "nmnls6ZXZakR"
      }
    },
    {
      "cell_type": "code",
      "source": [
        "# Let's create a function to build images from the previous dataset cols\n",
        "import re \n",
        "\n",
        "def make_images(features):\n",
        "  image = [None] * 400  # images are 20x20\n",
        "  new_feats = {}\n",
        "\n",
        "  for name, value in features.items():\n",
        "    # pixels are stored in 'r{row}c{col}' features\n",
        "    match = re.match(\"r(\\d+)c(\\d+)\", name)\n",
        "    if match:\n",
        "      # It's pixel value. There are 20 cols per row.\n",
        "      row_index = int(match.group(1))\n",
        "      col_index = int(match.group(2))\n",
        "      image[row_index * 20 + col_index] = value\n",
        "    else:\n",
        "      new_feats[name] = value\n",
        "\n",
        "  image = tf.stack(image, axis=0)\n",
        "  print(type(image))\n",
        "  print(image.shape)\n",
        "  image = tf.reshape(image, [20, 20, -1])\n",
        "  new_feats[\"image\"] = image\n",
        "\n",
        "  return new_feats"
      ],
      "metadata": {
        "id": "W3fXXbCsZi1u"
      },
      "execution_count": 70,
      "outputs": []
    },
    {
      "cell_type": "code",
      "source": [
        "# Apply the function to each batch in the dataset\n",
        "fonts_image_ds = fonts_ds.map(make_images)"
      ],
      "metadata": {
        "colab": {
          "base_uri": "https://localhost:8080/"
        },
        "id": "6cVBXNjBco97",
        "outputId": "6add4b97-f7a8-4db8-d1b2-fd48894589b5"
      },
      "execution_count": 71,
      "outputs": [
        {
          "output_type": "stream",
          "name": "stdout",
          "text": [
            "<class 'tensorflow.python.framework.ops.Tensor'>\n",
            "(400, None)\n"
          ]
        }
      ]
    },
    {
      "cell_type": "code",
      "source": [
        "# Let's take a look again at the 1st batch\n",
        "for features in fonts_image_ds.take(1):\n",
        "  for i, (name, value) in enumerate(features.items()):\n",
        "    if i > 15:\n",
        "      break  # to print only a few samples\n",
        "    print(f\"{name}:{value}\")\n",
        "\n",
        "print(f\"Total features: {len(features)}\")"
      ],
      "metadata": {
        "colab": {
          "base_uri": "https://localhost:8080/"
        },
        "id": "u1YC9sdJdNVB",
        "outputId": "35c23c73-d749-408c-c711-95768041ccfc"
      },
      "execution_count": 72,
      "outputs": [
        {
          "output_type": "stream",
          "name": "stdout",
          "text": [
            "font:[b'LEELAWADEE' b'BRUSH' b'SCRIPT' b'ROMAN' b'TXT' b'GEORGIA' b'DUTCH801'\n",
            " b'ROMAN' b'BAUHAUS' b'ROMAN']\n",
            "fontVariant:[b'LEELAWADEE UI SEMILIGHT' b'BRUSH SCRIPT MT' b'SCRIPTS' b'ROMANT' b'TXT'\n",
            " b'GEORGIA' b'DUTCH801 XBD BT' b'ROMANT' b'BAUHAUS 93' b'ROMANT']\n",
            "m_label:[ 6030 61441   122   230  1100  1080  8726    41   119   189]\n",
            "strength:[0.4 0.4 0.4 0.4 0.4 0.4 0.4 0.4 0.4 0.4]\n",
            "italic:[0 0 0 0 1 0 1 0 0 0]\n",
            "orientation:[0. 0. 0. 0. 0. 0. 0. 0. 0. 0.]\n",
            "m_top:[47 40 67 56 46 50 38 30 48 30]\n",
            "m_left:[27 18 22 27 28 22 19 29 24 29]\n",
            "originalH:[37 57 50 34 32 32 59 76 33 69]\n",
            "originalW:[61 38 34 48 28 37 54 18 44 60]\n",
            "h:[20 20 20 20 20 20 20 20 20 20]\n",
            "w:[20 20 20 20 20 20 20 20 20 20]\n",
            "image:[[[  1   1   1 ...  68 255   1]\n",
            "  [ 86   1   1 ... 127 255   1]\n",
            "  [255   1   5 ... 135 255   1]\n",
            "  ...\n",
            "  [255   1   1 ...   1 255   1]\n",
            "  [122   1   1 ...   1 255   1]\n",
            "  [  2   1   1 ...   1 255   1]]\n",
            "\n",
            " [[113   1   1 ...   1 255   1]\n",
            "  [249   1   1 ...   1 255   1]\n",
            "  [255   1  97 ...   1 255  23]\n",
            "  ...\n",
            "  [255   1   1 ...   1 255   1]\n",
            "  [255   1   1 ...   1 255   1]\n",
            "  [113   1   1 ...   1 255   1]]\n",
            "\n",
            " [[197   1   1 ...   1 255   1]\n",
            "  [228   1 109 ...   1 255  83]\n",
            "  [ 83   1 101 ...   1 255 193]\n",
            "  ...\n",
            "  [ 83   6   1 ...   1 255   1]\n",
            "  [228  50   1 ...   1 255   1]\n",
            "  [242  24   1 ...   1 255   1]]\n",
            "\n",
            " ...\n",
            "\n",
            " [[255 255 210 ...   1   1   1]\n",
            "  [ 80 255   1 ...   1 114   1]\n",
            "  [110  89   1 ...   1 255   1]\n",
            "  ...\n",
            "  [  1   1   1 ...   1 255  82]\n",
            "  [ 80   1   1 ...   1 114 131]\n",
            "  [255   1   1 ...   1   1 184]]\n",
            "\n",
            " [[255 201 197 ...   1   1   1]\n",
            "  [189 255  13 ...   1   9   1]\n",
            "  [212 232   1 ...   1 174   1]\n",
            "  ...\n",
            "  [  1   1   1 ...   1 159 255]\n",
            "  [ 80   1   1 ...   1   9 242]\n",
            "  [255   1   1 ...   1   1  47]]\n",
            "\n",
            " [[210  37  30 ...  68   1   1]\n",
            "  [255 246 130 ... 127   1   1]\n",
            "  [114 223 143 ... 135  28  99]\n",
            "  ...\n",
            "  [  1   1   1 ...   1   1 108]\n",
            "  [ 80   1   1 ...   1   1  47]\n",
            "  [255   1   1 ...   1   1   1]]]\n",
            "Total features: 13\n"
          ]
        }
      ]
    },
    {
      "cell_type": "code",
      "source": [
        "# Finally, plot the resulting images\n",
        "from matplotlib import pyplot as plt\n",
        "\n",
        "plt.figure(figsize=(6,6), dpi=120)\n",
        "\n",
        "for n in range(9):\n",
        "  plt.subplot(3, 3, n+1)\n",
        "  plt.imshow(features[\"image\"][..., n])\n",
        "  plt.title(chr(features[\"m_label\"][n]))\n",
        "  plt.axis(\"off\")"
      ],
      "metadata": {
        "colab": {
          "base_uri": "https://localhost:8080/",
          "height": 698
        },
        "id": "Eihi7QKEd1yY",
        "outputId": "c056fcb3-5e7f-4d11-d0b9-52577f8cf116"
      },
      "execution_count": 73,
      "outputs": [
        {
          "output_type": "stream",
          "name": "stderr",
          "text": [
            "/usr/local/lib/python3.7/dist-packages/matplotlib/backends/backend_agg.py:214: RuntimeWarning: Glyph 6030 missing from current font.\n",
            "  font.set_text(s, 0.0, flags=flags)\n",
            "/usr/local/lib/python3.7/dist-packages/matplotlib/backends/backend_agg.py:183: RuntimeWarning: Glyph 6030 missing from current font.\n",
            "  font.set_text(s, 0, flags=flags)\n"
          ]
        },
        {
          "output_type": "display_data",
          "data": {
            "image/png": "[encoded data removed]",
            "text/plain": [
              "<Figure size 720x720 with 9 Axes>"
            ]
          },
          "metadata": {
            "needs_background": "light"
          }
        }
      ]
    },
    {
      "cell_type": "markdown",
      "source": [
        "### Lower level functions\n",
        "\n",
        "#### tf.io.decode_csv"
      ],
      "metadata": {
        "id": "F8-f0_L2MAd2"
      }
    },
    {
      "cell_type": "code",
      "source": [
        "# Read the titanic data lines \n",
        "text = pathlib.Path(titanic_file_path).read_text()\n",
        "lines = text.split('\\n')[1:-1]\n",
        "\n",
        "# Set the type of the features: all strings\n",
        "all_strings = [str()] * 10\n",
        "\n",
        "# Use tf.io.decode_csv \n",
        "features = tf.io.decode_csv(lines, record_defaults=all_strings)\n",
        "\n",
        "# Print some info\n",
        "print(f\"Some lines: {lines[0:5]}\")\n",
        "for f in features:\n",
        "  print(f\"type: {f.dtype.name}, shape: {f.shape}\")"
      ],
      "metadata": {
        "colab": {
          "base_uri": "https://localhost:8080/"
        },
        "id": "DEu62V3COeiz",
        "outputId": "d05e77e1-5dbf-400d-da5d-c8b10b164579"
      },
      "execution_count": 74,
      "outputs": [
        {
          "output_type": "stream",
          "name": "stdout",
          "text": [
            "Some lines: ['0,male,22.0,1,0,7.25,Third,unknown,Southampton,n', '1,female,38.0,1,0,71.2833,First,C,Cherbourg,n', '1,female,26.0,0,0,7.925,Third,unknown,Southampton,y', '1,female,35.0,1,0,53.1,First,C,Southampton,n', '0,male,28.0,0,0,8.4583,Third,unknown,Queenstown,y']\n",
            "type: string, shape: (627,)\n",
            "type: string, shape: (627,)\n",
            "type: string, shape: (627,)\n",
            "type: string, shape: (627,)\n",
            "type: string, shape: (627,)\n",
            "type: string, shape: (627,)\n",
            "type: string, shape: (627,)\n",
            "type: string, shape: (627,)\n",
            "type: string, shape: (627,)\n",
            "type: string, shape: (627,)\n"
          ]
        }
      ]
    },
    {
      "cell_type": "code",
      "source": [
        "# Now, let's parse them with the correct type\n",
        "titanic_types = [int(), str(), float(), int(), int(), float(), str(), str(), str(), str()]\n",
        "\n",
        "features = tf.io.decode_csv(lines, record_defaults=titanic_types)\n",
        "\n",
        "for f in features:\n",
        "  print(f\"type: {f.dtype.name}, shape: {f.shape}\")"
      ],
      "metadata": {
        "colab": {
          "base_uri": "https://localhost:8080/"
        },
        "id": "JmMACuTKRLAL",
        "outputId": "7b03cbb3-76a5-4865-fe6a-d84cb75add78"
      },
      "execution_count": 75,
      "outputs": [
        {
          "output_type": "stream",
          "name": "stdout",
          "text": [
            "type: int32, shape: (627,)\n",
            "type: string, shape: (627,)\n",
            "type: float32, shape: (627,)\n",
            "type: int32, shape: (627,)\n",
            "type: int32, shape: (627,)\n",
            "type: float32, shape: (627,)\n",
            "type: string, shape: (627,)\n",
            "type: string, shape: (627,)\n",
            "type: string, shape: (627,)\n",
            "type: string, shape: (627,)\n"
          ]
        }
      ]
    },
    {
      "cell_type": "markdown",
      "source": [
        "#### tf.data.experimental.CsvDataset"
      ],
      "metadata": {
        "id": "QH1EX2pLRldd"
      }
    },
    {
      "cell_type": "code",
      "source": [
        "# Let's use this class with the titanic dataset\n",
        "simple_titanic = tf.data.experimental.CsvDataset(titanic_file_path,\n",
        "                                                 record_defaults=titanic_types,\n",
        "                                                 header=True)"
      ],
      "metadata": {
        "id": "U4VjerqyRudL"
      },
      "execution_count": 76,
      "outputs": []
    },
    {
      "cell_type": "code",
      "source": [
        "# And now visualize them\n",
        "for example in simple_titanic.take(1):\n",
        "  print([e.numpy() for e in example])"
      ],
      "metadata": {
        "colab": {
          "base_uri": "https://localhost:8080/"
        },
        "id": "1wEg4E5xR98_",
        "outputId": "015838fb-1981-44b5-b30e-ab85cda66ebb"
      },
      "execution_count": 80,
      "outputs": [
        {
          "output_type": "stream",
          "name": "stdout",
          "text": [
            "[0, b'male', 22.0, 1, 0, 7.25, b'Third', b'unknown', b'Southampton', b'n']\n"
          ]
        }
      ]
    },
    {
      "cell_type": "code",
      "source": [
        "# This is similar to:\n",
        "def decode_titanic_line(line):\n",
        "  return tf.io.decode_csv(line, titanic_types)\n",
        "\n",
        "manual_titanic = (tf.data.TextLineDataset(titanic_file_path).skip(1).map(decode_titanic_line))\n",
        "\n",
        "for example in manual_titanic.take(1):\n",
        "  print([e.numpy() for e in example])"
      ],
      "metadata": {
        "colab": {
          "base_uri": "https://localhost:8080/"
        },
        "id": "iS29KUkSSc_M",
        "outputId": "0786fb41-93e0-432a-ed5c-f7f469d51cbb"
      },
      "execution_count": 81,
      "outputs": [
        {
          "output_type": "stream",
          "name": "stdout",
          "text": [
            "[0, b'male', 22.0, 1, 0, 7.25, b'Third', b'unknown', b'Southampton', b'n']\n"
          ]
        }
      ]
    },
    {
      "cell_type": "markdown",
      "source": [
        "##### Multiple files"
      ],
      "metadata": {
        "id": "NSke6DsfVRFs"
      }
    },
    {
      "cell_type": "code",
      "source": [
        "# First, we have to determine the column types. Let's inspect the first row of\n",
        "# the first file\n",
        "font_line = pathlib.Path(font_csvs[0]).read_text().splitlines()[1]\n",
        "print(font_csvs[0])\n",
        "print(font_line)\n",
        "\n",
        "# The first two columns are strings, and the rest are ints or floats. \n",
        "num_font_features = font_line.count(',') + 1  # to know how many features we have\n",
        "font_column_types = [str()] * 2 + [float()] * (num_font_features - 2)\n",
        "\n",
        "# CsvDataset reads the input files sequentially.\n",
        "simple_font_ds = tf.data.experimental.CsvDataset(\n",
        "    font_csvs,\n",
        "    record_defaults=font_column_types,\n",
        "    header=True\n",
        ")\n",
        "\n",
        "# Now, visualize the first column of the 10 first examples\n",
        "for row in simple_font_ds.take(10):\n",
        "  print(row[0].numpy())"
      ],
      "metadata": {
        "colab": {
          "base_uri": "https://localhost:8080/"
        },
        "id": "0vla1tKvTRJi",
        "outputId": "8afa1a18-6438-4344-bf39-bdf0d35686cd"
      },
      "execution_count": 87,
      "outputs": [
        {
          "output_type": "stream",
          "name": "stdout",
          "text": [
            "fonts/AGENCY.csv\n",
            "AGENCY,AGENCY FB,64258,0.400000,0,0.000000,35,21,51,22,20,20,1,1,1,21,101,210,255,255,255,255,255,255,255,255,255,255,255,255,255,255,1,1,1,93,255,255,255,176,146,146,146,146,146,146,146,146,216,255,255,255,1,1,1,93,255,255,255,70,1,1,1,1,1,1,1,1,163,255,255,255,1,1,1,93,255,255,255,70,1,1,1,1,1,1,1,1,163,255,255,255,1,1,1,93,255,255,255,70,1,1,1,1,1,1,1,1,163,255,255,255,1,1,1,93,255,255,255,70,1,1,1,1,1,1,1,1,163,255,255,255,1,1,1,93,255,255,255,70,1,1,1,1,1,1,1,1,163,255,255,255,141,141,141,182,255,255,255,172,141,141,141,115,1,1,1,1,163,255,255,255,255,255,255,255,255,255,255,255,255,255,255,209,1,1,1,1,163,255,255,255,6,6,6,96,255,255,255,74,6,6,6,5,1,1,1,1,163,255,255,255,1,1,1,93,255,255,255,70,1,1,1,1,1,1,1,1,163,255,255,255,1,1,1,93,255,255,255,70,1,1,1,1,1,1,1,1,163,255,255,255,1,1,1,93,255,255,255,70,1,1,1,1,1,1,1,1,163,255,255,255,1,1,1,93,255,255,255,70,1,1,1,1,1,1,1,1,163,255,255,255,1,1,1,93,255,255,255,70,1,1,1,1,1,1,1,1,163,255,255,255,1,1,1,93,255,255,255,70,1,1,1,1,1,1,1,1,163,255,255,255,1,1,1,93,255,255,255,70,1,1,1,1,1,1,1,1,163,255,255,255,1,1,1,93,255,255,255,70,1,1,1,1,1,1,1,1,163,255,255,255,1,1,1,93,255,255,255,70,1,1,1,1,1,1,1,1,163,255,255,255,1,1,1,93,255,255,255,70,1,1,1,1,1,1,1,1,163,255,255,255\n",
            "b'AGENCY'\n",
            "b'AGENCY'\n",
            "b'AGENCY'\n",
            "b'AGENCY'\n",
            "b'AGENCY'\n",
            "b'AGENCY'\n",
            "b'AGENCY'\n",
            "b'AGENCY'\n",
            "b'AGENCY'\n",
            "b'AGENCY'\n"
          ]
        }
      ]
    },
    {
      "cell_type": "code",
      "source": [
        "# To interleave multiple files, we can do the following:\n",
        "font_files = tf.data.Dataset.list_files(\"fonts/*.csv\")\n",
        "\n",
        "# Define a function to create a CsvDataset\n",
        "def make_font_csv_ds(path):\n",
        "  return tf.data.experimental.CsvDataset(\n",
        "      path,\n",
        "      record_defaults=font_column_types,\n",
        "      header=True\n",
        "  )\n",
        "\n",
        "# Now, call the 'interleave' function and give the previous function as argument\n",
        "font_rows = font_files.interleave(make_font_csv_ds, cycle_length=3)"
      ],
      "metadata": {
        "id": "Xot595Z9VUnG"
      },
      "execution_count": 89,
      "outputs": []
    },
    {
      "cell_type": "code",
      "source": [
        "# Let's visualize the interleaved data\n",
        "fonts_dict = {\"font_name\": [], \"character\": []}\n",
        "\n",
        "for row in font_rows.take(10):\n",
        "  fonts_dict[\"font_name\"].append(row[0].numpy().decode())\n",
        "  fonts_dict[\"character\"].append(chr(row[2].numpy()))\n",
        "\n",
        "# Create a dataframe\n",
        "pd.DataFrame(fonts_dict)"
      ],
      "metadata": {
        "colab": {
          "base_uri": "https://localhost:8080/",
          "height": 363
        },
        "id": "FSks2zoPW_4M",
        "outputId": "8e1783f5-e196-4120-affa-2b35e6762d40"
      },
      "execution_count": 90,
      "outputs": [
        {
          "output_type": "execute_result",
          "data": {
            "text/html": [
              "<div>\n",
              "<style scoped>\n",
              "    .dataframe tbody tr th:only-of-type {\n",
              "        vertical-align: middle;\n",
              "    }\n",
              "\n",
              "    .dataframe tbody tr th {\n",
              "        vertical-align: top;\n",
              "    }\n",
              "\n",
              "    .dataframe thead th {\n",
              "        text-align: right;\n",
              "    }\n",
              "</style>\n",
              "<table border=\"1\" class=\"dataframe\">\n",
              "  <thead>\n",
              "    <tr style=\"text-align: right;\">\n",
              "      <th></th>\n",
              "      <th>font_name</th>\n",
              "      <th>character</th>\n",
              "    </tr>\n",
              "  </thead>\n",
              "  <tbody>\n",
              "    <tr>\n",
              "      <th>0</th>\n",
              "      <td>CENTURY</td>\n",
              "      <td>ﬂ</td>\n",
              "    </tr>\n",
              "    <tr>\n",
              "      <th>1</th>\n",
              "      <td>OCRB</td>\n",
              "      <td>&lt;</td>\n",
              "    </tr>\n",
              "    <tr>\n",
              "      <th>2</th>\n",
              "      <td>NIAGARA</td>\n",
              "      <td>ﬂ</td>\n",
              "    </tr>\n",
              "    <tr>\n",
              "      <th>3</th>\n",
              "      <td>CENTURY</td>\n",
              "      <td>ﬁ</td>\n",
              "    </tr>\n",
              "    <tr>\n",
              "      <th>4</th>\n",
              "      <td>OCRB</td>\n",
              "      <td>&lt;</td>\n",
              "    </tr>\n",
              "    <tr>\n",
              "      <th>5</th>\n",
              "      <td>NIAGARA</td>\n",
              "      <td>ﬁ</td>\n",
              "    </tr>\n",
              "    <tr>\n",
              "      <th>6</th>\n",
              "      <td>CENTURY</td>\n",
              "      <td></td>\n",
              "    </tr>\n",
              "    <tr>\n",
              "      <th>7</th>\n",
              "      <td>OCRB</td>\n",
              "      <td>(</td>\n",
              "    </tr>\n",
              "    <tr>\n",
              "      <th>8</th>\n",
              "      <td>NIAGARA</td>\n",
              "      <td></td>\n",
              "    </tr>\n",
              "    <tr>\n",
              "      <th>9</th>\n",
              "      <td>CENTURY</td>\n",
              "      <td></td>\n",
              "    </tr>\n",
              "  </tbody>\n",
              "</table>\n",
              "</div>"
            ],
            "text/plain": [
              "  font_name character\n",
              "0   CENTURY         ﬂ\n",
              "1      OCRB         <\n",
              "2   NIAGARA         ﬂ\n",
              "3   CENTURY         ﬁ\n",
              "4      OCRB         <\n",
              "5   NIAGARA         ﬁ\n",
              "6   CENTURY         \n",
              "7      OCRB         (\n",
              "8   NIAGARA         \n",
              "9   CENTURY         "
            ]
          },
          "metadata": {},
          "execution_count": 90
        }
      ]
    },
    {
      "cell_type": "markdown",
      "source": [
        "### Performance\n",
        "\n",
        "io.decode_csv is more efficient when run on a batch of strings. Let's compare it with the standard 'make_csv_dataset'."
      ],
      "metadata": {
        "id": "6TaNNAIpXaU7"
      }
    },
    {
      "cell_type": "code",
      "source": [
        "BATCH_SIZE = 2048\n",
        "fonts_ds = tf.data.experimental.make_csv_dataset(\n",
        "    file_pattern=\"fonts/*.csv\",\n",
        "    batch_size=BATCH_SIZE,\n",
        "    num_epochs=1,\n",
        "    num_parallel_reads=100\n",
        ")"
      ],
      "metadata": {
        "id": "5Dyh3Rudatj1"
      },
      "execution_count": 91,
      "outputs": []
    },
    {
      "cell_type": "code",
      "source": [
        "# Let's measure the time using 'make_csv_dataset'\n",
        "%%time\n",
        "for i, batch in enumerate(fonts_ds.take(20)):\n",
        "  print(\".\", end=\"\")\n",
        "print()"
      ],
      "metadata": {
        "colab": {
          "base_uri": "https://localhost:8080/"
        },
        "id": "6SYFnknmbE-P",
        "outputId": "7a1a02fc-4af4-4472-b144-b9702dc17377"
      },
      "execution_count": 92,
      "outputs": [
        {
          "output_type": "stream",
          "name": "stdout",
          "text": [
            "....................\n",
            "CPU times: user 18.8 s, sys: 1.68 s, total: 20.5 s\n",
            "Wall time: 14.5 s\n"
          ]
        }
      ]
    },
    {
      "cell_type": "code",
      "source": [
        "# Let's use 'decode_csv'\n",
        "fonts_files = tf.data.Dataset.list_files(\"fonts/*.csv\")\n",
        "fonts_lines = fonts_files.interleave(\n",
        "    lambda fname:tf.data.TextLineDataset(fname).skip(1),\n",
        "    cycle_length=100).batch(BATCH_SIZE)\n",
        "\n",
        "fonts_fast = fonts_lines.map(lambda x: tf.io.decode_csv(x, record_defaults=font_column_types))"
      ],
      "metadata": {
        "id": "k4QgVwfXbTby"
      },
      "execution_count": 96,
      "outputs": []
    },
    {
      "cell_type": "code",
      "source": [
        "%%time\n",
        "for i,batch in enumerate(fonts_fast.take(20)):\n",
        "  print('.',end='')\n",
        "print()"
      ],
      "metadata": {
        "colab": {
          "base_uri": "https://localhost:8080/"
        },
        "id": "8D_Oj6rmchfU",
        "outputId": "517c522a-f2ac-40f1-c530-d28f1cd58064"
      },
      "execution_count": 97,
      "outputs": [
        {
          "output_type": "stream",
          "name": "stdout",
          "text": [
            "....................\n",
            "CPU times: user 7.45 s, sys: 66 ms, total: 7.52 s\n",
            "Wall time: 4.04 s\n"
          ]
        }
      ]
    },
    {
      "cell_type": "markdown",
      "source": [
        "Note: Consider 'cache' and 'snapshot' preferably for increasing performance."
      ],
      "metadata": {
        "id": "8aHHL7EFcp03"
      }
    }
  ]
}