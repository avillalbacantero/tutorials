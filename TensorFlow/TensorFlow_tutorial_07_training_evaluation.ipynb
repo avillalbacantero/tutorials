{
  "nbformat": 4,
  "nbformat_minor": 0,
  "metadata": {
    "colab": {
      "name": "TensorFlow_tutorial_07_training_evaluation.ipynb",
      "provenance": [],
      "collapsed_sections": []
    },
    "kernelspec": {
      "name": "python3",
      "display_name": "Python 3"
    },
    "language_info": {
      "name": "python"
    }
  },
  "cells": [
    {
      "cell_type": "markdown",
      "source": [
        "# Training and evaluation"
      ],
      "metadata": {
        "id": "uJvrQd-IyeDz"
      }
    },
    {
      "cell_type": "code",
      "source": [
        "# Import the libraries\n",
        "import tensorflow as tf\n",
        "from tensorflow import keras\n",
        "from tensorflow.keras import layers"
      ],
      "metadata": {
        "id": "Fab63RO7yiZk"
      },
      "execution_count": 1,
      "outputs": []
    },
    {
      "cell_type": "markdown",
      "source": [
        "When passing data to the built-in training loops of a model, you should either use:\n",
        "- **NumPy arrays** (if your data is small and fits in memory)\n",
        "- or **tf.data Dataset** objects. "
      ],
      "metadata": {
        "id": "dZ3atBMrfE-B"
      }
    },
    {
      "cell_type": "markdown",
      "source": [
        "## A first example"
      ],
      "metadata": {
        "id": "8ehB9v9g2OEO"
      }
    },
    {
      "cell_type": "code",
      "source": [
        "# First, we build a model to classify the digits from MNIST dataset\n",
        "inputs = keras.Input(shape=(784,), name=\"digits\")\n",
        "x = layers.Dense(64, activation=\"relu\", name=\"dense_1\")(inputs)\n",
        "x = layers.Dense(64, activation=\"relu\", name=\"dense_2\")(x)\n",
        "outputs = layers.Dense(10, activation=\"softmax\", name=\"predictions\")(x)\n",
        "\n",
        "model = keras.Model(inputs=inputs, outputs=outputs)"
      ],
      "metadata": {
        "id": "NOXVcCFZ2RRE"
      },
      "execution_count": 2,
      "outputs": []
    },
    {
      "cell_type": "code",
      "source": [
        "(x_train, y_train), (x_test, y_test) = keras.datasets.mnist.load_data()\n",
        "\n",
        "x_train = x_train.reshape(60000, 784).astype(\"float32\") / 255\n",
        "x_test = x_test.reshape(10000, 784).astype(\"float32\") / 255\n",
        "\n",
        "y_train = y_train.astype(\"float32\")\n",
        "y_test = y_test.astype(\"float32\")\n",
        "\n",
        "# Reserve 10k samples for validation\n",
        "x_val = x_train[-10000:]\n",
        "y_val = y_train[-10000:]\n",
        "x_train = x_train[:-10000]\n",
        "y_train = y_train[:-10000]"
      ],
      "metadata": {
        "id": "PrzgfGIh2piX",
        "colab": {
          "base_uri": "https://localhost:8080/"
        },
        "outputId": "3e261b1f-6570-49cb-e84a-264d22ce2069"
      },
      "execution_count": 3,
      "outputs": [
        {
          "output_type": "stream",
          "name": "stdout",
          "text": [
            "Downloading data from https://storage.googleapis.com/tensorflow/tf-keras-datasets/mnist.npz\n",
            "11493376/11490434 [==============================] - 0s 0us/step\n",
            "11501568/11490434 [==============================] - 0s 0us/step\n"
          ]
        }
      ]
    },
    {
      "cell_type": "code",
      "source": [
        "# Let's specify the training configuration\n",
        "model.compile(\n",
        "    optimizer=keras.optimizers.RMSprop(),\n",
        "    loss=keras.losses.SparseCategoricalCrossentropy(),\n",
        "    metrics=[keras.metrics.SparseCategoricalAccuracy()]\n",
        ")"
      ],
      "metadata": {
        "id": "tlz7FgY43V6X"
      },
      "execution_count": 4,
      "outputs": []
    },
    {
      "cell_type": "code",
      "source": [
        "# Also, the above cell could be specified by:\n",
        "model.compile(\n",
        "    optimizer=\"rmsprop\",\n",
        "    loss=\"sparse_categorical_crossentropy\",\n",
        "    metrics=[\"sparse_categorical_accuracy\"]\n",
        ")"
      ],
      "metadata": {
        "id": "C6HBFHpV7mLo"
      },
      "execution_count": 5,
      "outputs": []
    },
    {
      "cell_type": "code",
      "source": [
        "# Train the model\n",
        "history = model.fit(\n",
        "    x_train,\n",
        "    y_train,\n",
        "    batch_size=64,\n",
        "    epochs=2,\n",
        "    # We pass some validation for\n",
        "    # monitoring validation loss and metrics\n",
        "    # at the end of each epoch\n",
        "    validation_data=(x_val, y_val),\n",
        ")"
      ],
      "metadata": {
        "colab": {
          "base_uri": "https://localhost:8080/"
        },
        "id": "w9QQl9zd3uES",
        "outputId": "3b1741b6-3585-4da2-df2a-4949012b2439"
      },
      "execution_count": 6,
      "outputs": [
        {
          "output_type": "stream",
          "name": "stdout",
          "text": [
            "Epoch 1/2\n",
            "782/782 [==============================] - 4s 5ms/step - loss: 0.3511 - sparse_categorical_accuracy: 0.9004 - val_loss: 0.2011 - val_sparse_categorical_accuracy: 0.9427\n",
            "Epoch 2/2\n",
            "782/782 [==============================] - 5s 6ms/step - loss: 0.1595 - sparse_categorical_accuracy: 0.9525 - val_loss: 0.1280 - val_sparse_categorical_accuracy: 0.9620\n"
          ]
        }
      ]
    },
    {
      "cell_type": "code",
      "source": [
        "# We have the history of the training here:\n",
        "history.history"
      ],
      "metadata": {
        "colab": {
          "base_uri": "https://localhost:8080/"
        },
        "id": "ENM3Bim461AW",
        "outputId": "7eddcf47-0870-4dc2-eedc-5bc2f3f18e2f"
      },
      "execution_count": 7,
      "outputs": [
        {
          "output_type": "execute_result",
          "data": {
            "text/plain": [
              "{'loss': [0.3511173725128174, 0.15951725840568542],\n",
              " 'sparse_categorical_accuracy': [0.900439977645874, 0.9524999856948853],\n",
              " 'val_loss': [0.2010723203420639, 0.127974271774292],\n",
              " 'val_sparse_categorical_accuracy': [0.9427000284194946, 0.9620000123977661]}"
            ]
          },
          "metadata": {},
          "execution_count": 7
        }
      ]
    },
    {
      "cell_type": "code",
      "source": [
        "# Once the model is trained, we evaluate it\n",
        "results = model.evaluate(x_test, y_test, batch_size=128)\n",
        "print(f\"test loss, test acc: {results}\")"
      ],
      "metadata": {
        "colab": {
          "base_uri": "https://localhost:8080/"
        },
        "id": "-557bw4368DD",
        "outputId": "8c18a95a-bd46-43e2-ef5b-d0217071232f"
      },
      "execution_count": 8,
      "outputs": [
        {
          "output_type": "stream",
          "name": "stdout",
          "text": [
            "79/79 [==============================] - 0s 4ms/step - loss: 0.1326 - sparse_categorical_accuracy: 0.9605\n",
            "test loss, test acc: [0.13256731629371643, 0.9605000019073486]\n"
          ]
        }
      ]
    },
    {
      "cell_type": "code",
      "source": [
        "# Let's write functions to get the uncompiled and compiled model for later reuse\n",
        "def get_uncompiled_model():\n",
        "    inputs = keras.Input(shape=(784,), name=\"digits\")\n",
        "    x = layers.Dense(64, activation=\"relu\", name=\"dense_1\")(inputs)\n",
        "    x = layers.Dense(64, activation=\"relu\", name=\"dense_2\")(x)\n",
        "    outputs = layers.Dense(10, activation=\"softmax\", name=\"predictions\")(x)\n",
        "    model = keras.Model(inputs=inputs, outputs=outputs)\n",
        "    return model\n",
        "\n",
        "\n",
        "def get_compiled_model():\n",
        "    model = get_uncompiled_model()\n",
        "    model.compile(\n",
        "        optimizer=\"rmsprop\",\n",
        "        loss=\"sparse_categorical_crossentropy\",\n",
        "        metrics=[\"sparse_categorical_accuracy\"],\n",
        "    )\n",
        "    return model"
      ],
      "metadata": {
        "id": "BWVQsNFT8BFN"
      },
      "execution_count": 9,
      "outputs": []
    },
    {
      "cell_type": "markdown",
      "source": [
        "## Testing some other optimizers, losses and metrics"
      ],
      "metadata": {
        "id": "UsrDpzAS8JFd"
      }
    },
    {
      "cell_type": "markdown",
      "source": [
        "### Example: changing the optimizer to SGD"
      ],
      "metadata": {
        "id": "DpONM0aq8dhS"
      }
    },
    {
      "cell_type": "code",
      "source": [
        "model.compile(\n",
        "    optimizer=keras.optimizers.SGD(),\n",
        "    loss=keras.losses.SparseCategoricalCrossentropy(),\n",
        "    metrics=[keras.metrics.SparseCategoricalAccuracy()]\n",
        ")"
      ],
      "metadata": {
        "id": "asYa5Lrx8N_t"
      },
      "execution_count": 10,
      "outputs": []
    },
    {
      "cell_type": "code",
      "source": [
        "# Train the model\n",
        "history = model.fit(\n",
        "    x_train,\n",
        "    y_train,\n",
        "    batch_size=64,\n",
        "    epochs=2,\n",
        "    # We pass some validation for\n",
        "    # monitoring validation loss and metrics\n",
        "    # at the end of each epoch\n",
        "    validation_data=(x_val, y_val),\n",
        ")"
      ],
      "metadata": {
        "colab": {
          "base_uri": "https://localhost:8080/"
        },
        "id": "BfV9cF7o8UME",
        "outputId": "99383fd6-b88d-4a02-ba8b-6c8e226ef6a9"
      },
      "execution_count": 11,
      "outputs": [
        {
          "output_type": "stream",
          "name": "stdout",
          "text": [
            "Epoch 1/2\n",
            "782/782 [==============================] - 5s 5ms/step - loss: 0.1054 - sparse_categorical_accuracy: 0.9689 - val_loss: 0.1134 - val_sparse_categorical_accuracy: 0.9666\n",
            "Epoch 2/2\n",
            "782/782 [==============================] - 4s 6ms/step - loss: 0.1002 - sparse_categorical_accuracy: 0.9707 - val_loss: 0.1123 - val_sparse_categorical_accuracy: 0.9669\n"
          ]
        }
      ]
    },
    {
      "cell_type": "code",
      "source": [
        "results = model.evaluate(x_test, y_test, batch_size=128)\n",
        "print(f\"test loss, test acc: {results}\")"
      ],
      "metadata": {
        "colab": {
          "base_uri": "https://localhost:8080/"
        },
        "id": "dWadeLjG8WqR",
        "outputId": "db2262ee-bec8-4bff-a930-6ac043fc3b9a"
      },
      "execution_count": 12,
      "outputs": [
        {
          "output_type": "stream",
          "name": "stdout",
          "text": [
            "79/79 [==============================] - 0s 5ms/step - loss: 0.1140 - sparse_categorical_accuracy: 0.9652\n",
            "test loss, test acc: [0.11400018632411957, 0.9652000069618225]\n"
          ]
        }
      ]
    },
    {
      "cell_type": "markdown",
      "source": [
        "### Custom losses\n",
        "\n",
        "There are two ways of implementing custom losses:\n",
        "- Pass the loss as a function:"
      ],
      "metadata": {
        "id": "-cmr9Gta_PCg"
      }
    },
    {
      "cell_type": "code",
      "source": [
        "# Let's create a function that takes 'y_true' and 'y_pred' and computes the MSE\n",
        "def custom_mean_squared_error(y_true, y_pred):\n",
        "  return tf.math.reduce_mean(tf.square(y_true - y_pred))  # MSE formula"
      ],
      "metadata": {
        "id": "r4ZK-3jF_Vod"
      },
      "execution_count": 13,
      "outputs": []
    },
    {
      "cell_type": "code",
      "source": [
        "# Get the model and compile it using the custom function\n",
        "model = get_uncompiled_model()\n",
        "model.compile(\n",
        "    optimizer=keras.optimizers.Adam(),\n",
        "    loss=custom_mean_squared_error\n",
        ")"
      ],
      "metadata": {
        "id": "RwZvu_oM_46I"
      },
      "execution_count": 14,
      "outputs": []
    },
    {
      "cell_type": "code",
      "source": [
        "# One-hot encode the labels to use MSE\n",
        "y_train_one_hot = tf.one_hot(y_train, depth=10)\n",
        "\n",
        "print(y_train[0])\n",
        "print(y_train_one_hot[0])"
      ],
      "metadata": {
        "colab": {
          "base_uri": "https://localhost:8080/"
        },
        "id": "kEHzjdGwAPx9",
        "outputId": "a3117fce-851d-41fd-ad67-e2e871b5e6e3"
      },
      "execution_count": 15,
      "outputs": [
        {
          "output_type": "stream",
          "name": "stdout",
          "text": [
            "5.0\n",
            "tf.Tensor([0. 0. 0. 0. 0. 1. 0. 0. 0. 0.], shape=(10,), dtype=float32)\n"
          ]
        }
      ]
    },
    {
      "cell_type": "code",
      "source": [
        "# Train the model\n",
        "model.fit(\n",
        "    x_train,\n",
        "    y_train_one_hot,\n",
        "    batch_size=64,\n",
        "    epochs=1\n",
        ")"
      ],
      "metadata": {
        "colab": {
          "base_uri": "https://localhost:8080/"
        },
        "id": "2lryUMpoAd77",
        "outputId": "49f296f0-9b0f-4ca4-87d7-662f1d496706"
      },
      "execution_count": 16,
      "outputs": [
        {
          "output_type": "stream",
          "name": "stdout",
          "text": [
            "782/782 [==============================] - 3s 3ms/step - loss: 0.0154\n"
          ]
        },
        {
          "output_type": "execute_result",
          "data": {
            "text/plain": [
              "<keras.callbacks.History at 0x7f98b24b7c50>"
            ]
          },
          "metadata": {},
          "execution_count": 16
        }
      ]
    },
    {
      "cell_type": "markdown",
      "source": [
        "- Subclassing"
      ],
      "metadata": {
        "id": "9dTIIadUArZI"
      }
    },
    {
      "cell_type": "code",
      "source": [
        "# Let's create a MSE with a regularization penalty\n",
        "class CustomMSE(keras.losses.Loss):\n",
        "  \n",
        "  def __init__(self, regularization_factor=0.1, name=\"custom_mse\"):\n",
        "    super().__init__(name=name)\n",
        "    self.regularization_factor = regularization_factor\n",
        "\n",
        "  def call(self, y_true, y_pred):\n",
        "    mse = tf.math.reduce_mean(tf.square(y_true - y_pred))\n",
        "    reg = tf.math.reduce_mean(tf.square(0.5 - y_pred))\n",
        "    return mse + reg * self.regularization_factor\n"
      ],
      "metadata": {
        "id": "UaEe8-WNAtyG"
      },
      "execution_count": 17,
      "outputs": []
    },
    {
      "cell_type": "code",
      "source": [
        "# Train the model using our custom loss function\n",
        "model = get_uncompiled_model()\n",
        "model.compile(\n",
        "    optimizer=keras.optimizers.Adam(),\n",
        "    loss=CustomMSE(regularization_factor=0.3)\n",
        "    )\n",
        "\n",
        "model.fit(\n",
        "    x_train,\n",
        "    y_train_one_hot,\n",
        "    batch_size=64,\n",
        "    epochs=1\n",
        ")"
      ],
      "metadata": {
        "colab": {
          "base_uri": "https://localhost:8080/"
        },
        "id": "c2qJvOTrEXMt",
        "outputId": "bffcbe58-739f-4b1d-e9e5-b9d3729f7377"
      },
      "execution_count": 18,
      "outputs": [
        {
          "output_type": "stream",
          "name": "stdout",
          "text": [
            "782/782 [==============================] - 3s 3ms/step - loss: 0.0820\n"
          ]
        },
        {
          "output_type": "execute_result",
          "data": {
            "text/plain": [
              "<keras.callbacks.History at 0x7f98b131f210>"
            ]
          },
          "metadata": {},
          "execution_count": 18
        }
      ]
    },
    {
      "cell_type": "markdown",
      "source": [
        "### Custom metrics\n",
        "- Subclassing:"
      ],
      "metadata": {
        "id": "K1HLpH4IWlU-"
      }
    },
    {
      "cell_type": "code",
      "source": [
        "# Let's implement a metric that counts how many samples where correctly \n",
        "# classified\n",
        "\n",
        "class CategoricalTruePositives(keras.metrics.Metric):  # subclass Metric\n",
        "\n",
        "  # Implement the constructor\n",
        "  def __init__(self, name=\"categorical_true_positives\", **kwargs):\n",
        "    \"\"\"Creates state variables\"\"\"\n",
        "    super(CategoricalTruePositives, self).__init__(name=name, **kwargs)\n",
        "    self.true_positives = self.add_weight(name=\"ctp\", initializer=\"zeros\")\n",
        "\n",
        "  # Implement an updater\n",
        "  def update_state(self, y_true, y_pred, sample_weight=None):\n",
        "    \"\"\"Updates the state variables\"\"\"\n",
        "    y_pred = tf.reshape(tf.argmax(y_pred, axis=1), shape=(-1, 1))\n",
        "    values = tf.cast(y_true, \"int32\") == tf.cast(y_pred, \"int32\")\n",
        "    values = tf.cast(values, \"float32\")\n",
        "    if sample_weight is not None:\n",
        "      sample_weight = tf.cast(sample_weight, \"float32\")\n",
        "      values = tf.multiply(values, sample_weight)\n",
        "    self.true_positives.assign_add(tf.reduce_sum(values))\n",
        "\n",
        "  # Implement the method to return the computation\n",
        "  def result(self):\n",
        "    \"\"\"Computes the final results\"\"\"\n",
        "    return self.true_positives\n",
        "\n",
        "  # Implement a reset\n",
        "  def reset_state(self):\n",
        "    \"\"\"Reinitializes the state\"\"\"\n",
        "    self.true_positives.assign(0.0)"
      ],
      "metadata": {
        "id": "1sf69oMVXCyA"
      },
      "execution_count": 24,
      "outputs": []
    },
    {
      "cell_type": "code",
      "source": [
        "# Now, let's compile and train the model using our custom metric\n",
        "model = get_uncompiled_model()\n",
        "\n",
        "model.compile(\n",
        "    optimizer=keras.optimizers.RMSprop(learning_rate=1e-3),\n",
        "    loss=keras.losses.SparseCategoricalCrossentropy(),\n",
        "    metrics=[CategoricalTruePositives()],\n",
        ")\n",
        "\n",
        "model.fit(x_train, y_train, batch_size=64, epochs=3)\n"
      ],
      "metadata": {
        "colab": {
          "base_uri": "https://localhost:8080/"
        },
        "id": "k5hjgDBpZhiW",
        "outputId": "a8b23787-b6c6-4787-df5d-84342cf5cfc5"
      },
      "execution_count": 25,
      "outputs": [
        {
          "output_type": "stream",
          "name": "stdout",
          "text": [
            "Epoch 1/3\n",
            "782/782 [==============================] - 4s 4ms/step - loss: 0.3358 - categorical_true_positives: 45167.0000\n",
            "Epoch 2/3\n",
            "782/782 [==============================] - 3s 4ms/step - loss: 0.1555 - categorical_true_positives: 47672.0000\n",
            "Epoch 3/3\n",
            "782/782 [==============================] - 3s 4ms/step - loss: 0.1130 - categorical_true_positives: 48311.0000\n"
          ]
        },
        {
          "output_type": "execute_result",
          "data": {
            "text/plain": [
              "<keras.callbacks.History at 0x7f98af5e3e90>"
            ]
          },
          "metadata": {},
          "execution_count": 25
        }
      ]
    },
    {
      "cell_type": "code",
      "source": [
        "model.evaluate(x_test, y_test)"
      ],
      "metadata": {
        "colab": {
          "base_uri": "https://localhost:8080/"
        },
        "id": "RxZtLAXcb7Ig",
        "outputId": "323b682c-a0da-4b35-e7f7-9e9142f3e0af"
      },
      "execution_count": 26,
      "outputs": [
        {
          "output_type": "stream",
          "name": "stdout",
          "text": [
            "313/313 [==============================] - 1s 2ms/step - loss: 0.1457 - categorical_true_positives: 9552.0000\n"
          ]
        },
        {
          "output_type": "execute_result",
          "data": {
            "text/plain": [
              "[0.14565840363502502, 9552.0]"
            ]
          },
          "metadata": {},
          "execution_count": 26
        }
      ]
    },
    {
      "cell_type": "markdown",
      "source": [
        "### Adding losses and metrics:"
      ],
      "metadata": {
        "id": "7EABQBCccaRK"
      }
    },
    {
      "cell_type": "code",
      "source": [
        "class ActivityRegularizationLayer(layers.Layer):\n",
        "    def call(self, inputs):\n",
        "        # To add the loss to the \"main\" loss during training\n",
        "        self.add_loss(tf.reduce_sum(inputs) * 0.1)\n",
        "        return inputs  # Pass-through layer.\n",
        "\n",
        "\n",
        "inputs = keras.Input(shape=(784,), name=\"digits\")\n",
        "x = layers.Dense(64, activation=\"relu\", name=\"dense_1\")(inputs)\n",
        "\n",
        "# Insert activity regularization as a layer\n",
        "x = ActivityRegularizationLayer()(x)\n",
        "\n",
        "x = layers.Dense(64, activation=\"relu\", name=\"dense_2\")(x)\n",
        "outputs = layers.Dense(10, name=\"predictions\")(x)\n",
        "\n",
        "model = keras.Model(inputs=inputs, outputs=outputs)\n",
        "model.compile(\n",
        "    optimizer=keras.optimizers.RMSprop(learning_rate=1e-3),\n",
        "    loss=keras.losses.SparseCategoricalCrossentropy(from_logits=True),\n",
        ")\n",
        "\n",
        "# The displayed loss will be much higher than before\n",
        "# due to the regularization component.\n",
        "model.fit(x_train, y_train, batch_size=64, epochs=1)"
      ],
      "metadata": {
        "colab": {
          "base_uri": "https://localhost:8080/"
        },
        "id": "Lw4ksMlbcoNw",
        "outputId": "9becd0c4-2d55-4ff4-af01-e5843481f23b"
      },
      "execution_count": 29,
      "outputs": [
        {
          "output_type": "stream",
          "name": "stdout",
          "text": [
            "782/782 [==============================] - 5s 6ms/step - loss: 2.5568\n"
          ]
        },
        {
          "output_type": "execute_result",
          "data": {
            "text/plain": [
              "<keras.callbacks.History at 0x7f98aa33ab10>"
            ]
          },
          "metadata": {},
          "execution_count": 29
        }
      ]
    },
    {
      "cell_type": "code",
      "source": [
        "# The same thing can be done with metrics using 'add_metric':\n",
        "class MetricLoggingLayer(layers.Layer):\n",
        "    def call(self, inputs):\n",
        "        # The `aggregation` argument defines\n",
        "        # how to aggregate the per-batch values\n",
        "        # over each epoch:\n",
        "        # in this case we simply average them.\n",
        "        self.add_metric(\n",
        "            keras.backend.std(inputs), name=\"std_of_activation\", aggregation=\"mean\"\n",
        "        )\n",
        "        return inputs  # Pass-through layer.\n",
        "\n",
        "\n",
        "inputs = keras.Input(shape=(784,), name=\"digits\")\n",
        "x = layers.Dense(64, activation=\"relu\", name=\"dense_1\")(inputs)\n",
        "\n",
        "# Insert std logging as a layer.\n",
        "x = MetricLoggingLayer()(x)\n",
        "\n",
        "x = layers.Dense(64, activation=\"relu\", name=\"dense_2\")(x)\n",
        "outputs = layers.Dense(10, name=\"predictions\")(x)\n",
        "\n",
        "model = keras.Model(inputs=inputs, outputs=outputs)\n",
        "model.compile(\n",
        "    optimizer=keras.optimizers.RMSprop(learning_rate=1e-3),\n",
        "    loss=keras.losses.SparseCategoricalCrossentropy(from_logits=True),\n",
        ")\n",
        "model.fit(x_train, y_train, batch_size=64, epochs=1)"
      ],
      "metadata": {
        "colab": {
          "base_uri": "https://localhost:8080/"
        },
        "id": "oL0MhRt9c7ap",
        "outputId": "db1b53fa-4edd-4b5d-e15f-97c792149c38"
      },
      "execution_count": 30,
      "outputs": [
        {
          "output_type": "stream",
          "name": "stdout",
          "text": [
            "782/782 [==============================] - 4s 4ms/step - loss: 0.3403 - std_of_activation: 0.9836\n"
          ]
        },
        {
          "output_type": "execute_result",
          "data": {
            "text/plain": [
              "<keras.callbacks.History at 0x7f98ae9a7310>"
            ]
          },
          "metadata": {},
          "execution_count": 30
        }
      ]
    },
    {
      "cell_type": "code",
      "source": [
        "# The same can be done using the functional API\n",
        "inputs = keras.Input(shape=(784,), name=\"digits\")\n",
        "x1 = layers.Dense(64, activation=\"relu\", name=\"dense_1\")(inputs)\n",
        "x2 = layers.Dense(64, activation=\"relu\", name=\"dense_2\")(x1)\n",
        "outputs = layers.Dense(10, name=\"predictions\")(x2)\n",
        "model = keras.Model(inputs=inputs, outputs=outputs)\n",
        "\n",
        "model.add_loss(tf.reduce_sum(x1) * 0.1)\n",
        "\n",
        "model.add_metric(keras.backend.std(x1), name=\"std_of_activation\", aggregation=\"mean\")\n",
        "\n",
        "model.compile(\n",
        "    optimizer=keras.optimizers.RMSprop(1e-3),\n",
        "    loss=keras.losses.SparseCategoricalCrossentropy(from_logits=True),\n",
        ")\n",
        "model.fit(x_train, y_train, batch_size=64, epochs=1)"
      ],
      "metadata": {
        "colab": {
          "base_uri": "https://localhost:8080/"
        },
        "id": "_tr8LY9Wdi02",
        "outputId": "68399334-0bd6-412c-dbeb-dbe278cd4b09"
      },
      "execution_count": 31,
      "outputs": [
        {
          "output_type": "stream",
          "name": "stdout",
          "text": [
            "782/782 [==============================] - 6s 6ms/step - loss: 2.4961 - std_of_activation: 0.0019\n"
          ]
        },
        {
          "output_type": "execute_result",
          "data": {
            "text/plain": [
              "<keras.callbacks.History at 0x7f98ae8b4fd0>"
            ]
          },
          "metadata": {},
          "execution_count": 31
        }
      ]
    },
    {
      "cell_type": "markdown",
      "source": [
        "## Setting apart a validation holdout set"
      ],
      "metadata": {
        "id": "DxRvJrbleNa5"
      }
    },
    {
      "cell_type": "code",
      "source": [
        "# To use a % of the data for validation, we can use:\n",
        "model = get_compiled_model()\n",
        "model.fit(\n",
        "    x_train,\n",
        "    y_train,\n",
        "    batch_size=64,\n",
        "    validation_split=0.2,  # use 20% of the data for validation\n",
        "    epochs=1\n",
        ")"
      ],
      "metadata": {
        "colab": {
          "base_uri": "https://localhost:8080/"
        },
        "id": "eyvWkHEAeeG6",
        "outputId": "39c555f9-aea1-4e5e-f77b-ace0b66286ea"
      },
      "execution_count": 33,
      "outputs": [
        {
          "output_type": "stream",
          "name": "stdout",
          "text": [
            "625/625 [==============================] - 5s 6ms/step - loss: 0.3674 - sparse_categorical_accuracy: 0.8960 - val_loss: 0.2222 - val_sparse_categorical_accuracy: 0.9330\n"
          ]
        },
        {
          "output_type": "execute_result",
          "data": {
            "text/plain": [
              "<keras.callbacks.History at 0x7f98ae656d90>"
            ]
          },
          "metadata": {},
          "execution_count": 33
        }
      ]
    },
    {
      "cell_type": "code",
      "source": [
        "# You can use 'validation_split' when training with numpy data\n",
        "type(x_train)"
      ],
      "metadata": {
        "colab": {
          "base_uri": "https://localhost:8080/"
        },
        "id": "4B8EIylQe30b",
        "outputId": "2137c144-54bc-46ff-b71a-466bed88d6b6"
      },
      "execution_count": 34,
      "outputs": [
        {
          "output_type": "execute_result",
          "data": {
            "text/plain": [
              "numpy.ndarray"
            ]
          },
          "metadata": {},
          "execution_count": 34
        }
      ]
    },
    {
      "cell_type": "markdown",
      "source": [
        "The way the validation is computed is by taking the last x% samples of the arrays received by the fit() call, before any shuffling."
      ],
      "metadata": {
        "id": "PqNibWuZeudQ"
      }
    },
    {
      "cell_type": "markdown",
      "source": [
        "## Using tf.data.Dataset\n",
        "\n",
        "The tf.data API is a set of utilities in TensorFlow 2.0 for loading and preprocessing data in a way that's fast and scalable."
      ],
      "metadata": {
        "id": "5RrQwHSXfWRw"
      }
    },
    {
      "cell_type": "code",
      "source": [
        "# Let's see a first example: you can pass a Dataset instance to the methods\n",
        "# fit(), evaluate() and predict():\n",
        "\n",
        "model = get_compiled_model()\n",
        "\n",
        "# Let's create our Dataset \n",
        "train_dataset = tf.data.Dataset.from_tensor_slices((x_train, y_train))\n",
        "\n",
        "# Shuffle and slice\n",
        "train_dataset = train_dataset.shuffle(buffer_size=1024).batch(64)\n",
        "\n",
        "# And now do the same with the test dataset\n",
        "test_dataset = tf.data.Dataset.from_tensor_slices((x_test, y_test))\n",
        "test_dataset = test_dataset.shuffle(buffer_size=1024).batch(64)\n"
      ],
      "metadata": {
        "id": "UMfnCJFWfj2V"
      },
      "execution_count": 36,
      "outputs": []
    },
    {
      "cell_type": "code",
      "source": [
        "# Now, train the model using Dataset instances.\n",
        "# Since the dataset already takes care of batching, we don't pass a batch_size\n",
        "model.fit(train_dataset, epochs=3)"
      ],
      "metadata": {
        "colab": {
          "base_uri": "https://localhost:8080/"
        },
        "id": "OiudL3TXgf9Y",
        "outputId": "30659577-c865-4637-83e2-cd649618c606"
      },
      "execution_count": 37,
      "outputs": [
        {
          "output_type": "stream",
          "name": "stdout",
          "text": [
            "Epoch 1/3\n",
            "782/782 [==============================] - 5s 6ms/step - loss: 0.3453 - sparse_categorical_accuracy: 0.9030\n",
            "Epoch 2/3\n",
            "782/782 [==============================] - 4s 5ms/step - loss: 0.1623 - sparse_categorical_accuracy: 0.9526\n",
            "Epoch 3/3\n",
            "782/782 [==============================] - 4s 6ms/step - loss: 0.1165 - sparse_categorical_accuracy: 0.9654\n"
          ]
        },
        {
          "output_type": "execute_result",
          "data": {
            "text/plain": [
              "<keras.callbacks.History at 0x7f98a60ddcd0>"
            ]
          },
          "metadata": {},
          "execution_count": 37
        }
      ]
    },
    {
      "cell_type": "code",
      "source": [
        "# And finally, evaluate the model on a dataset too\n",
        "result = model.evaluate(test_dataset)\n",
        "dict(zip(model.metrics_names, result))"
      ],
      "metadata": {
        "colab": {
          "base_uri": "https://localhost:8080/"
        },
        "id": "d4_VW0E0gtJ5",
        "outputId": "36251021-8688-49ea-8c1d-aaac92626e59"
      },
      "execution_count": 38,
      "outputs": [
        {
          "output_type": "stream",
          "name": "stdout",
          "text": [
            "157/157 [==============================] - 1s 4ms/step - loss: 0.1137 - sparse_categorical_accuracy: 0.9670\n"
          ]
        },
        {
          "output_type": "execute_result",
          "data": {
            "text/plain": [
              "{'loss': 0.11367695033550262,\n",
              " 'sparse_categorical_accuracy': 0.9670000076293945}"
            ]
          },
          "metadata": {},
          "execution_count": 38
        }
      ]
    },
    {
      "cell_type": "code",
      "source": [
        "# If you want to specify the number of batches per epoch, you can use:\n",
        "model.fit(train_dataset, epochs=3, steps_per_epoch=100)\n",
        "\n",
        "# In this case, you use 100 batches per epoch and at the end of each epoch you\n",
        "# don't reset the dataset, you just keep drawing the next batches."
      ],
      "metadata": {
        "colab": {
          "base_uri": "https://localhost:8080/"
        },
        "id": "O_tlWFDlhahy",
        "outputId": "92ebb0c2-1706-44fa-d924-89f5f6b463c1"
      },
      "execution_count": 39,
      "outputs": [
        {
          "output_type": "stream",
          "name": "stdout",
          "text": [
            "Epoch 1/3\n",
            "100/100 [==============================] - 0s 4ms/step - loss: 0.0914 - sparse_categorical_accuracy: 0.9747\n",
            "Epoch 2/3\n",
            "100/100 [==============================] - 0s 4ms/step - loss: 0.1016 - sparse_categorical_accuracy: 0.9695\n",
            "Epoch 3/3\n",
            "100/100 [==============================] - 0s 4ms/step - loss: 0.0865 - sparse_categorical_accuracy: 0.9730\n"
          ]
        },
        {
          "output_type": "execute_result",
          "data": {
            "text/plain": [
              "<keras.callbacks.History at 0x7f98a5fb2c90>"
            ]
          },
          "metadata": {},
          "execution_count": 39
        }
      ]
    },
    {
      "cell_type": "code",
      "source": [
        "# You can create and pass a validation dataset too:\n",
        "val_dataset = tf.data.Dataset.from_tensor_slices((x_val, y_val))\n",
        "val_dataset = val_dataset.batch(64)\n",
        "\n",
        "model.fit(train_dataset, epochs=1, validation_data=val_dataset)"
      ],
      "metadata": {
        "colab": {
          "base_uri": "https://localhost:8080/"
        },
        "id": "VyXXZYoNhxCv",
        "outputId": "6a67eaec-c16f-448b-ea63-41605476f58c"
      },
      "execution_count": 40,
      "outputs": [
        {
          "output_type": "stream",
          "name": "stdout",
          "text": [
            "782/782 [==============================] - 6s 7ms/step - loss: 0.0847 - sparse_categorical_accuracy: 0.9748 - val_loss: 0.0980 - val_sparse_categorical_accuracy: 0.9714\n"
          ]
        },
        {
          "output_type": "execute_result",
          "data": {
            "text/plain": [
              "<keras.callbacks.History at 0x7f98a6168750>"
            ]
          },
          "metadata": {},
          "execution_count": 40
        }
      ]
    },
    {
      "cell_type": "code",
      "source": [
        "# Similarly, you can control how many validation steps you want to run by using:\n",
        "model.fit(train_dataset, \n",
        "          epochs=1,\n",
        "          validation_data=val_dataset,\n",
        "          validation_steps=10  # run validation using the first 10 batches\n",
        "          )"
      ],
      "metadata": {
        "colab": {
          "base_uri": "https://localhost:8080/"
        },
        "id": "9xyED81BiYxR",
        "outputId": "b5a956d7-7521-499f-912d-b6765cbb7c5e"
      },
      "execution_count": 41,
      "outputs": [
        {
          "output_type": "stream",
          "name": "stdout",
          "text": [
            "782/782 [==============================] - 4s 6ms/step - loss: 0.0714 - sparse_categorical_accuracy: 0.9780 - val_loss: 0.1515 - val_sparse_categorical_accuracy: 0.9641\n"
          ]
        },
        {
          "output_type": "execute_result",
          "data": {
            "text/plain": [
              "<keras.callbacks.History at 0x7f98ae642a50>"
            ]
          },
          "metadata": {},
          "execution_count": 41
        }
      ]
    },
    {
      "cell_type": "markdown",
      "source": [
        "The argument validation_split is not supported when training from Dataset objects."
      ],
      "metadata": {
        "id": "ep-qgt-IixAP"
      }
    },
    {
      "cell_type": "markdown",
      "source": [
        "## Using other input formats\n",
        "\n",
        "Apart from NumpY arrays and Dataset, it's possible to train a Keras model using:\n",
        "- Pandas dataframes.\n",
        "- or from Python generators that yield batches of data & labels -> keras.utils.Sequence.\n",
        "\n",
        "It's recommended to:\n",
        "- Use NumPy data if the data is small and fits in memory.\n",
        "- Dataset for large dataset and distributed training.\n",
        "- Sequence objects for large dataset and custom Python-side processing. "
      ],
      "metadata": {
        "id": "5uJRE-z1i7b7"
      }
    },
    {
      "cell_type": "code",
      "source": [
        "# An example using keras.utils.Sequence:\n",
        "from skimage.io import imread\n",
        "from skimage.transform import resize\n",
        "import numpy as np\n",
        "\n",
        "class CIFAR10Sequence(keras.utils.Sequence):\n",
        "  def __init__(self, filenames, labels, batch_size):\n",
        "    \"\"\"Constructor\"\"\"\n",
        "    self.filenames = filenames  # list with paths to images\n",
        "    self.labels = labels\n",
        "    self.batch_size = batch_size\n",
        "\n",
        "  def __len__(self):\n",
        "    \"\"\"Returns the length in number of batches\"\"\"\n",
        "    return int(np.ceil(len(self.filenames) / float(self.batch_size)))\n",
        "\n",
        "  def __getitem__(self, idx):\n",
        "    \"\"\"Returns a complete batch\"\"\"\n",
        "    batch_x = self.filenames[idx * self.batch_size: (idx + 1) * self.batch_size]\n",
        "    batch_y = self.labels[idx * self.batch_size: (idx + 1) * self.batch_size]\n",
        "    return np.array(\n",
        "                     [resize(imread(filename), (200, 200)) for filename in batch_x],\n",
        "                    np.array(batch_y)\n",
        "                    )\n",
        "\n",
        "# Create the sequence class and train the model    \n",
        "# filenames = [...]\n",
        "# labels = [...]\n",
        "# batch_size = ...    \n",
        "# sequence = CIFAR10Sequence(filenames, labels, batch_size)\n",
        "# model.fit(sequence, epochs=10)"
      ],
      "metadata": {
        "id": "ZLcpP770jxtw"
      },
      "execution_count": 43,
      "outputs": []
    },
    {
      "cell_type": "markdown",
      "source": [
        "## Using sample and class weighting\n",
        "\n",
        "### Class weights\n",
        "This can be used to balance classes without resampling, or to train a model that gives more importance to a particular class."
      ],
      "metadata": {
        "id": "il3eB1ipmOXW"
      }
    },
    {
      "cell_type": "code",
      "source": [
        "import numpy as np\n",
        "\n",
        "# We define a dict with the weight per class\n",
        "class_weight = {\n",
        "    0: 1.0,  # this means we give a weight of 1.0 to class 0\n",
        "    1: 1.0, \n",
        "    2: 1.0,\n",
        "    3: 1.0,\n",
        "    4: 1.0,\n",
        "    5: 2.0,  # here we are making the class 5 to be more important than the others\n",
        "    6: 1.0,\n",
        "    7: 1.0,\n",
        "    8: 1.0,\n",
        "    9: 1.0,\n",
        "}\n",
        "\n",
        "# And we can train with the weights using:\n",
        "model = get_compiled_model()\n",
        "model.fit(x_train, y_train, class_weight=class_weight, batch_size=64, epochs=1)"
      ],
      "metadata": {
        "colab": {
          "base_uri": "https://localhost:8080/"
        },
        "id": "0KT2_z-Bmzo6",
        "outputId": "7d9499e1-fa34-4fe4-d274-6a3a7a5e9910"
      },
      "execution_count": 44,
      "outputs": [
        {
          "output_type": "stream",
          "name": "stdout",
          "text": [
            "782/782 [==============================] - 6s 6ms/step - loss: 0.3577 - sparse_categorical_accuracy: 0.9053\n"
          ]
        },
        {
          "output_type": "execute_result",
          "data": {
            "text/plain": [
              "<keras.callbacks.History at 0x7f98a534d650>"
            ]
          },
          "metadata": {},
          "execution_count": 44
        }
      ]
    },
    {
      "cell_type": "markdown",
      "source": [
        "### Sample weights\n",
        "A \"sample weights\" array is an array of numbers that specify how much weight each sample in a batch should have in computing the total loss. It is commonly used in imbalanced classification problems.\n",
        "\n",
        "You can use sample weights in both NumPy data and tf.data."
      ],
      "metadata": {
        "id": "qtScXcIJnVew"
      }
    },
    {
      "cell_type": "code",
      "source": [
        "# -- An example using NumPy data\n",
        "sample_weight = np.ones(shape=(len(y_train),))\n",
        "sample_weight[y_train == 5] = 2.0\n",
        "print(sample_weight)\n",
        "\n",
        "# Pass the sample weights using the 'sample_weight' parameter:\n",
        "model = get_compiled_model()\n",
        "model.fit(\n",
        "  x_train,\n",
        "  y_train,\n",
        "  sample_weight=sample_weight,\n",
        "  batch_size=64,\n",
        "  epochs=1\n",
        ")"
      ],
      "metadata": {
        "colab": {
          "base_uri": "https://localhost:8080/"
        },
        "id": "SU8nWecOn6gg",
        "outputId": "087ba65f-0e37-42c8-b702-e0b835930ca3"
      },
      "execution_count": 46,
      "outputs": [
        {
          "output_type": "stream",
          "name": "stdout",
          "text": [
            "[2. 1. 1. ... 1. 1. 1.]\n",
            "782/782 [==============================] - 6s 6ms/step - loss: 0.3573 - sparse_categorical_accuracy: 0.9059\n"
          ]
        },
        {
          "output_type": "execute_result",
          "data": {
            "text/plain": [
              "<keras.callbacks.History at 0x7f98a5307d10>"
            ]
          },
          "metadata": {},
          "execution_count": 46
        }
      ]
    },
    {
      "cell_type": "code",
      "source": [
        "# -- An example using Dataset\n",
        "sample_weight = np.ones(shape=(len(y_train),))\n",
        "sample_weight[y_train == 5] = 2.0\n",
        "\n",
        "# Create a Dataset instances that includes 'sample_weight'\n",
        "train_dataset = tf.data.Dataset.from_tensor_slices((x_train, y_train, sample_weight))\n",
        "train_dataset = train_dataset.shuffle(buffer_size=1024).batch(64)\n",
        "\n",
        "model = get_compiled_model()\n",
        "model.fit(train_dataset, epochs=1)"
      ],
      "metadata": {
        "colab": {
          "base_uri": "https://localhost:8080/"
        },
        "id": "P_ukkQtDoq3v",
        "outputId": "570e4acb-bf00-4bf7-8121-8b8bf9a211f3"
      },
      "execution_count": 47,
      "outputs": [
        {
          "output_type": "stream",
          "name": "stdout",
          "text": [
            "782/782 [==============================] - 6s 5ms/step - loss: 0.3663 - sparse_categorical_accuracy: 0.9035\n"
          ]
        },
        {
          "output_type": "execute_result",
          "data": {
            "text/plain": [
              "<keras.callbacks.History at 0x7f98a5be2f50>"
            ]
          },
          "metadata": {},
          "execution_count": 47
        }
      ]
    },
    {
      "cell_type": "markdown",
      "source": [
        "## Passing data to multi-input and multi-output models\n",
        "\n"
      ],
      "metadata": {
        "id": "O5enRk8RpA8Y"
      }
    },
    {
      "cell_type": "code",
      "source": [
        "# Let's define a model with two inputs and two outputs\n",
        "\n",
        "image_input = keras.Input(shape=(32, 32, 3), name=\"img_input\")\n",
        "timeseries_input = keras.Input(shape=(None, 10), name=\"ts_input\")\n",
        "\n",
        "x1 = layers.Conv2D(3, 3)(image_input)\n",
        "x1 = layers.GlobalMaxPooling2D()(x1)\n",
        "\n",
        "x2 = layers.Conv1D(3, 3)(timeseries_input)\n",
        "x2 = layers.GlobalMaxPooling1D()(x2)\n",
        "\n",
        "x = layers.concatenate([x1, x2])\n",
        "\n",
        "score_output = layers.Dense(1, name=\"score_output\")(x)\n",
        "class_output = layers.Dense(5, name=\"class_output\")(x)\n",
        "\n",
        "model = keras.Model(\n",
        "    inputs=[image_input, timeseries_input], outputs=[score_output, class_output]\n",
        ")"
      ],
      "metadata": {
        "id": "1y7a8fRi381z"
      },
      "execution_count": 48,
      "outputs": []
    },
    {
      "cell_type": "code",
      "source": [
        "# Now, let's visualize the model\n",
        "keras.utils.plot_model(model, \"multi_input_and_output_model.png\", show_shapes=True)"
      ],
      "metadata": {
        "colab": {
          "base_uri": "https://localhost:8080/",
          "height": 352
        },
        "id": "XzOsToUz4GPR",
        "outputId": "9865d918-0db7-453d-f830-a8bbe6f1840a"
      },
      "execution_count": 49,
      "outputs": [
        {
          "output_type": "execute_result",
          "data": {
            "image/png": "[encoded data removed]",
            "text/plain": [
              "<IPython.core.display.Image object>"
            ]
          },
          "metadata": {},
          "execution_count": 49
        }
      ]
    },
    {
      "cell_type": "code",
      "source": [
        "# we can specify different losses to different outputs, by passing the loss \n",
        "# functions as a list. Likewise for metrics:\n",
        "\n",
        "model.compile(\n",
        "    optimizer=keras.optimizers.RMSprop(1e-3),\n",
        "    loss=[keras.losses.MeanSquaredError(), keras.losses.CategoricalCrossentropy()],\n",
        "    metrics=[\n",
        "             [\n",
        "              keras.metrics.MeanAbsolutePercentageError(),\n",
        "              keras.metrics.MeanAbsoluteError(),\n",
        "             ],\n",
        "             [keras.metrics.CategoricalAccuracy()]\n",
        "    ]\n",
        ")"
      ],
      "metadata": {
        "id": "-2u_c1hZ4a4n"
      },
      "execution_count": 54,
      "outputs": []
    },
    {
      "cell_type": "code",
      "source": [
        "# The same thing can be achieved using dicts, which is more readable.\n",
        "model.compile(\n",
        "    optimizer=keras.optimizers.RMSprop(1e-3),\n",
        "    loss={\n",
        "        \"score_output\": keras.losses.MeanSquaredError(),\n",
        "        \"class_output\": keras.losses.CategoricalCrossentropy(),\n",
        "    },\n",
        "    metrics={\n",
        "        \"score_output\": [\n",
        "            keras.metrics.MeanAbsolutePercentageError(),\n",
        "            keras.metrics.MeanAbsoluteError(),\n",
        "        ],\n",
        "        \"class_output\": [keras.metrics.CategoricalAccuracy()],\n",
        "    },\n",
        "    loss_weights={\"score_output\": 2.0, \"class_output\": 1.0}  # gives weights to the outputs\n",
        ")"
      ],
      "metadata": {
        "id": "NIq46k4h43vQ"
      },
      "execution_count": 53,
      "outputs": []
    },
    {
      "cell_type": "code",
      "source": [
        "# You could also choose not to compute a loss for certain outputs:\n",
        "\n",
        "# List loss version\n",
        "model.compile(\n",
        "    optimizer=keras.optimizers.RMSprop(1e-3),\n",
        "    loss=[None, keras.losses.CategoricalCrossentropy()],\n",
        ")\n",
        "\n",
        "# Or dict loss version\n",
        "model.compile(\n",
        "    optimizer=keras.optimizers.RMSprop(1e-3),\n",
        "    loss={\"class_output\": keras.losses.CategoricalCrossentropy()},\n",
        ")"
      ],
      "metadata": {
        "id": "5n7qzTsd5XmI"
      },
      "execution_count": 55,
      "outputs": []
    },
    {
      "cell_type": "code",
      "source": [
        "# Let's use this compilation for the next steps\n",
        "model.compile(\n",
        "    optimizer=keras.optimizers.RMSprop(1e-3),\n",
        "    loss=[keras.losses.MeanSquaredError(), keras.losses.CategoricalCrossentropy()],\n",
        ")"
      ],
      "metadata": {
        "id": "_p4C5kKp5kIY"
      },
      "execution_count": 56,
      "outputs": []
    },
    {
      "cell_type": "markdown",
      "source": [
        "### Multi-NumPy:"
      ],
      "metadata": {
        "id": "nLX9EcYt6l26"
      }
    },
    {
      "cell_type": "code",
      "source": [
        "# Let's now generate some numpy data:\n",
        "\n",
        "# Inputs:\n",
        "img_data = np.random.random_sample(size=(100, 32, 32, 3))\n",
        "ts_data = np.random.random_sample(size=(100, 20, 10))\n",
        "\n",
        "# Outputs:\n",
        "score_targets = np.random.random_sample(size=(100, 1))\n",
        "class_targets = np.random.random_sample(size=(100, 5))"
      ],
      "metadata": {
        "id": "bGfji5k353_h"
      },
      "execution_count": 57,
      "outputs": []
    },
    {
      "cell_type": "code",
      "source": [
        "# To pass data to a multi-input or multi-output model, you can:\n",
        "# - Pass lists of NumPy arrays:\n",
        "model.fit([img_data, ts_data], [score_targets, class_targets], batch_size=32, epochs=1)"
      ],
      "metadata": {
        "colab": {
          "base_uri": "https://localhost:8080/"
        },
        "id": "vD7fpkzV5soo",
        "outputId": "f96b0f8e-de03-4e0a-bd63-8f6b746c5666"
      },
      "execution_count": 58,
      "outputs": [
        {
          "output_type": "stream",
          "name": "stdout",
          "text": [
            "4/4 [==============================] - 3s 25ms/step - loss: 11.4477 - score_output_loss: 1.4073 - class_output_loss: 10.0404\n"
          ]
        },
        {
          "output_type": "execute_result",
          "data": {
            "text/plain": [
              "<keras.callbacks.History at 0x7f98a59a15d0>"
            ]
          },
          "metadata": {},
          "execution_count": 58
        }
      ]
    },
    {
      "cell_type": "code",
      "source": [
        "# - Pass dicts \n",
        "model.fit(\n",
        "    {\"img_input\": img_data, \"ts_input\": ts_data},\n",
        "    {\"score_output\": score_targets, \"class_output\": class_targets},\n",
        "    batch_size=32,\n",
        "    epochs=1\n",
        ")"
      ],
      "metadata": {
        "colab": {
          "base_uri": "https://localhost:8080/"
        },
        "id": "kk_KG6gr6NBv",
        "outputId": "25dcd1ad-b211-4bed-ac60-d2b68d9ebb1a"
      },
      "execution_count": 59,
      "outputs": [
        {
          "output_type": "stream",
          "name": "stdout",
          "text": [
            "4/4 [==============================] - 1s 34ms/step - loss: 10.5355 - score_output_loss: 0.5887 - class_output_loss: 9.9468\n"
          ]
        },
        {
          "output_type": "execute_result",
          "data": {
            "text/plain": [
              "<keras.callbacks.History at 0x7f98a5ab5710>"
            ]
          },
          "metadata": {},
          "execution_count": 59
        }
      ]
    },
    {
      "cell_type": "markdown",
      "source": [
        "### Multi-Dataset:"
      ],
      "metadata": {
        "id": "ok-J7l2x6p3O"
      }
    },
    {
      "cell_type": "code",
      "source": [
        "# Similarly, you can fit your model using a tf.Dataset\n",
        "train_dataset = tf.data.Dataset.from_tensor_slices(\n",
        "    (\n",
        "        {\"img_input\": img_data, \"ts_input\": ts_data},\n",
        "        {\"score_output\": score_targets, \"class_output\": class_targets},\n",
        "    )\n",
        ")\n",
        "train_dataset = train_dataset.shuffle(buffer_size=1024).batch(64)\n",
        "\n",
        "model.fit(train_dataset, epochs=1)"
      ],
      "metadata": {
        "colab": {
          "base_uri": "https://localhost:8080/"
        },
        "id": "FGNKG-q96r9u",
        "outputId": "bcb32f1e-524b-4014-a6ad-066bbc830dcb"
      },
      "execution_count": 60,
      "outputs": [
        {
          "output_type": "stream",
          "name": "stdout",
          "text": [
            "2/2 [==============================] - 1s 36ms/step - loss: 10.2496 - score_output_loss: 0.3614 - class_output_loss: 9.8881\n"
          ]
        },
        {
          "output_type": "execute_result",
          "data": {
            "text/plain": [
              "<keras.callbacks.History at 0x7f98a39dc210>"
            ]
          },
          "metadata": {},
          "execution_count": 60
        }
      ]
    },
    {
      "cell_type": "markdown",
      "source": [
        "## Using callbacks\n",
        "\n",
        "Callbacks in Keras are objects that are called at different points during training. Some uses can be:\n",
        "- Doing validation at different points during training.\n",
        "- Checkpointing the model.\n",
        "- Changing the learning rate.\n",
        "- Doing fine-tuning the top layers.\n",
        "- Sending emails or messages when training ends or a certain threshold is exceeded."
      ],
      "metadata": {
        "id": "76F7gLNo63hv"
      }
    },
    {
      "cell_type": "code",
      "source": [
        "# Callbacks are passed directly to 'fit()'\n",
        "\n",
        "model = get_compiled_model()\n",
        "\n",
        "callbacks = [\n",
        "  keras.callbacks.EarlyStopping(\n",
        "      monitor=\"val_loss\",  # stop training the val loss does not improve\n",
        "      min_delta=1e-2,  # more that 1e-3 \n",
        "      patience=2,  # for at least 2 epochs\n",
        "      verbose=1\n",
        "  )             \n",
        "]\n",
        "\n",
        "model.fit(\n",
        "    x_train,\n",
        "    y_train,\n",
        "    epochs=20,\n",
        "    batch_size=64,\n",
        "    callbacks=callbacks,  # pass the callbacks\n",
        "    validation_split=0.2\n",
        ")"
      ],
      "metadata": {
        "colab": {
          "base_uri": "https://localhost:8080/"
        },
        "id": "eQNy2wmp7f5H",
        "outputId": "1b2b3c7d-f8f2-4fbc-f4b0-792c935cff02"
      },
      "execution_count": 61,
      "outputs": [
        {
          "output_type": "stream",
          "name": "stdout",
          "text": [
            "Epoch 1/20\n",
            "625/625 [==============================] - 7s 9ms/step - loss: 0.3618 - sparse_categorical_accuracy: 0.8978 - val_loss: 0.2135 - val_sparse_categorical_accuracy: 0.9357\n",
            "Epoch 2/20\n",
            "625/625 [==============================] - 5s 9ms/step - loss: 0.1641 - sparse_categorical_accuracy: 0.9515 - val_loss: 0.1650 - val_sparse_categorical_accuracy: 0.9505\n",
            "Epoch 3/20\n",
            "625/625 [==============================] - 5s 8ms/step - loss: 0.1192 - sparse_categorical_accuracy: 0.9645 - val_loss: 0.1562 - val_sparse_categorical_accuracy: 0.9534\n",
            "Epoch 4/20\n",
            "625/625 [==============================] - 5s 7ms/step - loss: 0.0944 - sparse_categorical_accuracy: 0.9712 - val_loss: 0.1420 - val_sparse_categorical_accuracy: 0.9581\n",
            "Epoch 5/20\n",
            "625/625 [==============================] - 5s 7ms/step - loss: 0.0786 - sparse_categorical_accuracy: 0.9759 - val_loss: 0.1403 - val_sparse_categorical_accuracy: 0.9596\n",
            "Epoch 6/20\n",
            "625/625 [==============================] - 4s 7ms/step - loss: 0.0655 - sparse_categorical_accuracy: 0.9809 - val_loss: 0.1317 - val_sparse_categorical_accuracy: 0.9641\n",
            "Epoch 7/20\n",
            "625/625 [==============================] - 4s 7ms/step - loss: 0.0554 - sparse_categorical_accuracy: 0.9832 - val_loss: 0.1455 - val_sparse_categorical_accuracy: 0.9605\n",
            "Epoch 8/20\n",
            "625/625 [==============================] - 4s 7ms/step - loss: 0.0490 - sparse_categorical_accuracy: 0.9850 - val_loss: 0.1407 - val_sparse_categorical_accuracy: 0.9656\n",
            "Epoch 00008: early stopping\n"
          ]
        },
        {
          "output_type": "execute_result",
          "data": {
            "text/plain": [
              "<keras.callbacks.History at 0x7f98a38bcbd0>"
            ]
          },
          "metadata": {},
          "execution_count": 61
        }
      ]
    },
    {
      "cell_type": "code",
      "source": [
        "# Another example: Checkpointing models\n",
        "\n",
        "model = get_compiled_model()\n",
        "\n",
        "callbacks = [\n",
        "             keras.callbacks.ModelCheckpoint(\n",
        "                 filepath=\"my_model_{epoch}\",  # path where to save the model, name includes the current epoch.\n",
        "                 save_best_only=True,  # only save the model if 'val_loss' has improved\n",
        "                 monitor=\"val_loss\",\n",
        "                 verbose=1\n",
        "             )\n",
        "]\n",
        "\n",
        "model.fit(\n",
        "    x_train,\n",
        "    y_train,\n",
        "    epochs=2,\n",
        "    batch_size=64,\n",
        "    callbacks=callbacks,  # pass the callbacks\n",
        "    validation_split=0.2\n",
        ")"
      ],
      "metadata": {
        "colab": {
          "base_uri": "https://localhost:8080/"
        },
        "id": "v4fZVtCE8s8j",
        "outputId": "7d4d78f4-dace-45e4-bfde-33169311ce7b"
      },
      "execution_count": 62,
      "outputs": [
        {
          "output_type": "stream",
          "name": "stdout",
          "text": [
            "Epoch 1/2\n",
            "619/625 [============================>.] - ETA: 0s - loss: 0.3683 - sparse_categorical_accuracy: 0.8955\n",
            "Epoch 00001: val_loss improved from inf to 0.22182, saving model to my_model_1\n",
            "INFO:tensorflow:Assets written to: my_model_1/assets\n",
            "625/625 [==============================] - 8s 11ms/step - loss: 0.3670 - sparse_categorical_accuracy: 0.8960 - val_loss: 0.2218 - val_sparse_categorical_accuracy: 0.9323\n",
            "Epoch 2/2\n",
            "611/625 [============================>.] - ETA: 0s - loss: 0.1717 - sparse_categorical_accuracy: 0.9485\n",
            "Epoch 00002: val_loss improved from 0.22182 to 0.17184, saving model to my_model_2\n",
            "INFO:tensorflow:Assets written to: my_model_2/assets\n",
            "625/625 [==============================] - 4s 7ms/step - loss: 0.1706 - sparse_categorical_accuracy: 0.9488 - val_loss: 0.1718 - val_sparse_categorical_accuracy: 0.9490\n"
          ]
        },
        {
          "output_type": "execute_result",
          "data": {
            "text/plain": [
              "<keras.callbacks.History at 0x7f98a370f1d0>"
            ]
          },
          "metadata": {},
          "execution_count": 62
        }
      ]
    },
    {
      "cell_type": "code",
      "source": [
        "# Model Checkpointing can be used to restore the training from the last saved \n",
        "# state in case training gets randomly interrupted.\n",
        "\n",
        "import os\n",
        "\n",
        "# Prepare a directory to store the checkpoints\n",
        "checkpoint_dir=\"./ckpt\"\n",
        "os.makedirs(checkpoint_dir, exist_ok=True)\n",
        "\n",
        "# Restore the latest model or create a new one if there is no checkpoint available\n",
        "def make_or_restore_model():\n",
        "  # Get the checkpoints\n",
        "  checkpoint_names = os.listdir(checkpoint_dir)\n",
        "  checkpoints = list(map(lambda x: os.path.join(checkpoint_dir, x), checkpoint_names))\n",
        "\n",
        "  if checkpoints:\n",
        "    # If there are checkpoints, we find the last one to return it\n",
        "    latest_checkpoint = max(checkpoints, key=os.path.getctime)\n",
        "    model = keras.models.load_model(latest_checkpoint)\n",
        "  else:\n",
        "    # There are no checkpoints, so we return the compiled model\n",
        "    model =  get_compiled_model()\n",
        "\n",
        "  return model\n",
        "\n",
        "model = make_or_restore_model()\n",
        "\n",
        "callbacks = [\n",
        "             keras.callbacks.ModelCheckpoint(\n",
        "                 filepath=checkpoint_dir + \"/ckpt-loss={loss:.2f}\",\n",
        "                 save_freq=100  # save a model every 100 batches\n",
        "             )\n",
        "]\n",
        "\n",
        "# Continue training or start training the model\n",
        "model.fit(\n",
        "    x_train,\n",
        "    y_train,\n",
        "    epochs=1,\n",
        "    callbacks=callbacks\n",
        ")"
      ],
      "metadata": {
        "colab": {
          "base_uri": "https://localhost:8080/"
        },
        "id": "lqNKX6rd9h4r",
        "outputId": "39be21b4-2a78-4839-bfaf-35e409119947"
      },
      "execution_count": 65,
      "outputs": [
        {
          "output_type": "stream",
          "name": "stdout",
          "text": [
            "  94/1563 [>.............................] - ETA: 4s - loss: 0.9759 - sparse_categorical_accuracy: 0.7274INFO:tensorflow:Assets written to: ./ckpt/ckpt-loss=0.94/assets\n",
            " 186/1563 [==>...........................] - ETA: 13s - loss: 0.7156 - sparse_categorical_accuracy: 0.7979INFO:tensorflow:Assets written to: ./ckpt/ckpt-loss=0.69/assets\n",
            " 295/1563 [====>.........................] - ETA: 14s - loss: 0.5858 - sparse_categorical_accuracy: 0.8309INFO:tensorflow:Assets written to: ./ckpt/ckpt-loss=0.58/assets\n",
            " 391/1563 [======>.......................] - ETA: 14s - loss: 0.5191 - sparse_categorical_accuracy: 0.8508INFO:tensorflow:Assets written to: ./ckpt/ckpt-loss=0.51/assets\n",
            " 490/1563 [========>.....................] - ETA: 13s - loss: 0.4754 - sparse_categorical_accuracy: 0.8629INFO:tensorflow:Assets written to: ./ckpt/ckpt-loss=0.47/assets\n",
            " 589/1563 [==========>...................] - ETA: 13s - loss: 0.4429 - sparse_categorical_accuracy: 0.8716INFO:tensorflow:Assets written to: ./ckpt/ckpt-loss=0.44/assets\n",
            " 699/1563 [============>.................] - ETA: 11s - loss: 0.4141 - sparse_categorical_accuracy: 0.8801INFO:tensorflow:Assets written to: ./ckpt/ckpt-loss=0.41/assets\n",
            " 793/1563 [==============>...............] - ETA: 10s - loss: 0.3915 - sparse_categorical_accuracy: 0.8865INFO:tensorflow:Assets written to: ./ckpt/ckpt-loss=0.39/assets\n",
            " 885/1563 [===============>..............] - ETA: 9s - loss: 0.3752 - sparse_categorical_accuracy: 0.8911INFO:tensorflow:Assets written to: ./ckpt/ckpt-loss=0.37/assets\n",
            " 989/1563 [=================>............] - ETA: 8s - loss: 0.3618 - sparse_categorical_accuracy: 0.8949INFO:tensorflow:Assets written to: ./ckpt/ckpt-loss=0.36/assets\n",
            "1098/1563 [====================>.........] - ETA: 6s - loss: 0.3459 - sparse_categorical_accuracy: 0.8997INFO:tensorflow:Assets written to: ./ckpt/ckpt-loss=0.35/assets\n",
            "1195/1563 [=====================>........] - ETA: 5s - loss: 0.3365 - sparse_categorical_accuracy: 0.9022INFO:tensorflow:Assets written to: ./ckpt/ckpt-loss=0.34/assets\n",
            "1286/1563 [=======================>......] - ETA: 4s - loss: 0.3266 - sparse_categorical_accuracy: 0.9047INFO:tensorflow:Assets written to: ./ckpt/ckpt-loss=0.33/assets\n",
            "1395/1563 [=========================>....] - ETA: 2s - loss: 0.3162 - sparse_categorical_accuracy: 0.9076INFO:tensorflow:Assets written to: ./ckpt/ckpt-loss=0.32/assets\n",
            "1492/1563 [===========================>..] - ETA: 1s - loss: 0.3076 - sparse_categorical_accuracy: 0.9097INFO:tensorflow:Assets written to: ./ckpt/ckpt-loss=0.31/assets\n",
            "1563/1563 [==============================] - 24s 15ms/step - loss: 0.3030 - sparse_categorical_accuracy: 0.9111\n"
          ]
        },
        {
          "output_type": "execute_result",
          "data": {
            "text/plain": [
              "<keras.callbacks.History at 0x7f98a340c150>"
            ]
          },
          "metadata": {},
          "execution_count": 65
        }
      ]
    },
    {
      "cell_type": "markdown",
      "source": [
        "### Writing custom callbacks"
      ],
      "metadata": {
        "id": "_u8c5m6W_1eU"
      }
    },
    {
      "cell_type": "code",
      "source": [
        "# Here's a simple example saving a list of per-batch loss values during \n",
        "# training:\n",
        "\n",
        "class LossHistory(keras.callbacks.Callback):  # Derive from Callback\n",
        "  def on_train_begin(self, logs):\n",
        "    self.per_batch_losses = []\n",
        "\n",
        "  def on_batch_end(self, batch, logs):\n",
        "    self.per_batch_losses.append(logs.get(\"loss\"))"
      ],
      "metadata": {
        "id": "xB13UPR8__D5"
      },
      "execution_count": 66,
      "outputs": []
    },
    {
      "cell_type": "markdown",
      "source": [
        "## Using learning rate schedules (learning rate decay):\n",
        "The learning rate schedule can be:\n",
        "- **Static:** as a function of the current epochs or batch.\n",
        "- **Dynamic:** responding to the current behaviour of the model, for example the validation loss).\n"
      ],
      "metadata": {
        "id": "LDXeZZupAcR3"
      }
    },
    {
      "cell_type": "code",
      "source": [
        "# Using static learning rate schedules:\n",
        "\n",
        "# First, we define the schedule.\n",
        "initial_learning_rate = 0.1\n",
        "lr_schedule = keras.optimizers.schedules.ExponentialDecay(\n",
        "    initial_learning_rate,\n",
        "    decay_steps=100000,\n",
        "    decay_rate=0.96,\n",
        "    staircase=True\n",
        ")\n",
        "\n",
        "# And then we create the optimizer with the previous defined schedule.\n",
        "optimizer = keras.optimizers.RMSprop(learning_rate=lr_schedule)"
      ],
      "metadata": {
        "id": "md9ov5-BA2wx"
      },
      "execution_count": 69,
      "outputs": []
    },
    {
      "cell_type": "markdown",
      "source": [
        "To implement dynamic learning rate schedules, you have to use callbacks instead of the optimizer. See 'ReduceLROnPlateau'."
      ],
      "metadata": {
        "id": "6wIhhwEmCMa3"
      }
    },
    {
      "cell_type": "markdown",
      "source": [
        "## Using Tensorboard\n",
        "\n",
        "TensorBoard provides you with:\n",
        "- Live plots of the loss and metrics for training and evaluation.\n",
        "- Visualizations of the histograms of your layer activations. \n",
        "- 3D visualizations of the embedding spaces learning by the 'Embedding' layers if exist."
      ],
      "metadata": {
        "id": "jF2B0iHFCXhl"
      }
    },
    {
      "cell_type": "code",
      "source": [
        "# How to use tensorboard:\n",
        "!pip install tensorboard\n",
        "!tensorboard --logdir=/full_path_to_your_logs"
      ],
      "metadata": {
        "id": "k7TZmQvuCvtt"
      },
      "execution_count": null,
      "outputs": []
    },
    {
      "cell_type": "code",
      "source": [
        "# To write the logs, you must use the tensorboard callback:\n",
        "keras.callbacks.TensorBoard(\n",
        "    log_dir=\"/full_path_to_your_logs\",  # where to write the logs\n",
        "    histogram_freq=0,  # how often to log histogram visualizations\n",
        "    embeddings_freq=0,  # how often to log embedding visualizations\n",
        "    update_freq=\"epoch\",  # how often to write logs\n",
        ")"
      ],
      "metadata": {
        "colab": {
          "base_uri": "https://localhost:8080/"
        },
        "id": "OddugkrNC3pB",
        "outputId": "56725075-aec6-4a10-abfd-6c8a425349bb"
      },
      "execution_count": 70,
      "outputs": [
        {
          "output_type": "execute_result",
          "data": {
            "text/plain": [
              "<keras.callbacks.TensorBoard at 0x7f98b8ae6bd0>"
            ]
          },
          "metadata": {},
          "execution_count": 70
        }
      ]
    }
  ]
}