{
 "cells": [
  {
   "cell_type": "markdown",
   "metadata": {},
   "source": [
    "# Metaclasses\n",
    "\n",
    "A class defines the rules for objects such as attributes, operations,\n",
    "etc. But classes are objects at the same time. Who creates them?\n",
    "\n",
    "The responsible of creating classes are the **metaclasses**. They define\n",
    "the rules for a class. "
   ]
  },
  {
   "cell_type": "code",
   "execution_count": 1,
   "metadata": {},
   "outputs": [
    {
     "name": "stdout",
     "output_type": "stream",
     "text": [
      "<class '__main__.Test'>\n",
      "<__main__.Test object at 0x000001691D2C4E50>\n"
     ]
    }
   ],
   "source": [
    "# Let's create a class\n",
    "class Test:\n",
    "    pass\n",
    "\n",
    "print(Test)  # 'Test' is an object\n",
    "print(Test())  # 'Test() is an instance of Test, and it's an object too"
   ]
  },
  {
   "cell_type": "markdown",
   "metadata": {},
   "source": [
    "When can use **type()** to get the class of every instance. For example:"
   ]
  },
  {
   "cell_type": "code",
   "execution_count": 2,
   "metadata": {},
   "outputs": [
    {
     "name": "stdout",
     "output_type": "stream",
     "text": [
      "<class 'int'>\n",
      "<class 'str'>\n",
      "<class 'function'>\n",
      "<class '__main__.Test'>\n"
     ]
    }
   ],
   "source": [
    "print(type(2))  # class 'int'\n",
    "print(type(\"Hello\"))  # class 'str'\n",
    "\n",
    "# Functions are objects too, so we can get their types too\n",
    "def f():\n",
    "    pass\n",
    "print(type(f))\n",
    "\n",
    "# And for an instance of 'Test'\n",
    "print(type(Test()))  # class 'Test'"
   ]
  },
  {
   "cell_type": "markdown",
   "metadata": {},
   "source": [
    "Since classes are objects too, we are able to print their type too:"
   ]
  },
  {
   "cell_type": "code",
   "execution_count": 3,
   "metadata": {},
   "outputs": [
    {
     "data": {
      "text/plain": [
       "type"
      ]
     },
     "execution_count": 3,
     "metadata": {},
     "output_type": "execute_result"
    }
   ],
   "source": [
    "type(Test)  # class 'type'"
   ]
  },
  {
   "cell_type": "markdown",
   "metadata": {},
   "source": [
    "This is because **type** is a metaclass, and it is responsible of creating classes. Let's see how we can create a class using *type*:"
   ]
  },
  {
   "cell_type": "code",
   "execution_count": 4,
   "metadata": {},
   "outputs": [],
   "source": [
    "# Let's create a similar class using type's constructor\n",
    "Test2 = type(\"Test2\", (), {})  # type([name of the class], [parent classes], [attributes and methods])"
   ]
  },
  {
   "cell_type": "code",
   "execution_count": 5,
   "metadata": {},
   "outputs": [
    {
     "name": "stdout",
     "output_type": "stream",
     "text": [
      "<class 'type'>\n",
      "<class '__main__.Test2'>\n"
     ]
    }
   ],
   "source": [
    "# Now we are able to print the class type and to create instances of it\n",
    "print(type(Test2))\n",
    "print(type(Test2()))"
   ]
  },
  {
   "cell_type": "code",
   "execution_count": 14,
   "metadata": {},
   "outputs": [
    {
     "name": "stdout",
     "output_type": "stream",
     "text": [
      "It's Test3!\n",
      "Hello It's Test3!!\n",
      "5\n"
     ]
    }
   ],
   "source": [
    "# Let's see how to add attributes and methods to that class\n",
    "\n",
    "# Let's first define a method. It just prints 'Hello' and the name \n",
    "# attribute of the class \n",
    "def say_hello(self):\n",
    "    print(f\"Hello {self.name}!\")\n",
    "\n",
    "# Now let's call the type's constructor and give a value to the 'name'\n",
    "# attribute and say that the method 'say_hello' is the function above\n",
    "Test3 = type(\"Test3\", (), {\"name\": \"It's Test3!\", \"say_hello\": say_hello})\n",
    "\n",
    "# Now, we can access the class attributes and the methods as always\n",
    "t = Test3()\n",
    "print(t.name)\n",
    "t.say_hello()\n",
    "\n",
    "# We can add new attributes too\n",
    "t.x = 5\n",
    "print(t.x)"
   ]
  },
  {
   "cell_type": "code",
   "execution_count": 13,
   "metadata": {},
   "outputs": [
    {
     "name": "stdout",
     "output_type": "stream",
     "text": [
      "It's Test3!\n",
      "Hello It's Test3!!\n",
      "Foo\n"
     ]
    }
   ],
   "source": [
    "# We can do inheritance using this way of creating classes too.\n",
    "\n",
    "# Let's say we have a parent class called 'Foo'\n",
    "class Foo:\n",
    "    \n",
    "    def say_foo(self):\n",
    "        print(\"Foo\")\n",
    "        \n",
    "# And we want to create our class 'Test3' deriving it from Foo\n",
    "Test3 = type(\"Test3\", (Foo,), {\"name\": \"It's Test3!\", \"say_hello\": say_hello})\n",
    "\n",
    "# Now, we can access the class attributes and the methods as before\n",
    "t = Test3()\n",
    "print(t.name)\n",
    "t.say_hello()\n",
    "\n",
    "# But we can also call 'say_foo'\n",
    "t.say_foo()"
   ]
  },
  {
   "cell_type": "markdown",
   "metadata": {},
   "source": [
    "Now we've seen how type() works as a metaclass for classes, we're going to see how to create our own metaclasses too:"
   ]
  },
  {
   "cell_type": "code",
   "execution_count": 21,
   "metadata": {},
   "outputs": [
    {
     "name": "stdout",
     "output_type": "stream",
     "text": [
      "Calling type's constructor from Meta.__new__()\n",
      "Creating a class called Dog derived from () and with attributes {'__module__': '__main__', '__qualname__': 'Dog', 'animal': 'dog', 'say_hi': <function Dog.say_hi at 0x000001691D2BDF70>}.\n",
      "Hi, I'm dog\n",
      "Hi, I'm cat\n"
     ]
    }
   ],
   "source": [
    "# We create out metaclass deriving it from type\n",
    "class Meta(\n",
    "    type\n",
    "):  # since this inheritance is implicit, we could have also said 'class Meta:'\n",
    "    def __new__(self, class_name, bases, attribs):\n",
    "        # This method is called when creating a new instance of class 'cls'.\n",
    "        # After that, the __init__ method of 'cls' initializes the class.\n",
    "        # Parameters are the same as the ones from type's constructor.\n",
    "\n",
    "        # Let's call the type's constructor.\n",
    "        print(\"Calling type's constructor from Meta.__new__()\")\n",
    "        print(\n",
    "            f\"Creating a class called {class_name} derived from \"\n",
    "            f\"{bases} and with attributes {attribs}.\"\n",
    "        )\n",
    "        return type(class_name, bases, attribs)\n",
    "\n",
    "\n",
    "# Now let's create a class that uses our metaclass 'Meta' instead of type.\n",
    "# Actually, there's no huge difference due to the way we've defined __new__()\n",
    "# in Meta.\n",
    "class Dog(metaclass=Meta):\n",
    "    animal = \"dog\"\n",
    "    \n",
    "    def say_hi(self):\n",
    "        print(f\"Hi, I'm {self.animal}\")\n",
    "\n",
    "\n",
    "# Let's create another class using the metaclass type to see the x.difference\n",
    "# (which will be two print() statments)\n",
    "class Cat:\n",
    "    animal = \"cat\"\n",
    "    \n",
    "    def say_hi(self):\n",
    "        print(f\"Hi, I'm {self.animal}\")\n",
    "\n",
    "\n",
    "# Let's create and instance of Dog. We can see here that the __new__()\n",
    "# method from Meta was called.\n",
    "d = Dog()\n",
    "d.say_hi()\n",
    "\n",
    "# This doesn't happen when creating a Cat instance since it's built using\n",
    "# type instead of Meta\n",
    "c = Cat()\n",
    "c.say_hi()\n"
   ]
  },
  {
   "cell_type": "markdown",
   "metadata": {},
   "source": [
    "Knowing this, we can use metaclasses to modify a class creation. \n",
    "\n",
    "For example (a toy example), we could modify the 'animal' attribute."
   ]
  },
  {
   "cell_type": "code",
   "execution_count": 28,
   "metadata": {},
   "outputs": [
    {
     "name": "stdout",
     "output_type": "stream",
     "text": [
      "Calling type's constructor from Meta.__new__()\n",
      "Creating a class called Dog derived from () and with modified attributes {'__module__': '__main__', '__qualname__': 'Dog', 'animal': 'pitbull', 'say_hi': <function Dog.say_hi at 0x000001691D2BDCA0>}.\n",
      "Hi, I'm pitbull\n",
      "Hi, I'm cat\n"
     ]
    }
   ],
   "source": [
    "# We create out metaclass deriving it from type\n",
    "class Meta(\n",
    "    type\n",
    "):  # since this inheritance is implicit, we could have also said 'class Meta:'\n",
    "    def __new__(self, class_name, bases, attribs):\n",
    "        # This method is called when creating a new instance of class 'cls'.\n",
    "        # After that, the __init__ method of 'cls' initializes the class.\n",
    "        # Parameters are the same as the ones from type's constructor.\n",
    "\n",
    "        \n",
    "        # Let's modify the 'animal' attribute of 'cls'. It will always\n",
    "        # be 'pitbull' (it's just an example, you might not want to do this)\n",
    "        new_attribs = {}\n",
    "        for attribute_name, attribute_values in attribs.items():\n",
    "            if attribute_name.startswith(\"__\"):\n",
    "                new_attribs[attribute_name] = attribute_values\n",
    "            else:\n",
    "                if attribute_name == \"animal\":\n",
    "                    attribute_values = \"pitbull\"\n",
    "                new_attribs[attribute_name] = attribute_values\n",
    "        \n",
    "        # Let's call the type's constructor.\n",
    "        print(\"Calling type's constructor from Meta.__new__()\")\n",
    "        print(\n",
    "            f\"Creating a class called {class_name} derived from \"\n",
    "            f\"{bases} and with modified attributes {new_attribs}.\"\n",
    "        )\n",
    "        return type(class_name, bases, new_attribs)\n",
    "\n",
    "\n",
    "# Now let's create a class that uses our metaclass 'Meta' instead of type.\n",
    "# Actually, there's no huge difference due to the way we've defined __new__()\n",
    "# in Meta.\n",
    "class Dog(metaclass=Meta):\n",
    "    animal = \"dog\"\n",
    "    \n",
    "    def say_hi(self):\n",
    "        print(f\"Hi, I'm {self.animal}\")\n",
    "\n",
    "\n",
    "# Let's create another class using the metaclass type to see the x.difference\n",
    "# (which will be two print() statments)\n",
    "class Cat:\n",
    "    animal = \"cat\"\n",
    "    \n",
    "    def say_hi(self):\n",
    "        print(f\"Hi, I'm {self.animal}\")\n",
    "\n",
    "\n",
    "# Let's create and instance of Dog. We can see here that the __new__()\n",
    "# method from Meta was called.\n",
    "d = Dog()\n",
    "d.say_hi()  # Now the dog's is always a pitbull\n",
    "\n",
    "# This doesn't happen when creating a Cat instance since it's built using\n",
    "# type instead of Meta\n",
    "c = Cat()\n",
    "c.say_hi()\n"
   ]
  },
  {
   "cell_type": "markdown",
   "metadata": {},
   "source": [
    "Actually, metaclasses are not usually used. Some applications could be:\n",
    "- Using the 'Singleton' design pattern (if you consider it a pattern and not an antipattern)."
   ]
  }
 ],
 "metadata": {
  "interpreter": {
   "hash": "81ef188f1d85055e27e68b81ec001a4e5148e3d493a04dea8d1903694584593e"
  },
  "kernelspec": {
   "display_name": "Python 3.9.0 64-bit",
   "language": "python",
   "name": "python3"
  },
  "language_info": {
   "codemirror_mode": {
    "name": "ipython",
    "version": 3
   },
   "file_extension": ".py",
   "mimetype": "text/x-python",
   "name": "python",
   "nbconvert_exporter": "python",
   "pygments_lexer": "ipython3",
   "version": "3.9.0"
  },
  "orig_nbformat": 4
 },
 "nbformat": 4,
 "nbformat_minor": 2
}
