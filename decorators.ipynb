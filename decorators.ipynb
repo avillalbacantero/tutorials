{
 "cells": [
  {
   "cell_type": "markdown",
   "metadata": {},
   "source": [
    "# Decorators\n",
    "\n",
    "Decorators are used to modify what a function does without modifying its code. They basically work as a wrapper of that function."
   ]
  },
  {
   "cell_type": "code",
   "execution_count": 1,
   "metadata": {},
   "outputs": [
    {
     "name": "stdout",
     "output_type": "stream",
     "text": [
      "-- Wrapper Start --\n",
      "Hello\n",
      "-- Wrapper End --\n"
     ]
    }
   ],
   "source": [
    "# Let's define a function that receives a string\n",
    "def func(s: str):\n",
    "    \n",
    "    # We can define an inner function \n",
    "    def wrapper():\n",
    "        print(\"-- Wrapper Start --\")\n",
    "        print(s)\n",
    "        print(\"-- Wrapper End --\")\n",
    "        \n",
    "    # As a result, we could return the result of calling the 'wrapper' \n",
    "    # function\n",
    "    return wrapper()\n",
    "\n",
    "func(\"Hello\")"
   ]
  },
  {
   "cell_type": "markdown",
   "metadata": {},
   "source": [
    "Note that it is not the same returning 'wrapper()' that 'wrapper'. 'wrapper' is the function object, while 'wrapper()' calls that function."
   ]
  },
  {
   "cell_type": "code",
   "execution_count": 5,
   "metadata": {},
   "outputs": [
    {
     "data": {
      "text/plain": [
       "<function __main__.func.<locals>.wrapper()>"
      ]
     },
     "execution_count": 5,
     "metadata": {},
     "output_type": "execute_result"
    }
   ],
   "source": [
    "# Let's define a function that receives a string\n",
    "def func(s):\n",
    "    \n",
    "    # We can define an inner function \n",
    "    def wrapper():\n",
    "        print(\"-- Wrapper Start --\")\n",
    "        print(s)\n",
    "        print(\"-- Wrapper End --\")\n",
    "        \n",
    "    # As a result, we could return the result of calling the 'wrapper' \n",
    "    # function\n",
    "    return wrapper\n",
    "\n",
    "func(\"Hello\")"
   ]
  },
  {
   "cell_type": "markdown",
   "metadata": {},
   "source": [
    "In the same way that we can pass a string to a function, we can pass another function and use a wrapper to wrap it: "
   ]
  },
  {
   "cell_type": "code",
   "execution_count": 11,
   "metadata": {},
   "outputs": [
    {
     "name": "stdout",
     "output_type": "stream",
     "text": [
      "<function func.<locals>.wrapper at 0x0000022951C3C550>\n",
      "-- Wrapper Start --\n",
      "Hello!\n",
      "-- Wrapper End --\n"
     ]
    }
   ],
   "source": [
    "# Let's define a function that receives another function as argument\n",
    "def func(f):\n",
    "\n",
    "    # We can define an inner function to wrap the function pass as arg\n",
    "    def wrapper():\n",
    "        print(\"-- Wrapper Start --\")\n",
    "        f()\n",
    "        print(\"-- Wrapper End --\")\n",
    "        \n",
    "    # As a result, we return the wrapper function\n",
    "    return wrapper\n",
    "\n",
    "# Let's define now the function we want to use as argument\n",
    "def say_hello():\n",
    "    print(\"Hello!\")\n",
    "    \n",
    "f = func(say_hello)  # This returns the 'wrapper' function\n",
    "print(f)\n",
    "\n",
    "f()  # So when calling it, we're actually calling 'wrapper()'"
   ]
  },
  {
   "cell_type": "markdown",
   "metadata": {},
   "source": [
    "Now, let's assign the return of 'func' again to the function 'say_hello' that we want to wrap:"
   ]
  },
  {
   "cell_type": "code",
   "execution_count": 12,
   "metadata": {},
   "outputs": [
    {
     "name": "stdout",
     "output_type": "stream",
     "text": [
      "<function say_hello at 0x0000022952944D30>\n",
      "<function func.<locals>.wrapper at 0x000002295295C0D0>\n"
     ]
    }
   ],
   "source": [
    "print(say_hello)  # it's 'say_hello'\n",
    "\n",
    "say_hello = func(say_hello)  # Here we are actually assigning 'wrapper' to 'say_hello'\n",
    "\n",
    "print(say_hello)  # it's 'wrapper'"
   ]
  },
  {
   "cell_type": "code",
   "execution_count": 13,
   "metadata": {},
   "outputs": [
    {
     "name": "stdout",
     "output_type": "stream",
     "text": [
      "-- Wrapper Start --\n",
      "Hello!\n",
      "-- Wrapper End --\n"
     ]
    }
   ],
   "source": [
    "# So now, if we call say_hello() we're actually calling wrapper()\n",
    "say_hello()"
   ]
  },
  {
   "cell_type": "markdown",
   "metadata": {},
   "source": [
    "However, that kind of syntax 'say_hello = func(say_hello)' is a bit complex. Python's has a more convinient way of saying the same: '@func':"
   ]
  },
  {
   "cell_type": "code",
   "execution_count": 14,
   "metadata": {},
   "outputs": [
    {
     "name": "stdout",
     "output_type": "stream",
     "text": [
      "-- Wrapper Start --\n",
      "Hello!\n",
      "-- Wrapper End --\n"
     ]
    }
   ],
   "source": [
    "# Let's define the function and the wrapper again\n",
    "def func(f):\n",
    "\n",
    "    def wrapper():\n",
    "        print(\"-- Wrapper Start --\")\n",
    "        f()\n",
    "        print(\"-- Wrapper End --\")\n",
    "        \n",
    "    # As a result, we return the wrapper function\n",
    "    return wrapper\n",
    "\n",
    "# Let's define again the say_hello function but here we're decoding it\n",
    "# with @func. \n",
    "@func  # this is equals to say 'say_hello = func(say_hello)'\n",
    "def say_hello():\n",
    "    print(\"Hello!\")\n",
    "    \n",
    "# So now if we execute say_hello(), we're again executing 'wrapper()'\n",
    "say_hello()\n",
    "    "
   ]
  },
  {
   "cell_type": "markdown",
   "metadata": {},
   "source": [
    "## Passing arguments to a decorator\n",
    "\n",
    "As we're actually calling 'wrapper()', if 'say_hello()' receives arguments 'wrapper()' must to receive them too. However, we cannot always know the name of these arguments and how many we want to pass. Here's where **'*args' and '**kwargs'** comes in handy:\n",
    "- '*args': Used to pass variable length arguments by **value** to a function. The arguments are packed into a **tuple**.\n",
    "- '**kwargs': Used to pass variable length arguments by **key** to a function. The arguments are packed into a **dict**."
   ]
  },
  {
   "cell_type": "code",
   "execution_count": 17,
   "metadata": {},
   "outputs": [
    {
     "name": "stdout",
     "output_type": "stream",
     "text": [
      "-- Wrapper Start --\n",
      "Hello!\n",
      "-- Wrapper End --\n",
      "-- Wrapper Start --\n",
      "Hello Anna!\n",
      "-- Wrapper End --\n",
      "-- Wrapper Start --\n",
      "I'm 26 years old and I'm from Spain.\n",
      "-- Wrapper End --\n"
     ]
    }
   ],
   "source": [
    "def func(f):\n",
    "\n",
    "    def wrapper(*args, **kwargs):  # wrapper needs to receive arguments\n",
    "        print(\"-- Wrapper Start --\")\n",
    "        f(*args, **kwargs)  # The wrapped function needs to receive the arguments too\n",
    "        print(\"-- Wrapper End --\")\n",
    "        \n",
    "    return wrapper\n",
    "\n",
    "@func  # == 'say_hello = func(say_hello)'\n",
    "def say_hello():\n",
    "    print(\"Hello!\")\n",
    "\n",
    "@func  # == 'say_hello_to_someone = func(say_hello_to_someone)'\n",
    "def say_hello_to_someone(name):  # This function receives a string 'name'\n",
    "    print(f\"Hello {name}!\")\n",
    "    \n",
    "@func  # == 'say_age_and_country = func(say_age_and_country)'\n",
    "def say_age_and_country(age, country):\n",
    "    print(f\"I'm {age} years old and I'm from {country}.\")\n",
    "    \n",
    "# So now if we execute our decorated functions, we're again executing \n",
    "# 'wrapper()' with the corresponding arguments\n",
    "say_hello()\n",
    "say_hello_to_someone(\"Anna\")\n",
    "say_age_and_country(26, country=\"Spain\")  # note here that it doesn't matter if arguments are passed by value or keyword"
   ]
  },
  {
   "cell_type": "markdown",
   "metadata": {},
   "source": [
    "## Return values using decorators"
   ]
  },
  {
   "cell_type": "markdown",
   "metadata": {},
   "source": [
    "As before, we've to modify a bit the decorator when values are returned."
   ]
  },
  {
   "cell_type": "code",
   "execution_count": 19,
   "metadata": {},
   "outputs": [
    {
     "name": "stdout",
     "output_type": "stream",
     "text": [
      "-- Wrapper Start --\n",
      "Adding one year to 25\n",
      "-- Wrapper End --\n",
      "26\n",
      "-- Wrapper Start --\n",
      "Hello!\n",
      "-- Wrapper End --\n",
      "-- Wrapper Start --\n",
      "Hello Anna!\n",
      "-- Wrapper End --\n",
      "-- Wrapper Start --\n",
      "I'm 26 years old and I'm from Spain.\n",
      "-- Wrapper End --\n"
     ]
    }
   ],
   "source": [
    "def func(f):\n",
    "\n",
    "    def wrapper(*args, **kwargs):\n",
    "        print(\"-- Wrapper Start --\")\n",
    "        out = f(*args, **kwargs)  # We have to captured the output from the wrapped function\n",
    "        print(\"-- Wrapper End --\")\n",
    "        return out   # And we have to return it \n",
    "        \n",
    "    return wrapper\n",
    "\n",
    "@func  # == 'say_hello = func(say_hello)'\n",
    "def say_hello():\n",
    "    print(\"Hello!\")\n",
    "\n",
    "@func  # == 'say_hello_to_someone = func(say_hello_to_someone)'\n",
    "def say_hello_to_someone(name):  # This function receives a string 'name'\n",
    "    print(f\"Hello {name}!\")\n",
    "    \n",
    "@func  # == 'say_age_and_country = func(say_age_and_country)'\n",
    "def say_age_and_country(age, country):\n",
    "    print(f\"I'm {age} years old and I'm from {country}.\")\n",
    "    \n",
    "@func # == 'add_one_year = func(add_one_year)'\n",
    "def add_one_year(age):\n",
    "    print(f\"Adding one year to {age}\")\n",
    "    return age + 1\n",
    "\n",
    "# Execute the new function\n",
    "new_age = add_one_year(25)  # actually calling 'wrapper(25)'\n",
    "print(new_age)\n",
    "\n",
    "# The other functions work as well    \n",
    "say_hello()\n",
    "say_hello_to_someone(\"Anna\")\n",
    "say_age_and_country(26, country=\"Spain\")"
   ]
  },
  {
   "cell_type": "markdown",
   "metadata": {},
   "source": [
    "## Applications of decorators\n",
    "\n",
    "Decorators can be applied for example to:\n",
    "- Validate inputs and outputs\n",
    "- Measure execution times\n",
    "- Add logging "
   ]
  }
 ],
 "metadata": {
  "interpreter": {
   "hash": "81ef188f1d85055e27e68b81ec001a4e5148e3d493a04dea8d1903694584593e"
  },
  "kernelspec": {
   "display_name": "Python 3.9.0 64-bit",
   "language": "python",
   "name": "python3"
  },
  "language_info": {
   "codemirror_mode": {
    "name": "ipython",
    "version": 3
   },
   "file_extension": ".py",
   "mimetype": "text/x-python",
   "name": "python",
   "nbconvert_exporter": "python",
   "pygments_lexer": "ipython3",
   "version": "3.9.0"
  },
  "orig_nbformat": 4
 },
 "nbformat": 4,
 "nbformat_minor": 2
}
