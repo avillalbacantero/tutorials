{
 "metadata": {
  "language_info": {
   "codemirror_mode": {
    "name": "ipython",
    "version": 3
   },
   "file_extension": ".py",
   "mimetype": "text/x-python",
   "name": "python",
   "nbconvert_exporter": "python",
   "pygments_lexer": "ipython3",
   "version": "3.9.0"
  },
  "orig_nbformat": 2,
  "kernelspec": {
   "name": "python390jvsc74a57bd081ef188f1d85055e27e68b81ec001a4e5148e3d493a04dea8d1903694584593e",
   "display_name": "Python 3.9.0 64-bit"
  },
  "metadata": {
   "interpreter": {
    "hash": "81ef188f1d85055e27e68b81ec001a4e5148e3d493a04dea8d1903694584593e"
   }
  }
 },
 "nbformat": 4,
 "nbformat_minor": 2,
 "cells": [
  {
   "source": [
    "# Character encodings: A tutorial"
   ],
   "cell_type": "markdown",
   "metadata": {}
  },
  {
   "source": [
    "This tutorial convers the fundamentals of how we encode characters and specific examples in Python.\n",
    "\n",
    "It is based on the following guide: https://realpython.com/python-encodings-guide/\n",
    "\n",
    "Structure:\n",
    "- Number representation.\n",
    "- ASCII standard.\n",
    "- Unicode standard and its encodings (UTF-8, UTF-16, UTF-32).\n",
    "- Addicional Python notes."
   ],
   "cell_type": "markdown",
   "metadata": {}
  },
  {
   "source": [
    "## 1. Number representation\n",
    "\n",
    "In a computer, each char is mapped into an number and then this numbers is converted to binary, which is the type of data the computer really understands. \n",
    "So, to formalize character encodings, we should talk first about number representation.  \n",
    "\n",
    "A number can be represented in different forms:\n",
    "- Decimal (Base 10): 0123456789\n",
    "- Hexadecimal (Base 16) -> 0123456789ABCDEF\n",
    "- Octal (Base 8) -> 01234567\n",
    "- Binary (Base 2) -> 01\n",
    "\n",
    "In Python, we can use the following prefixes for each type of representation:\n",
    "- Decimal -> No prefix, this if the default form and the common used.\n",
    "- Hexadecimal -> 0x{number} or 0X{number}\n",
    "- Octal -> 0o{number} or 0O{number}, where {number} is the decimal number we want to represent.\n",
    "- Binary -> 0b{number} or 0B{number}\n"
   ],
   "cell_type": "markdown",
   "metadata": {}
  },
  {
   "source": [
    "Let's understand this by an example: we want to know what the value 11 means in each one of the last bases. \n",
    "We can do it in two forms:\n",
    "- Just by adding the appropiated prefix at the start.\n",
    "- Using the keyword argument base of the integer constructor.\n"
   ],
   "cell_type": "markdown",
   "metadata": {}
  },
  {
   "cell_type": "code",
   "execution_count": 35,
   "metadata": {},
   "outputs": [
    {
     "output_type": "stream",
     "name": "stdout",
     "text": [
      "11\n9\n17\n3\n11\n9\n17\n3\n"
     ]
    }
   ],
   "source": [
    "print(11)  # decimal\n",
    "print(0o11)  # octal\n",
    "print(0x11)  # hexadecimal \n",
    "print(0b11) # binary\n",
    "\n",
    "# another way\n",
    "print(int('11'))  # defaults to base 10\n",
    "print(int('11', base=8))  # base 8\n",
    "print(int('11', base=16))  # base 16\n",
    "print(int('11', base=2))  # base 2"
   ]
  },
  {
   "source": [
    "Other example: imagine that we just want to represent a decimal number like 11 if its 4 different forms. \n",
    "We can do it by using the following functions:\n",
    "- int(): Gets the decimal representation of a number. \n",
    "- bin(): Gets the binary representation of a number.\n",
    "- hex(): Gets the hexadecimal representation of a number.\n",
    "- oct(): Gets the octal representation of a number. \n"
   ],
   "cell_type": "markdown",
   "metadata": {}
  },
  {
   "cell_type": "code",
   "execution_count": 39,
   "metadata": {},
   "outputs": [
    {
     "output_type": "stream",
     "name": "stdout",
     "text": [
      "0b1011\n0xb\n0o13\n11\n"
     ]
    }
   ],
   "source": [
    "print(bin(11))  # binary representation of the decimal number 11, starts the prefix 0b\n",
    "print(hex(11))  # hexadecimal representation of the decimal number 11, starts the prefix 0x\n",
    "print(oct(11))  # octal representation of the hex number 0xb, with the prefix 0o\n",
    "print(int(0xb))  # decimal representation of the hex number 0xb, no prefix used\n"
   ]
  },
  {
   "source": [
    "## 2. ASCII standard\n",
    "\n",
    "As we have said in the previous section, a computer represents each character as a number which is finally converted to bits. \n",
    "\n",
    "The ASCII standard in one way to map characters to numbers. It covers 128 different characters, the most common latin ones. \n",
    "You can see the ASCII table in the following link: \n",
    "\n",
    "https://www.ascii-code.com/\n",
    "\n",
    "If a character does not appear in this table, it means that you cannot represent it in ASCII encoding. \n",
    "\n",
    "\n"
   ],
   "cell_type": "markdown",
   "metadata": {}
  },
  {
   "source": [
    "Before getting deeper into the ASCII standard, let's take a look to the module *string* in python. This module contains all kind of characters included in the ASCII standard."
   ],
   "cell_type": "markdown",
   "metadata": {}
  },
  {
   "cell_type": "code",
   "execution_count": 10,
   "metadata": {},
   "outputs": [
    {
     "output_type": "stream",
     "name": "stdout",
     "text": [
      "!\"#$%&'()*+,-./:;<=>?@[\\]^_`{|}~\nabcdefghijklmnopqrstuvwxyzABCDEFGHIJKLMNOPQRSTUVWXYZ\nabcdefghijklmnopqrstuvwxyz\nABCDEFGHIJKLMNOPQRSTUVWXYZ\n0123456789\n0123456789abcdefABCDEF\n01234567\n0123456789abcdefghijklmnopqrstuvwxyzABCDEFGHIJKLMNOPQRSTUVWXYZ!\"#$%&'()*+,-./:;<=>?@[\\]^_`{|}~ \t\n\u000b\f\n"
     ]
    }
   ],
   "source": [
    "import string\n",
    "\n",
    "print(string.punctuation)\n",
    "print(string.ascii_letters)\n",
    "print(string.ascii_lowercase)\n",
    "print(string.ascii_uppercase)\n",
    "print(string.digits)\n",
    "print(string.hexdigits)\n",
    "print(string.octdigits)\n",
    "# print(string.whitespace) # '\\t\\n\\r\\v\\f'\n",
    "print(string.printable)  # digits + ascii lowercase + ascii uppercase + punctuation + whitespace\n"
   ]
  },
  {
   "source": [
    "In Python, we can translate between chars and its numerical representation with the following two main functions:\n",
    "- ord(): to get the integer value (decimal) of a char.\n",
    "- chr(): to get the char from a integer value in decimal. \n",
    "\n",
    "Let's see an example: by consulting the ASCII table, we can see that the letter 'a' corresponds to the integer 97 in the common base 10."
   ],
   "cell_type": "markdown",
   "metadata": {}
  },
  {
   "cell_type": "code",
   "execution_count": 40,
   "metadata": {},
   "outputs": [
    {
     "output_type": "stream",
     "name": "stdout",
     "text": [
      "a\n97\n"
     ]
    }
   ],
   "source": [
    "a_unicode = 97  # decimal representation of a in ASCII\n",
    "a_character = 'a'  # readable character\n",
    "\n",
    "print(chr(a_unicode))\n",
    "print(ord(a_character))"
   ]
  },
  {
   "source": [
    "If we want to get the representation of the ASCII code of the character 'a' in others bases like binary, we can use the last presented bin(), hex() and oct() functions."
   ],
   "cell_type": "markdown",
   "metadata": {}
  },
  {
   "cell_type": "code",
   "execution_count": 41,
   "metadata": {},
   "outputs": [
    {
     "output_type": "stream",
     "name": "stdout",
     "text": [
      "0b1100001\n"
     ]
    }
   ],
   "source": [
    "a_character = 'a'\n",
    "decimal_ascii = ord(a_character)\n",
    "binary_ascii = bin(decimal_ascii)\n",
    "print(binary_ascii)"
   ]
  },
  {
   "source": [
    "There is another relevant function: ascii().\n",
    "ascii() gives you and ASCII-only representation of an object such a str, with non-ASCII characters escaped.\n",
    "\n",
    "For example, in the word 'España', all characters but 'ñ' belong to the ASCII standard. "
   ],
   "cell_type": "markdown",
   "metadata": {}
  },
  {
   "cell_type": "code",
   "execution_count": 42,
   "metadata": {},
   "outputs": [
    {
     "output_type": "execute_result",
     "data": {
      "text/plain": [
       "\"'Espa\\\\xf1a'\""
      ]
     },
     "metadata": {},
     "execution_count": 42
    }
   ],
   "source": [
    "ascii('España')"
   ]
  },
  {
   "source": [
    "## 3. Unicode standard\n",
    "\n",
    "As maybe you are guessing, the problem with the ASCII standard is that 128 entries are not enough to represent all type of symbols and characters that currenly exist, specially in languages different from English.\n",
    "To solve that, we use the called Unicode standard. This standard is like an extension of ASCII and it contains more than 1 millon of entries. In fact, its 128 first entries are the ASCII entries.\n",
    "\n",
    "You can check and search for unicode character in the following link:\n",
    "\n",
    "https://unicode-table.com/es/\n",
    "\n",
    "If you visit that website and search for a character, let's say for example the character 'a', you will its unicode number, which is 'U+0061'. \n",
    "In Python, we have multiple forms of representing a character:\n",
    "- The character by itself, i.e. 'a'.\n",
    "- With the sequence: \\ooo -> 'ooo' is the octal value of the character.\n",
    "- With the sequence: \\xhh -> 'hh' is the dex value of character.\n",
    "- With the sequence: \\N{name} -> 'name' is the name of the character in the Unicode table. \n",
    "- With the sequence: \\uxxxx -> 'xxxx' is the 16-bit hex vaue of the character.\n",
    "- With the sequence: \\Uxxxxxxxx -> 'xxxxxxxx' is the 32-bit hex value of the character.  \n",
    "\n",
    "We will focus on the two last forms: \\uxxxx and \\Uxxxxxxxx. \n",
    "\n",
    "When we look at the Unicode table, the code 'U+0061' means that 0061 is the 16-bit representation of 'a'.\n",
    "\n"
   ],
   "cell_type": "markdown",
   "metadata": {}
  },
  {
   "cell_type": "code",
   "execution_count": 53,
   "metadata": {},
   "outputs": [
    {
     "output_type": "stream",
     "name": "stdout",
     "text": [
      "0x61\nTrue\n"
     ]
    }
   ],
   "source": [
    "character = 'a'\n",
    "print(hex(ord(character)))  # 0x61 (this is the 8-bit hex representation)\n",
    "\n",
    "character_hex16 = \"\\u0061\"\n",
    "character_hex32 = \"\\U00000061\"  # we padded four zeros at the beggining.\n",
    "\n",
    "print(character == character_hex16 == character_hex32)"
   ]
  },
  {
   "source": [
    "A note before going to the next step: you can get information like a character name by using the *unicode* module in Python. "
   ],
   "cell_type": "markdown",
   "metadata": {}
  },
  {
   "cell_type": "code",
   "execution_count": 56,
   "metadata": {},
   "outputs": [
    {
     "output_type": "stream",
     "name": "stdout",
     "text": [
      "LATIN SMALL LETTER A\n"
     ]
    }
   ],
   "source": [
    "import unicodedata\n",
    "print(unicodedata.name('a'))"
   ]
  },
  {
   "source": [
    "A relevant point here is that Unicode by itself is just a mapping of characters to code points (numbers), but no information is provided by this standard on how these numbers and then encoding to bits.\n",
    "For that reason, apart from the Unicode standard we need to define an encoding:\n",
    "- Encoding means converting from human-readable text to bytes. In Python, it means that we go from a str-type variable to a byte-type variable.\n",
    "- Decoding is the reverse, meaning that we convert from bytes to string.\n",
    "\n",
    "Unicode standard includes these main encodings:\n",
    "- UTF-8: the most used one. It encodes a char into 1-4 bytes.\n",
    "- UTF-16: it encodes a char into 2-4 bytes.\n",
    "- UTF-32: it encodes a char into 4 bytes.\n",
    "\n",
    "Let's see an example of how the encode and decode a str sentence."
   ],
   "cell_type": "markdown",
   "metadata": {}
  },
  {
   "cell_type": "code",
   "execution_count": 4,
   "metadata": {},
   "outputs": [
    {
     "output_type": "stream",
     "name": "stdout",
     "text": [
      "b\"Let's encode this string with the spanish letter \\xc3\\xb1.\"\nb\"\\xff\\xfeL\\x00e\\x00t\\x00'\\x00s\\x00 \\x00e\\x00n\\x00c\\x00o\\x00d\\x00e\\x00 \\x00t\\x00h\\x00i\\x00s\\x00 \\x00s\\x00t\\x00r\\x00i\\x00n\\x00g\\x00 \\x00w\\x00i\\x00t\\x00h\\x00 \\x00t\\x00h\\x00e\\x00 \\x00s\\x00p\\x00a\\x00n\\x00i\\x00s\\x00h\\x00 \\x00l\\x00e\\x00t\\x00t\\x00e\\x00r\\x00 \\x00\\xf1\\x00.\\x00\"\nb\"\\xff\\xfe\\x00\\x00L\\x00\\x00\\x00e\\x00\\x00\\x00t\\x00\\x00\\x00'\\x00\\x00\\x00s\\x00\\x00\\x00 \\x00\\x00\\x00e\\x00\\x00\\x00n\\x00\\x00\\x00c\\x00\\x00\\x00o\\x00\\x00\\x00d\\x00\\x00\\x00e\\x00\\x00\\x00 \\x00\\x00\\x00t\\x00\\x00\\x00h\\x00\\x00\\x00i\\x00\\x00\\x00s\\x00\\x00\\x00 \\x00\\x00\\x00s\\x00\\x00\\x00t\\x00\\x00\\x00r\\x00\\x00\\x00i\\x00\\x00\\x00n\\x00\\x00\\x00g\\x00\\x00\\x00 \\x00\\x00\\x00w\\x00\\x00\\x00i\\x00\\x00\\x00t\\x00\\x00\\x00h\\x00\\x00\\x00 \\x00\\x00\\x00t\\x00\\x00\\x00h\\x00\\x00\\x00e\\x00\\x00\\x00 \\x00\\x00\\x00s\\x00\\x00\\x00p\\x00\\x00\\x00a\\x00\\x00\\x00n\\x00\\x00\\x00i\\x00\\x00\\x00s\\x00\\x00\\x00h\\x00\\x00\\x00 \\x00\\x00\\x00l\\x00\\x00\\x00e\\x00\\x00\\x00t\\x00\\x00\\x00t\\x00\\x00\\x00e\\x00\\x00\\x00r\\x00\\x00\\x00 \\x00\\x00\\x00\\xf1\\x00\\x00\\x00.\\x00\\x00\\x00\"\nLet's encode this string with the spanish letter ñ.\nLet's encode this string with the spanish letter ñ.\n"
     ]
    }
   ],
   "source": [
    "sentence = \"Let's encode this string with the spanish letter ñ.\"\n",
    "\n",
    "# encoding\n",
    "b_utf8 = sentence.encode('utf-8')  # returns bytes in hexadecimal, encoding in utf-8 \n",
    "b_utf16 = sentence.encode('utf-16')  # same as above but in utf-16\n",
    "b_utf32 = sentence.encode('utf-32')  # same as above but in utf-32\n",
    "\n",
    "print(b_utf8)\n",
    "print(b_utf16)\n",
    "print(b_utf32)\n",
    "\n",
    "# decoding\n",
    "sentence_decoded = b_utf8.decode('utf-8')  # we have to decode in the same form of the str was previously encoded. \n",
    "sentence_decoded_16 = b_utf16.decode('utf-16')\n",
    "# sencence_decoded_bad = b_utf16.decode('utf-8')  # raises UnicodeDecodeError: 'utf-8' codec can't decode byte 0xff in position 0: invalid start byte\n",
    "\n",
    "print(sentence_decoded)\n",
    "print(sentence_decoded_16)"
   ]
  },
  {
   "source": [
    "As you can see in the previous example, when we fancy a UnicodeDecodeError it means that the original string was not encode in the same way we are trying to decode it. \n",
    "When we are using an API or making I/O text operations, we should not assume that the original encoding was utf-8. The better option to avoid that kind of errors is consulting the documentation, but if you need to detect the encoding of some input string you can check the Python library called *chardet* (https://chardet.readthedocs.io/en/latest/).   "
   ],
   "cell_type": "markdown",
   "metadata": {}
  },
  {
   "source": [
    "UTF-8 is variable-length encoding, which means that a single character can be represented from 1 to 4 bytes. \n",
    "\n",
    "You can know how many bytes a string occupies just by using the well-known len() function, but keep in mind that:\n",
    "- len() in Python returns always 1 when using it with a character.\n",
    "- len() in Python can return between 1 and 4 when using it with bytes. \n",
    "\n",
    "So to know how many bytes does a character occupies, firstly you have to convert it to bytes. "
   ],
   "cell_type": "markdown",
   "metadata": {}
  },
  {
   "cell_type": "code",
   "execution_count": 45,
   "metadata": {},
   "outputs": [
    {
     "output_type": "stream",
     "name": "stdout",
     "text": [
      "1\n3\n"
     ]
    }
   ],
   "source": [
    "character = '€'\n",
    "print(len(character))  # 1 character\n",
    "print(len(character.encode('utf-8')))  # this character is represented by 3 bytes using utf-8."
   ]
  },
  {
   "source": [
    "One more point: It is worth mentioning that the functions ord() and chr() accepts Unicode characters. \n",
    "\n",
    "For example, as we already know the character 'ñ' is not an ASCII character, but we can get its representation using ord() as well. "
   ],
   "cell_type": "markdown",
   "metadata": {}
  },
  {
   "cell_type": "code",
   "execution_count": 43,
   "metadata": {},
   "outputs": [
    {
     "output_type": "execute_result",
     "data": {
      "text/plain": [
       "241"
      ]
     },
     "metadata": {},
     "execution_count": 43
    }
   ],
   "source": [
    "ord('ñ')  # ñ is a non-ascii character"
   ]
  },
  {
   "source": [
    "## 4. Additional Python notes: \n",
    "\n",
    "When working with Python, there are a few thing you must keep in mind:\n",
    "- Python3 source code (i.e. the .py) is assumed to the in utf-8, so no # -*- coding: UTF-8 -*- header is needed at the top.\n",
    "- All strings in Python3 are assumed to be Unicode. \n",
    "- The variable names can also contain Unicode characters in Python3. \n",
    "- Python’s re module defaults to the re.UNICODE flag rather than re.ASCII, which means it matches Unicode characters instead of only ASCII."
   ],
   "cell_type": "markdown",
   "metadata": {}
  },
  {
   "source": [
    "When opening a file, it is very importat to keep in mind that the open() function is platform-dependent, which means it is not the same to open a file in Windows, MAC or Linux.\n",
    "To know the default encoding of your platform, you can do:"
   ],
   "cell_type": "markdown",
   "metadata": {}
  },
  {
   "cell_type": "code",
   "execution_count": 47,
   "metadata": {},
   "outputs": [
    {
     "output_type": "execute_result",
     "data": {
      "text/plain": [
       "'cp1252'"
      ]
     },
     "metadata": {},
     "execution_count": 47
    }
   ],
   "source": [
    "import locale\n",
    "locale.getpreferredencoding()  # 'cp1252 in Windows (variant of latin-1 encoding), UTF-8 in Linux."
   ]
  }
 ]
}