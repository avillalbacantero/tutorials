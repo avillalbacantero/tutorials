{
 "cells": [
  {
   "cell_type": "markdown",
   "source": [
    "# SOLID Principles\r\n",
    "\r\n",
    "SOLID principles are a set of recommendations to design and write better\r\n",
    "software systems. They were proposed by Robert C. Martin.\r\n",
    "\r\n",
    "Their purposes are:\r\n",
    "- Write more mantainable code, which it's easy to change.\r\n",
    "- Write code which can be extended with new funcionalities easily.\r\n",
    "- Write more readable code. \r\n",
    "\r\n",
    "SOLID is conformed by 5 principles:\r\n",
    "- Single Responsibility Principle (SRP)\r\n",
    "- Open Closed Principle (OCP)\r\n",
    "- Liskov Substitution Principle (LSP)\r\n",
    "- Interface Segregation Principle (ISP)\r\n",
    "- Dependency Inversion Principle (DIP)"
   ],
   "metadata": {}
  },
  {
   "cell_type": "markdown",
   "source": [
    "## 1. Single Responsibility Principle (SRP)\r\n",
    "\r\n",
    "This principle stands that each class should have a unique responsibility.\r\n",
    "Each class manages a specific part of the system and performs\r\n",
    "very well on one concrete task.\r\n",
    "\r\n",
    "As Robert said: \"Gather together the things that change for the same reasons. Separate those things that change for different reasons.\"\r\n",
    "\r\n",
    "### Example: User Registry in a database\r\n",
    "\r\n",
    "- Without satisfying the SRP principle:"
   ],
   "metadata": {}
  },
  {
   "cell_type": "code",
   "execution_count": 5,
   "source": [
    "import bcrypt\r\n",
    "\r\n",
    "# This class represents an user\r\n",
    "class User:\r\n",
    "    def __init__(self, email: str, password: str) -> None:\r\n",
    "        self.email = email\r\n",
    "        self.password = password\r\n",
    "        # You can add here more info about the user...\r\n",
    "        \r\n",
    "    def __str__(self) -> str:\r\n",
    "        return f\"Email: {self.email} - Password: {self.password}\"\r\n",
    "        \r\n",
    "# This class manages database operations\r\n",
    "class DatabaseManager:\r\n",
    "    \r\n",
    "    # Here you will have tons of methods to manage database operations...\r\n",
    "    \r\n",
    "    @staticmethod\r\n",
    "    def save_to_database(user: User) -> None:\r\n",
    "        print(f\"User {str(user)} has been saved on the database.\")\r\n",
    "\r\n",
    "# And finally here is a class that registers a user in the database\r\n",
    "class UserRegistry:\r\n",
    "    \r\n",
    "    @staticmethod\r\n",
    "    def createUser(email: str, password: str) -> None:\r\n",
    "        \"\"\"Method for creating a new user.\"\"\"\r\n",
    "        \r\n",
    "        # First, we have to encrypt the user's password\r\n",
    "        encrypted_password = bcrypt.hashpw(password.encode(), bcrypt.gensalt())\r\n",
    "        \r\n",
    "        # Then, we create the User object\r\n",
    "        user = User(email, encrypted_password)\r\n",
    "        \r\n",
    "        # And finally we send it to the database\r\n",
    "        DatabaseManager.save_to_database(user)\r\n",
    "        \r\n",
    "if  __name__ == \"__main__\":\r\n",
    "    \r\n",
    "    # Let's create and register a new user\r\n",
    "    UserRegistry.createUser(\"example@gmail.com\", \"123456\")"
   ],
   "outputs": [
    {
     "output_type": "stream",
     "name": "stdout",
     "text": [
      "User Email: example@gmail.com - Password: b'$2b$12$/DCpnsvY1S30SHPVn6UXIec4B6MfjtYU2mveF4bVn/LK.IYs8/Jiu' has been saved on the database.\n"
     ]
    }
   ],
   "metadata": {}
  },
  {
   "cell_type": "markdown",
   "source": [
    "The system works. \r\n",
    "\r\n",
    "However, the encryption logic is inside the UserRegistry class, exceeding its funcionality: UserRegistry is a class which deals with registring new users, not encrypting their passwords. If you change or extend the encryption algorithm, you will have to modify this class and maybe other parts of your system that perform encryption.\r\n",
    "\r\n",
    "- Satisfying the SRP:\r\n",
    "\r\n",
    "A better solution is to have another class that deals with all the encryption logic of the system. \r\n",
    "In that way, we satisfy the SRP:"
   ],
   "metadata": {}
  },
  {
   "cell_type": "code",
   "execution_count": 7,
   "source": [
    "\r\n",
    "import bcrypt\r\n",
    "\r\n",
    "# This class represents an user\r\n",
    "class User:\r\n",
    "    def __init__(self, email: str, password: str) -> None:\r\n",
    "        self.email = email\r\n",
    "        self.password = password\r\n",
    "        # You can add here more info about the user...\r\n",
    "        \r\n",
    "    def __str__(self) -> str:\r\n",
    "        return f\"Email: {self.email} - Password: {self.password}\"\r\n",
    "        \r\n",
    "# This class manages database operations\r\n",
    "class DatabaseManager:\r\n",
    "    \r\n",
    "    # Here you will have tons of methods to manage database operations...\r\n",
    "    \r\n",
    "    @staticmethod\r\n",
    "    def save_to_database(user: User) -> None:\r\n",
    "        print(f\"User {str(user)} has been saved on the database.\")\r\n",
    "\r\n",
    "# We create here a new class to manage all the encryption logic\r\n",
    "class Encrypter:\r\n",
    "    \r\n",
    "    @staticmethod\r\n",
    "    def encrypt(password: str) -> bytes:\r\n",
    "        return bcrypt.hashpw(password.encode(), bcrypt.gensalt())\r\n",
    "\r\n",
    "# And finally here is a class that registers a user in the database\r\n",
    "class UserRegistry:\r\n",
    "    \r\n",
    "    @staticmethod\r\n",
    "    def createUser(email: str, password: str) -> None:\r\n",
    "        \"\"\"Method for creating a new user.\"\"\"\r\n",
    "        \r\n",
    "        # First, we have to encrypt the user's password\r\n",
    "        encrypted_password = Encrypter.encrypt(password)\r\n",
    "        \r\n",
    "        # Then, we create the User object\r\n",
    "        user = User(email, encrypted_password)\r\n",
    "        \r\n",
    "        # And finally we send it to the database\r\n",
    "        DatabaseManager.save_to_database(user)\r\n",
    "        \r\n",
    "if  __name__ == \"__main__\":\r\n",
    "    \r\n",
    "    # Let's create and register a new user\r\n",
    "    UserRegistry.createUser(\"example@gmail.com\", \"123456\")"
   ],
   "outputs": [
    {
     "output_type": "stream",
     "name": "stdout",
     "text": [
      "User Email: example@gmail.com - Password: b'$2b$12$la7tELE74uWmY95FdS4ZY.i/MmoLA8YVlPgTn0cvhZbav5dTPghqy' has been saved on the database.\n"
     ]
    }
   ],
   "metadata": {}
  },
  {
   "cell_type": "markdown",
   "source": [
    "It works too, but in this case if we need to change something related to the encryption algorithm, we will have to change the Encrypter class while the others will remain unmodified. That makes much more sense.\r\n",
    "\r\n",
    "To sum up: **One class -> One purpose**"
   ],
   "metadata": {}
  },
  {
   "cell_type": "markdown",
   "source": [
    "## 2. Open Closed Principle (OCP)\r\n",
    "\r\n",
    "The Open Closed Principle stands that a software entity should be open to its extension but closed to its modification.\r\n",
    "\r\n",
    "What this means is that if we want to add a new functionality, then we should write new code instead of modifying new one.\r\n",
    "Preventing bugs is much more easy in this way."
   ],
   "metadata": {}
  },
  {
   "cell_type": "markdown",
   "source": [
    "### Example: Computing the area of some polygons.\r\n",
    "\r\n",
    "- Without satisfying the OCP:"
   ],
   "metadata": {}
  },
  {
   "cell_type": "code",
   "execution_count": 9,
   "source": [
    "from typing import List\r\n",
    "\r\n",
    "# Let's define a Rectangle class\r\n",
    "class Rectangle:\r\n",
    "    \r\n",
    "    def __init__(self, width: float, height: float) -> None:\r\n",
    "        self.width = width\r\n",
    "        self.height = height\r\n",
    "        \r\n",
    "\r\n",
    "# Now let's create another class to compute areas\r\n",
    "class AreaCalculator:\r\n",
    "    \r\n",
    "    @staticmethod\r\n",
    "    def compute_area(shapes: List[Rectangle]) -> float:\r\n",
    "        \"\"\"Computes the area of a list of shapes.\"\"\"\r\n",
    "        \r\n",
    "        area = 0\r\n",
    "        for shape in shapes:\r\n",
    "            area = area + shape.width * shape.height\r\n",
    "        return area\r\n",
    "    \r\n",
    "if __name__ == \"__main__\":\r\n",
    "    \r\n",
    "    list_of_rectangles = [Rectangle(5, 6), Rectangle(4, 5)]\r\n",
    "    total_area = AreaCalculator.compute_area(list_of_rectangles)\r\n",
    "    print(f\"Total area: {total_area}\")"
   ],
   "outputs": [
    {
     "output_type": "stream",
     "name": "stdout",
     "text": [
      "Total area: 50\n"
     ]
    }
   ],
   "metadata": {}
  },
  {
   "cell_type": "markdown",
   "source": [
    "Now let's say we want compute the area of triangles as well, that is, we want to add a new functionality to our software.\r\n",
    "Following the previous code, the way to go would be:"
   ],
   "metadata": {}
  },
  {
   "cell_type": "code",
   "execution_count": 20,
   "source": [
    "from typing import List\r\n",
    "\r\n",
    "# Let's define a Rectangle class\r\n",
    "class Rectangle:\r\n",
    "    \r\n",
    "    def __init__(self, width: float, height: float) -> None:\r\n",
    "        self.width = width\r\n",
    "        self.height = height\r\n",
    "        \r\n",
    "class Triangle:\r\n",
    "    def __init__(self, width: float, height: float) -> None:\r\n",
    "        self.width = width\r\n",
    "        self.height = height\r\n",
    "\r\n",
    "# Now let's create another class to compute areas\r\n",
    "class AreaCalculator:\r\n",
    "    \r\n",
    "    @staticmethod\r\n",
    "    def compute_area(shapes: list) -> float:\r\n",
    "        \"\"\"Computes the area of a list of shapes.\"\"\"\r\n",
    "        \r\n",
    "        area = 0\r\n",
    "        for shape in shapes:\r\n",
    "            # Here we are modifying the code!!\r\n",
    "            if isinstance(shape, Rectangle):\r\n",
    "                area = area + shape.width * shape.height\r\n",
    "            elif isinstance(shape, Triangle):\r\n",
    "                area = area + (shape.width * shape.height / 2)\r\n",
    "        return area\r\n",
    "    \r\n",
    "if __name__ == \"__main__\":\r\n",
    "    \r\n",
    "    list_of_rectangles = [Rectangle(5, 6), Rectangle(4, 5), Triangle(4, 5)]\r\n",
    "    total_area = AreaCalculator.compute_area(list_of_rectangles)\r\n",
    "    print(f\"Total area: {total_area}\")"
   ],
   "outputs": [
    {
     "output_type": "stream",
     "name": "stdout",
     "text": [
      "Total area: 60.0\n"
     ]
    }
   ],
   "metadata": {}
  },
  {
   "cell_type": "markdown",
   "source": [
    "To add the new functionality, we had to modify our compute_area() method, making much easier to add bugs.\r\n",
    "\r\n",
    "- Satisfying the OCP:\r\n",
    "\r\n",
    "To satisfy the OCP, we can use inheritance and polymorphism. Let's see how:"
   ],
   "metadata": {}
  },
  {
   "cell_type": "code",
   "execution_count": 21,
   "source": [
    "\r\n",
    "from abc import ABC, abstractmethod\r\n",
    "\r\n",
    "# First, we define a interface as an abstract class that works as the\r\n",
    "# base class for every single shape we want to create, like rectangles,\r\n",
    "# triangles and so on.\r\n",
    "class IShape(ABC):\r\n",
    "    \r\n",
    "    # We define an abstract method as well, the one that deals with the\r\n",
    "    # calculation of the area for each shape.\r\n",
    "    @abstractmethod\r\n",
    "    def compute_area(self) -> float:\r\n",
    "        \"\"\"Computes the shape's area.\"\"\"\r\n",
    "        \r\n",
    "# Now, we create our first shape: a rectangle\r\n",
    "class Rectangle(IShape):  # we inherit the rectangle from the IShape class\r\n",
    "    \r\n",
    "    def __init__(self, width: int, height: int) -> None:\r\n",
    "        self.width = width\r\n",
    "        self.height = height\r\n",
    "        \r\n",
    "    # Now, we override the abstract method from the parent class and \r\n",
    "    # implement the calculation of the area for a triangle\r\n",
    "    def compute_area(self) -> float:\r\n",
    "        return self.width * self.height \r\n",
    "    \r\n",
    "# Let's do the same with the triangle class\r\n",
    "class Triangle(IShape):  # again we inherit from IShape\r\n",
    "    \r\n",
    "    def __init__(self, width: int, height: int) -> None:\r\n",
    "        self.width = width\r\n",
    "        self.height = height\r\n",
    "        \r\n",
    "    # Now, we override the abstract method from the parent class and \r\n",
    "    # implement the calculation of the area for a triangle\r\n",
    "    def compute_area(self) -> float:\r\n",
    "        return (self.width * self.height / 2)\r\n",
    "\r\n",
    "# Let's define again our area claculator class\r\n",
    "class AreaCalculator:\r\n",
    "    \r\n",
    "    # Now this method remains the same whatever shape we inject to it\r\n",
    "    @staticmethod\r\n",
    "    def compute_area(shapes: List[IShape]) -> float:\r\n",
    "        \"\"\"Computes the area of a list of shapes.\"\"\"\r\n",
    "        \r\n",
    "        area = 0\r\n",
    "        for shape in shapes:\r\n",
    "            area = area + shape.compute_area()\r\n",
    "        return area\r\n",
    "    \r\n",
    "if __name__ == \"__main__\":\r\n",
    "    \r\n",
    "    list_of_rectangles = [Rectangle(5, 6), Rectangle(4, 5), Triangle(4, 5)]\r\n",
    "    total_area = AreaCalculator.compute_area(list_of_rectangles)\r\n",
    "    print(f\"Total area: {total_area}\")"
   ],
   "outputs": [
    {
     "output_type": "stream",
     "name": "stdout",
     "text": [
      "Total area: 60.0\n"
     ]
    }
   ],
   "metadata": {}
  },
  {
   "cell_type": "markdown",
   "source": [
    "That's the way to go. We could continue defining new shapes and the core code would not change.\r\n",
    "\r\n",
    "To sum up: **New functionality -> New code**"
   ],
   "metadata": {}
  },
  {
   "cell_type": "markdown",
   "source": [
    "## 3. Liskov Substitution Principle (LSP)\r\n",
    "\r\n",
    "This principle stands that every child class can be used in the same way as its parent class. \r\n",
    "\r\n",
    "That means that we can change both classes and our system will continue working properly.\r\n",
    "\r\n",
    "### Example: \r\n",
    "\r\n",
    "- Without satisfying the LSP:"
   ],
   "metadata": {}
  },
  {
   "cell_type": "code",
   "execution_count": 25,
   "source": [
    "\r\n",
    "# Let's define a class that represents a real Duck.\r\n",
    "class Duck:\r\n",
    "    \r\n",
    "    # The duck can do some actions such as swim, fly and cuack.\r\n",
    "    def swim(self) -> None:\r\n",
    "        print(\"The duck is swimming!\")\r\n",
    "        \r\n",
    "    def fly(self) -> None:\r\n",
    "        print(\"The duck is flying!\")\r\n",
    "        \r\n",
    "    def cuack(self) -> None:\r\n",
    "        print(\"Duck is saying: Cuack!\")\r\n",
    "        \r\n",
    "# Now we inherit from Duck a RubberDuck\r\n",
    "class RubberDuck(Duck):\r\n",
    "    \r\n",
    "    # The rubber duck can swim and cuack but it cannot fly, so we raise \r\n",
    "    # and exception if trying to.\r\n",
    "    def swim(self) -> None:\r\n",
    "        print(\"The rubber duck is swimming!\")\r\n",
    "        \r\n",
    "    def fly(self) -> None:\r\n",
    "        raise Exception(\"Rubber duck cannot fly!\")\r\n",
    "    \r\n",
    "    def cuack(self) -> None:\r\n",
    "        print(\"Rubber duck is saying: Cuack!\")\r\n",
    "    \r\n",
    "class DuckProcesser:\r\n",
    "    \r\n",
    "    @staticmethod\r\n",
    "    def make_ducks_fly(ducks: List[Duck]) -> None:\r\n",
    "        for duck in ducks:\r\n",
    "            try:\r\n",
    "                duck.fly()\r\n",
    "            except Exception as e:\r\n",
    "                raise e\r\n",
    "            \r\n",
    "if __name__ == \"__main__\":\r\n",
    "    \r\n",
    "    DuckProcesser.make_ducks_fly([Duck(), RubberDuck()])"
   ],
   "outputs": [
    {
     "output_type": "stream",
     "name": "stdout",
     "text": [
      "The duck is flying!\n"
     ]
    },
    {
     "output_type": "error",
     "ename": "Exception",
     "evalue": "Rubber duck cannot fly!",
     "traceback": [
      "\u001b[1;31m---------------------------------------------------------------------------\u001b[0m",
      "\u001b[1;31mException\u001b[0m                                 Traceback (most recent call last)",
      "\u001b[1;32m<ipython-input-25-310b1d1041b9>\u001b[0m in \u001b[0;36m<module>\u001b[1;34m\u001b[0m\n\u001b[0;32m     38\u001b[0m \u001b[1;32mif\u001b[0m \u001b[0m__name__\u001b[0m \u001b[1;33m==\u001b[0m \u001b[1;34m\"__main__\"\u001b[0m\u001b[1;33m:\u001b[0m\u001b[1;33m\u001b[0m\u001b[1;33m\u001b[0m\u001b[0m\n\u001b[0;32m     39\u001b[0m \u001b[1;33m\u001b[0m\u001b[0m\n\u001b[1;32m---> 40\u001b[1;33m     \u001b[0mDuckProcesser\u001b[0m\u001b[1;33m.\u001b[0m\u001b[0mmake_ducks_fly\u001b[0m\u001b[1;33m(\u001b[0m\u001b[1;33m[\u001b[0m\u001b[0mDuck\u001b[0m\u001b[1;33m(\u001b[0m\u001b[1;33m)\u001b[0m\u001b[1;33m,\u001b[0m \u001b[0mRubberDuck\u001b[0m\u001b[1;33m(\u001b[0m\u001b[1;33m)\u001b[0m\u001b[1;33m]\u001b[0m\u001b[1;33m)\u001b[0m\u001b[1;33m\u001b[0m\u001b[1;33m\u001b[0m\u001b[0m\n\u001b[0m",
      "\u001b[1;32m<ipython-input-25-310b1d1041b9>\u001b[0m in \u001b[0;36mmake_ducks_fly\u001b[1;34m(ducks)\u001b[0m\n\u001b[0;32m     34\u001b[0m                 \u001b[0mduck\u001b[0m\u001b[1;33m.\u001b[0m\u001b[0mfly\u001b[0m\u001b[1;33m(\u001b[0m\u001b[1;33m)\u001b[0m\u001b[1;33m\u001b[0m\u001b[1;33m\u001b[0m\u001b[0m\n\u001b[0;32m     35\u001b[0m             \u001b[1;32mexcept\u001b[0m \u001b[0mException\u001b[0m \u001b[1;32mas\u001b[0m \u001b[0me\u001b[0m\u001b[1;33m:\u001b[0m\u001b[1;33m\u001b[0m\u001b[1;33m\u001b[0m\u001b[0m\n\u001b[1;32m---> 36\u001b[1;33m                 \u001b[1;32mraise\u001b[0m \u001b[0me\u001b[0m\u001b[1;33m\u001b[0m\u001b[1;33m\u001b[0m\u001b[0m\n\u001b[0m\u001b[0;32m     37\u001b[0m \u001b[1;33m\u001b[0m\u001b[0m\n\u001b[0;32m     38\u001b[0m \u001b[1;32mif\u001b[0m \u001b[0m__name__\u001b[0m \u001b[1;33m==\u001b[0m \u001b[1;34m\"__main__\"\u001b[0m\u001b[1;33m:\u001b[0m\u001b[1;33m\u001b[0m\u001b[1;33m\u001b[0m\u001b[0m\n",
      "\u001b[1;32m<ipython-input-25-310b1d1041b9>\u001b[0m in \u001b[0;36mmake_ducks_fly\u001b[1;34m(ducks)\u001b[0m\n\u001b[0;32m     32\u001b[0m         \u001b[1;32mfor\u001b[0m \u001b[0mduck\u001b[0m \u001b[1;32min\u001b[0m \u001b[0mducks\u001b[0m\u001b[1;33m:\u001b[0m\u001b[1;33m\u001b[0m\u001b[1;33m\u001b[0m\u001b[0m\n\u001b[0;32m     33\u001b[0m             \u001b[1;32mtry\u001b[0m\u001b[1;33m:\u001b[0m\u001b[1;33m\u001b[0m\u001b[1;33m\u001b[0m\u001b[0m\n\u001b[1;32m---> 34\u001b[1;33m                 \u001b[0mduck\u001b[0m\u001b[1;33m.\u001b[0m\u001b[0mfly\u001b[0m\u001b[1;33m(\u001b[0m\u001b[1;33m)\u001b[0m\u001b[1;33m\u001b[0m\u001b[1;33m\u001b[0m\u001b[0m\n\u001b[0m\u001b[0;32m     35\u001b[0m             \u001b[1;32mexcept\u001b[0m \u001b[0mException\u001b[0m \u001b[1;32mas\u001b[0m \u001b[0me\u001b[0m\u001b[1;33m:\u001b[0m\u001b[1;33m\u001b[0m\u001b[1;33m\u001b[0m\u001b[0m\n\u001b[0;32m     36\u001b[0m                 \u001b[1;32mraise\u001b[0m \u001b[0me\u001b[0m\u001b[1;33m\u001b[0m\u001b[1;33m\u001b[0m\u001b[0m\n",
      "\u001b[1;32m<ipython-input-25-310b1d1041b9>\u001b[0m in \u001b[0;36mfly\u001b[1;34m(self)\u001b[0m\n\u001b[0;32m     21\u001b[0m \u001b[1;33m\u001b[0m\u001b[0m\n\u001b[0;32m     22\u001b[0m     \u001b[1;32mdef\u001b[0m \u001b[0mfly\u001b[0m\u001b[1;33m(\u001b[0m\u001b[0mself\u001b[0m\u001b[1;33m)\u001b[0m \u001b[1;33m->\u001b[0m \u001b[1;32mNone\u001b[0m\u001b[1;33m:\u001b[0m\u001b[1;33m\u001b[0m\u001b[1;33m\u001b[0m\u001b[0m\n\u001b[1;32m---> 23\u001b[1;33m         \u001b[1;32mraise\u001b[0m \u001b[0mException\u001b[0m\u001b[1;33m(\u001b[0m\u001b[1;34m\"Rubber duck cannot fly!\"\u001b[0m\u001b[1;33m)\u001b[0m\u001b[1;33m\u001b[0m\u001b[1;33m\u001b[0m\u001b[0m\n\u001b[0m\u001b[0;32m     24\u001b[0m \u001b[1;33m\u001b[0m\u001b[0m\n\u001b[0;32m     25\u001b[0m     \u001b[1;32mdef\u001b[0m \u001b[0mcuack\u001b[0m\u001b[1;33m(\u001b[0m\u001b[0mself\u001b[0m\u001b[1;33m)\u001b[0m \u001b[1;33m->\u001b[0m \u001b[1;32mNone\u001b[0m\u001b[1;33m:\u001b[0m\u001b[1;33m\u001b[0m\u001b[1;33m\u001b[0m\u001b[0m\n",
      "\u001b[1;31mException\u001b[0m: Rubber duck cannot fly!"
     ]
    }
   ],
   "metadata": {}
  },
  {
   "cell_type": "markdown",
   "source": [
    "- Satisfying the LSP:\r\n",
    "\r\n",
    "The solution would be to re-think the design: we are going to define individual components or interfaces and make both Duck and RubberDuck implement some of them\r\n",
    "instead of using inheritance. "
   ],
   "metadata": {}
  },
  {
   "cell_type": "code",
   "execution_count": 27,
   "source": [
    "\r\n",
    "# Let's define the interfaces for swim, fly and cuack.\r\n",
    "from abc import ABC, abstractmethod\r\n",
    "\r\n",
    "class ISwim(ABC):\r\n",
    "    \r\n",
    "    @abstractmethod\r\n",
    "    def swim():\r\n",
    "        \"\"\"Swims\"\"\"\r\n",
    "        \r\n",
    "class IFly(ABC):\r\n",
    "    \r\n",
    "    @abstractmethod\r\n",
    "    def fly():\r\n",
    "        \"\"\"Flies\"\"\"\r\n",
    "        \r\n",
    "class ICuack(ABC):\r\n",
    "    \r\n",
    "    @abstractmethod\r\n",
    "    def cuack():\r\n",
    "        \"\"\"Cuacks\"\"\"\r\n",
    "\r\n",
    "\r\n",
    "# Again, let's define a class that represents a real Duck. A Duck implements\r\n",
    "# the three interfaces: ISwim, IFly and ICuack.\r\n",
    "class Duck:\r\n",
    "    \r\n",
    "    # The duck can do some actions such as swim, fly and cuack.\r\n",
    "    def swim(self) -> None:\r\n",
    "        print(\"The duck is swimming!\")\r\n",
    "        \r\n",
    "    def fly(self) -> None:\r\n",
    "        print(\"The duck is flying!\")\r\n",
    "        \r\n",
    "    def cuack(self) -> None:\r\n",
    "        print(\"Duck is saying: Cuack!\")\r\n",
    "        \r\n",
    "# Now we create a RubberDuck class but instead of deriving the Duck class,\r\n",
    "# we implement two interfaces: ISwim and ICuack.\r\n",
    "class RubberDuck:\r\n",
    "    def swim(self) -> None:\r\n",
    "        print(\"The rubber duck is swimming!\")\r\n",
    "    \r\n",
    "    def cuack(self) -> None:\r\n",
    "        print(\"Rubber duck is saying: Cuack!\")\r\n",
    "    \r\n",
    "class DuckProcesser:\r\n",
    "    \r\n",
    "    @staticmethod\r\n",
    "    def make_ducks_fly(ducks: List[Duck]) -> None:\r\n",
    "        # We cannot pass rubber ducks here!\r\n",
    "        for duck in ducks:\r\n",
    "            try:\r\n",
    "                duck.fly()\r\n",
    "            except Exception as e:\r\n",
    "                raise e\r\n",
    "            \r\n",
    "if __name__ == \"__main__\":\r\n",
    "    \r\n",
    "    DuckProcesser.make_ducks_fly([Duck()])"
   ],
   "outputs": [
    {
     "output_type": "stream",
     "name": "stdout",
     "text": [
      "The duck is flying!\n"
     ]
    }
   ],
   "metadata": {}
  },
  {
   "cell_type": "markdown",
   "source": [
    "PS. In Python, it's not neccessary to declare the interfaces ISwim, IFly and ICuack. You just can create both Duck and RubberDuck classes and avoid the inheritance to satisfy the LSP.\r\n",
    "\r\n",
    "To sum up: **A child could replaced its parent in the system and viceversa.**"
   ],
   "metadata": {}
  },
  {
   "cell_type": "markdown",
   "source": [
    "## 4. Interface Segregation Principle (ISP)\r\n",
    "\r\n",
    "This principle states that a class or interface should know only those methods it really uses, and it should not depend on those it does not need to use or are used rarely in specific parts of the code. ISP splits interfaces that are very large into smaller and more specific ones so that they only have to know about the methods that are of interest to them.\r\n",
    "\r\n",
    "In other words, this means that it's usually better to have multiple, smaller and specialized classes or interfaces with specific methods than having a big one with many methods that are rarely used. Otherwise, adding new functionalities would become more difficult each time. "
   ],
   "metadata": {}
  },
  {
   "cell_type": "markdown",
   "source": [
    "### Example: \r\n",
    "\r\n",
    "Let's imagine we have two types of workers in a company: Human workers and human robots. Of course, appart from working these two types can do different activities such as lunch in the case of humans or recharge in the case of robots.\r\n",
    "\r\n",
    "- Without satisfying the ISP:"
   ],
   "metadata": {}
  },
  {
   "cell_type": "code",
   "execution_count": 3,
   "source": [
    "from abc import ABC, abstractmethod\r\n",
    "\r\n",
    "class IWorker(ABC):\r\n",
    "        \r\n",
    "    @abstractmethod\r\n",
    "    def work():\r\n",
    "        \"\"\"Works\"\"\"\r\n",
    "        \r\n",
    "    @abstractmethod\r\n",
    "    def lunch():\r\n",
    "        \"\"\"Break for a lunch\"\"\"\r\n",
    "        \r\n",
    "    @abstractmethod\r\n",
    "    def recharge():\r\n",
    "        \"\"\"Recharges batteries\"\"\"\r\n",
    "        \r\n",
    "# If we derive a class which represents a concrete role of a human worker  \r\n",
    "# from IWorker, it will inherit the 'recharge()' method as well. This is \r\n",
    "# unnecessary and it does not satisfy the ISP.\r\n",
    "class Manager(IWorker):\r\n",
    "    \r\n",
    "    def work(self):\r\n",
    "        print(\"I'm working!\")\r\n",
    "        \r\n",
    "    def lunch(self):\r\n",
    "        print(\"I'm having lunch\")\r\n",
    "        \r\n",
    "    def recharge(self):\r\n",
    "        print(\"It makes no sense for a human to recharge!!\")\r\n",
    "    \r\n",
    "\r\n",
    "# Similarly, if we derive a class to represent a concrete type of robot,\r\n",
    "# it will inherit the 'lunch()' method which is unnecessary to be known\r\n",
    "# by a robot.\r\n",
    "class Machine(IWorker):\r\n",
    "    \r\n",
    "    def work(self):\r\n",
    "        print(\"I'm working!\")\r\n",
    "        \r\n",
    "    def lunch(self):\r\n",
    "        print(\"It makes no sense for a robot to have lunch!!\")\r\n",
    "        \r\n",
    "    def recharge(self):\r\n",
    "        print(\"I'm recharging...\")"
   ],
   "outputs": [],
   "metadata": {}
  },
  {
   "cell_type": "markdown",
   "source": [
    "- Satisfying the ISP: Instead of having one unique interface called IWorker, we are going to design our problem using 3 interfaces: one common interface IWorker, which contains all the methods used by both the human worker and the robot worker, a specific interface IHuman, which contains all the methods used only by the human workers, and similarly another one called IRobot with methods used by only the robots."
   ],
   "metadata": {}
  },
  {
   "cell_type": "code",
   "execution_count": 2,
   "source": [
    "\r\n",
    "from abc import ABC, abstractmethod\r\n",
    "\r\n",
    "class IWorker(ABC):\r\n",
    "        \r\n",
    "    @abstractmethod\r\n",
    "    def work():\r\n",
    "        \"\"\"Works\"\"\"\r\n",
    "        \r\n",
    "class IHuman(ABC):\r\n",
    "        \r\n",
    "    @abstractmethod\r\n",
    "    def lunch():\r\n",
    "        \"\"\"Break for a lunch\"\"\"\r\n",
    "\r\n",
    "class IRobot(ABC):\r\n",
    "    \r\n",
    "    @abstractmethod\r\n",
    "    def recharge():        \r\n",
    "        \"\"\"Recharges batteries\"\"\"\r\n",
    "\r\n",
    "# Now, we inherint a human worker from both IWorker and IHuman\r\n",
    "class Manager(IWorker, IHuman):\r\n",
    "    \r\n",
    "    def work(self):\r\n",
    "        print(\"I'm working!\")\r\n",
    "        \r\n",
    "    def lunch(self):\r\n",
    "        print(\"I'm having lunch!\")\r\n",
    "        \r\n",
    "# And we inherit a robot worker from both IWorker and IRobot\r\n",
    "class Machine(IWorker, IRobot):\r\n",
    "    def work(self):\r\n",
    "        print(\"I'm working!\")\r\n",
    "        \r\n",
    "    def recharge(self):\r\n",
    "        print(\"I'm recharging...\")"
   ],
   "outputs": [],
   "metadata": {}
  },
  {
   "cell_type": "markdown",
   "source": [
    "To sum up: **Interfaces and classes should be specilized and they should only know about methods of their interest.** "
   ],
   "metadata": {}
  },
  {
   "cell_type": "markdown",
   "source": [
    "## 5. Dependency Inversion Principle (DIP)\r\n",
    "\r\n",
    "This principle states that high-level modules should not import anything from low-level modules; Both should depend on abstractions like interfaces. In that way, we deacouple the different software modules our system has.\r\n",
    "\r\n",
    "For example, following the DIP we do not depend on the technology used by a database communication; We only depend on abstract layers like interfaces, that is, the components of our system communicate with each other by interfaces and they do not take into account if we are using, for example, PosgreSQL or MongoDB. At a time, we could change PosgreSQL to MongoDB or viceversa and the rest of the components would remain unmodified. \r\n",
    "\r\n",
    "### Example: \r\n",
    "\r\n",
    "- Satisfying DIP:"
   ],
   "metadata": {}
  },
  {
   "cell_type": "code",
   "execution_count": 3,
   "source": [
    "from typing import List\r\n",
    "\r\n",
    "# We are going to import SpaCy to create a tokenizer. \r\n",
    "# Make sure to make 'pip install spacy' to install SpaCy and 'python -m \r\n",
    "# spacy download [model_name]' to download the appropiate model. \r\n",
    "# Visit https://spacy.io/usage for more info.\r\n",
    "import spacy\r\n",
    "\r\n",
    "class Tokenizer:\r\n",
    "    \r\n",
    "    def __init__(self, model: str = \"en_core_web_sm\") -> None:\r\n",
    "        \"\"\"Constructor. Loads the model. \"\"\"\r\n",
    "        self._model = spacy.load(model)\r\n",
    "    \r\n",
    "    def tokenize(self, sentence: str) -> List[str]:\r\n",
    "        \"\"\"Tokenizes a sentence and returns the tokens.\"\"\"\r\n",
    "        doc = self._model(sentence)\r\n",
    "        return [token.text for token in doc]\r\n",
    "\r\n",
    "if __name__ == '__main__':\r\n",
    "    \r\n",
    "    # We create the Tokenizer instance, an example of sentence and do\r\n",
    "    # tokenization\r\n",
    "    tokenizer = Tokenizer()\r\n",
    "    example = \"This is an example of sentence\"\r\n",
    "    tokens = tokenizer.tokenize(example)\r\n",
    "    print(f\"Sentence '{example}' has been tokenized to '{tokens}'.\")\r\n",
    "        "
   ],
   "outputs": [
    {
     "output_type": "stream",
     "name": "stdout",
     "text": [
      "Sentence 'This is an example of sentence' has been tokenized to '['This', 'is', 'an', 'example', 'of', 'sentence']'.\n"
     ]
    }
   ],
   "metadata": {}
  },
  {
   "cell_type": "markdown",
   "source": [
    "As you can see, the previous example works fine. \r\n",
    "\r\n",
    "Now imagine that for some reason we decide to use 'nltk' instead of SpaCy. \r\n",
    "Here's the new Tokenizer class:"
   ],
   "metadata": {}
  },
  {
   "cell_type": "code",
   "execution_count": 7,
   "source": [
    "from typing import List\r\n",
    "\r\n",
    "# We are going to import nltk now. Make sure to do 'pip install nltk'.\r\n",
    "# More info: https://www.nltk.org/install.html\r\n",
    "import nltk\r\n",
    "\r\n",
    "\r\n",
    "class Tokenizer:\r\n",
    "\r\n",
    "    # Here, we are changing the constructor method to use nltk\r\n",
    "    def __init__(self, model: str = \"punkt\") -> None:\r\n",
    "        \"\"\"Constructor. Loads the model.\"\"\"\r\n",
    "        nltk.download(model)\r\n",
    "\r\n",
    "    # And we are changing the tokenize() method as well.\r\n",
    "    def tokenize(self, sentence: str) -> List[str]:\r\n",
    "        \"\"\"Tokenizes a sentence and returns the tokens.\"\"\"\r\n",
    "        return nltk.word_tokenize(sentence)\r\n",
    "\r\n",
    "\r\n",
    "if __name__ == \"__main__\":\r\n",
    "\r\n",
    "    # However, this remains the same. We instanciate a Tokenizer, create\r\n",
    "    # a sentence and do tokenization. This happens because we are relying\r\n",
    "    # on interface, a constructor method and a method called tokenize()\r\n",
    "    # from the Tokenizer class. We do not care about how the Tokenizer is\r\n",
    "    # built not about how the tokenization is done.\r\n",
    "\r\n",
    "    # Apart from main(), this section of code could be placed on another\r\n",
    "    # script or on another class... This is where DIP makes even more\r\n",
    "    # sense\r\n",
    "    tokenizer = Tokenizer()\r\n",
    "    example = \"This is an example of sentence\"\r\n",
    "    tokens = tokenizer.tokenize(example)\r\n",
    "    print(f\"Sentence '{example}' has been tokenized to '{tokens}'.\")\r\n"
   ],
   "outputs": [
    {
     "output_type": "stream",
     "name": "stderr",
     "text": [
      "[nltk_data] Downloading package punkt to\n",
      "[nltk_data]     C:\\Users\\Ana\\AppData\\Roaming\\nltk_data...\n",
      "[nltk_data]   Unzipping tokenizers\\punkt.zip.\n"
     ]
    },
    {
     "output_type": "stream",
     "name": "stdout",
     "text": [
      "Sentence 'This is an example of sentence' has been tokenized to '['This', 'is', 'an', 'example', 'of', 'sentence']'.\n"
     ]
    }
   ],
   "metadata": {}
  },
  {
   "cell_type": "markdown",
   "source": [
    "*Source: BettaTech - https://www.youtube.com/watch?v=2X50sKeBAcQ*"
   ],
   "metadata": {}
  }
 ],
 "metadata": {
  "orig_nbformat": 4,
  "language_info": {
   "name": "python",
   "version": "3.9.0",
   "mimetype": "text/x-python",
   "codemirror_mode": {
    "name": "ipython",
    "version": 3
   },
   "pygments_lexer": "ipython3",
   "nbconvert_exporter": "python",
   "file_extension": ".py"
  },
  "kernelspec": {
   "name": "python3",
   "display_name": "Python 3.9.0 64-bit"
  },
  "interpreter": {
   "hash": "81ef188f1d85055e27e68b81ec001a4e5148e3d493a04dea8d1903694584593e"
  }
 },
 "nbformat": 4,
 "nbformat_minor": 2
}