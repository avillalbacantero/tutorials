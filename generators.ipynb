{
 "cells": [
  {
   "cell_type": "markdown",
   "metadata": {},
   "source": [
    "# Generators\n",
    "\n",
    "Generators are used when we're working with large iterable objects (lists, tuples, etc.) but we are using only a value at a time (or a few ones).\n",
    "\n",
    "Otherwise, having all the values stored in RAM memory can cause an \"Out of Memory\" error. \n",
    "\n",
    "Let's start by defining a generator class:"
   ]
  },
  {
   "cell_type": "code",
   "execution_count": 2,
   "metadata": {},
   "outputs": [
    {
     "name": "stdout",
     "output_type": "stream",
     "text": [
      "[0, 1, 4, 9, 16, 25, 36, 49, 64, 81]\n",
      "0\n",
      "1\n",
      "4\n",
      "9\n",
      "16\n",
      "25\n",
      "36\n",
      "49\n",
      "64\n",
      "81\n"
     ]
    }
   ],
   "source": [
    "# We will use this class to generate a sequence of numbers\n",
    "class Generator:\n",
    "    \n",
    "    def __init__(self, n: int):\n",
    "        self._n = n  # the total length of the sequence we want to generate\n",
    "        self._last_n = 0  # the last generated element\n",
    "        \n",
    "    def __next__(self):\n",
    "        \"\"\"Generates the next element\"\"\"\n",
    "        \n",
    "        # If we've generated the complete sequence, raise an exception\n",
    "        if self._last_n == self._n:\n",
    "            raise StopIteration\n",
    "        else:\n",
    "            # Otherwise, generate a new number\n",
    "            out = self._last_n**2  # apply an operation, for example this one\n",
    "            self._last_n = self._last_n + 1  # increment by one the counter\n",
    "            return out  # and return the result\n",
    "        \n",
    "# Operation WITHOUT using the generator class\n",
    "TOTAL_LENGTH = 10  # you can put here bigger numbers to better see the difference\n",
    "result = [x**2 for x in range(TOTAL_LENGTH)]\n",
    "print(result)\n",
    "\n",
    "# Same operation but USING the generator class\n",
    "g = Generator(TOTAL_LENGTH)  # define the generator\n",
    "while True:\n",
    "    try:\n",
    "        print(next(g))  # next() calls __next__ \n",
    "    except StopIteration:\n",
    "        break  # there are no more elements, break the loop"
   ]
  },
  {
   "cell_type": "markdown",
   "metadata": {},
   "source": [
    "As you may notice, there's no need to store all the numbers on memory: the generator **yields** them one by one.\n",
    "\n",
    "There's a more convinient way of using a generator without creating a new class: using **functions** and the **yield** keyword:"
   ]
  },
  {
   "cell_type": "code",
   "execution_count": 5,
   "metadata": {},
   "outputs": [
    {
     "name": "stdout",
     "output_type": "stream",
     "text": [
      "0\n",
      "1\n",
      "4\n",
      "9\n",
      "16\n",
      "25\n",
      "36\n",
      "49\n",
      "64\n",
      "81\n"
     ]
    }
   ],
   "source": [
    "def generate(n: int):\n",
    "    \"\"\"Yields a new item until reach 'n'\"\"\"\n",
    "    \n",
    "    for item in range(n):\n",
    "        # This work as a 'return' but the function mantain an internal state: \n",
    "        # it knowns what was the last value generated (i.e., the 'item' value)\n",
    "        # so at the next call, it starts from that value instead from the begginig\n",
    "        yield item**2\n",
    "                \n",
    "TOTAL_LENGTH = 10  # again, put here any value\n",
    "for value in generate(TOTAL_LENGTH):\n",
    "    # Each calls to 'generate' returns a value. The first one would be\n",
    "    # 0**2=0, the next one 1**2=1, the next one 2**2=4, and so on.\n",
    "    print(value)\n",
    "    "
   ]
  }
 ],
 "metadata": {
  "interpreter": {
   "hash": "81ef188f1d85055e27e68b81ec001a4e5148e3d493a04dea8d1903694584593e"
  },
  "kernelspec": {
   "display_name": "Python 3.9.0 64-bit",
   "language": "python",
   "name": "python3"
  },
  "language_info": {
   "codemirror_mode": {
    "name": "ipython",
    "version": 3
   },
   "file_extension": ".py",
   "mimetype": "text/x-python",
   "name": "python",
   "nbconvert_exporter": "python",
   "pygments_lexer": "ipython3",
   "version": "3.9.0"
  },
  "orig_nbformat": 4
 },
 "nbformat": 4,
 "nbformat_minor": 2
}
