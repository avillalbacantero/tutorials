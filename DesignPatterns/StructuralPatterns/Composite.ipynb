{
 "cells": [
  {
   "cell_type": "markdown",
   "source": [
    "# Composite Pattern\r\n",
    "\r\n",
    "The Composite Pattern helps you to create, organizate and manage a entities composed by several different parts. Similarly, each one of these parts might be composed by another parts, and so on, creating a tree hierarchy.\r\n",
    "\r\n",
    "Using this pattern, you'll have a parent base class and its childs. For example, you can have a Enemy class as the parent and different kind of arms, legs or bodies composing it as the childs. However:\r\n",
    "- When you create your parent class, you don't want to be creating all of its childs too. That would be even more complex if you have many parent instances created in your client code.\r\n",
    "- When you take some action on the parent class, you don't want to be calling the same action in all of its childs. For example, if you make your Enemy move you shouldn't have to make every arm or leg move too. That would be unnecessarly complex, especially if there are many childs.\r\n",
    "\r\n",
    "To create that level of abstraction in which the main code or the client only uses the parent class without knowning how it is composed by or how it executes its tasks, you must have an abstract base class from which the parent as well as all of its childs are derived and the parent will have its childs as attributes or properties. This kind of design enables to change the childs' behaviour depending on the state of the parent too.  \r\n",
    "\r\n",
    "Terminology:\r\n",
    "- Composite: The parent class\r\n",
    "- Leaf: One child class\r\n",
    "- Component: The abstract base class from which the Composite and all the Leafs are derived.\r\n",
    "\r\n",
    "Here is the UML diagram of the Composite Pattern:"
   ],
   "metadata": {}
  },
  {
   "cell_type": "markdown",
   "source": [
    "![](UML-Diagrams/Composite-ClassDiagram.png)"
   ],
   "metadata": {}
  },
  {
   "cell_type": "markdown",
   "source": [
    "And here is the code:"
   ],
   "metadata": {}
  },
  {
   "cell_type": "code",
   "execution_count": 1,
   "source": [
    "from abc import ABC, abstractmethod\r\n",
    "\r\n",
    "\r\n",
    "# Let's create our Component abstract class\r\n",
    "class Component(ABC):\r\n",
    "    @abstractmethod\r\n",
    "    def operation(self) -> None:\r\n",
    "        \"\"\"Does something.\"\"\"\r\n",
    "\r\n",
    "\r\n",
    "# Let's create some childs that implement the operation\r\n",
    "class Leaf1(Component):\r\n",
    "    def operation(self) -> None:\r\n",
    "        print(\"Leaf 1 is doing something...\")\r\n",
    "\r\n",
    "\r\n",
    "class Leaf2(Component):\r\n",
    "    def operation(self) -> None:\r\n",
    "        print(\"Leaf 2 is doing something...\")\r\n",
    "\r\n",
    "\r\n",
    "# And now let's create the parent class\r\n",
    "class Composite(Component):\r\n",
    "    def __init__(self) -> None:\r\n",
    "        \"\"\"Constructor method.\"\"\"\r\n",
    "        self._childs = []\r\n",
    "\r\n",
    "    def operation(self) -> None:\r\n",
    "        \"\"\"Does something.\"\"\"\r\n",
    "\r\n",
    "        # We call every child's operation\r\n",
    "        for c in self._childs:\r\n",
    "            c.operation()\r\n",
    "\r\n",
    "    def add(self, c: Component) -> None:\r\n",
    "        \"\"\"Adds a child.\"\"\"\r\n",
    "        self._childs.append(c)\r\n",
    "\r\n",
    "    def remove(self, c: Component) -> None:\r\n",
    "        \"\"\"Removes a child.\"\"\"\r\n",
    "        self._child.remove(c)\r\n",
    "\r\n",
    "    # You can have some getters too, like to get\r\n",
    "    # the number of childs.\r\n",
    "    def get_num_childs(self) -> int:\r\n",
    "        \"\"\"Gets the number of childs.\"\"\"\r\n",
    "        return len(self._childs)\r\n"
   ],
   "outputs": [],
   "metadata": {}
  },
  {
   "cell_type": "markdown",
   "source": [
    "## Example: Monitoring your machine resources\n",
    "\n",
    "We are going to create a simple app that reads your machine resources state.\n",
    "\n",
    "We will create a parent class which is the 'Reader' and then we will implement multiple childs that are responsible of reading each kind of resource information, such as CPU info, GPU info, RAM info, and so on. Then, we will make our Reader class to read our machine state, and each one of the childs will do its job.\n",
    "\n",
    "We will be using psutil [https://psutil.readthedocs.io/en/latest/]. You must 'pip install psutil' to execute this code."
   ],
   "metadata": {}
  },
  {
   "cell_type": "code",
   "execution_count": 3,
   "source": [
    "!pip install psutil"
   ],
   "outputs": [
    {
     "output_type": "stream",
     "name": "stdout",
     "text": [
      "Requirement already satisfied: psutil in c:\\users\\ana\\appdata\\local\\programs\\python\\python39\\lib\\site-packages (5.8.0)\n"
     ]
    }
   ],
   "metadata": {}
  },
  {
   "cell_type": "code",
   "execution_count": 17,
   "source": [
    "from abc import ABC, abstractmethod\r\n",
    "\r\n",
    "import psutil\r\n",
    "\r\n",
    "\r\n",
    "# Let's create our base abstract class\r\n",
    "class Reader(ABC):\r\n",
    "    @abstractmethod\r\n",
    "    def read_state(self) -> dict:\r\n",
    "        \"\"\"Reads the machine resources current state.\"\"\"\r\n",
    "\r\n",
    "\r\n",
    "# Let's create our CPU reader\r\n",
    "class CPUReader(Reader):\r\n",
    "    def read_state(self) -> dict:\r\n",
    "        \"\"\"Reads the current system-wide CPU utilization as a percentage\"\"\"\r\n",
    "        return {\"CPU\": psutil.cpu_percent()}\r\n",
    "\r\n",
    "\r\n",
    "# Let's create our RAM reader\r\n",
    "class RAMReader(Reader):\r\n",
    "    def read_state(self) -> dict:\r\n",
    "        \"\"\"Reads the current used RAM memory as a percentage\"\"\"\r\n",
    "        return {\"RAM\": psutil.virtual_memory().percent}\r\n",
    "\r\n",
    "\r\n",
    "# Let's create our Disk reader\r\n",
    "class DiskReader(Reader):\r\n",
    "    def __init__(self, path: str = \"C:\\\\\") -> None:\r\n",
    "        \"\"\"Constructor.\r\n",
    "\r\n",
    "        Args:\r\n",
    "            path (str): The path to select the partition to read.\r\n",
    "                Defaults to 'C:\\\\'.\r\n",
    "        \"\"\"\r\n",
    "        self._path = path\r\n",
    "\r\n",
    "    def read_state(self) -> dict:\r\n",
    "        \"\"\"Reads the disk usage as a percentage\"\"\"\r\n",
    "        return {\r\n",
    "            f\"Disk Usage on {self._path}\": psutil.disk_usage(\r\n",
    "                self._path\r\n",
    "            ).percent\r\n",
    "        }\r\n",
    "\r\n",
    "\r\n",
    "# Finally, let's create our Battery reader\r\n",
    "class BatteryReader(Reader):\r\n",
    "    def read_state(self) -> dict:\r\n",
    "        \"\"\"Reads the battery power as a percentage.\"\"\"\r\n",
    "        return {\"Power Battery\": psutil.sensors_battery().percent}\r\n",
    "\r\n",
    "\r\n",
    "# You could have more readers here\r\n",
    "# ...\r\n",
    "\r\n",
    "\r\n",
    "# Now, let's create our parent class\r\n",
    "class SystemReader(Reader):\r\n",
    "    def __init__(self):\r\n",
    "        \"\"\"Constructor.\"\"\"\r\n",
    "        self._readers = []\r\n",
    "\r\n",
    "    def read_state(self) -> dict:\r\n",
    "        \"\"\"Reads the machine state.\"\"\"\r\n",
    "        machine_state = dict()\r\n",
    "\r\n",
    "        # Use every reader to get the info\r\n",
    "        for reader in self._readers:\r\n",
    "            machine_state.update(reader.read_state())\r\n",
    "\r\n",
    "        return machine_state\r\n",
    "\r\n",
    "    def add_reader(self, reader: Reader) -> None:\r\n",
    "        \"\"\"Appends a reader.\"\"\"\r\n",
    "        self._readers.append(reader)\r\n",
    "\r\n",
    "    def remove_reader(self, reader: Reader) -> None:\r\n",
    "        \"\"\"Removes a reader.\"\"\"\r\n",
    "        self._readers.remove(reader)\r\n",
    "\r\n",
    "\r\n",
    "# Now, let's use it\r\n",
    "if __name__ == \"__main__\":\r\n",
    "\r\n",
    "    # Create the system reader (a creational pattern might help here too)\r\n",
    "    system_reader = SystemReader()\r\n",
    "    readers = [CPUReader(), RAMReader(), DiskReader(\"C:\\\\\"), BatteryReader()]\r\n",
    "    for reader in readers:\r\n",
    "        system_reader.add_reader(reader)\r\n",
    "\r\n",
    "    # And now read and print the machine state\r\n",
    "    state = system_reader.read_state()\r\n",
    "    print(state)\r\n"
   ],
   "outputs": [
    {
     "output_type": "stream",
     "name": "stdout",
     "text": [
      "{'CPU': 33.9, 'RAM': 73.1, 'Disk Usage on C:\\\\': 57.2, 'Power Battery': 99}\n"
     ]
    }
   ],
   "metadata": {}
  }
 ],
 "metadata": {
  "kernelspec": {
   "name": "python3",
   "display_name": "Python 3.9.0 64-bit"
  },
  "language_info": {
   "codemirror_mode": {
    "name": "ipython",
    "version": 3
   },
   "file_extension": ".py",
   "mimetype": "text/x-python",
   "name": "python",
   "nbconvert_exporter": "python",
   "pygments_lexer": "ipython3",
   "version": "3.9.0"
  },
  "interpreter": {
   "hash": "81ef188f1d85055e27e68b81ec001a4e5148e3d493a04dea8d1903694584593e"
  }
 },
 "nbformat": 4,
 "nbformat_minor": 4
}