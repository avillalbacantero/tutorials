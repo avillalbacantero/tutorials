{
 "cells": [
  {
   "cell_type": "markdown",
   "source": [
    "# Design Patterns (in Python)\r\n",
    "\r\n",
    "This notebook is an introduction to Design Patterns in Python.\r\n",
    "\r\n",
    "A design pattern is like **a reusable recipe with a solution to a common problem in software design**.\r\n",
    "\r\n",
    "These solutions can be implemented in different ways, depending on variables such as the technology, framework or language used. \r\n",
    "Often, they are represented in UML diagrams. \r\n",
    "\r\n",
    "There are three types of patterns:\r\n",
    "- **Creational Patterns**: They solve problems derived from creating object instances. \r\n",
    "- **Structural Patterns**: They help us to set up relationships between objects. \r\n",
    "- **Behavioral Patterns**: They help us to develop interactions between objects.\r\n",
    "\r\n",
    "List of **Creational Patterns**:\r\n",
    "- Factory\r\n",
    "- Abstract Factory\r\n",
    "- Singleton\r\n",
    "\r\n",
    "List of **Structural Patterns**:\r\n",
    "- Decorator\r\n",
    "- Composite\r\n",
    "\r\n",
    "List of **Behavioral Patterns**:\r\n",
    "- Strategy\r\n",
    "\r\n",
    "... & more.\r\n",
    "\r\n",
    "*Source: Betta Tech YouTube Channel - https://youtu.be/3qTmBcxGlWk*"
   ],
   "metadata": {}
  }
 ],
 "metadata": {
  "orig_nbformat": 4,
  "language_info": {
   "name": "python"
  }
 },
 "nbformat": 4,
 "nbformat_minor": 2
}