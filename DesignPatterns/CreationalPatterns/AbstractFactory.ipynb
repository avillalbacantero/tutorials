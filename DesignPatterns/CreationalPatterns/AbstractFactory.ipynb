{
 "cells": [
  {
   "cell_type": "markdown",
   "metadata": {},
   "source": [
    "# Abstract Factory pattern\n",
    "\n",
    "As its name suggests, the Abstract Factory pattern is related to the Factory Method. \n",
    "\n",
    "Abstract Factory is a group of Factories, where each Factory Method is responsible for generating a different kind of object. Because of that, Abstract Factory offers the same benefits as Factory:\n",
    "- It makes tracking objects creation easier.\n",
    "- It deacouples object creation from its usage, providing a layer of abstraction.\n",
    "- It improves memory usage and performance of our app.\n",
    "\n",
    "However, **how do we choose between Factory and Abstract Factory?** Basically:\n",
    "- If a Factory is needed in our app, we usually start using different Factory Methods. If we find out that we need many Factory Methods and that there are some objects logically related to others, we will combine their factory methods to create a unique method that returns a family of objects instead of a single object instance.\n",
    "- If we need to prevent that two objects coexist at the same time, that is, they are mutually exclusive.\n",
    "\n",
    "Let's see it with an example: imagine that you have a graphic interface with two types of customization: the classic theme and the modern theme. If you want to create elements that follow the classic theme, you shouldn't be able to create elements from the modern theme at the same time. What's more, you won't like to be creating one object at a time, such as buttons, bars, menus and so on: you'd prefer to call a method which internally manages all this logic and just returns all these elements. That's where Abstract Factory makes sense. \n",
    "\n",
    "Here is the UML of this pattern:\n"
   ]
  },
  {
   "cell_type": "markdown",
   "metadata": {},
   "source": [
    "![](UML-Diagrams/AbstractFactory.png)"
   ]
  },
  {
   "cell_type": "markdown",
   "metadata": {},
   "source": [
    "And the code:"
   ]
  },
  {
   "cell_type": "code",
   "execution_count": 7,
   "metadata": {},
   "outputs": [
    {
     "name": "stdout",
     "output_type": "stream",
     "text": [
      "Product A doing Y\n",
      "Product B talking in Y\n"
     ]
    }
   ],
   "source": [
    "from abc import ABC, abstractmethod\n",
    "\n",
    "# Let's create the abstract class for products A\n",
    "class ProductA(ABC):\n",
    "    \n",
    "    @abstractmethod\n",
    "    def do_something(self) -> None:\n",
    "        \"\"\"Does something\"\"\"\n",
    "\n",
    "# And let's create two concrete products A: one \n",
    "# X version and another Y version\n",
    "class ProductAX(ProductA):\n",
    "    \n",
    "    def do_something(self) -> None:\n",
    "        print(\"Product A doing X\")\n",
    "\n",
    "class ProductAY(ProductA):\n",
    "    \n",
    "    def do_something(self) -> None:\n",
    "        print(\"Product A doing Y\")\n",
    "\n",
    "# Let's do the same with Product B\n",
    "class ProductB(ABC):\n",
    "    \n",
    "    @abstractmethod\n",
    "    def talk(self) -> None:\n",
    "        \"\"\"Does something\"\"\"\n",
    "\n",
    "# And let's create two concrete products A: one \n",
    "# X version and another Y version\n",
    "class ProductBX(ProductB):\n",
    "    \n",
    "    def talk(self) -> None:\n",
    "        print(\"Product B talking in X\")\n",
    "\n",
    "class ProductBY(ProductB):\n",
    "    \n",
    "    def talk(self) -> None:\n",
    "        print(\"Product B talking in Y\")\n",
    "\n",
    "\n",
    "# Let's create the abstract class for factories\n",
    "class AbstractFactory(ABC):\n",
    "    \n",
    "    @abstractmethod\n",
    "    def create_productA(self) -> ProductA:\n",
    "        \"\"\"Creates product A.\"\"\"\n",
    "        \n",
    "    @abstractmethod \n",
    "    def create_productB(self) -> ProductB:\n",
    "        \"\"\"Creates product B.\"\"\"\n",
    "        \n",
    "# Let's create two abstract factories: one\n",
    "# for products of version X and another one\n",
    "# for products of version Y\n",
    "class FactoryX(AbstractFactory):\n",
    "    \n",
    "    def create_productA(self) -> ProductA:\n",
    "        return ProductAX()\n",
    "    \n",
    "    def create_productB(self) -> ProductB:\n",
    "        return ProductBX()\n",
    "    \n",
    "class FactoryY(AbstractFactory):\n",
    "    \n",
    "    def create_productA(self) -> ProductA:\n",
    "        return ProductAY()\n",
    "    \n",
    "    def create_productB(self) -> ProductB:\n",
    "        return ProductBY()\n",
    "    \n",
    "if __name__ == \"__main__\":\n",
    "    \n",
    "    # Let's say we are using the version Y in our app.\n",
    "    # This could be an user input too\n",
    "    factory = FactoryY()\n",
    "    \n",
    "    # Create the products\n",
    "    a = factory.create_productA()\n",
    "    b = factory.create_productB()\n",
    "    \n",
    "    # Both do their tasks in their Y version\n",
    "    a.do_something()\n",
    "    b.talk()"
   ]
  }
 ],
 "metadata": {
  "kernelspec": {
   "display_name": "Python 3",
   "language": "python",
   "name": "python3"
  },
  "language_info": {
   "codemirror_mode": {
    "name": "ipython",
    "version": 3
   },
   "file_extension": ".py",
   "mimetype": "text/x-python",
   "name": "python",
   "nbconvert_exporter": "python",
   "pygments_lexer": "ipython3",
   "version": "3.8.5"
  }
 },
 "nbformat": 4,
 "nbformat_minor": 4
}
