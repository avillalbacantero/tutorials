{
 "cells": [
  {
   "cell_type": "markdown",
   "source": [
    "# Singleton\r\n",
    "\r\n",
    "The Singleton pattern ensures that no more than one instance of a class can be created.\r\n",
    "What's more, the Singleton allows to access this instance from anywhere in the app.\r\n",
    "\r\n",
    "To allow that, we make a trick: we define the constructor of the class as a private method, which means it is not accesible from outside that class; At the same time, the class has a static method that checks if some instance of the class exists and otherwise it calls the constructor. This method is accessible from anywhere. By doing that, we leverage all the responsability of creating instances to the class itself.\r\n",
    "\r\n",
    "There are many ways of implementing a Singleton in Python. Here we are using metaclasses:"
   ],
   "metadata": {}
  },
  {
   "cell_type": "code",
   "execution_count": 5,
   "source": [
    "class SingletonMeta(type):\r\n",
    "\r\n",
    "    _instances = {}  # The created instances of each singleton class\r\n",
    "\r\n",
    "    def __call__(cls, *args, **kwargs):\r\n",
    "\r\n",
    "        if cls not in cls._instances:\r\n",
    "            # If no instance exists, we create one and add\r\n",
    "            # it to the dictionary of created instances\r\n",
    "            instance = super().__call__(*args, **kwargs)\r\n",
    "            cls._instances[cls] = instance\r\n",
    "        return cls._instances[cls]\r\n",
    "\r\n",
    "\r\n",
    "class Singleton(metaclass=SingletonMeta):\r\n",
    "    # A Singleton class\r\n",
    "\r\n",
    "    def __init__(self, value: str) -> None:\r\n",
    "        # We will use this variable to check if our singleton pattern\r\n",
    "        # works\r\n",
    "        self.value = value\r\n",
    "\r\n",
    "    def do_something(self) -> None:\r\n",
    "        print(\"Do something...\")\r\n",
    "\r\n",
    "\r\n",
    "if __name__ == \"__main__\":\r\n",
    "\r\n",
    "    # Let's create two instances of Singleton\r\n",
    "    s1 = Singleton(\"s1\")\r\n",
    "    s2 = Singleton(\"s2\")\r\n",
    "\r\n",
    "    # Actually, both variables contain the same instance\r\n",
    "    print(id(s1) == id(s2))\r\n",
    "    print(s1.value)\r\n",
    "    print(s2.value)\r\n"
   ],
   "outputs": [
    {
     "output_type": "stream",
     "name": "stdout",
     "text": [
      "True\n",
      "s1\n",
      "s1\n"
     ]
    }
   ],
   "metadata": {}
  },
  {
   "cell_type": "markdown",
   "source": [
    "Singleton is a discused pattern: some people even consider it an antipattern.\r\n",
    "\r\n",
    "Some *possible* use cases for a Singleton are:\r\n",
    "- Logging\r\n",
    "- Reading configuration files at startup time and encapsulate them in a unique instance which can be accessed globally.\r\n",
    "- Database connections\r\n",
    "- Hardware interface access\r\n",
    "- Cache\r\n",
    "\r\n",
    "In general, Singleton can be used to manage resources that should be accessed only individually.\r\n",
    "\r\n",
    "However:\r\n",
    "- Singleton might complicate unit testing. \r\n",
    "- It must be modified when working with multithreading to avoid that the threads create a Singleton multiple times.\r\n",
    "\r\n",
    "When using multithreading and Singleton, we must use a lock before checking and creating the Singleton instance. Otherwise, multiple threads could access the \\_\\_call\\_\\_ method at the same time, pass the conditional and create multiple Singletons simultaneously. The modified code would be:"
   ],
   "metadata": {}
  },
  {
   "cell_type": "code",
   "execution_count": 27,
   "source": [
    "# import the threading modules\r\n",
    "from threading import Lock, Thread\r\n",
    "\r\n",
    "\r\n",
    "class SingletonMeta(type):\r\n",
    "\r\n",
    "    _instances = {}  # The created instances of each singleton class\r\n",
    "    _lock = Lock()  # The lock to access the call method.\r\n",
    "\r\n",
    "    def __call__(cls, *args, **kwargs):\r\n",
    "\r\n",
    "        with cls._lock:\r\n",
    "            # If a thread is inside this point, the other will wait before\r\n",
    "            # lock 'till it's finished\r\n",
    "            if cls not in cls._instances:\r\n",
    "                # If no instance exists, we create one and add\r\n",
    "                # it to the dictionary of created instances\r\n",
    "                instance = super().__call__(*args, **kwargs)\r\n",
    "                cls._instances[cls] = instance\r\n",
    "            return cls._instances[cls]\r\n",
    "\r\n",
    "\r\n",
    "class Singleton(metaclass=SingletonMeta):\r\n",
    "    # A Singleton class\r\n",
    "\r\n",
    "    def __init__(self, value: str) -> None:\r\n",
    "        # We will use this variable to check if our modified singleton\r\n",
    "        # pattern works\r\n",
    "        self.value = value\r\n",
    "\r\n",
    "    def do_something(self) -> None:\r\n",
    "        print(\"Do something...\")\r\n",
    "\r\n",
    "\r\n",
    "def test_singleton(value):\r\n",
    "    # A function to test our singleton\r\n",
    "    s = Singleton(value)\r\n",
    "    print(s.value)\r\n",
    "\r\n",
    "\r\n",
    "if __name__ == \"__main__\":\r\n",
    "\r\n",
    "    # Let's create two threads. Each of them try to instanciate a Singleton,\r\n",
    "    # but only the first one (the first who adquires the lock) is able to give\r\n",
    "    # a value to it\r\n",
    "    thread1 = Thread(target=test_singleton, args=(\"Thread 1 wins!\",))\r\n",
    "    thread2 = Thread(target=test_singleton, args=(\"Thread 2 wins!\",))\r\n",
    "\r\n",
    "    thread1.start()\r\n",
    "    thread2.start()\r\n"
   ],
   "outputs": [
    {
     "output_type": "stream",
     "name": "stdout",
     "text": [
      "Thread 1 wins!\n",
      "Thread 1 wins!\n"
     ]
    }
   ],
   "metadata": {}
  }
 ],
 "metadata": {
  "kernelspec": {
   "display_name": "Python 3",
   "language": "python",
   "name": "python3"
  },
  "language_info": {
   "codemirror_mode": {
    "name": "ipython",
    "version": 3
   },
   "file_extension": ".py",
   "mimetype": "text/x-python",
   "name": "python",
   "nbconvert_exporter": "python",
   "pygments_lexer": "ipython3",
   "version": "3.8.5"
  }
 },
 "nbformat": 4,
 "nbformat_minor": 4
}