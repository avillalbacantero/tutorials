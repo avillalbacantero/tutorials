{
 "cells": [
  {
   "cell_type": "markdown",
   "source": [
    "# Factory Method\r\n",
    "\r\n",
    "The Factory Method is a **Creational Design Pattern** which aims to encapsulate the creation of objects and to facilitate its reusability.\r\n",
    "\r\n",
    "In this design pattern, instead of directly instanciating a class, the main code asks to a factory function for an object without knowning *how* it is created or from *where*; It does not care about the class that generates it nor about how it is implemented. \r\n",
    "\r\n",
    "But... **WHEN** should we use the Factory Method instead of direct class instanciation?\r\n",
    "- If you cannot track easily all the objects created in your app because **the code that creates them is in many different places**, you should consider this design pattern. The Factory Method **centralizes** object creation so that any change you would like to do in the way objects are created would have to be modified **only once**: in the factory method. \r\n",
    "- If you want to **decouple object creation from its usage** so that adding new objects or modifying the way of creating them would only affect to the creation part, not to the code which uses them. \r\n",
    "- If you don't know all the possible objects you have to generate at a time, or your app is open up to new object types in the future.\r\n",
    "- In addition, the Factory Method shows better performance and memory usage than using direct class instantiation. So you should consider it if you are working with large objects and you want to minimize resources usage and keep your app efficient. \r\n",
    "\r\n",
    "The Factory Method has some advantages as well as disadvantages. The main advantages are:\r\n",
    "- You decople object creation from its concrete implementations.\r\n",
    "- It's easier to satisfy the Single Reponsibility Principle (SRP) (SOLID).\r\n",
    "- It's easier to satisfy the Open Closed Principle (OCP) (SOLID).\r\n",
    "\r\n",
    "However:\r\n",
    "- The code becomes more complex and you will have to create new multiple subclasses. \r\n",
    "\r\n",
    "Using the Factory Method we have four maining classes:\r\n",
    "- First, we have a *Creator* class. This is an abstract class and the parent of all the factories used in the system. At least, it has one method called the *factoryMethod()* which is the responsible of creating and returning new objects. Often, these objects are called *Products*. Optionally, the *factoryMethod()* can receive some parameters.\r\n",
    "- From the *Creator* class, we inherit all the *ConcreteCrator* classes, whose aim is to create new *ConcreteProducts*. Each *ConcreteCreator* overrides and implements the *factoryMethod()* derived from the *Creator* class. In other words, *Creator* classes are the factories of our products.\r\n",
    "- On the other side, we have a *Product* abstract class, which is the base class for all the existing concrete products on our app.\r\n",
    "- Finally, we have one or more *ConcreteProduct* classes, which are classes derived from *Product* that represent specific products on our app. \r\n",
    "\r\n",
    "According to these parts, it's completely OK to have multiple factories methods. Each factory method logically groups the creation of objects that have some similarities. \r\n",
    "\r\n",
    "Here is the UML diagram of the Factory Method pattern:"
   ],
   "metadata": {}
  },
  {
   "cell_type": "markdown",
   "source": [
    "![](UML-Diagrams/FactoryMethod-ClassDiagram.png)"
   ],
   "metadata": {}
  },
  {
   "cell_type": "markdown",
   "source": [
    "And here is the Python code of the Factory Method pattern:"
   ],
   "metadata": {}
  },
  {
   "cell_type": "code",
   "execution_count": 3,
   "source": [
    "from abc import ABC, abstractmethod\r\n",
    "\r\n",
    "\r\n",
    "class Product(ABC):\r\n",
    "    \"\"\"Abstract class that represent a product.\"\"\"\r\n",
    "\r\n",
    "\r\n",
    "class ConcreteProduct(Product):\r\n",
    "    \"\"\"A specific product.\"\"\"\r\n",
    "\r\n",
    "\r\n",
    "class Creator(ABC):\r\n",
    "    \"\"\"Abstract class that represents a factory or creator.\"\"\"\r\n",
    "\r\n",
    "    @abstractmethod\r\n",
    "    def factory_method(self) -> Product:\r\n",
    "        \"\"\"Creates a Product.\"\"\"\r\n",
    "\r\n",
    "\r\n",
    "class ConcreteCreator(Creator):\r\n",
    "    \"\"\"A concrete factory or creator.\"\"\"\r\n",
    "\r\n",
    "    def _factory_method(self) -> ConcreteProduct:\r\n",
    "        \"\"\"Create a ConcreteProduct and returns it.\"\"\"\r\n",
    "        return ConcreteProduct()\r\n"
   ],
   "outputs": [],
   "metadata": {}
  },
  {
   "cell_type": "markdown",
   "source": [
    "## Example: \r\n",
    "\r\n",
    "We are going to develop a parser that reads input files with multiple formats such as XML and JSON. \r\n",
    "\r\n",
    "We are going to use the Factory Method to create the connectors or readers of each file format. For example, we are going to have one class to read XML ('XMLConnector') and another one to read JSON ('JSONConnector'). These are the *ConcreteProducts* of the pattern. We will also have another abstract class called 'Connector' that defines a property called 'parsed_data()'. 'Connector' is the so-called *Product* class of the pattern. \r\n",
    "\r\n",
    "Finally, we will have a 'ConnectionFactory', which is the *Creator* of the pattern, that defines a factory method called 'create_connection()' that returns a 'Connector', that is, a *Product*. From 'ConnectionFactory', we will inherit a class called 'ConcreteConnectionFactory' that implements the 'create_connection()' method and returns specific types of connections, such as 'XLMConnector' or 'JSONConnector', that is, *ConcreteProduct*s.\r\n",
    "\r\n",
    "This info is represented in the following UML diagram:"
   ],
   "metadata": {}
  },
  {
   "cell_type": "markdown",
   "source": [
    "![](UML-Diagrams/ExampleFactoryMethod.png)"
   ],
   "metadata": {}
  },
  {
   "cell_type": "markdown",
   "source": [
    "And here's the code:"
   ],
   "metadata": {}
  },
  {
   "cell_type": "code",
   "execution_count": 29,
   "source": [
    "# First, let's define our products\r\n",
    "from abc import ABC, abstractmethod\r\n",
    "import json\r\n",
    "import xml.etree.ElementTree as ET\r\n",
    "\r\n",
    "# We create the parent abstract class for all our connectors.\r\n",
    "class Connector(ABC):\r\n",
    "    @abstractmethod\r\n",
    "    def __init__(self, filepath: str) -> None:\r\n",
    "        \"\"\"Constructor.\"\"\"\r\n",
    "\r\n",
    "    @property\r\n",
    "    def parsed_data(self) -> str:\r\n",
    "        \"\"\"A property that returns the parsed data.\"\"\"\r\n",
    "\r\n",
    "\r\n",
    "# And now we inheritc from Connector all the existing connectors in our app\r\n",
    "class JSONConnector(Connector):\r\n",
    "    \"\"\"A JSON reader.\"\"\"\r\n",
    "\r\n",
    "    def __init__(self, filepath: str) -> None:\r\n",
    "        self._data = dict()\r\n",
    "        try:\r\n",
    "            with open(filepath, \"r\", encoding=\"utf-8\") as f:\r\n",
    "                self._data = json.load(f)\r\n",
    "        except Exception as e:\r\n",
    "            raise e\r\n",
    "\r\n",
    "    @property\r\n",
    "    def parsed_data(self) -> str:\r\n",
    "        return json.dumps(self._data)\r\n",
    "\r\n",
    "\r\n",
    "class XMLConnector(Connector):\r\n",
    "    def __init__(self, filepath: str) -> None:\r\n",
    "        tree = ET.parse(filepath)\r\n",
    "        self._root = tree.getroot()\r\n",
    "\r\n",
    "    @property\r\n",
    "    def parsed_data(self) -> str:\r\n",
    "        return ET.tostring(self._root, encoding=\"utf-8\").decode(\"utf-8\")\r\n"
   ],
   "outputs": [],
   "metadata": {}
  },
  {
   "cell_type": "code",
   "execution_count": 14,
   "source": [
    "# Now let's implement the Factory Pattern\r\n",
    "\r\n",
    "# Let's define the creators:\r\n",
    "class ConnectionFactory(ABC):\r\n",
    "    @abstractmethod\r\n",
    "    def create_connection(self, filepath: str) -> Connector:\r\n",
    "        \"\"\"Creates a connector.\"\"\"\r\n",
    "\r\n",
    "\r\n",
    "class ConcreteConnectionFactory(ConnectionFactory):\r\n",
    "    def create_connection(self, filepath: str) -> Connector:\r\n",
    "        if filepath.endswith(\"json\"):\r\n",
    "            return JSONConnector(filepath)\r\n",
    "        elif filepath.endswith(\"xml\"):\r\n",
    "            return XMLConnector(filepath)\r\n",
    "        else:\r\n",
    "            raise NotImplementedError(\r\n",
    "                f\"Unsuported filetype for file: {filepath}.\"\r\n",
    "            )\r\n"
   ],
   "outputs": [],
   "metadata": {}
  },
  {
   "cell_type": "code",
   "execution_count": 32,
   "source": [
    "# Now let's used the factory with JSON:\r\n",
    "\r\n",
    "if __name__ == \"__main__\":\r\n",
    "    \r\n",
    "    # You can change here the file you want to read\r\n",
    "    input_filepath = r\"./data_samples/example.json\"\r\n",
    "    #input_filepath = r\"./data_samples/example.xml\"\r\n",
    "    \r\n",
    "    factory = ConcreteConnectionFactory()\r\n",
    "    reader = factory.create_connection(input_filepath)\r\n",
    "    print(reader.parsed_data)\r\n",
    "    "
   ],
   "outputs": [
    {
     "output_type": "stream",
     "name": "stdout",
     "text": [
      "[{\"name\": \"Anna\", \"age\": 26, \"country\": \"Spain\"}, {\"name\": \"Isabella\", \"age\": 25, \"country\": \"Italy\"}]\n"
     ]
    }
   ],
   "metadata": {}
  },
  {
   "cell_type": "code",
   "execution_count": 33,
   "source": [
    "# Or with XML. Notice that this code remains the same (except the filepath)\r\n",
    "\r\n",
    "if __name__ == \"__main__\":\r\n",
    "\r\n",
    "    # You can change here the file you want to read\r\n",
    "    # input_filepath = r\"./data_samples/example.json\"\r\n",
    "    input_filepath = r\"./data_samples/example.xml\"\r\n",
    "\r\n",
    "    factory = ConcreteConnectionFactory()\r\n",
    "    reader = factory.create_connection(input_filepath)\r\n",
    "    print(reader.parsed_data)\r\n"
   ],
   "outputs": [
    {
     "output_type": "stream",
     "name": "stdout",
     "text": [
      "<persons>\n",
      "    <person>\n",
      "        <name>Anna</name>\n",
      "        <age>26</age>\n",
      "        <country>Spain</country>\n",
      "    </person>\n",
      "    <person>\n",
      "        <name>Anna</name>\n",
      "        <age>26</age>\n",
      "        <country>Spain</country>\n",
      "    </person>\n",
      "</persons>\n"
     ]
    }
   ],
   "metadata": {}
  },
  {
   "cell_type": "markdown",
   "source": [
    "*Sources*:\n",
    "- Mastering Python Design Patterns (Sakis Kasampalis)\n",
    "- YouTube Video: https://youtu.be/lLvYAzXO7Ek "
   ],
   "metadata": {}
  }
 ],
 "metadata": {
  "interpreter": {
   "hash": "81ef188f1d85055e27e68b81ec001a4e5148e3d493a04dea8d1903694584593e"
  },
  "kernelspec": {
   "display_name": "Python 3",
   "language": "python",
   "name": "python3"
  },
  "language_info": {
   "codemirror_mode": {
    "name": "ipython",
    "version": 3
   },
   "file_extension": ".py",
   "mimetype": "text/x-python",
   "name": "python",
   "nbconvert_exporter": "python",
   "pygments_lexer": "ipython3",
   "version": "3.8.5"
  }
 },
 "nbformat": 4,
 "nbformat_minor": 2
}