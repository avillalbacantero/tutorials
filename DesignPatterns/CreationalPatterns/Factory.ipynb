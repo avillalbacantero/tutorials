{
 "cells": [
  {
   "cell_type": "markdown",
   "metadata": {},
   "source": [
    "# Factory Method\n",
    "\n",
    "The Factory Method is a **Creational Design Pattern** which aims to encapsulate the creation of objects and to facilitate its reusability.\n",
    "\n",
    "In this design pattern, instead of directly instanciating a class, the main code asks to a factory function for an object without knowning *how* it is created or from *where*; It does not care about the class that generates it nor about how it is implemented. \n",
    "\n",
    "But... **WHEN** should we use the Factory Method instead of direct class instanciation?\n",
    "- If you cannot track easily all the objects created in your app because **the code that creates them is in many different places**, you should consider this design pattern. The Factory Method **centralizes** object creation so that any change you would like to do in the way objects are created would have to be modified **only once**: in the factory method. \n",
    "- If you want to **decouple object creation from its usage** so that adding new objects or modifying the way of creating them would only affect to the creation part, not to the code which uses them. \n",
    "- If you don't know all the possible objects you have to generate at a time, or your app is open up to new object types in the future.\n",
    "- In addition, the Factory Method shows better performance and memory usage than using direct class instantiation. So you should consider it if you are working with large objects and you want to minimize resources usage and keep your app efficient. \n",
    "\n",
    "The Factory Method has some advantages as well as disadvantages. The main advantages are:\n",
    "- You decople object creation from its concrete implementations.\n",
    "- It's easier to satisfy the Single Reponsibility Principle (SRP) (SOLID).\n",
    "- It's easier to satisfy the Open Closed Principle (OCP) (SOLID).\n",
    "\n",
    "However:\n",
    "- The code becomes more complex and you will have to create new multiple subclasses. \n",
    "\n",
    "Using the Factory Method we have four maining classes:\n",
    "- First, we have a *Creator* class. This is an abstract class and the parent of all the factories used in the system. At least, it has one method called the *factoryMethod()* which is the responsible of creating and returning new objects. Often, these objects are called *Products*. Optionally, the *factoryMethod()* can receive some parameters.\n",
    "- From the *Creator* class, we inherit all the *ConcreteCrator* classes, whose aim is to create new *ConcreteProducts*. Each *ConcreteCreator* overrides and implements the *factoryMethod()* derived from the *Creator* class. In other words, *Creator* classes are the factories of our products.\n",
    "- On the other side, we have a *Product* abstract class, which is the base class for all the existing concrete products on our app.\n",
    "- Finally, we have one or more *ConcreteProduct* classes, which are classes derived from *Product* that represent specific products on our app. \n",
    "\n",
    "According to these parts, it's completely OK to have multiple factories methods. Each factory method logically groups the creation of objects that have some similarities. \n",
    "\n",
    "Here is the UML diagram of the Factory Method pattern:"
   ]
  },
  {
   "cell_type": "markdown",
   "metadata": {},
   "source": [
    "![](UML-Diagrams/FactoryMethod-ClassDiagram.png)"
   ]
  },
  {
   "cell_type": "markdown",
   "metadata": {},
   "source": [
    "And here is the Python code of the Factory Method pattern:"
   ]
  },
  {
   "cell_type": "code",
   "execution_count": 3,
   "metadata": {},
   "outputs": [],
   "source": [
    "from abc import ABC, abstractmethod\n",
    "\n",
    "\n",
    "class Product(ABC):\n",
    "    \"\"\"Abstract class that represent a product.\"\"\"\n",
    "\n",
    "\n",
    "class ConcreteProduct(Product):\n",
    "    \"\"\"A specific product.\"\"\"\n",
    "\n",
    "\n",
    "class Creator(ABC):\n",
    "    \"\"\"Abstract class that represents a factory or creator.\"\"\"\n",
    "\n",
    "    @abstractmethod\n",
    "    def factory_method(self) -> Product:\n",
    "        \"\"\"Creates a Product.\"\"\"\n",
    "\n",
    "\n",
    "class ConcreteCreator(Creator):\n",
    "    \"\"\"A concrete factory or creator.\"\"\"\n",
    "\n",
    "    def _factory_method(self) -> ConcreteProduct:\n",
    "        \"\"\"Create a ConcreteProduct and returns it.\"\"\"\n",
    "        return ConcreteProduct()\n"
   ]
  },
  {
   "cell_type": "markdown",
   "metadata": {},
   "source": [
    "## Example: \n",
    "\n",
    "We are going to develop a parser that reads input files with multiple formats such as XML and JSON. \n",
    "\n",
    "We are going to use the Factory Method to create the connectors or readers of each file format. For example, we are going to have one class to read XML ('XMLConnector') and another one to read JSON ('JSONConnector'). These are the *ConcreteProducts* of the pattern. We will also have another abstract class called 'Connector' that defines a property called 'parsed_data()'. 'Connector' is the so-called *Product* class of the pattern. \n",
    "\n",
    "Finally, we will have a 'ConnectionFactory', which is the *Creator* of the pattern, that defines a factory method called 'create_connection()' that returns a 'Connector', that is, a *Product*. From 'ConnectionFactory', we will inherit a class called 'ConcreteConnectionFactory' that implements the 'create_connection()' method and returns specific types of connections, such as 'XLMConnector' or 'JSONConnector', that is, *ConcreteProduct*s.\n",
    "\n",
    "This info is represented in the following UML diagram:"
   ]
  },
  {
   "cell_type": "markdown",
   "metadata": {},
   "source": [
    "![](UML-Diagrams/ExampleFactoryMethod.png)"
   ]
  },
  {
   "cell_type": "markdown",
   "metadata": {},
   "source": [
    "And here's the code:"
   ]
  },
  {
   "cell_type": "code",
   "execution_count": 29,
   "metadata": {},
   "outputs": [],
   "source": [
    "# First, let's define our products\n",
    "from abc import ABC, abstractmethod\n",
    "import json\n",
    "import xml.etree.ElementTree as ET\n",
    "\n",
    "# We create the parent abstract class for all our connectors.\n",
    "class Connector(ABC):\n",
    "    @abstractmethod\n",
    "    def __init__(self, filepath: str) -> None:\n",
    "        \"\"\"Constructor.\"\"\"\n",
    "\n",
    "    @property\n",
    "    def parsed_data(self) -> str:\n",
    "        \"\"\"A property that returns the parsed data.\"\"\"\n",
    "\n",
    "\n",
    "# And now we inheritc from Connector all the existing connectors in our app\n",
    "class JSONConnector(Connector):\n",
    "    \"\"\"A JSON reader.\"\"\"\n",
    "\n",
    "    def __init__(self, filepath: str) -> None:\n",
    "        self._data = dict()\n",
    "        try:\n",
    "            with open(filepath, \"r\", encoding=\"utf-8\") as f:\n",
    "                self._data = json.load(f)\n",
    "        except Exception as e:\n",
    "            raise e\n",
    "\n",
    "    @property\n",
    "    def parsed_data(self) -> str:\n",
    "        return json.dumps(self._data)\n",
    "\n",
    "\n",
    "class XMLConnector(Connector):\n",
    "    def __init__(self, filepath: str) -> None:\n",
    "        tree = ET.parse(filepath)\n",
    "        self._root = tree.getroot()\n",
    "\n",
    "    @property\n",
    "    def parsed_data(self) -> str:\n",
    "        return ET.tostring(self._root, encoding=\"utf-8\").decode(\"utf-8\")\n"
   ]
  },
  {
   "cell_type": "code",
   "execution_count": 14,
   "metadata": {},
   "outputs": [],
   "source": [
    "# Now let's implement the Factory Pattern\n",
    "\n",
    "# Let's define the creators:\n",
    "class ConnectionFactory(ABC):\n",
    "    @abstractmethod\n",
    "    def create_connection(self, filepath: str) -> Connector:\n",
    "        \"\"\"Creates a connector.\"\"\"\n",
    "\n",
    "\n",
    "class ConcreteConnectionFactory(ConnectionFactory):\n",
    "    def create_connection(self, filepath: str) -> Connector:\n",
    "        if filepath.endswith(\"json\"):\n",
    "            return JSONConnector(filepath)\n",
    "        elif filepath.endswith(\"xml\"):\n",
    "            return XMLConnector(filepath)\n",
    "        else:\n",
    "            raise NotImplementedError(\n",
    "                f\"Unsuported filetype for file: {filepath}.\"\n",
    "            )\n"
   ]
  },
  {
   "cell_type": "code",
   "execution_count": 32,
   "metadata": {},
   "outputs": [
    {
     "name": "stdout",
     "output_type": "stream",
     "text": [
      "[{\"name\": \"Anna\", \"age\": 26, \"country\": \"Spain\"}, {\"name\": \"Isabella\", \"age\": 25, \"country\": \"Italy\"}]\n"
     ]
    }
   ],
   "source": [
    "# Now let's used the factory with JSON:\n",
    "\n",
    "if __name__ == \"__main__\":\n",
    "    \n",
    "    # You can change here the file you want to read\n",
    "    input_filepath = r\"./data_samples/example.json\"\n",
    "    #input_filepath = r\"./data_samples/example.xml\"\n",
    "    \n",
    "    factory = ConcreteConnectionFactory()\n",
    "    reader = factory.create_connection(input_filepath)\n",
    "    print(reader.parsed_data)\n",
    "    "
   ]
  },
  {
   "cell_type": "code",
   "execution_count": 33,
   "metadata": {},
   "outputs": [
    {
     "name": "stdout",
     "output_type": "stream",
     "text": [
      "<persons>\n",
      "    <person>\n",
      "        <name>Anna</name>\n",
      "        <age>26</age>\n",
      "        <country>Spain</country>\n",
      "    </person>\n",
      "    <person>\n",
      "        <name>Anna</name>\n",
      "        <age>26</age>\n",
      "        <country>Spain</country>\n",
      "    </person>\n",
      "</persons>\n"
     ]
    }
   ],
   "source": [
    "# Or with XML. Notice that this code remains the same (except the filepath)\n",
    "\n",
    "if __name__ == \"__main__\":\n",
    "\n",
    "    # You can change here the file you want to read\n",
    "    # input_filepath = r\"./data_samples/example.json\"\n",
    "    input_filepath = r\"./data_samples/example.xml\"\n",
    "\n",
    "    factory = ConcreteConnectionFactory()\n",
    "    reader = factory.create_connection(input_filepath)\n",
    "    print(reader.parsed_data)\n"
   ]
  },
  {
   "cell_type": "markdown",
   "metadata": {},
   "source": [
    "*Sources*:\n",
    "- Mastering Python Design Patterns (Sakis Kasampalis)\n",
    "- YouTube Video: https://youtu.be/lLvYAzXO7Ek "
   ]
  }
 ],
 "metadata": {
  "interpreter": {
   "hash": "81ef188f1d85055e27e68b81ec001a4e5148e3d493a04dea8d1903694584593e"
  },
  "kernelspec": {
   "display_name": "Python 3",
   "language": "python",
   "name": "python3"
  },
  "language_info": {
   "codemirror_mode": {
    "name": "ipython",
    "version": 3
   },
   "file_extension": ".py",
   "mimetype": "text/x-python",
   "name": "python",
   "nbconvert_exporter": "python",
   "pygments_lexer": "ipython3",
   "version": "3.8.5"
  }
 },
 "nbformat": 4,
 "nbformat_minor": 2
}
